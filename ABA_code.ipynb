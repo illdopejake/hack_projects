{
 "cells": [
  {
   "cell_type": "code",
   "execution_count": 91,
   "metadata": {
    "collapsed": true
   },
   "outputs": [],
   "source": [
    "import os\n",
    "import pandas\n",
    "import nibabel as ni\n",
    "import numpy as np\n",
    "from glob import glob"
   ]
  },
  {
   "cell_type": "code",
   "execution_count": 15,
   "metadata": {
    "collapsed": false
   },
   "outputs": [
    {
     "ename": "KeyboardInterrupt",
     "evalue": "",
     "output_type": "error",
     "traceback": [
      "\u001b[0;31m---------------------------------------------------------------------------\u001b[0m",
      "\u001b[0;31mKeyboardInterrupt\u001b[0m                         Traceback (most recent call last)",
      "\u001b[0;32m<ipython-input-15-80e286e47869>\u001b[0m in \u001b[0;36m<module>\u001b[0;34m()\u001b[0m\n\u001b[1;32m      2\u001b[0m \u001b[0mcoords\u001b[0m \u001b[0;34m=\u001b[0m \u001b[0mpandas\u001b[0m\u001b[0;34m.\u001b[0m\u001b[0mread_csv\u001b[0m\u001b[0;34m(\u001b[0m\u001b[0mos\u001b[0m\u001b[0;34m.\u001b[0m\u001b[0mpath\u001b[0m\u001b[0;34m.\u001b[0m\u001b[0mjoin\u001b[0m\u001b[0;34m(\u001b[0m\u001b[0msdir\u001b[0m\u001b[0;34m,\u001b[0m\u001b[0;34m'SampleAnnot.csv'\u001b[0m\u001b[0;34m)\u001b[0m\u001b[0;34m)\u001b[0m\u001b[0;34m\u001b[0m\u001b[0m\n\u001b[1;32m      3\u001b[0m \u001b[0mprobe_info\u001b[0m \u001b[0;34m=\u001b[0m \u001b[0mpandas\u001b[0m\u001b[0;34m.\u001b[0m\u001b[0mread_csv\u001b[0m\u001b[0;34m(\u001b[0m\u001b[0mos\u001b[0m\u001b[0;34m.\u001b[0m\u001b[0mpath\u001b[0m\u001b[0;34m.\u001b[0m\u001b[0mjoin\u001b[0m\u001b[0;34m(\u001b[0m\u001b[0msdir\u001b[0m\u001b[0;34m,\u001b[0m\u001b[0;34m'Probes.csv'\u001b[0m\u001b[0;34m)\u001b[0m\u001b[0;34m)\u001b[0m\u001b[0;34m\u001b[0m\u001b[0m\n\u001b[0;32m----> 4\u001b[0;31m \u001b[0mdata\u001b[0m \u001b[0;34m=\u001b[0m \u001b[0mpandas\u001b[0m\u001b[0;34m.\u001b[0m\u001b[0mread_csv\u001b[0m\u001b[0;34m(\u001b[0m\u001b[0mos\u001b[0m\u001b[0;34m.\u001b[0m\u001b[0mpath\u001b[0m\u001b[0;34m.\u001b[0m\u001b[0mjoin\u001b[0m\u001b[0;34m(\u001b[0m\u001b[0msdir\u001b[0m\u001b[0;34m,\u001b[0m\u001b[0;34m'PACall.csv'\u001b[0m\u001b[0;34m)\u001b[0m\u001b[0;34m,\u001b[0m\u001b[0mheader\u001b[0m\u001b[0;34m=\u001b[0m\u001b[0;32mNone\u001b[0m\u001b[0;34m)\u001b[0m\u001b[0;34m\u001b[0m\u001b[0m\n\u001b[0m",
      "\u001b[0;32m//anaconda/envs/py3/lib/python3.5/site-packages/pandas/io/parsers.py\u001b[0m in \u001b[0;36mparser_f\u001b[0;34m(filepath_or_buffer, sep, delimiter, header, names, index_col, usecols, squeeze, prefix, mangle_dupe_cols, dtype, engine, converters, true_values, false_values, skipinitialspace, skiprows, nrows, na_values, keep_default_na, na_filter, verbose, skip_blank_lines, parse_dates, infer_datetime_format, keep_date_col, date_parser, dayfirst, iterator, chunksize, compression, thousands, decimal, lineterminator, quotechar, quoting, escapechar, comment, encoding, dialect, tupleize_cols, error_bad_lines, warn_bad_lines, skipfooter, skip_footer, doublequote, delim_whitespace, as_recarray, compact_ints, use_unsigned, low_memory, buffer_lines, memory_map, float_precision)\u001b[0m\n\u001b[1;32m    644\u001b[0m                     skip_blank_lines=skip_blank_lines)\n\u001b[1;32m    645\u001b[0m \u001b[0;34m\u001b[0m\u001b[0m\n\u001b[0;32m--> 646\u001b[0;31m         \u001b[0;32mreturn\u001b[0m \u001b[0m_read\u001b[0m\u001b[0;34m(\u001b[0m\u001b[0mfilepath_or_buffer\u001b[0m\u001b[0;34m,\u001b[0m \u001b[0mkwds\u001b[0m\u001b[0;34m)\u001b[0m\u001b[0;34m\u001b[0m\u001b[0m\n\u001b[0m\u001b[1;32m    647\u001b[0m \u001b[0;34m\u001b[0m\u001b[0m\n\u001b[1;32m    648\u001b[0m     \u001b[0mparser_f\u001b[0m\u001b[0;34m.\u001b[0m\u001b[0m__name__\u001b[0m \u001b[0;34m=\u001b[0m \u001b[0mname\u001b[0m\u001b[0;34m\u001b[0m\u001b[0m\n",
      "\u001b[0;32m//anaconda/envs/py3/lib/python3.5/site-packages/pandas/io/parsers.py\u001b[0m in \u001b[0;36m_read\u001b[0;34m(filepath_or_buffer, kwds)\u001b[0m\n\u001b[1;32m    399\u001b[0m         \u001b[0;32mreturn\u001b[0m \u001b[0mparser\u001b[0m\u001b[0;34m\u001b[0m\u001b[0m\n\u001b[1;32m    400\u001b[0m \u001b[0;34m\u001b[0m\u001b[0m\n\u001b[0;32m--> 401\u001b[0;31m     \u001b[0mdata\u001b[0m \u001b[0;34m=\u001b[0m \u001b[0mparser\u001b[0m\u001b[0;34m.\u001b[0m\u001b[0mread\u001b[0m\u001b[0;34m(\u001b[0m\u001b[0;34m)\u001b[0m\u001b[0;34m\u001b[0m\u001b[0m\n\u001b[0m\u001b[1;32m    402\u001b[0m     \u001b[0mparser\u001b[0m\u001b[0;34m.\u001b[0m\u001b[0mclose\u001b[0m\u001b[0;34m(\u001b[0m\u001b[0;34m)\u001b[0m\u001b[0;34m\u001b[0m\u001b[0m\n\u001b[1;32m    403\u001b[0m     \u001b[0;32mreturn\u001b[0m \u001b[0mdata\u001b[0m\u001b[0;34m\u001b[0m\u001b[0m\n",
      "\u001b[0;32m//anaconda/envs/py3/lib/python3.5/site-packages/pandas/io/parsers.py\u001b[0m in \u001b[0;36mread\u001b[0;34m(self, nrows)\u001b[0m\n\u001b[1;32m    937\u001b[0m                 \u001b[0;32mraise\u001b[0m \u001b[0mValueError\u001b[0m\u001b[0;34m(\u001b[0m\u001b[0;34m'skipfooter not supported for iteration'\u001b[0m\u001b[0;34m)\u001b[0m\u001b[0;34m\u001b[0m\u001b[0m\n\u001b[1;32m    938\u001b[0m \u001b[0;34m\u001b[0m\u001b[0m\n\u001b[0;32m--> 939\u001b[0;31m         \u001b[0mret\u001b[0m \u001b[0;34m=\u001b[0m \u001b[0mself\u001b[0m\u001b[0;34m.\u001b[0m\u001b[0m_engine\u001b[0m\u001b[0;34m.\u001b[0m\u001b[0mread\u001b[0m\u001b[0;34m(\u001b[0m\u001b[0mnrows\u001b[0m\u001b[0;34m)\u001b[0m\u001b[0;34m\u001b[0m\u001b[0m\n\u001b[0m\u001b[1;32m    940\u001b[0m \u001b[0;34m\u001b[0m\u001b[0m\n\u001b[1;32m    941\u001b[0m         \u001b[0;32mif\u001b[0m \u001b[0mself\u001b[0m\u001b[0;34m.\u001b[0m\u001b[0moptions\u001b[0m\u001b[0;34m.\u001b[0m\u001b[0mget\u001b[0m\u001b[0;34m(\u001b[0m\u001b[0;34m'as_recarray'\u001b[0m\u001b[0;34m)\u001b[0m\u001b[0;34m:\u001b[0m\u001b[0;34m\u001b[0m\u001b[0m\n",
      "\u001b[0;32m//anaconda/envs/py3/lib/python3.5/site-packages/pandas/io/parsers.py\u001b[0m in \u001b[0;36mread\u001b[0;34m(self, nrows)\u001b[0m\n\u001b[1;32m   1506\u001b[0m     \u001b[0;32mdef\u001b[0m \u001b[0mread\u001b[0m\u001b[0;34m(\u001b[0m\u001b[0mself\u001b[0m\u001b[0;34m,\u001b[0m \u001b[0mnrows\u001b[0m\u001b[0;34m=\u001b[0m\u001b[0;32mNone\u001b[0m\u001b[0;34m)\u001b[0m\u001b[0;34m:\u001b[0m\u001b[0;34m\u001b[0m\u001b[0m\n\u001b[1;32m   1507\u001b[0m         \u001b[0;32mtry\u001b[0m\u001b[0;34m:\u001b[0m\u001b[0;34m\u001b[0m\u001b[0m\n\u001b[0;32m-> 1508\u001b[0;31m             \u001b[0mdata\u001b[0m \u001b[0;34m=\u001b[0m \u001b[0mself\u001b[0m\u001b[0;34m.\u001b[0m\u001b[0m_reader\u001b[0m\u001b[0;34m.\u001b[0m\u001b[0mread\u001b[0m\u001b[0;34m(\u001b[0m\u001b[0mnrows\u001b[0m\u001b[0;34m)\u001b[0m\u001b[0;34m\u001b[0m\u001b[0m\n\u001b[0m\u001b[1;32m   1509\u001b[0m         \u001b[0;32mexcept\u001b[0m \u001b[0mStopIteration\u001b[0m\u001b[0;34m:\u001b[0m\u001b[0;34m\u001b[0m\u001b[0m\n\u001b[1;32m   1510\u001b[0m             \u001b[0;32mif\u001b[0m \u001b[0mself\u001b[0m\u001b[0;34m.\u001b[0m\u001b[0m_first_chunk\u001b[0m\u001b[0;34m:\u001b[0m\u001b[0;34m\u001b[0m\u001b[0m\n",
      "\u001b[0;32mpandas/parser.pyx\u001b[0m in \u001b[0;36mpandas.parser.TextReader.read (pandas/parser.c:10415)\u001b[0;34m()\u001b[0m\n",
      "\u001b[0;32mpandas/parser.pyx\u001b[0m in \u001b[0;36mpandas.parser.TextReader._read_low_memory (pandas/parser.c:10691)\u001b[0;34m()\u001b[0m\n",
      "\u001b[0;32mpandas/parser.pyx\u001b[0m in \u001b[0;36mpandas.parser.TextReader._read_rows (pandas/parser.c:11728)\u001b[0;34m()\u001b[0m\n",
      "\u001b[0;32mpandas/parser.pyx\u001b[0m in \u001b[0;36mpandas.parser.TextReader._convert_column_data (pandas/parser.c:13162)\u001b[0;34m()\u001b[0m\n",
      "\u001b[0;32mpandas/parser.pyx\u001b[0m in \u001b[0;36mpandas.parser.TextReader._convert_tokens (pandas/parser.c:14116)\u001b[0;34m()\u001b[0m\n",
      "\u001b[0;32mpandas/parser.pyx\u001b[0m in \u001b[0;36mpandas.parser.TextReader._convert_with_dtype (pandas/parser.c:14783)\u001b[0;34m()\u001b[0m\n",
      "\u001b[0;32m//anaconda/envs/py3/lib/python3.5/site-packages/pandas/types/common.py\u001b[0m in \u001b[0;36mis_integer_dtype\u001b[0;34m(arr_or_dtype)\u001b[0m\n\u001b[1;32m    151\u001b[0m \u001b[0;34m\u001b[0m\u001b[0m\n\u001b[1;32m    152\u001b[0m \u001b[0;34m\u001b[0m\u001b[0m\n\u001b[0;32m--> 153\u001b[0;31m \u001b[0;32mdef\u001b[0m \u001b[0mis_integer_dtype\u001b[0m\u001b[0;34m(\u001b[0m\u001b[0marr_or_dtype\u001b[0m\u001b[0;34m)\u001b[0m\u001b[0;34m:\u001b[0m\u001b[0;34m\u001b[0m\u001b[0m\n\u001b[0m\u001b[1;32m    154\u001b[0m     \u001b[0mtipo\u001b[0m \u001b[0;34m=\u001b[0m \u001b[0m_get_dtype_type\u001b[0m\u001b[0;34m(\u001b[0m\u001b[0marr_or_dtype\u001b[0m\u001b[0;34m)\u001b[0m\u001b[0;34m\u001b[0m\u001b[0m\n\u001b[1;32m    155\u001b[0m     return (issubclass(tipo, np.integer) and\n",
      "\u001b[0;31mKeyboardInterrupt\u001b[0m: "
     ]
    }
   ],
   "source": [
    "sdir = '/Users/jakevogel/Downloads/normalized_microarray_donor9861/'\n",
    "coords = pandas.read_csv(os.path.join(sdir,'SampleAnnot.csv'))\n",
    "probe_info = pandas.read_csv(os.path.join(sdir,'Probes.csv'))\n",
    "qc = pandas.read_csv(os.path.join(sdir,'PACall.csv'),header=None)"
   ]
  },
  {
   "cell_type": "code",
   "execution_count": 16,
   "metadata": {
    "collapsed": false
   },
   "outputs": [],
   "source": [
    "data = pandas.read_csv(os.path.join(sdir,'MicroarrayExpression.csv'),header=None)"
   ]
  },
  {
   "cell_type": "code",
   "execution_count": 37,
   "metadata": {
    "collapsed": false
   },
   "outputs": [],
   "source": [
    "H1 = ni.load('/Users/jakevogel/Science/tau/tau_masks/shipping/tau_masks/vogel_figshare/winner_takes_all/TauRUS_WinnerTakesAll_Hippocampus_Off-Target.nii.gz'\n",
    "            ).get_data()\n",
    "H3 = ni.load('/Users/jakevogel/Science/tau/tau_masks/shipping/tau_masks/vogel_figshare/winner_takes_all/TauRUS_WinnerTakesAll_Hippocampus_Early_Tau.nii.gz'\n",
    "            ).get_data()"
   ]
  },
  {
   "cell_type": "code",
   "execution_count": 35,
   "metadata": {
    "collapsed": false
   },
   "outputs": [],
   "source": [
    "ac = [(round(coords.mni_x[i]),\n",
    "      round(coords.mni_y[i]),\n",
    "      round(coords.mni_z[i])) for i in range(len(coords))]"
   ]
  },
  {
   "cell_type": "code",
   "execution_count": 42,
   "metadata": {
    "collapsed": false
   },
   "outputs": [
    {
     "data": {
      "text/plain": [
       "(6.0, -28.0, 50.0)"
      ]
     },
     "execution_count": 42,
     "metadata": {},
     "output_type": "execute_result"
    }
   ],
   "source": [
    "ac[0][0],ac[0][1],ac[0][2]"
   ]
  },
  {
   "cell_type": "code",
   "execution_count": 40,
   "metadata": {
    "collapsed": false
   },
   "outputs": [
    {
     "name": "stderr",
     "output_type": "stream",
     "text": [
      "//anaconda/envs/py3/lib/python3.5/site-packages/ipykernel/__main__.py:1: VisibleDeprecationWarning: using a non-integer number instead of an integer will result in an error in the future\n",
      "  if __name__ == '__main__':\n"
     ]
    },
    {
     "data": {
      "text/plain": [
       "0.0"
      ]
     },
     "execution_count": 40,
     "metadata": {},
     "output_type": "execute_result"
    }
   ],
   "source": [
    "H2[ac[0][0],ac[0][1],ac[0][2]]"
   ]
  },
  {
   "cell_type": "code",
   "execution_count": 41,
   "metadata": {
    "collapsed": false
   },
   "outputs": [
    {
     "name": "stderr",
     "output_type": "stream",
     "text": [
      "//anaconda/envs/py3/lib/python3.5/site-packages/ipykernel/__main__.py:1: VisibleDeprecationWarning: using a non-integer number instead of an integer will result in an error in the future\n",
      "  if __name__ == '__main__':\n"
     ]
    },
    {
     "data": {
      "text/plain": [
       "[]"
      ]
     },
     "execution_count": 41,
     "metadata": {},
     "output_type": "execute_result"
    }
   ],
   "source": [
    "[all_coords[x] for x in range(len(all_coords)) if H2[all_coords[x]] == 1]"
   ]
  },
  {
   "cell_type": "markdown",
   "metadata": {},
   "source": [
    "MNI SPACE"
   ]
  },
  {
   "cell_type": "code",
   "execution_count": 67,
   "metadata": {
    "collapsed": false
   },
   "outputs": [],
   "source": [
    "def convert_coords(coord, to_what = 'mni'):\n",
    "    origin = [90, 126, 72]\n",
    "    vs = 1\n",
    "    x,y,z = coord[0],coord[1],coord[2]\n",
    "    \n",
    "    if to_what == 'mni':\n",
    "        x = (origin[0]-x)*vs\n",
    "        y = (y-origin[1])*vs\n",
    "        z = (z-origin[2])*vs\n",
    "        \n",
    "    elif to_what == 'xyz':\n",
    "        x=origin[0]- x/vs;\n",
    "        y=y/vs + origin[1];\n",
    "        z=z/vs + origin[2];\n",
    "        \n",
    "    else:\n",
    "        raise IOError('please set to_what to either mni or xyz')\n",
    "    \n",
    "    return x,y,z"
   ]
  },
  {
   "cell_type": "code",
   "execution_count": 57,
   "metadata": {
    "collapsed": false
   },
   "outputs": [
    {
     "data": {
      "text/plain": [
       "Index(['structure_id', 'slab_num', 'well_id', 'slab_type', 'structure_acronym',\n",
       "       'structure_name', 'polygon_id', 'mri_voxel_x', 'mri_voxel_y',\n",
       "       'mri_voxel_z', 'mni_x', 'mni_y', 'mni_z'],\n",
       "      dtype='object')"
      ]
     },
     "execution_count": 57,
     "metadata": {},
     "output_type": "execute_result"
    }
   ],
   "source": [
    "coords.columns"
   ]
  },
  {
   "cell_type": "code",
   "execution_count": 60,
   "metadata": {
    "collapsed": false
   },
   "outputs": [
    {
     "data": {
      "text/plain": [
       "5.9000000000000004"
      ]
     },
     "execution_count": 60,
     "metadata": {},
     "output_type": "execute_result"
    }
   ],
   "source": [
    "a,b,c = coords.loc[coords.index[0]][['mni_x','mni_y','mni_z']].values\n",
    "a"
   ]
  },
  {
   "cell_type": "code",
   "execution_count": 80,
   "metadata": {
    "collapsed": false
   },
   "outputs": [
    {
     "name": "stderr",
     "output_type": "stream",
     "text": [
      "//anaconda/envs/py3/lib/python3.5/site-packages/ipykernel/__main__.py:5: VisibleDeprecationWarning: using a non-integer number instead of an integer will result in an error in the future\n"
     ]
    }
   ],
   "source": [
    "hits_idx_3 = {}\n",
    "for i in coords.index:\n",
    "    mni_cs = coords.loc[i][['mni_x','mni_y','mni_z']]\n",
    "    x,y,z = convert_coords(mni_cs, to_what = 'xyz')\n",
    "    if H3[x,y,z] == 1:\n",
    "        hits_idx_3.update({i: (x,y,z)})"
   ]
  },
  {
   "cell_type": "code",
   "execution_count": 81,
   "metadata": {
    "collapsed": false
   },
   "outputs": [
    {
     "name": "stderr",
     "output_type": "stream",
     "text": [
      "//anaconda/envs/py3/lib/python3.5/site-packages/ipykernel/__main__.py:5: VisibleDeprecationWarning: using a non-integer number instead of an integer will result in an error in the future\n"
     ]
    }
   ],
   "source": [
    "hits_idx_1 = {}\n",
    "for i in coords.index:\n",
    "    mni_cs = coords.loc[i][['mni_x','mni_y','mni_z']]\n",
    "    x,y,z = convert_coords(mni_cs, to_what = 'xyz')\n",
    "    if H1[x,y,z] == 1:\n",
    "        hits_idx_1.update({i: (x,y,z)})"
   ]
  },
  {
   "cell_type": "code",
   "execution_count": 82,
   "metadata": {
    "collapsed": false
   },
   "outputs": [
    {
     "data": {
      "text/plain": [
       "dict_keys([306, 532, 533, 582, 580, 554, 796, 44, 530, 573])"
      ]
     },
     "execution_count": 82,
     "metadata": {},
     "output_type": "execute_result"
    }
   ],
   "source": [
    "hits_idx_3.keys()"
   ]
  },
  {
   "cell_type": "code",
   "execution_count": 86,
   "metadata": {
    "collapsed": false
   },
   "outputs": [
    {
     "data": {
      "text/plain": [
       "0         2.643289\n",
       "1         1.560705\n",
       "2         1.676049\n",
       "3         5.373549\n",
       "4         7.523561\n",
       "5         8.377252\n",
       "6        10.950905\n",
       "7         5.883881\n",
       "8         7.992006\n",
       "9         3.615337\n",
       "10       12.174057\n",
       "11        9.849032\n",
       "12       11.117673\n",
       "13        3.000522\n",
       "14        3.789344\n",
       "15        1.775950\n",
       "16        9.644368\n",
       "17        5.881371\n",
       "18        4.501402\n",
       "19       10.325309\n",
       "20       10.384866\n",
       "21        5.459606\n",
       "22        5.110865\n",
       "23        6.946877\n",
       "24        9.497831\n",
       "25        8.875330\n",
       "26        9.408522\n",
       "27        6.886190\n",
       "28        6.759526\n",
       "29        9.631543\n",
       "           ...    \n",
       "58662     1.820298\n",
       "58663     2.599219\n",
       "58664     1.656004\n",
       "58665     1.994733\n",
       "58666     7.298187\n",
       "58667     1.756525\n",
       "58668    10.188729\n",
       "58669     1.987665\n",
       "58670     2.193815\n",
       "58671    10.340270\n",
       "58672     2.661737\n",
       "58673     1.843563\n",
       "58674     3.194600\n",
       "58675     9.699841\n",
       "58676     1.587918\n",
       "58677     1.674414\n",
       "58678     7.990807\n",
       "58679     1.712902\n",
       "58680    10.215604\n",
       "58681     1.607155\n",
       "58682     6.262849\n",
       "58683     4.736458\n",
       "58684     1.650163\n",
       "58685     4.682039\n",
       "58686    10.812339\n",
       "58687     4.709222\n",
       "58688     6.105867\n",
       "58689     2.175794\n",
       "58690     7.196216\n",
       "58691     4.932121\n",
       "dtype: float64"
      ]
     },
     "execution_count": 86,
     "metadata": {},
     "output_type": "execute_result"
    }
   ],
   "source": [
    "data.iloc[:,list(hits_idx_3.keys())].mean(axis=1)"
   ]
  },
  {
   "cell_type": "code",
   "execution_count": 89,
   "metadata": {
    "collapsed": false
   },
   "outputs": [],
   "source": [
    "def ABA_average_expression_from_atlas(ABA_dir, atlas, binary=False, save=False):\n",
    "    \n",
    "    ABA_subs = sorted(glob(os.path.join(ABA_dir,'normalized_microarray_donor*')))\n",
    "    final_out = {}\n",
    "    for sdir in ABA_subs:\n",
    "        sid = os.path.join(sdir)[-1].split('donor')[-1]\n",
    "        print('working on subject',sid)\n",
    "        print('loading data...')\n",
    "        coords = pandas.read_csv(os.path.join(sdir,'SampleAnnot.csv'))\n",
    "        if binary:\n",
    "            data = pandas.read_csv(os.path.join(sdir,'PACall.csv'),header=None)\n",
    "        else:\n",
    "            data = pandas.read_csv(os.path.join(sdir,'MicroarrayExpression.csv'),header=None)\n",
    "        \n",
    "        print('preparing image...')\n",
    "        atl = ni.load(atlas).get_data()\n",
    "        output = pandas.DataFrame(index = data.index)\n",
    "        for lab in np.unique(atl)[1:]:\n",
    "            print('searching for probes in label',lab)\n",
    "            hits_idx = {}\n",
    "            for i in coords.index:\n",
    "                mni_cs = coords.loc[i][['mni_x','mni_y','mni_z']]\n",
    "                x,y,z = convert_coords(mni_cs, to_what = 'xyz')\n",
    "                if atl[x,y,z] == lab:\n",
    "                    hits_idx.update({i: (x,y,z)})\n",
    "            print('found %s hits'%(len(hits_idx.keys())))\n",
    "            output.loc[:,'lab_%s'%lab] = data.iloc[:,list(hits_idx.keys())].mean(axis=1)\n",
    "        print('finishing up subject',sid)\n",
    "        final_out.update({sid: output})\n",
    "        if save:\n",
    "            output.to_csv(os.path.join(ABA_dir,'%s_avg_expression_data.csv'%sid))\n",
    "        \n",
    "    return final_out"
   ]
  },
  {
   "cell_type": "code",
   "execution_count": 92,
   "metadata": {
    "collapsed": false
   },
   "outputs": [
    {
     "name": "stdout",
     "output_type": "stream",
     "text": [
      "working on subject 1\n",
      "loading data...\n",
      "preparing image...\n",
      "searching for probes in label 1.0\n"
     ]
    },
    {
     "name": "stderr",
     "output_type": "stream",
     "text": [
      "//anaconda/envs/py3/lib/python3.5/site-packages/ipykernel/__main__.py:24: VisibleDeprecationWarning: using a non-integer number instead of an integer will result in an error in the future\n"
     ]
    },
    {
     "name": "stdout",
     "output_type": "stream",
     "text": [
      "found 39 hits\n",
      "searching for probes in label 3.0\n",
      "found 10 hits\n",
      "finishing up subject 1\n"
     ]
    }
   ],
   "source": [
    "ABA_dir = '/Users/jakevogel/Downloads/'\n",
    "atlas = '/Users/jakevogel/Science/tau/tau_masks/1mm_lund/hippocampus_labels_LUND_scif55.nii.gz'\n",
    "t1 = ABA_average_expression_from_atlas(ABA_dir, atlas)"
   ]
  },
  {
   "cell_type": "code",
   "execution_count": 94,
   "metadata": {
    "collapsed": false
   },
   "outputs": [
    {
     "data": {
      "text/html": [
       "<div>\n",
       "<table border=\"1\" class=\"dataframe\">\n",
       "  <thead>\n",
       "    <tr style=\"text-align: right;\">\n",
       "      <th></th>\n",
       "      <th>lab_1.0</th>\n",
       "      <th>lab_3.0</th>\n",
       "    </tr>\n",
       "  </thead>\n",
       "  <tbody>\n",
       "    <tr>\n",
       "      <th>0</th>\n",
       "      <td>2.968873</td>\n",
       "      <td>2.643289</td>\n",
       "    </tr>\n",
       "    <tr>\n",
       "      <th>1</th>\n",
       "      <td>1.725170</td>\n",
       "      <td>1.560705</td>\n",
       "    </tr>\n",
       "    <tr>\n",
       "      <th>2</th>\n",
       "      <td>1.750512</td>\n",
       "      <td>1.676049</td>\n",
       "    </tr>\n",
       "    <tr>\n",
       "      <th>3</th>\n",
       "      <td>4.958166</td>\n",
       "      <td>5.373549</td>\n",
       "    </tr>\n",
       "    <tr>\n",
       "      <th>4</th>\n",
       "      <td>7.331524</td>\n",
       "      <td>7.523561</td>\n",
       "    </tr>\n",
       "    <tr>\n",
       "      <th>5</th>\n",
       "      <td>8.040014</td>\n",
       "      <td>8.377252</td>\n",
       "    </tr>\n",
       "    <tr>\n",
       "      <th>6</th>\n",
       "      <td>10.630404</td>\n",
       "      <td>10.950905</td>\n",
       "    </tr>\n",
       "    <tr>\n",
       "      <th>7</th>\n",
       "      <td>4.690699</td>\n",
       "      <td>5.883881</td>\n",
       "    </tr>\n",
       "    <tr>\n",
       "      <th>8</th>\n",
       "      <td>8.999065</td>\n",
       "      <td>7.992006</td>\n",
       "    </tr>\n",
       "    <tr>\n",
       "      <th>9</th>\n",
       "      <td>2.885057</td>\n",
       "      <td>3.615337</td>\n",
       "    </tr>\n",
       "    <tr>\n",
       "      <th>10</th>\n",
       "      <td>11.241298</td>\n",
       "      <td>12.174057</td>\n",
       "    </tr>\n",
       "    <tr>\n",
       "      <th>11</th>\n",
       "      <td>8.955899</td>\n",
       "      <td>9.849032</td>\n",
       "    </tr>\n",
       "    <tr>\n",
       "      <th>12</th>\n",
       "      <td>10.293469</td>\n",
       "      <td>11.117673</td>\n",
       "    </tr>\n",
       "    <tr>\n",
       "      <th>13</th>\n",
       "      <td>3.368101</td>\n",
       "      <td>3.000522</td>\n",
       "    </tr>\n",
       "    <tr>\n",
       "      <th>14</th>\n",
       "      <td>5.480756</td>\n",
       "      <td>3.789344</td>\n",
       "    </tr>\n",
       "    <tr>\n",
       "      <th>15</th>\n",
       "      <td>1.928305</td>\n",
       "      <td>1.775950</td>\n",
       "    </tr>\n",
       "    <tr>\n",
       "      <th>16</th>\n",
       "      <td>9.578757</td>\n",
       "      <td>9.644368</td>\n",
       "    </tr>\n",
       "    <tr>\n",
       "      <th>17</th>\n",
       "      <td>6.124367</td>\n",
       "      <td>5.881371</td>\n",
       "    </tr>\n",
       "    <tr>\n",
       "      <th>18</th>\n",
       "      <td>5.070824</td>\n",
       "      <td>4.501402</td>\n",
       "    </tr>\n",
       "    <tr>\n",
       "      <th>19</th>\n",
       "      <td>9.686877</td>\n",
       "      <td>10.325309</td>\n",
       "    </tr>\n",
       "    <tr>\n",
       "      <th>20</th>\n",
       "      <td>9.312295</td>\n",
       "      <td>10.384866</td>\n",
       "    </tr>\n",
       "    <tr>\n",
       "      <th>21</th>\n",
       "      <td>4.903885</td>\n",
       "      <td>5.459606</td>\n",
       "    </tr>\n",
       "    <tr>\n",
       "      <th>22</th>\n",
       "      <td>4.251937</td>\n",
       "      <td>5.110865</td>\n",
       "    </tr>\n",
       "    <tr>\n",
       "      <th>23</th>\n",
       "      <td>6.185243</td>\n",
       "      <td>6.946877</td>\n",
       "    </tr>\n",
       "    <tr>\n",
       "      <th>24</th>\n",
       "      <td>8.834860</td>\n",
       "      <td>9.497831</td>\n",
       "    </tr>\n",
       "    <tr>\n",
       "      <th>25</th>\n",
       "      <td>8.299749</td>\n",
       "      <td>8.875330</td>\n",
       "    </tr>\n",
       "    <tr>\n",
       "      <th>26</th>\n",
       "      <td>9.095570</td>\n",
       "      <td>9.408522</td>\n",
       "    </tr>\n",
       "    <tr>\n",
       "      <th>27</th>\n",
       "      <td>6.487912</td>\n",
       "      <td>6.886190</td>\n",
       "    </tr>\n",
       "    <tr>\n",
       "      <th>28</th>\n",
       "      <td>5.153414</td>\n",
       "      <td>6.759526</td>\n",
       "    </tr>\n",
       "    <tr>\n",
       "      <th>29</th>\n",
       "      <td>8.150325</td>\n",
       "      <td>9.631543</td>\n",
       "    </tr>\n",
       "    <tr>\n",
       "      <th>...</th>\n",
       "      <td>...</td>\n",
       "      <td>...</td>\n",
       "    </tr>\n",
       "    <tr>\n",
       "      <th>58662</th>\n",
       "      <td>1.817926</td>\n",
       "      <td>1.820298</td>\n",
       "    </tr>\n",
       "    <tr>\n",
       "      <th>58663</th>\n",
       "      <td>2.652286</td>\n",
       "      <td>2.599219</td>\n",
       "    </tr>\n",
       "    <tr>\n",
       "      <th>58664</th>\n",
       "      <td>1.879700</td>\n",
       "      <td>1.656004</td>\n",
       "    </tr>\n",
       "    <tr>\n",
       "      <th>58665</th>\n",
       "      <td>2.197968</td>\n",
       "      <td>1.994733</td>\n",
       "    </tr>\n",
       "    <tr>\n",
       "      <th>58666</th>\n",
       "      <td>6.750039</td>\n",
       "      <td>7.298187</td>\n",
       "    </tr>\n",
       "    <tr>\n",
       "      <th>58667</th>\n",
       "      <td>2.121483</td>\n",
       "      <td>1.756525</td>\n",
       "    </tr>\n",
       "    <tr>\n",
       "      <th>58668</th>\n",
       "      <td>9.153091</td>\n",
       "      <td>10.188729</td>\n",
       "    </tr>\n",
       "    <tr>\n",
       "      <th>58669</th>\n",
       "      <td>1.981363</td>\n",
       "      <td>1.987665</td>\n",
       "    </tr>\n",
       "    <tr>\n",
       "      <th>58670</th>\n",
       "      <td>2.486162</td>\n",
       "      <td>2.193815</td>\n",
       "    </tr>\n",
       "    <tr>\n",
       "      <th>58671</th>\n",
       "      <td>9.773717</td>\n",
       "      <td>10.340270</td>\n",
       "    </tr>\n",
       "    <tr>\n",
       "      <th>58672</th>\n",
       "      <td>2.802464</td>\n",
       "      <td>2.661737</td>\n",
       "    </tr>\n",
       "    <tr>\n",
       "      <th>58673</th>\n",
       "      <td>1.854044</td>\n",
       "      <td>1.843563</td>\n",
       "    </tr>\n",
       "    <tr>\n",
       "      <th>58674</th>\n",
       "      <td>2.881551</td>\n",
       "      <td>3.194600</td>\n",
       "    </tr>\n",
       "    <tr>\n",
       "      <th>58675</th>\n",
       "      <td>9.253474</td>\n",
       "      <td>9.699841</td>\n",
       "    </tr>\n",
       "    <tr>\n",
       "      <th>58676</th>\n",
       "      <td>1.709267</td>\n",
       "      <td>1.587918</td>\n",
       "    </tr>\n",
       "    <tr>\n",
       "      <th>58677</th>\n",
       "      <td>1.990766</td>\n",
       "      <td>1.674414</td>\n",
       "    </tr>\n",
       "    <tr>\n",
       "      <th>58678</th>\n",
       "      <td>8.087487</td>\n",
       "      <td>7.990807</td>\n",
       "    </tr>\n",
       "    <tr>\n",
       "      <th>58679</th>\n",
       "      <td>1.841112</td>\n",
       "      <td>1.712902</td>\n",
       "    </tr>\n",
       "    <tr>\n",
       "      <th>58680</th>\n",
       "      <td>9.879633</td>\n",
       "      <td>10.215604</td>\n",
       "    </tr>\n",
       "    <tr>\n",
       "      <th>58681</th>\n",
       "      <td>1.745661</td>\n",
       "      <td>1.607155</td>\n",
       "    </tr>\n",
       "    <tr>\n",
       "      <th>58682</th>\n",
       "      <td>4.653571</td>\n",
       "      <td>6.262849</td>\n",
       "    </tr>\n",
       "    <tr>\n",
       "      <th>58683</th>\n",
       "      <td>3.844038</td>\n",
       "      <td>4.736458</td>\n",
       "    </tr>\n",
       "    <tr>\n",
       "      <th>58684</th>\n",
       "      <td>1.899862</td>\n",
       "      <td>1.650163</td>\n",
       "    </tr>\n",
       "    <tr>\n",
       "      <th>58685</th>\n",
       "      <td>3.873713</td>\n",
       "      <td>4.682039</td>\n",
       "    </tr>\n",
       "    <tr>\n",
       "      <th>58686</th>\n",
       "      <td>10.339732</td>\n",
       "      <td>10.812339</td>\n",
       "    </tr>\n",
       "    <tr>\n",
       "      <th>58687</th>\n",
       "      <td>4.558493</td>\n",
       "      <td>4.709222</td>\n",
       "    </tr>\n",
       "    <tr>\n",
       "      <th>58688</th>\n",
       "      <td>6.103489</td>\n",
       "      <td>6.105867</td>\n",
       "    </tr>\n",
       "    <tr>\n",
       "      <th>58689</th>\n",
       "      <td>2.007149</td>\n",
       "      <td>2.175794</td>\n",
       "    </tr>\n",
       "    <tr>\n",
       "      <th>58690</th>\n",
       "      <td>6.434687</td>\n",
       "      <td>7.196216</td>\n",
       "    </tr>\n",
       "    <tr>\n",
       "      <th>58691</th>\n",
       "      <td>5.508698</td>\n",
       "      <td>4.932121</td>\n",
       "    </tr>\n",
       "  </tbody>\n",
       "</table>\n",
       "<p>58692 rows × 2 columns</p>\n",
       "</div>"
      ],
      "text/plain": [
       "         lab_1.0    lab_3.0\n",
       "0       2.968873   2.643289\n",
       "1       1.725170   1.560705\n",
       "2       1.750512   1.676049\n",
       "3       4.958166   5.373549\n",
       "4       7.331524   7.523561\n",
       "5       8.040014   8.377252\n",
       "6      10.630404  10.950905\n",
       "7       4.690699   5.883881\n",
       "8       8.999065   7.992006\n",
       "9       2.885057   3.615337\n",
       "10     11.241298  12.174057\n",
       "11      8.955899   9.849032\n",
       "12     10.293469  11.117673\n",
       "13      3.368101   3.000522\n",
       "14      5.480756   3.789344\n",
       "15      1.928305   1.775950\n",
       "16      9.578757   9.644368\n",
       "17      6.124367   5.881371\n",
       "18      5.070824   4.501402\n",
       "19      9.686877  10.325309\n",
       "20      9.312295  10.384866\n",
       "21      4.903885   5.459606\n",
       "22      4.251937   5.110865\n",
       "23      6.185243   6.946877\n",
       "24      8.834860   9.497831\n",
       "25      8.299749   8.875330\n",
       "26      9.095570   9.408522\n",
       "27      6.487912   6.886190\n",
       "28      5.153414   6.759526\n",
       "29      8.150325   9.631543\n",
       "...          ...        ...\n",
       "58662   1.817926   1.820298\n",
       "58663   2.652286   2.599219\n",
       "58664   1.879700   1.656004\n",
       "58665   2.197968   1.994733\n",
       "58666   6.750039   7.298187\n",
       "58667   2.121483   1.756525\n",
       "58668   9.153091  10.188729\n",
       "58669   1.981363   1.987665\n",
       "58670   2.486162   2.193815\n",
       "58671   9.773717  10.340270\n",
       "58672   2.802464   2.661737\n",
       "58673   1.854044   1.843563\n",
       "58674   2.881551   3.194600\n",
       "58675   9.253474   9.699841\n",
       "58676   1.709267   1.587918\n",
       "58677   1.990766   1.674414\n",
       "58678   8.087487   7.990807\n",
       "58679   1.841112   1.712902\n",
       "58680   9.879633  10.215604\n",
       "58681   1.745661   1.607155\n",
       "58682   4.653571   6.262849\n",
       "58683   3.844038   4.736458\n",
       "58684   1.899862   1.650163\n",
       "58685   3.873713   4.682039\n",
       "58686  10.339732  10.812339\n",
       "58687   4.558493   4.709222\n",
       "58688   6.103489   6.105867\n",
       "58689   2.007149   2.175794\n",
       "58690   6.434687   7.196216\n",
       "58691   5.508698   4.932121\n",
       "\n",
       "[58692 rows x 2 columns]"
      ]
     },
     "execution_count": 94,
     "metadata": {},
     "output_type": "execute_result"
    }
   ],
   "source": [
    "t1['1']"
   ]
  },
  {
   "cell_type": "code",
   "execution_count": null,
   "metadata": {
    "collapsed": true
   },
   "outputs": [],
   "source": []
  }
 ],
 "metadata": {
  "anaconda-cloud": {},
  "kernelspec": {
   "display_name": "Python [conda env:py3]",
   "language": "python",
   "name": "conda-env-py3-py"
  },
  "language_info": {
   "codemirror_mode": {
    "name": "ipython",
    "version": 3
   },
   "file_extension": ".py",
   "mimetype": "text/x-python",
   "name": "python",
   "nbconvert_exporter": "python",
   "pygments_lexer": "ipython3",
   "version": "3.5.2"
  }
 },
 "nbformat": 4,
 "nbformat_minor": 1
}
