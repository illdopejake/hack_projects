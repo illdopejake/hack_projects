{
 "cells": [
  {
   "cell_type": "code",
   "execution_count": null,
   "metadata": {
    "collapsed": true
   },
   "outputs": [],
   "source": [
    "import pandas\n",
    "import os\n",
    "import numpy as np\n",
    "import matplotlib.pyplot as plt\n",
    "import seaborn as sns\n",
    "from scipy import stats\n",
    "from sklearn.decomposition import PCA\n",
    "from mpl_toolkits.mplot3d import Axes3D\n",
    "import umap"
   ]
  },
  {
   "cell_type": "code",
   "execution_count": null,
   "metadata": {
    "collapsed": true
   },
   "outputs": [],
   "source": [
    "wdir = '/data1/users/jvogel/Allen_Human_Brain_Atlas/'\n",
    "shtz = sorted(glob(os.path.join(wdir,'normalized_microarray_donor*/MExp_all_genes_ctr_for_donor')))\n",
    "holder = []\n",
    "for sht in shtz:\n",
    "    holder.append(pandas.read_csv(sht,index_col=0))\n",
    "bigdf = pandas.concat(holder,axis=1)\n",
    "del(holder)\n",
    "bigdf = bigdf.values"
   ]
  },
  {
   "cell_type": "code",
   "execution_count": null,
   "metadata": {
    "collapsed": true
   },
   "outputs": [],
   "source": [
    "rix = np.random.permutation(list(range(bigdf.shape[-1])))[:1000]\n",
    "pca_mod = PCA(n_components=100).fit(bigdf[:,rix].T)\n",
    "print('explained variances:', sum(pca_mod.explained_variance_ratio_))\n",
    "tfm_mtx = pca_mod.transform(bigdf.T)"
   ]
  },
  {
   "cell_type": "code",
   "execution_count": null,
   "metadata": {
    "collapsed": true
   },
   "outputs": [],
   "source": [
    "gdf = pandas.read_csv(os.path.join(wdir,'gxp_correlation_wholebrain_results_NEW.csv'))\n",
    "outdir = os.path.join(os.getcwd(),'umap_output')\n",
    "nbrs = list(range(5,55,5))\n",
    "dists = [0.001,0.01,0.1,0.5]\n",
    "labs = [0 if gdf.loc[x,'slab_type'] == 'CX' else 1 if gdf.loc[x,'slab_type'] == 'BS' else 2 for x in gdf.index]\n",
    "for nbr in nbrs:\n",
    "    for dist in dists:\n",
    "        print('working on nbr=%s, dist=%s'%(nbr,dist))\n",
    "        embedding = umap.UMAP(n_components=3, n_neighbors=nbr, min_dist=dist).fit_transform(tfm_mtx)\n",
    "        plt.close()\n",
    "        fig = plt.figure()\n",
    "        ax = Axes3D(fig)\n",
    "        ax.scatter(embedding[:,0], embedding[:,1], embedding[:,2], c = np.array(labs), cmap='Spectral', s=5)\n",
    "        plt.savefig(os.path.join(outdir,'umap_%s_%s.pdf'%(nbr,dist)))"
   ]
  },
  {
   "cell_type": "code",
   "execution_count": null,
   "metadata": {
    "collapsed": true
   },
   "outputs": [],
   "source": [
    "new_map = dict(zip(np.unique(labs),range(len(np.unique(labs)))))\n",
    "newlabs = [new_map[x] for x in results.Label.values]\n",
    "for nbr in nbrs:\n",
    "    for dist in dists:\n",
    "        print('working on nbr=%s, dist=%s'%(nbr,dist))\n",
    "        embedding = umap.UMAP(n_components=3, n_neighbors=nbr, min_dist=dist).fit_transform(tfm_mtx)\n",
    "        plt.close()\n",
    "        fig = plt.figure()\n",
    "        ax = Axes3D(fig)\n",
    "        ax.scatter(embedding[:,0], embedding[:,1], embedding[:,2], c = newlabs, cmap='Spectral', s=5)\n",
    "        plt.savefig(os.path.join(outdir,'dkt_umap_%s_%s.pdf'%(nbr,dist)))"
   ]
  }
 ],
 "metadata": {
  "anaconda-cloud": {},
  "kernelspec": {
   "display_name": "Python [conda env:py3]",
   "language": "python",
   "name": "conda-env-py3-py"
  },
  "language_info": {
   "codemirror_mode": {
    "name": "ipython",
    "version": 3
   },
   "file_extension": ".py",
   "mimetype": "text/x-python",
   "name": "python",
   "nbconvert_exporter": "python",
   "pygments_lexer": "ipython3",
   "version": "3.5.2"
  }
 },
 "nbformat": 4,
 "nbformat_minor": 1
}
