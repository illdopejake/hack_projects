{
 "cells": [
  {
   "cell_type": "code",
   "execution_count": 208,
   "metadata": {
    "collapsed": true
   },
   "outputs": [],
   "source": [
    "import pandas\n",
    "import os\n",
    "import numpy as np\n",
    "import matplotlib.pyplot as plt\n",
    "import seaborn as sns\n",
    "from scipy import stats\n",
    "from sklearn.decomposition import PCA\n",
    "from sklearn.manifold import TSNE\n",
    "from sklearn.preprocessing import StandardScaler\n",
    "from sklearn import model_selection, linear_model"
   ]
  },
  {
   "cell_type": "code",
   "execution_count": 2,
   "metadata": {
    "collapsed": true
   },
   "outputs": [],
   "source": [
    "wdir = '/data1/users/jvogel/Allen_Human_Brain_Atlas/'\n",
    "xp = pandas.read_csv(os.path.join(wdir,'whole_hippocampus_xp_allsubs_cleaned_labeled.csv'))"
   ]
  },
  {
   "cell_type": "code",
   "execution_count": 7,
   "metadata": {
    "collapsed": false
   },
   "outputs": [
    {
     "data": {
      "text/plain": [
       "(58698, 124)"
      ]
     },
     "execution_count": 7,
     "metadata": {},
     "output_type": "execute_result"
    }
   ],
   "source": [
    "xp.shape"
   ]
  },
  {
   "cell_type": "code",
   "execution_count": 8,
   "metadata": {
    "collapsed": false
   },
   "outputs": [
    {
     "data": {
      "text/html": [
       "<div>\n",
       "<style>\n",
       "    .dataframe thead tr:only-child th {\n",
       "        text-align: right;\n",
       "    }\n",
       "\n",
       "    .dataframe thead th {\n",
       "        text-align: left;\n",
       "    }\n",
       "\n",
       "    .dataframe tbody tr th {\n",
       "        vertical-align: top;\n",
       "    }\n",
       "</style>\n",
       "<table border=\"1\" class=\"dataframe\">\n",
       "  <thead>\n",
       "    <tr style=\"text-align: right;\">\n",
       "      <th></th>\n",
       "      <th>10021_lab_1.0_samp_524</th>\n",
       "      <th>10021_lab_1.0_samp_525</th>\n",
       "      <th>10021_lab_1.0_samp_527</th>\n",
       "      <th>10021_lab_1.0_samp_528</th>\n",
       "      <th>10021_lab_1.0_samp_531</th>\n",
       "      <th>10021_lab_1.0_samp_532</th>\n",
       "      <th>10021_lab_1.0_samp_533</th>\n",
       "      <th>10021_lab_1.0_samp_534</th>\n",
       "      <th>10021_lab_1.0_samp_544</th>\n",
       "      <th>10021_lab_1.0_samp_545</th>\n",
       "      <th>...</th>\n",
       "      <th>9861_lab_1.0_samp_787</th>\n",
       "      <th>9861_lab_1.0_samp_788</th>\n",
       "      <th>9861_lab_1.0_samp_790</th>\n",
       "      <th>9861_lab_1.0_samp_792</th>\n",
       "      <th>9861_lab_1.0_samp_796</th>\n",
       "      <th>9861_lab_1.0_samp_797</th>\n",
       "      <th>9861_lab_1.0_samp_798</th>\n",
       "      <th>9861_lab_1.0_samp_804</th>\n",
       "      <th>9861_lab_1.0_samp_805</th>\n",
       "      <th>9861_lab_1.0_samp_806</th>\n",
       "    </tr>\n",
       "  </thead>\n",
       "  <tbody>\n",
       "    <tr>\n",
       "      <th>0</th>\n",
       "      <td>0.480406</td>\n",
       "      <td>0.660119</td>\n",
       "      <td>-0.950707</td>\n",
       "      <td>-1.794701</td>\n",
       "      <td>-0.275478</td>\n",
       "      <td>0.515764</td>\n",
       "      <td>0.981695</td>\n",
       "      <td>-0.833769</td>\n",
       "      <td>-0.050159</td>\n",
       "      <td>-0.204280</td>\n",
       "      <td>...</td>\n",
       "      <td>0.356873</td>\n",
       "      <td>-0.854386</td>\n",
       "      <td>-1.298184</td>\n",
       "      <td>-0.314338</td>\n",
       "      <td>-1.405429</td>\n",
       "      <td>-0.986159</td>\n",
       "      <td>-0.539705</td>\n",
       "      <td>-0.185890</td>\n",
       "      <td>-0.760153</td>\n",
       "      <td>-1.156494</td>\n",
       "    </tr>\n",
       "    <tr>\n",
       "      <th>1</th>\n",
       "      <td>-0.281919</td>\n",
       "      <td>-0.281919</td>\n",
       "      <td>-0.146346</td>\n",
       "      <td>-0.122736</td>\n",
       "      <td>-0.281919</td>\n",
       "      <td>-0.281919</td>\n",
       "      <td>-0.281919</td>\n",
       "      <td>-0.281919</td>\n",
       "      <td>-0.079232</td>\n",
       "      <td>-0.281919</td>\n",
       "      <td>...</td>\n",
       "      <td>-0.041418</td>\n",
       "      <td>-0.279874</td>\n",
       "      <td>-0.322989</td>\n",
       "      <td>-0.076614</td>\n",
       "      <td>-0.307653</td>\n",
       "      <td>-0.166291</td>\n",
       "      <td>-0.142514</td>\n",
       "      <td>-0.311726</td>\n",
       "      <td>0.071945</td>\n",
       "      <td>-0.190493</td>\n",
       "    </tr>\n",
       "    <tr>\n",
       "      <th>2</th>\n",
       "      <td>-0.337035</td>\n",
       "      <td>-0.274058</td>\n",
       "      <td>-0.128501</td>\n",
       "      <td>-0.064542</td>\n",
       "      <td>-0.337035</td>\n",
       "      <td>-0.337035</td>\n",
       "      <td>-0.337035</td>\n",
       "      <td>-0.337035</td>\n",
       "      <td>-0.172031</td>\n",
       "      <td>-0.337035</td>\n",
       "      <td>...</td>\n",
       "      <td>0.008473</td>\n",
       "      <td>-0.088185</td>\n",
       "      <td>-0.329613</td>\n",
       "      <td>0.025157</td>\n",
       "      <td>-0.225742</td>\n",
       "      <td>-0.055409</td>\n",
       "      <td>-0.008256</td>\n",
       "      <td>-0.348750</td>\n",
       "      <td>-0.149676</td>\n",
       "      <td>0.042965</td>\n",
       "    </tr>\n",
       "    <tr>\n",
       "      <th>3</th>\n",
       "      <td>-0.074482</td>\n",
       "      <td>-0.354070</td>\n",
       "      <td>0.214679</td>\n",
       "      <td>0.156800</td>\n",
       "      <td>0.026163</td>\n",
       "      <td>0.796322</td>\n",
       "      <td>0.477698</td>\n",
       "      <td>-0.403528</td>\n",
       "      <td>-0.358875</td>\n",
       "      <td>0.338218</td>\n",
       "      <td>...</td>\n",
       "      <td>0.443062</td>\n",
       "      <td>0.615837</td>\n",
       "      <td>1.837306</td>\n",
       "      <td>-0.399442</td>\n",
       "      <td>1.045389</td>\n",
       "      <td>1.043883</td>\n",
       "      <td>0.028797</td>\n",
       "      <td>0.785455</td>\n",
       "      <td>-0.474766</td>\n",
       "      <td>0.043116</td>\n",
       "    </tr>\n",
       "    <tr>\n",
       "      <th>4</th>\n",
       "      <td>-0.048502</td>\n",
       "      <td>-0.070200</td>\n",
       "      <td>0.062610</td>\n",
       "      <td>0.046749</td>\n",
       "      <td>0.430726</td>\n",
       "      <td>0.623134</td>\n",
       "      <td>0.255087</td>\n",
       "      <td>-0.287510</td>\n",
       "      <td>-0.061610</td>\n",
       "      <td>0.273906</td>\n",
       "      <td>...</td>\n",
       "      <td>1.228126</td>\n",
       "      <td>1.111220</td>\n",
       "      <td>1.301074</td>\n",
       "      <td>0.367464</td>\n",
       "      <td>0.794877</td>\n",
       "      <td>0.685466</td>\n",
       "      <td>1.286411</td>\n",
       "      <td>0.424040</td>\n",
       "      <td>0.685054</td>\n",
       "      <td>1.715385</td>\n",
       "    </tr>\n",
       "  </tbody>\n",
       "</table>\n",
       "<p>5 rows × 124 columns</p>\n",
       "</div>"
      ],
      "text/plain": [
       "   10021_lab_1.0_samp_524  10021_lab_1.0_samp_525  10021_lab_1.0_samp_527  \\\n",
       "0                0.480406                0.660119               -0.950707   \n",
       "1               -0.281919               -0.281919               -0.146346   \n",
       "2               -0.337035               -0.274058               -0.128501   \n",
       "3               -0.074482               -0.354070                0.214679   \n",
       "4               -0.048502               -0.070200                0.062610   \n",
       "\n",
       "   10021_lab_1.0_samp_528  10021_lab_1.0_samp_531  10021_lab_1.0_samp_532  \\\n",
       "0               -1.794701               -0.275478                0.515764   \n",
       "1               -0.122736               -0.281919               -0.281919   \n",
       "2               -0.064542               -0.337035               -0.337035   \n",
       "3                0.156800                0.026163                0.796322   \n",
       "4                0.046749                0.430726                0.623134   \n",
       "\n",
       "   10021_lab_1.0_samp_533  10021_lab_1.0_samp_534  10021_lab_1.0_samp_544  \\\n",
       "0                0.981695               -0.833769               -0.050159   \n",
       "1               -0.281919               -0.281919               -0.079232   \n",
       "2               -0.337035               -0.337035               -0.172031   \n",
       "3                0.477698               -0.403528               -0.358875   \n",
       "4                0.255087               -0.287510               -0.061610   \n",
       "\n",
       "   10021_lab_1.0_samp_545          ...            9861_lab_1.0_samp_787  \\\n",
       "0               -0.204280          ...                         0.356873   \n",
       "1               -0.281919          ...                        -0.041418   \n",
       "2               -0.337035          ...                         0.008473   \n",
       "3                0.338218          ...                         0.443062   \n",
       "4                0.273906          ...                         1.228126   \n",
       "\n",
       "   9861_lab_1.0_samp_788  9861_lab_1.0_samp_790  9861_lab_1.0_samp_792  \\\n",
       "0              -0.854386              -1.298184              -0.314338   \n",
       "1              -0.279874              -0.322989              -0.076614   \n",
       "2              -0.088185              -0.329613               0.025157   \n",
       "3               0.615837               1.837306              -0.399442   \n",
       "4               1.111220               1.301074               0.367464   \n",
       "\n",
       "   9861_lab_1.0_samp_796  9861_lab_1.0_samp_797  9861_lab_1.0_samp_798  \\\n",
       "0              -1.405429              -0.986159              -0.539705   \n",
       "1              -0.307653              -0.166291              -0.142514   \n",
       "2              -0.225742              -0.055409              -0.008256   \n",
       "3               1.045389               1.043883               0.028797   \n",
       "4               0.794877               0.685466               1.286411   \n",
       "\n",
       "   9861_lab_1.0_samp_804  9861_lab_1.0_samp_805  9861_lab_1.0_samp_806  \n",
       "0              -0.185890              -0.760153              -1.156494  \n",
       "1              -0.311726               0.071945              -0.190493  \n",
       "2              -0.348750              -0.149676               0.042965  \n",
       "3               0.785455              -0.474766               0.043116  \n",
       "4               0.424040               0.685054               1.715385  \n",
       "\n",
       "[5 rows x 124 columns]"
      ]
     },
     "execution_count": 8,
     "metadata": {},
     "output_type": "execute_result"
    }
   ],
   "source": [
    "xp.head()"
   ]
  },
  {
   "cell_type": "code",
   "execution_count": 10,
   "metadata": {
    "collapsed": false
   },
   "outputs": [
    {
     "data": {
      "text/plain": [
       "True"
      ]
     },
     "execution_count": 10,
     "metadata": {},
     "output_type": "execute_result"
    }
   ],
   "source": [
    "all([x for x in xp.values.transpose().flat == xp.transpose().values.flat])"
   ]
  },
  {
   "cell_type": "code",
   "execution_count": 236,
   "metadata": {
    "collapsed": false
   },
   "outputs": [
    {
     "data": {
      "text/plain": [
       "(124, 58698)"
      ]
     },
     "execution_count": 236,
     "metadata": {},
     "output_type": "execute_result"
    }
   ],
   "source": [
    "xp.values.T.shape"
   ]
  },
  {
   "cell_type": "code",
   "execution_count": 3,
   "metadata": {
    "collapsed": true
   },
   "outputs": [],
   "source": [
    "pca = PCA(n_components=20)\n",
    "xp_pca = pca.fit(xp.values.T)"
   ]
  },
  {
   "cell_type": "code",
   "execution_count": 15,
   "metadata": {
    "collapsed": false
   },
   "outputs": [
    {
     "data": {
      "text/plain": [
       "(20, 58698)"
      ]
     },
     "execution_count": 15,
     "metadata": {},
     "output_type": "execute_result"
    }
   ],
   "source": [
    "xp_pca.components_.shape"
   ]
  },
  {
   "cell_type": "code",
   "execution_count": 16,
   "metadata": {
    "collapsed": false
   },
   "outputs": [
    {
     "data": {
      "text/plain": [
       "(124, 20)"
      ]
     },
     "execution_count": 16,
     "metadata": {},
     "output_type": "execute_result"
    }
   ],
   "source": [
    "(xp_pca.fit_transform(xp.values.T)).shape"
   ]
  },
  {
   "cell_type": "code",
   "execution_count": 17,
   "metadata": {
    "collapsed": false
   },
   "outputs": [
    {
     "data": {
      "image/png": "[encoded data removed]",
      "text/plain": [
       "<matplotlib.figure.Figure at 0x7f6f607effd0>"
      ]
     },
     "metadata": {},
     "output_type": "display_data"
    }
   ],
   "source": [
    "plt.close()\n",
    "sns.regplot(xp_pca.components_[0,:],xp_pca.components_[1,:])\n",
    "plt.show()"
   ]
  },
  {
   "cell_type": "code",
   "execution_count": 153,
   "metadata": {
    "collapsed": false
   },
   "outputs": [
    {
     "data": {
      "text/plain": [
       "58698"
      ]
     },
     "execution_count": 153,
     "metadata": {},
     "output_type": "execute_result"
    }
   ],
   "source": [
    "len(xp_pca.components_[0,:])"
   ]
  },
  {
   "cell_type": "code",
   "execution_count": 18,
   "metadata": {
    "collapsed": false
   },
   "outputs": [
    {
     "data": {
      "image/png": "[encoded data removed]",
      "text/plain": [
       "<matplotlib.figure.Figure at 0x7f6f607ef748>"
      ]
     },
     "metadata": {},
     "output_type": "display_data"
    }
   ],
   "source": [
    "plt.close()\n",
    "plt.plot(xp_pca.explained_variance_ratio_)\n",
    "plt.show()"
   ]
  },
  {
   "cell_type": "code",
   "execution_count": 19,
   "metadata": {
    "collapsed": false
   },
   "outputs": [
    {
     "data": {
      "text/plain": [
       "0.75656525890049353"
      ]
     },
     "execution_count": 19,
     "metadata": {},
     "output_type": "execute_result"
    }
   ],
   "source": [
    "xp_pca.explained_variance_ratio_.sum()"
   ]
  },
  {
   "cell_type": "code",
   "execution_count": 5,
   "metadata": {
    "collapsed": true
   },
   "outputs": [],
   "source": [
    "transf = xp_pca.transform(xp.T)"
   ]
  },
  {
   "cell_type": "code",
   "execution_count": 6,
   "metadata": {
    "collapsed": true
   },
   "outputs": [],
   "source": [
    "tsne = TSNE(n_components=2)\n",
    "xp_tsne = tsne.fit_transform(transf)"
   ]
  },
  {
   "cell_type": "code",
   "execution_count": 181,
   "metadata": {
    "collapsed": false
   },
   "outputs": [
    {
     "data": {
      "image/png": "[encoded data removed]",
      "text/plain": [
       "<matplotlib.figure.Figure at 0x7f6b7a96fdd8>"
      ]
     },
     "metadata": {},
     "output_type": "display_data"
    }
   ],
   "source": [
    "plt.close()\n",
    "plt.plot(xp_tsne[:,0],xp_tsne[:,1],'.')\n",
    "plt.show()"
   ]
  },
  {
   "cell_type": "code",
   "execution_count": 7,
   "metadata": {
    "collapsed": true
   },
   "outputs": [],
   "source": [
    "df = pandas.read_csv(os.path.join(wdir,'whole_hippocampus_hit_coordinates_cleaned_all_c_labs.csv'))"
   ]
  },
  {
   "cell_type": "code",
   "execution_count": 10,
   "metadata": {
    "collapsed": false
   },
   "outputs": [
    {
     "data": {
      "text/plain": [
       "Index(['Unnamed: 0', 'Unnamed: 0.1', 'sub', 'label', 'x', 'y', 'z',\n",
       "       'slab_type', 'structure_acronym', 'structure_name', 'cluster_label',\n",
       "       'bilateral_structure_name', 'clean_cluster_label',\n",
       "       'hip_axis_loc_posterior_high', '2_c_solution', '3_c_solution',\n",
       "       '4_c_solution', '5_c_solution', '6_c_solution', '7_c_solution',\n",
       "       '8_c_solution', '9_c_solution', '10_c_solution', '11_c_solution',\n",
       "       '12_c_solution'],\n",
       "      dtype='object')"
      ]
     },
     "execution_count": 10,
     "metadata": {},
     "output_type": "execute_result"
    }
   ],
   "source": [
    "df.columns"
   ]
  },
  {
   "cell_type": "code",
   "execution_count": 9,
   "metadata": {
    "collapsed": true
   },
   "outputs": [],
   "source": [
    "df = df.loc[[x for x in df.index if pandas.notnull(df.loc[x,'2_c_solution'])]]"
   ]
  },
  {
   "cell_type": "code",
   "execution_count": 10,
   "metadata": {
    "collapsed": true
   },
   "outputs": [],
   "source": [
    "df.drop(df.index[0],inplace=True)"
   ]
  },
  {
   "cell_type": "code",
   "execution_count": 11,
   "metadata": {
    "collapsed": false
   },
   "outputs": [
    {
     "data": {
      "text/html": [
       "<div>\n",
       "<style>\n",
       "    .dataframe thead tr:only-child th {\n",
       "        text-align: right;\n",
       "    }\n",
       "\n",
       "    .dataframe thead th {\n",
       "        text-align: left;\n",
       "    }\n",
       "\n",
       "    .dataframe tbody tr th {\n",
       "        vertical-align: top;\n",
       "    }\n",
       "</style>\n",
       "<table border=\"1\" class=\"dataframe\">\n",
       "  <thead>\n",
       "    <tr style=\"text-align: right;\">\n",
       "      <th></th>\n",
       "      <th>dim1</th>\n",
       "      <th>dim2</th>\n",
       "      <th>structure_name</th>\n",
       "      <th>axis_location</th>\n",
       "    </tr>\n",
       "  </thead>\n",
       "  <tbody>\n",
       "    <tr>\n",
       "      <th>0</th>\n",
       "      <td>-7.831390</td>\n",
       "      <td>14.767763</td>\n",
       "      <td>dentate gyrus</td>\n",
       "      <td>13.0</td>\n",
       "    </tr>\n",
       "    <tr>\n",
       "      <th>1</th>\n",
       "      <td>12.311459</td>\n",
       "      <td>7.180545</td>\n",
       "      <td>CA4 field</td>\n",
       "      <td>13.0</td>\n",
       "    </tr>\n",
       "    <tr>\n",
       "      <th>2</th>\n",
       "      <td>14.827580</td>\n",
       "      <td>3.802934</td>\n",
       "      <td>CA1 field</td>\n",
       "      <td>12.0</td>\n",
       "    </tr>\n",
       "    <tr>\n",
       "      <th>3</th>\n",
       "      <td>12.971540</td>\n",
       "      <td>2.892677</td>\n",
       "      <td>subiculum</td>\n",
       "      <td>11.0</td>\n",
       "    </tr>\n",
       "    <tr>\n",
       "      <th>4</th>\n",
       "      <td>14.019451</td>\n",
       "      <td>9.727917</td>\n",
       "      <td>dentate gyrus</td>\n",
       "      <td>27.0</td>\n",
       "    </tr>\n",
       "  </tbody>\n",
       "</table>\n",
       "</div>"
      ],
      "text/plain": [
       "        dim1       dim2 structure_name  axis_location\n",
       "0  -7.831390  14.767763  dentate gyrus           13.0\n",
       "1  12.311459   7.180545      CA4 field           13.0\n",
       "2  14.827580   3.802934      CA1 field           12.0\n",
       "3  12.971540   2.892677      subiculum           11.0\n",
       "4  14.019451   9.727917  dentate gyrus           27.0"
      ]
     },
     "execution_count": 11,
     "metadata": {},
     "output_type": "execute_result"
    }
   ],
   "source": [
    "pltdf = pandas.DataFrame(xp_tsne,columns = ['dim1','dim2'])\n",
    "pltdf.loc[:,'structure_name'] = df.bilateral_structure_name.values\n",
    "pltdf.loc[:,'axis_location'] = df.hip_axis_loc_posterior_high.values\n",
    "\n",
    "pltdf.head()"
   ]
  },
  {
   "cell_type": "code",
   "execution_count": 185,
   "metadata": {
    "collapsed": false
   },
   "outputs": [
    {
     "data": {
      "image/png": "[encoded data removed]",
      "text/plain": [
       "<matplotlib.figure.Figure at 0x7f6b79ecaac8>"
      ]
     },
     "metadata": {},
     "output_type": "display_data"
    }
   ],
   "source": [
    "plt.close()\n",
    "sns.lmplot(x = 'dim1', y = 'dim2', hue='structure_name',data=pltdf, fit_reg=False)\n",
    "plt.show()"
   ]
  },
  {
   "cell_type": "code",
   "execution_count": 187,
   "metadata": {
    "collapsed": false
   },
   "outputs": [
    {
     "data": {
      "image/png": "[encoded data removed]",
      "text/plain": [
       "<matplotlib.figure.Figure at 0x7f6b7a6c5358>"
      ]
     },
     "metadata": {},
     "output_type": "display_data"
    }
   ],
   "source": [
    "plt.close()\n",
    "sns.lmplot('dim1','axis_location', data=pltdf)\n",
    "plt.show()"
   ]
  },
  {
   "cell_type": "code",
   "execution_count": 190,
   "metadata": {
    "collapsed": false
   },
   "outputs": [
    {
     "data": {
      "image/png": "[encoded data removed]",
      "text/plain": [
       "<matplotlib.figure.Figure at 0x7f6b7a267908>"
      ]
     },
     "metadata": {},
     "output_type": "display_data"
    }
   ],
   "source": [
    "plt.close()\n",
    "sns.lmplot('dim2','axis_location', data=pltdf)\n",
    "plt.show()"
   ]
  },
  {
   "cell_type": "code",
   "execution_count": 188,
   "metadata": {
    "collapsed": false
   },
   "outputs": [
    {
     "data": {
      "image/png": "[encoded data removed]",
      "text/plain": [
       "<matplotlib.figure.Figure at 0x7f6b7a6b3b38>"
      ]
     },
     "metadata": {},
     "output_type": "display_data"
    }
   ],
   "source": [
    "plt.close()\n",
    "sns.barplot('structure_name','dim1', data=pltdf)\n",
    "plt.show()"
   ]
  },
  {
   "cell_type": "code",
   "execution_count": 189,
   "metadata": {
    "collapsed": false
   },
   "outputs": [
    {
     "data": {
      "image/png": "[encoded data removed]",
      "text/plain": [
       "<matplotlib.figure.Figure at 0x7f6b7aa8a6d8>"
      ]
     },
     "metadata": {},
     "output_type": "display_data"
    }
   ],
   "source": [
    "plt.close()\n",
    "sns.barplot('structure_name','dim2', data=pltdf)\n",
    "plt.show()"
   ]
  },
  {
   "cell_type": "code",
   "execution_count": 81,
   "metadata": {
    "collapsed": true
   },
   "outputs": [],
   "source": [
    "normy = (pltdf.axis_location / pltdf.axis_location.max()) * 255"
   ]
  },
  {
   "cell_type": "code",
   "execution_count": 86,
   "metadata": {
    "collapsed": true
   },
   "outputs": [],
   "source": [
    "pltdf.loc[:,'normed_loc'] = ['#%02x%02x%02x'%(0,0,int(x)) for x in normy]"
   ]
  },
  {
   "cell_type": "code",
   "execution_count": 147,
   "metadata": {
    "collapsed": false
   },
   "outputs": [
    {
     "data": {
      "image/png": "[encoded data removed]",
      "text/plain": [
       "<matplotlib.figure.Figure at 0x7f6b7a43a668>"
      ]
     },
     "metadata": {},
     "output_type": "display_data"
    }
   ],
   "source": [
    "plt.close()\n",
    "sns.lmplot(x = 'dim1', y = 'dim2', hue='axis_location',data=pltdf, fit_reg=False)\n",
    "plt.show()"
   ]
  },
  {
   "cell_type": "code",
   "execution_count": 89,
   "metadata": {
    "collapsed": true
   },
   "outputs": [],
   "source": [
    "rxp = pandas.read_csv(os.path.join(wdir,'whole_hippocampus_xp_allsubs_cleaned_regr_subfield.csv'))"
   ]
  },
  {
   "cell_type": "code",
   "execution_count": 99,
   "metadata": {
    "collapsed": true
   },
   "outputs": [],
   "source": [
    "rxp.drop(rxp.columns[:7],axis=1,inplace=True)"
   ]
  },
  {
   "cell_type": "code",
   "execution_count": 100,
   "metadata": {
    "collapsed": true
   },
   "outputs": [],
   "source": [
    "pca = PCA(n_components=20)\n",
    "rxp_pca = pca.fit(rxp.values)\n"
   ]
  },
  {
   "cell_type": "code",
   "execution_count": 101,
   "metadata": {
    "collapsed": false
   },
   "outputs": [
    {
     "data": {
      "image/png": "[encoded data removed]",
      "text/plain": [
       "<matplotlib.figure.Figure at 0x7f6b79019ba8>"
      ]
     },
     "metadata": {},
     "output_type": "display_data"
    }
   ],
   "source": [
    "plt.close()\n",
    "sns.regplot(rxp_pca.components_[0,:],rxp_pca.components_[1,:])\n",
    "plt.show()"
   ]
  },
  {
   "cell_type": "code",
   "execution_count": 103,
   "metadata": {
    "collapsed": false
   },
   "outputs": [
    {
     "data": {
      "image/png": "[encoded data removed]",
      "text/plain": [
       "<matplotlib.figure.Figure at 0x7f6b7998b780>"
      ]
     },
     "metadata": {},
     "output_type": "display_data"
    }
   ],
   "source": [
    "plt.close()\n",
    "plt.plot(rxp_pca.explained_variance_ratio_)\n",
    "plt.show()"
   ]
  },
  {
   "cell_type": "code",
   "execution_count": 105,
   "metadata": {
    "collapsed": false
   },
   "outputs": [
    {
     "data": {
      "text/plain": [
       "0.71625504351949909"
      ]
     },
     "execution_count": 105,
     "metadata": {},
     "output_type": "execute_result"
    }
   ],
   "source": [
    "rxp_pca.explained_variance_ratio_.sum()"
   ]
  },
  {
   "cell_type": "code",
   "execution_count": 106,
   "metadata": {
    "collapsed": true
   },
   "outputs": [],
   "source": [
    "rtransf = rxp_pca.transform(rxp)\n",
    "tsne = TSNE(n_components=2)\n",
    "rxp_tsne = tsne.fit_transform(rtransf)"
   ]
  },
  {
   "cell_type": "code",
   "execution_count": 107,
   "metadata": {
    "collapsed": false
   },
   "outputs": [
    {
     "data": {
      "image/png": "[encoded data removed]",
      "text/plain": [
       "<matplotlib.figure.Figure at 0x7f6b79b7d390>"
      ]
     },
     "metadata": {},
     "output_type": "display_data"
    }
   ],
   "source": [
    "plt.close()\n",
    "plt.plot(rxp_tsne[:,0],rxp_tsne[:,1],'.')\n",
    "plt.show()"
   ]
  },
  {
   "cell_type": "code",
   "execution_count": 108,
   "metadata": {
    "collapsed": false
   },
   "outputs": [
    {
     "data": {
      "text/html": [
       "<div>\n",
       "<style>\n",
       "    .dataframe thead tr:only-child th {\n",
       "        text-align: right;\n",
       "    }\n",
       "\n",
       "    .dataframe thead th {\n",
       "        text-align: left;\n",
       "    }\n",
       "\n",
       "    .dataframe tbody tr th {\n",
       "        vertical-align: top;\n",
       "    }\n",
       "</style>\n",
       "<table border=\"1\" class=\"dataframe\">\n",
       "  <thead>\n",
       "    <tr style=\"text-align: right;\">\n",
       "      <th></th>\n",
       "      <th>dim1</th>\n",
       "      <th>dim2</th>\n",
       "      <th>structure_name</th>\n",
       "      <th>axis_location</th>\n",
       "    </tr>\n",
       "  </thead>\n",
       "  <tbody>\n",
       "    <tr>\n",
       "      <th>0</th>\n",
       "      <td>-8.884249</td>\n",
       "      <td>1.299358</td>\n",
       "      <td>dentate gyrus</td>\n",
       "      <td>13.0</td>\n",
       "    </tr>\n",
       "    <tr>\n",
       "      <th>1</th>\n",
       "      <td>-9.644856</td>\n",
       "      <td>-1.783187</td>\n",
       "      <td>CA4 field</td>\n",
       "      <td>13.0</td>\n",
       "    </tr>\n",
       "    <tr>\n",
       "      <th>2</th>\n",
       "      <td>-7.646881</td>\n",
       "      <td>-1.701110</td>\n",
       "      <td>CA1 field</td>\n",
       "      <td>12.0</td>\n",
       "    </tr>\n",
       "    <tr>\n",
       "      <th>3</th>\n",
       "      <td>-7.086282</td>\n",
       "      <td>-1.570627</td>\n",
       "      <td>subiculum</td>\n",
       "      <td>11.0</td>\n",
       "    </tr>\n",
       "    <tr>\n",
       "      <th>4</th>\n",
       "      <td>-9.498507</td>\n",
       "      <td>-4.942227</td>\n",
       "      <td>dentate gyrus</td>\n",
       "      <td>27.0</td>\n",
       "    </tr>\n",
       "  </tbody>\n",
       "</table>\n",
       "</div>"
      ],
      "text/plain": [
       "       dim1      dim2 structure_name  axis_location\n",
       "0 -8.884249  1.299358  dentate gyrus           13.0\n",
       "1 -9.644856 -1.783187      CA4 field           13.0\n",
       "2 -7.646881 -1.701110      CA1 field           12.0\n",
       "3 -7.086282 -1.570627      subiculum           11.0\n",
       "4 -9.498507 -4.942227  dentate gyrus           27.0"
      ]
     },
     "execution_count": 108,
     "metadata": {},
     "output_type": "execute_result"
    }
   ],
   "source": [
    "rpltdf = pandas.DataFrame(rxp_tsne,columns = ['dim1','dim2'])\n",
    "rpltdf.loc[:,'structure_name'] = df.bilateral_structure_name.values\n",
    "rpltdf.loc[:,'axis_location'] = df.hip_axis_loc_posterior_high.values\n",
    "\n",
    "rpltdf.head()"
   ]
  },
  {
   "cell_type": "code",
   "execution_count": 110,
   "metadata": {
    "collapsed": false
   },
   "outputs": [
    {
     "data": {
      "image/png": "[encoded data removed]",
      "text/plain": [
       "<matplotlib.figure.Figure at 0x7f6b7988f780>"
      ]
     },
     "metadata": {},
     "output_type": "display_data"
    }
   ],
   "source": [
    "plt.close()\n",
    "sns.lmplot('dim1','dim2',hue='axis_location',data = rpltdf, fit_reg=False)\n",
    "plt.show()"
   ]
  },
  {
   "cell_type": "code",
   "execution_count": 116,
   "metadata": {
    "collapsed": false
   },
   "outputs": [
    {
     "name": "stdout",
     "output_type": "stream",
     "text": [
      "13.0\n",
      "17.400000000000006\n",
      "22.0\n",
      "26.0\n"
     ]
    }
   ],
   "source": [
    "qs = [0.2, 0.4, 0.6, 0.8]\n",
    "for q in qs:\n",
    "    print(rpltdf.axis_location.quantile(q=q))"
   ]
  },
  {
   "cell_type": "code",
   "execution_count": 122,
   "metadata": {
    "collapsed": false
   },
   "outputs": [
    {
     "data": {
      "text/plain": [
       "13.0"
      ]
     },
     "execution_count": 122,
     "metadata": {},
     "output_type": "execute_result"
    }
   ],
   "source": [
    "rpltdf.axis_location[0]"
   ]
  },
  {
   "cell_type": "code",
   "execution_count": 124,
   "metadata": {
    "collapsed": true
   },
   "outputs": [],
   "source": [
    "for i in rpltdf.index:\n",
    "    x = rpltdf.loc[i,'axis_location']\n",
    "    if x < 13:\n",
    "        rpltdf.loc[i,'ax_bin'] = 1\n",
    "    elif x < 17.4:\n",
    "        rpltdf.loc[i,'ax_bin'] = 2\n",
    "    elif x < 22:\n",
    "        rpltdf.loc[i,'ax_bin'] = 3\n",
    "    elif x < 26:\n",
    "        rpltdf.loc[i,'ax_bin'] = 4\n",
    "    else:\n",
    "        rpltdf.loc[i,'ax_bin'] = 5\n",
    "        "
   ]
  },
  {
   "cell_type": "code",
   "execution_count": 125,
   "metadata": {
    "collapsed": false
   },
   "outputs": [
    {
     "data": {
      "image/png": "[encoded data removed]",
      "text/plain": [
       "<matplotlib.figure.Figure at 0x7f6b7aecb198>"
      ]
     },
     "metadata": {},
     "output_type": "display_data"
    }
   ],
   "source": [
    "plt.close()\n",
    "sns.lmplot('dim1','dim2',hue='ax_bin',data = rpltdf, fit_reg=False)\n",
    "plt.show()"
   ]
  },
  {
   "cell_type": "code",
   "execution_count": 225,
   "metadata": {
    "collapsed": false
   },
   "outputs": [
    {
     "data": {
      "image/png": "[encoded data removed]",
      "text/plain": [
       "<matplotlib.figure.Figure at 0x7f6b7a2d2320>"
      ]
     },
     "metadata": {},
     "output_type": "display_data"
    }
   ],
   "source": [
    "plt.close()\n",
    "sns.lmplot('dim1','axis_location', data=rpltdf)\n",
    "plt.show()"
   ]
  },
  {
   "cell_type": "code",
   "execution_count": 226,
   "metadata": {
    "collapsed": false
   },
   "outputs": [
    {
     "data": {
      "image/png": "[encoded data removed]",
      "text/plain": [
       "<matplotlib.figure.Figure at 0x7f6b7a666278>"
      ]
     },
     "metadata": {},
     "output_type": "display_data"
    }
   ],
   "source": [
    "plt.close()\n",
    "sns.lmplot('dim2','axis_location', data=rpltdf)\n",
    "plt.show()"
   ]
  },
  {
   "cell_type": "code",
   "execution_count": 128,
   "metadata": {
    "collapsed": false
   },
   "outputs": [
    {
     "data": {
      "image/png": "[encoded data removed]",
      "text/plain": [
       "<matplotlib.figure.Figure at 0x7f6b7b278198>"
      ]
     },
     "metadata": {},
     "output_type": "display_data"
    }
   ],
   "source": [
    "plt.close()\n",
    "sns.barplot(x='bilateral_structure_name', y = 'hip_axis_loc_posterior_high', data = df)\n",
    "plt.show()"
   ]
  },
  {
   "cell_type": "code",
   "execution_count": 19,
   "metadata": {
    "collapsed": true
   },
   "outputs": [],
   "source": [
    "from sklearn import linear_model"
   ]
  },
  {
   "cell_type": "code",
   "execution_count": 241,
   "metadata": {
    "collapsed": false
   },
   "outputs": [
    {
     "data": {
      "text/plain": [
       "(124, 58698)"
      ]
     },
     "execution_count": 241,
     "metadata": {},
     "output_type": "execute_result"
    }
   ],
   "source": [
    "xp.values.T.shape"
   ]
  },
  {
   "cell_type": "code",
   "execution_count": 12,
   "metadata": {
    "collapsed": true
   },
   "outputs": [],
   "source": [
    "del(xp_pca)\n",
    "del(xp_tsne)"
   ]
  },
  {
   "cell_type": "code",
   "execution_count": 15,
   "metadata": {
    "collapsed": false
   },
   "outputs": [
    {
     "name": "stdout",
     "output_type": "stream",
     "text": [
      "(124, 124)\n"
     ]
    }
   ],
   "source": [
    "pca_all = PCA()\n",
    "#p_pca_all = pca_all.fit_transform(xp.values)\n",
    "#print(xp_pca_all.shape)\n",
    "xp_pca_all2 = pca_all.fit_transform(xp.values.T)\n",
    "print(xp_pca_all2.shape)"
   ]
  },
  {
   "cell_type": "code",
   "execution_count": 23,
   "metadata": {
    "collapsed": false
   },
   "outputs": [
    {
     "name": "stdout",
     "output_type": "stream",
     "text": [
      "(124, 58698)\n"
     ]
    }
   ],
   "source": [
    "print(xp.values.T.shape)"
   ]
  },
  {
   "cell_type": "code",
   "execution_count": 16,
   "metadata": {
    "collapsed": true
   },
   "outputs": [],
   "source": [
    "xp_pca_mod = pca_all.fit(xp.values.T)"
   ]
  },
  {
   "cell_type": "code",
   "execution_count": 17,
   "metadata": {
    "collapsed": false
   },
   "outputs": [
    {
     "data": {
      "text/plain": [
       "(124, 58698)"
      ]
     },
     "execution_count": 17,
     "metadata": {},
     "output_type": "execute_result"
    }
   ],
   "source": [
    "xp_pca_mod.components_.shape"
   ]
  },
  {
   "cell_type": "code",
   "execution_count": 24,
   "metadata": {
    "collapsed": false
   },
   "outputs": [
    {
     "data": {
      "image/png": "[encoded data removed]",
      "text/plain": [
       "<matplotlib.figure.Figure at 0x7f3998da9f60>"
      ]
     },
     "metadata": {},
     "output_type": "display_data"
    }
   ],
   "source": [
    "plt.close()\n",
    "plt.plot(xp_pca_mod.explained_variance_ratio_[:20])\n",
    "plt.show()"
   ]
  },
  {
   "cell_type": "code",
   "execution_count": null,
   "metadata": {
    "collapsed": true
   },
   "outputs": [],
   "source": []
  },
  {
   "cell_type": "code",
   "execution_count": 5,
   "metadata": {
    "collapsed": false
   },
   "outputs": [
    {
     "ename": "AttributeError",
     "evalue": "'numpy.ndarray' object has no attribute 'components_'",
     "output_type": "error",
     "traceback": [
      "\u001b[0;31m---------------------------------------------------------------------------\u001b[0m",
      "\u001b[0;31mAttributeError\u001b[0m                            Traceback (most recent call last)",
      "\u001b[0;32m<ipython-input-5-ad2fc3e97415>\u001b[0m in \u001b[0;36m<module>\u001b[0;34m()\u001b[0m\n\u001b[0;32m----> 1\u001b[0;31m \u001b[0mxp_pca_all\u001b[0m\u001b[0;34m.\u001b[0m\u001b[0mcomponents_\u001b[0m\u001b[0;34m.\u001b[0m\u001b[0mshape\u001b[0m\u001b[0;34m\u001b[0m\u001b[0m\n\u001b[0m",
      "\u001b[0;31mAttributeError\u001b[0m: 'numpy.ndarray' object has no attribute 'components_'"
     ]
    }
   ],
   "source": [
    "xp_pca_all.components_.shape"
   ]
  },
  {
   "cell_type": "code",
   "execution_count": 55,
   "metadata": {
    "collapsed": true
   },
   "outputs": [],
   "source": [
    "xp_lasso = linear_model.LassoCV().fit(xp_pca_all2, pltdf.axis_location)"
   ]
  },
  {
   "cell_type": "code",
   "execution_count": 39,
   "metadata": {
    "collapsed": false
   },
   "outputs": [
    {
     "data": {
      "image/png": "[encoded data removed]",
      "text/plain": [
       "<matplotlib.figure.Figure at 0x7f6f607bddd8>"
      ]
     },
     "metadata": {},
     "output_type": "display_data"
    }
   ],
   "source": [
    "plt.close()\n",
    "sns.distplot(xp_lasso.coef_.tolist()[:70],kde=False)\n",
    "plt.show()"
   ]
  },
  {
   "cell_type": "code",
   "execution_count": 33,
   "metadata": {
    "collapsed": false
   },
   "outputs": [
    {
     "data": {
      "text/plain": [
       "[(0, 0.010844379512232495),\n",
       " (1, 0.0),\n",
       " (2, -0.015616288617753682),\n",
       " (3, 0.022396083682050223),\n",
       " (4, -0.026031340987127366),\n",
       " (5, 0.0027288929960055095),\n",
       " (6, 0.057233156698585724),\n",
       " (7, -0.004425947963508982),\n",
       " (8, -0.023413371744325565),\n",
       " (9, 0.055400518283276405),\n",
       " (10, 0.0454141849005999),\n",
       " (11, -0.06699380741915256),\n",
       " (12, -0.06608307683913488),\n",
       " (13, 0.025052609416470042),\n",
       " (14, 0.08761596961421954),\n",
       " (15, -0.06101263842136564),\n",
       " (16, -0.108728743113422),\n",
       " (17, 0.10137217501175382),\n",
       " (18, 0.03764243097536075),\n",
       " (19, -0.040147190386962794),\n",
       " (20, -0.01015978152109423),\n",
       " (21, 0.0024774450696295035),\n",
       " (22, 0.0),\n",
       " (23, 0.06443423577252134),\n",
       " (24, 0.0),\n",
       " (25, -0.031531278348216445),\n",
       " (26, -0.0901101643041917),\n",
       " (27, 0.0),\n",
       " (28, 0.0),\n",
       " (29, -0.0),\n",
       " (30, 0.0),\n",
       " (31, 0.0),\n",
       " (32, -0.0),\n",
       " (33, 0.022768022053241025),\n",
       " (34, -0.0),\n",
       " (35, 0.0),\n",
       " (36, 0.0),\n",
       " (37, 0.015591647201619107),\n",
       " (38, 0.0),\n",
       " (39, -0.0),\n",
       " (40, 0.0),\n",
       " (41, 0.02452586896580873),\n",
       " (42, -0.058748835534708624),\n",
       " (43, 0.0),\n",
       " (44, 0.0),\n",
       " (45, -0.004974017125385172),\n",
       " (46, -0.0),\n",
       " (47, -0.0),\n",
       " (48, 0.0),\n",
       " (49, 0.0),\n",
       " (50, 0.006981438888518653),\n",
       " (51, 0.033190672404177474),\n",
       " (52, 0.0),\n",
       " (53, -0.0),\n",
       " (54, -0.0),\n",
       " (55, -0.0),\n",
       " (56, -0.0),\n",
       " (57, 0.08727267581461758),\n",
       " (58, 0.0),\n",
       " (59, -0.0),\n",
       " (60, 0.0021640740314117957),\n",
       " (61, 0.01592994106258337),\n",
       " (62, 0.0),\n",
       " (63, 0.0),\n",
       " (64, -0.0),\n",
       " (65, 0.0),\n",
       " (66, 0.0),\n",
       " (67, -0.0),\n",
       " (68, 0.0),\n",
       " (69, -0.0),\n",
       " (70, 0.0),\n",
       " (71, -0.0),\n",
       " (72, 0.0),\n",
       " (73, 0.0),\n",
       " (74, -0.0),\n",
       " (75, 0.0),\n",
       " (76, 0.0),\n",
       " (77, -0.0),\n",
       " (78, -0.0),\n",
       " (79, -0.0),\n",
       " (80, -0.0),\n",
       " (81, 0.0),\n",
       " (82, -0.004520040707540786),\n",
       " (83, 0.0),\n",
       " (84, -0.0),\n",
       " (85, 0.0),\n",
       " (86, -0.0),\n",
       " (87, 0.0),\n",
       " (88, -0.0),\n",
       " (89, -0.0),\n",
       " (90, 0.0),\n",
       " (91, -0.0),\n",
       " (92, 0.0),\n",
       " (93, 0.0),\n",
       " (94, -0.0),\n",
       " (95, -0.0),\n",
       " (96, 0.0),\n",
       " (97, 0.0),\n",
       " (98, 0.0),\n",
       " (99, -0.0),\n",
       " (100, 0.0),\n",
       " (101, -0.0),\n",
       " (102, 0.0),\n",
       " (103, 0.0),\n",
       " (104, 0.0),\n",
       " (105, 0.0),\n",
       " (106, 0.0),\n",
       " (107, 0.0),\n",
       " (108, 0.0),\n",
       " (109, -0.0),\n",
       " (110, -0.0),\n",
       " (111, -0.0),\n",
       " (112, 0.0),\n",
       " (113, 0.0),\n",
       " (114, 0.0),\n",
       " (115, 0.0),\n",
       " (116, -0.0),\n",
       " (117, 0.0),\n",
       " (118, 0.0),\n",
       " (119, -0.0),\n",
       " (120, -0.0),\n",
       " (121, 0.0),\n",
       " (122, 0.0),\n",
       " (123, -0.0)]"
      ]
     },
     "execution_count": 33,
     "metadata": {},
     "output_type": "execute_result"
    }
   ],
   "source": [
    "list(zip(range(len(xp_lasso.coef_.tolist())),xp_lasso.coef_.tolist()))"
   ]
  },
  {
   "cell_type": "code",
   "execution_count": null,
   "metadata": {
    "collapsed": true
   },
   "outputs": [],
   "source": []
  },
  {
   "cell_type": "code",
   "execution_count": 227,
   "metadata": {
    "collapsed": false
   },
   "outputs": [
    {
     "data": {
      "text/plain": [
       "[16]"
      ]
     },
     "execution_count": 227,
     "metadata": {},
     "output_type": "execute_result"
    }
   ],
   "source": [
    "[x for x in range(len(xp_lasso.coef_)) if abs(xp_lasso.coef_[x]) == max(abs(xp_lasso.coef_))]"
   ]
  },
  {
   "cell_type": "code",
   "execution_count": 56,
   "metadata": {
    "collapsed": false
   },
   "outputs": [
    {
     "data": {
      "text/plain": [
       "0.82115965240721012"
      ]
     },
     "execution_count": 56,
     "metadata": {},
     "output_type": "execute_result"
    }
   ],
   "source": [
    "xp_lasso.score(xp_pca_all2, pltdf.axis_location)"
   ]
  },
  {
   "cell_type": "code",
   "execution_count": 255,
   "metadata": {
    "collapsed": false
   },
   "outputs": [
    {
     "data": {
      "text/plain": [
       "35"
      ]
     },
     "execution_count": 255,
     "metadata": {},
     "output_type": "execute_result"
    }
   ],
   "source": [
    "len([x for x in xp_lasso.coef_ if x != 0])"
   ]
  },
  {
   "cell_type": "code",
   "execution_count": 258,
   "metadata": {
    "collapsed": false
   },
   "outputs": [
    {
     "data": {
      "image/png": "[encoded data removed]",
      "text/plain": [
       "<matplotlib.figure.Figure at 0x7f6b7a74f940>"
      ]
     },
     "metadata": {},
     "output_type": "display_data"
    }
   ],
   "source": [
    "plt.close()\n",
    "sns.regplot(xp_lasso.predict(xp_pca_all2), pltdf.axis_location)\n",
    "plt.show()"
   ]
  },
  {
   "cell_type": "code",
   "execution_count": 30,
   "metadata": {
    "collapsed": false
   },
   "outputs": [
    {
     "data": {
      "text/plain": [
       "(124, 58698)"
      ]
     },
     "execution_count": 30,
     "metadata": {},
     "output_type": "execute_result"
    }
   ],
   "source": [
    "xp.values.T.shape # raw data (Sample x Gene)"
   ]
  },
  {
   "cell_type": "code",
   "execution_count": 27,
   "metadata": {
    "collapsed": false
   },
   "outputs": [
    {
     "data": {
      "text/plain": [
       "(124, 58698)"
      ]
     },
     "execution_count": 27,
     "metadata": {},
     "output_type": "execute_result"
    }
   ],
   "source": [
    "xp_pca_mod.components_.shape # component weights (Component x weight)   P"
   ]
  },
  {
   "cell_type": "code",
   "execution_count": 28,
   "metadata": {
    "collapsed": false
   },
   "outputs": [
    {
     "data": {
      "text/plain": [
       "(124, 124)"
      ]
     },
     "execution_count": 28,
     "metadata": {},
     "output_type": "execute_result"
    }
   ],
   "source": [
    "xp_pca_all2.shape # transformed data (Sample x component)"
   ]
  },
  {
   "cell_type": "code",
   "execution_count": 31,
   "metadata": {
    "collapsed": false
   },
   "outputs": [
    {
     "data": {
      "text/plain": [
       "(124,)"
      ]
     },
     "execution_count": 31,
     "metadata": {},
     "output_type": "execute_result"
    }
   ],
   "source": [
    "xp_lasso.coef_.shape # regression-weight     A-hat"
   ]
  },
  {
   "cell_type": "code",
   "execution_count": 41,
   "metadata": {
    "collapsed": false
   },
   "outputs": [
    {
     "data": {
      "text/plain": [
       "(124,)"
      ]
     },
     "execution_count": 41,
     "metadata": {},
     "output_type": "execute_result"
    }
   ],
   "source": [
    "#ATTEMPT1\n",
    "jake_final_weights = np.dot(xp_pca_all2,xp_lasso.coef_)\n",
    "jake_final_weights.shape"
   ]
  },
  {
   "cell_type": "code",
   "execution_count": 36,
   "metadata": {
    "collapsed": false
   },
   "outputs": [
    {
     "data": {
      "text/plain": [
       "(58698,)"
      ]
     },
     "execution_count": 36,
     "metadata": {},
     "output_type": "execute_result"
    }
   ],
   "source": [
    "jake_final_vals = np.dot(xp.values,jake_final_weights)\n",
    "jake_final_vals.shape"
   ]
  },
  {
   "cell_type": "code",
   "execution_count": null,
   "metadata": {
    "collapsed": true
   },
   "outputs": [],
   "source": []
  },
  {
   "cell_type": "code",
   "execution_count": null,
   "metadata": {
    "collapsed": true
   },
   "outputs": [],
   "source": [
    "#ATTEMPT2 (ALEX)"
   ]
  },
  {
   "cell_type": "code",
   "execution_count": 42,
   "metadata": {
    "collapsed": false
   },
   "outputs": [
    {
     "data": {
      "text/plain": [
       "(58698,)"
      ]
     },
     "execution_count": 42,
     "metadata": {},
     "output_type": "execute_result"
    }
   ],
   "source": [
    "alex_final_weights = np.dot(xp_pca_mod.components_.T,xp_lasso.coef_)\n",
    "alex_final_weights.shape"
   ]
  },
  {
   "cell_type": "code",
   "execution_count": 47,
   "metadata": {
    "collapsed": true
   },
   "outputs": [],
   "source": [
    "aslopes = pandas.Series(alex_final_weights)"
   ]
  },
  {
   "cell_type": "code",
   "execution_count": 191,
   "metadata": {
    "collapsed": false
   },
   "outputs": [
    {
     "data": {
      "image/png": "[encoded data removed]",
      "text/plain": [
       "<matplotlib.figure.Figure at 0x7f397f72df28>"
      ]
     },
     "metadata": {},
     "output_type": "display_data"
    }
   ],
   "source": [
    "plt.close()\n",
    "sns.distplot(aslopes)\n",
    "plt.show()"
   ]
  },
  {
   "cell_type": "code",
   "execution_count": 190,
   "metadata": {
    "collapsed": false
   },
   "outputs": [
    {
     "data": {
      "image/png": "[encoded data removed]",
      "text/plain": [
       "<matplotlib.figure.Figure at 0x7f397f7360b8>"
      ]
     },
     "metadata": {},
     "output_type": "display_data"
    }
   ],
   "source": [
    "plt.close()\n",
    "sns.distplot(aslopes,kde=False)\n",
    "plt.show()"
   ]
  },
  {
   "cell_type": "code",
   "execution_count": 53,
   "metadata": {
    "collapsed": false
   },
   "outputs": [
    {
     "data": {
      "text/plain": [
       "6582     0.013694\n",
       "51664    0.011138\n",
       "32888    0.010618\n",
       "32889    0.010161\n",
       "16389    0.009468\n",
       "dtype: float64"
      ]
     },
     "execution_count": 53,
     "metadata": {},
     "output_type": "execute_result"
    }
   ],
   "source": [
    "aslopes.sort_values(ascending=False).head()"
   ]
  },
  {
   "cell_type": "code",
   "execution_count": 61,
   "metadata": {
    "collapsed": false
   },
   "outputs": [
    {
     "data": {
      "text/plain": [
       "2935"
      ]
     },
     "execution_count": 61,
     "metadata": {},
     "output_type": "execute_result"
    }
   ],
   "source": [
    "round(len(aslopes)*0.05)"
   ]
  },
  {
   "cell_type": "code",
   "execution_count": 97,
   "metadata": {
    "collapsed": true
   },
   "outputs": [],
   "source": [
    "posterior = aslopes.sort_values(ascending=False)[:round(len(aslopes)*0.05)].index\n",
    "anterior = aslopes.sort_values(ascending=True)[:round(len(aslopes)*0.05)].index"
   ]
  },
  {
   "cell_type": "code",
   "execution_count": 189,
   "metadata": {
    "collapsed": false
   },
   "outputs": [
    {
     "data": {
      "text/plain": [
       "92"
      ]
     },
     "execution_count": 189,
     "metadata": {},
     "output_type": "execute_result"
    }
   ],
   "source": [
    "len(aslopes[aslopes>0.005])"
   ]
  },
  {
   "cell_type": "code",
   "execution_count": 65,
   "metadata": {
    "collapsed": true
   },
   "outputs": [],
   "source": [
    "gene_info = pandas.read_csv('/data1/users/jvogel/Allen_Human_Brain_Atlas/normalized_microarray_donor10021/Probes.csv')"
   ]
  },
  {
   "cell_type": "code",
   "execution_count": 77,
   "metadata": {
    "collapsed": true
   },
   "outputs": [],
   "source": [
    "jnk = gene_info.loc[posterior][['gene_id','gene_name']]"
   ]
  },
  {
   "cell_type": "code",
   "execution_count": 92,
   "metadata": {
    "collapsed": true
   },
   "outputs": [],
   "source": [
    "jnk.to_csv(os.path.join(wdir,'posterior_gene_ids.csv'),encoding='utf-8')\n",
    "jnk['gene_name'].to_csv(os.path.join(wdir,'posterior_gene_names.csv'),index=False)"
   ]
  },
  {
   "cell_type": "code",
   "execution_count": 98,
   "metadata": {
    "collapsed": true
   },
   "outputs": [],
   "source": [
    "jnk = gene_info.loc[anterior][['gene_id','gene_name']]\n",
    "jnk.to_csv(os.path.join(wdir,'anterior_gene_ids.csv'),encoding='utf-8')\n",
    "jnk['gene_name'].to_csv(os.path.join(wdir,'anterior_gene_names.csv'),index=False)"
   ]
  },
  {
   "cell_type": "code",
   "execution_count": 181,
   "metadata": {
    "collapsed": false
   },
   "outputs": [
    {
     "data": {
      "text/plain": [
       "['FUS', 'FUS', 'FUSIP1', 'FUSIP1', 'FUSIP1', 'FUSIP1', 'FUSIP1']"
      ]
     },
     "execution_count": 181,
     "metadata": {},
     "output_type": "execute_result"
    }
   ],
   "source": [
    "[x for x in gene_info['gene_symbol'] if 'FUS' in x]"
   ]
  },
  {
   "cell_type": "code",
   "execution_count": 183,
   "metadata": {
    "collapsed": false
   },
   "outputs": [
    {
     "data": {
      "text/plain": [
       "[1788, 1789, 10096, 10097, 10098, 10099, 10100]"
      ]
     },
     "execution_count": 183,
     "metadata": {},
     "output_type": "execute_result"
    }
   ],
   "source": [
    "[x for x in gene_info.index if 'FUS' in gene_info['gene_symbol'][x]]"
   ]
  },
  {
   "cell_type": "code",
   "execution_count": 117,
   "metadata": {
    "collapsed": true
   },
   "outputs": [],
   "source": [
    "f_srch = aslopes.sort_values(ascending=True).index"
   ]
  },
  {
   "cell_type": "code",
   "execution_count": 125,
   "metadata": {
    "collapsed": true
   },
   "outputs": [],
   "source": [
    "a_srch = aslopes.sort_values(ascending=False).index"
   ]
  },
  {
   "cell_type": "code",
   "execution_count": 185,
   "metadata": {
    "collapsed": false
   },
   "outputs": [
    {
     "data": {
      "text/plain": [
       "[38813]"
      ]
     },
     "execution_count": 185,
     "metadata": {},
     "output_type": "execute_result"
    }
   ],
   "source": [
    "[x for x in range(len(aslopes)) if f_srch[x] == 1789]"
   ]
  },
  {
   "cell_type": "code",
   "execution_count": 126,
   "metadata": {
    "collapsed": false
   },
   "outputs": [
    {
     "data": {
      "text/plain": [
       "[9478]"
      ]
     },
     "execution_count": 126,
     "metadata": {},
     "output_type": "execute_result"
    }
   ],
   "source": [
    "[x for x in range(len(aslopes)) if a_srch[x] == 51325]"
   ]
  },
  {
   "cell_type": "code",
   "execution_count": 89,
   "metadata": {
    "collapsed": false
   },
   "outputs": [
    {
     "data": {
      "text/plain": [
       "gene_id                                     60316\n",
       "gene_name    Ca++-dependent secretion activator 2\n",
       "Name: 31892, dtype: object"
      ]
     },
     "execution_count": 89,
     "metadata": {},
     "output_type": "execute_result"
    }
   ],
   "source": [
    "jnk.loc[jnk.index[2262]]"
   ]
  },
  {
   "cell_type": "code",
   "execution_count": 52,
   "metadata": {
    "collapsed": false
   },
   "outputs": [
    {
     "data": {
      "image/png": "[encoded data removed]",
      "text/plain": [
       "<matplotlib.figure.Figure at 0x7f3998ae4780>"
      ]
     },
     "metadata": {},
     "output_type": "display_data"
    }
   ],
   "source": [
    "plt.close()\n",
    "sns.distplot(jake_final_vals)\n",
    "plt.show()"
   ]
  },
  {
   "cell_type": "code",
   "execution_count": 198,
   "metadata": {
    "collapsed": true
   },
   "outputs": [],
   "source": [
    "# SANITY CHECK ANALYSIS\n",
    "p_chk = aslopes.sort_values(ascending=False)[:100].index\n",
    "a_chk = aslopes.sort_values(ascending=False)[-100:].index"
   ]
  },
  {
   "cell_type": "code",
   "execution_count": 206,
   "metadata": {
    "collapsed": true
   },
   "outputs": [],
   "source": [
    "# For each sample, get average expression for top 100 genes for both anterior and posterior direction (separately)\n",
    "pchk_vals = []\n",
    "for sample in range(xp.shape[-1]):\n",
    "    to_avg = []\n",
    "    for gene in p_chk:\n",
    "        to_avg.append(xp.values[gene,sample])\n",
    "    pchk_vals.append(np.mean(to_avg))\n",
    "\n",
    "achk_vals = []\n",
    "for sample in range(xp.shape[-1]):\n",
    "    to_avg = []\n",
    "    for gene in a_chk:\n",
    "        to_avg.append(xp.values[gene,sample])\n",
    "    achk_vals.append(np.mean(to_avg))"
   ]
  },
  {
   "cell_type": "code",
   "execution_count": 241,
   "metadata": {
    "collapsed": true
   },
   "outputs": [],
   "source": [
    "jnk = pandas.Series(xp_pca_mod.components_[17],index=range(len(xp_pca_mod.components_[17])))\n",
    "alex18 = jnk.sort_values()[-100:].index"
   ]
  },
  {
   "cell_type": "code",
   "execution_count": 243,
   "metadata": {
    "collapsed": true
   },
   "outputs": [],
   "source": [
    "a18_vals = []\n",
    "for sample in range(xp.shape[-1]):\n",
    "    to_avg = []\n",
    "    for gene in alex18:\n",
    "        to_avg.append(xp.values[gene,sample])\n",
    "    a18_vals.append(np.mean(to_avg))"
   ]
  },
  {
   "cell_type": "code",
   "execution_count": 220,
   "metadata": {
    "collapsed": false
   },
   "outputs": [
    {
     "data": {
      "text/plain": [
       "(124,)"
      ]
     },
     "execution_count": 220,
     "metadata": {},
     "output_type": "execute_result"
    }
   ],
   "source": [
    "pltdf.axis_location.shape"
   ]
  },
  {
   "cell_type": "code",
   "execution_count": null,
   "metadata": {
    "collapsed": true
   },
   "outputs": [],
   "source": [
    "pchk"
   ]
  },
  {
   "cell_type": "code",
   "execution_count": 248,
   "metadata": {
    "collapsed": false
   },
   "outputs": [
    {
     "data": {
      "image/png": "[encoded data removed]",
      "text/plain": [
       "<matplotlib.figure.Figure at 0x7f397b458278>"
      ]
     },
     "metadata": {},
     "output_type": "display_data"
    },
    {
     "data": {
      "text/plain": [
       "(0.69396773074438167, 4.0537001387915866e-19)"
      ]
     },
     "execution_count": 248,
     "metadata": {},
     "output_type": "execute_result"
    }
   ],
   "source": [
    "plt.close()\n",
    "sns.regplot(x=np.array(pchk_vals), y=pltdf.axis_location.astype(float), fit_reg=None)\n",
    "plt.xlabel('expression of posterior direction genes')\n",
    "plt.ylabel('location along hippocampus (posterior = higher)')\n",
    "plt.show()\n",
    "stats.pearsonr(pchk_vals,pltdf.axis_location)"
   ]
  },
  {
   "cell_type": "code",
   "execution_count": 247,
   "metadata": {
    "collapsed": false
   },
   "outputs": [
    {
     "data": {
      "image/png": "[encoded data removed]",
      "text/plain": [
       "<matplotlib.figure.Figure at 0x7f397b944080>"
      ]
     },
     "metadata": {},
     "output_type": "display_data"
    },
    {
     "data": {
      "text/plain": [
       "(-0.77547375911759553, 3.9946085744968867e-26)"
      ]
     },
     "execution_count": 247,
     "metadata": {},
     "output_type": "execute_result"
    }
   ],
   "source": [
    "plt.close()\n",
    "sns.regplot(x=np.array(achk_vals), y=pltdf.axis_location.astype(float),fit_reg=None)\n",
    "plt.xlabel('expression of anterior direction genes')\n",
    "plt.ylabel('location along hippocampus (posterior = higher)')\n",
    "plt.show()\n",
    "stats.pearsonr(achk_vals,pltdf.axis_location)"
   ]
  },
  {
   "cell_type": "code",
   "execution_count": 244,
   "metadata": {
    "collapsed": false
   },
   "outputs": [
    {
     "data": {
      "image/png": "[encoded data removed]",
      "text/plain": [
       "<matplotlib.figure.Figure at 0x7f397b944240>"
      ]
     },
     "metadata": {},
     "output_type": "display_data"
    },
    {
     "data": {
      "text/plain": [
       "(0.39753885809112216, 4.8344917226719465e-06)"
      ]
     },
     "execution_count": 244,
     "metadata": {},
     "output_type": "execute_result"
    }
   ],
   "source": [
    "plt.close()\n",
    "sns.regplot(x=np.array(a18_vals), y=pltdf.axis_location.astype(float))\n",
    "plt.xlabel('expression of component 11 (highest beta for post. dir.) genes')\n",
    "plt.ylabel('location along hippocampus (posterior = higher)')\n",
    "plt.show()\n",
    "stats.pearsonr(a18_vals,pltdf.axis_location)"
   ]
  },
  {
   "cell_type": "markdown",
   "metadata": {},
   "source": [
    "# TO DO\n",
    "* Run GSEA with the sorted gene list\n",
    "* Look at gene-gene covariance networks related to the expression profiles"
   ]
  },
  {
   "cell_type": "code",
   "execution_count": 246,
   "metadata": {
    "collapsed": false
   },
   "outputs": [
    {
     "data": {
      "text/html": [
       "<div>\n",
       "<style>\n",
       "    .dataframe thead tr:only-child th {\n",
       "        text-align: right;\n",
       "    }\n",
       "\n",
       "    .dataframe thead th {\n",
       "        text-align: left;\n",
       "    }\n",
       "\n",
       "    .dataframe tbody tr th {\n",
       "        vertical-align: top;\n",
       "    }\n",
       "</style>\n",
       "<table border=\"1\" class=\"dataframe\">\n",
       "  <thead>\n",
       "    <tr style=\"text-align: right;\">\n",
       "      <th></th>\n",
       "      <th>probe_id</th>\n",
       "      <th>probe_name</th>\n",
       "      <th>gene_id</th>\n",
       "      <th>gene_symbol</th>\n",
       "      <th>gene_name</th>\n",
       "      <th>entrez_id</th>\n",
       "      <th>chromosome</th>\n",
       "    </tr>\n",
       "  </thead>\n",
       "  <tbody>\n",
       "    <tr>\n",
       "      <th>6582</th>\n",
       "      <td>1050553</td>\n",
       "      <td>A_23_P130333</td>\n",
       "      <td>7233</td>\n",
       "      <td>TTR</td>\n",
       "      <td>transthyretin</td>\n",
       "      <td>7276.0</td>\n",
       "      <td>18</td>\n",
       "    </tr>\n",
       "    <tr>\n",
       "      <th>51664</th>\n",
       "      <td>1064147</td>\n",
       "      <td>A_32_P11262</td>\n",
       "      <td>1007103</td>\n",
       "      <td>A_32_P11262</td>\n",
       "      <td>AGILENT probe A_32_P11262 (non-RefSeq)</td>\n",
       "      <td>NaN</td>\n",
       "      <td>NaN</td>\n",
       "    </tr>\n",
       "    <tr>\n",
       "      <th>32888</th>\n",
       "      <td>1023031</td>\n",
       "      <td>A_32_P174978</td>\n",
       "      <td>90297</td>\n",
       "      <td>NPNT</td>\n",
       "      <td>nephronectin</td>\n",
       "      <td>255743.0</td>\n",
       "      <td>4</td>\n",
       "    </tr>\n",
       "    <tr>\n",
       "      <th>32889</th>\n",
       "      <td>1023030</td>\n",
       "      <td>A_23_P253896</td>\n",
       "      <td>90297</td>\n",
       "      <td>NPNT</td>\n",
       "      <td>nephronectin</td>\n",
       "      <td>255743.0</td>\n",
       "      <td>4</td>\n",
       "    </tr>\n",
       "    <tr>\n",
       "      <th>16389</th>\n",
       "      <td>1039873</td>\n",
       "      <td>CUST_14024_PI416261804</td>\n",
       "      <td>41000</td>\n",
       "      <td>HHIP</td>\n",
       "      <td>hedgehog interacting protein</td>\n",
       "      <td>64399.0</td>\n",
       "      <td>4</td>\n",
       "    </tr>\n",
       "    <tr>\n",
       "      <th>16390</th>\n",
       "      <td>1039872</td>\n",
       "      <td>A_23_P167129</td>\n",
       "      <td>41000</td>\n",
       "      <td>HHIP</td>\n",
       "      <td>hedgehog interacting protein</td>\n",
       "      <td>64399.0</td>\n",
       "      <td>4</td>\n",
       "    </tr>\n",
       "    <tr>\n",
       "      <th>8892</th>\n",
       "      <td>1048608</td>\n",
       "      <td>A_32_P53524</td>\n",
       "      <td>9287</td>\n",
       "      <td>NTN1</td>\n",
       "      <td>netrin 1</td>\n",
       "      <td>9423.0</td>\n",
       "      <td>17</td>\n",
       "    </tr>\n",
       "    <tr>\n",
       "      <th>43820</th>\n",
       "      <td>1010982</td>\n",
       "      <td>CUST_2919_PI416261804</td>\n",
       "      <td>165295</td>\n",
       "      <td>RP11-291L15.2</td>\n",
       "      <td>HHIP antisense RNA 1 (non-protein coding)</td>\n",
       "      <td>646576.0</td>\n",
       "      <td>4</td>\n",
       "    </tr>\n",
       "    <tr>\n",
       "      <th>8893</th>\n",
       "      <td>1048607</td>\n",
       "      <td>A_23_P15478</td>\n",
       "      <td>9287</td>\n",
       "      <td>NTN1</td>\n",
       "      <td>netrin 1</td>\n",
       "      <td>9423.0</td>\n",
       "      <td>17</td>\n",
       "    </tr>\n",
       "    <tr>\n",
       "      <th>15982</th>\n",
       "      <td>1041274</td>\n",
       "      <td>A_23_P318904</td>\n",
       "      <td>35536</td>\n",
       "      <td>SERTAD4</td>\n",
       "      <td>SERTA domain containing 4</td>\n",
       "      <td>56256.0</td>\n",
       "      <td>1</td>\n",
       "    </tr>\n",
       "    <tr>\n",
       "      <th>57136</th>\n",
       "      <td>1069644</td>\n",
       "      <td>A_24_P401842</td>\n",
       "      <td>1010906</td>\n",
       "      <td>A_24_P401842</td>\n",
       "      <td>AGILENT probe A_24_P401842 (non-RefSeq)</td>\n",
       "      <td>NaN</td>\n",
       "      <td>NaN</td>\n",
       "    </tr>\n",
       "    <tr>\n",
       "      <th>44164</th>\n",
       "      <td>1010582</td>\n",
       "      <td>A_23_P145644</td>\n",
       "      <td>1632</td>\n",
       "      <td>DDC</td>\n",
       "      <td>dopa decarboxylase (aromatic L-amino acid deca...</td>\n",
       "      <td>1644.0</td>\n",
       "      <td>7</td>\n",
       "    </tr>\n",
       "    <tr>\n",
       "      <th>6581</th>\n",
       "      <td>1050554</td>\n",
       "      <td>CUST_14953_PI416261804</td>\n",
       "      <td>7233</td>\n",
       "      <td>TTR</td>\n",
       "      <td>transthyretin</td>\n",
       "      <td>7276.0</td>\n",
       "      <td>18</td>\n",
       "    </tr>\n",
       "    <tr>\n",
       "      <th>14183</th>\n",
       "      <td>1042684</td>\n",
       "      <td>A_32_P12232</td>\n",
       "      <td>34085</td>\n",
       "      <td>BNC2</td>\n",
       "      <td>basonuclin 2</td>\n",
       "      <td>54796.0</td>\n",
       "      <td>9</td>\n",
       "    </tr>\n",
       "    <tr>\n",
       "      <th>2864</th>\n",
       "      <td>1054747</td>\n",
       "      <td>A_23_P16252</td>\n",
       "      <td>3791</td>\n",
       "      <td>KLK1</td>\n",
       "      <td>kallikrein 1</td>\n",
       "      <td>3816.0</td>\n",
       "      <td>19</td>\n",
       "    </tr>\n",
       "    <tr>\n",
       "      <th>43592</th>\n",
       "      <td>1010774</td>\n",
       "      <td>CUST_1011_PI417557136</td>\n",
       "      <td>1632</td>\n",
       "      <td>DDC</td>\n",
       "      <td>dopa decarboxylase (aromatic L-amino acid deca...</td>\n",
       "      <td>1644.0</td>\n",
       "      <td>7</td>\n",
       "    </tr>\n",
       "    <tr>\n",
       "      <th>30221</th>\n",
       "      <td>1025477</td>\n",
       "      <td>A_23_P34700</td>\n",
       "      <td>7096</td>\n",
       "      <td>TNNT2</td>\n",
       "      <td>troponin T type 2 (cardiac)</td>\n",
       "      <td>7139.0</td>\n",
       "      <td>1</td>\n",
       "    </tr>\n",
       "    <tr>\n",
       "      <th>43260</th>\n",
       "      <td>1011160</td>\n",
       "      <td>CUST_1009_PI417557136</td>\n",
       "      <td>1632</td>\n",
       "      <td>DDC</td>\n",
       "      <td>dopa decarboxylase (aromatic L-amino acid deca...</td>\n",
       "      <td>1644.0</td>\n",
       "      <td>7</td>\n",
       "    </tr>\n",
       "    <tr>\n",
       "      <th>47036</th>\n",
       "      <td>1058209</td>\n",
       "      <td>A_23_P90888</td>\n",
       "      <td>1126</td>\n",
       "      <td>CHRNA1</td>\n",
       "      <td>cholinergic receptor, nicotinic, alpha 1 (muscle)</td>\n",
       "      <td>1134.0</td>\n",
       "      <td>2</td>\n",
       "    </tr>\n",
       "    <tr>\n",
       "      <th>45127</th>\n",
       "      <td>1012029</td>\n",
       "      <td>CUST_16986_PI416261804</td>\n",
       "      <td>1632</td>\n",
       "      <td>DDC</td>\n",
       "      <td>dopa decarboxylase (aromatic L-amino acid deca...</td>\n",
       "      <td>1644.0</td>\n",
       "      <td>7</td>\n",
       "    </tr>\n",
       "    <tr>\n",
       "      <th>17633</th>\n",
       "      <td>1038748</td>\n",
       "      <td>A_32_P224345</td>\n",
       "      <td>55779</td>\n",
       "      <td>GRHL2</td>\n",
       "      <td>grainyhead-like 2 (Drosophila)</td>\n",
       "      <td>79977.0</td>\n",
       "      <td>8</td>\n",
       "    </tr>\n",
       "    <tr>\n",
       "      <th>43717</th>\n",
       "      <td>1010523</td>\n",
       "      <td>CUST_1012_PI417557136</td>\n",
       "      <td>1632</td>\n",
       "      <td>DDC</td>\n",
       "      <td>dopa decarboxylase (aromatic L-amino acid deca...</td>\n",
       "      <td>1644.0</td>\n",
       "      <td>7</td>\n",
       "    </tr>\n",
       "    <tr>\n",
       "      <th>39409</th>\n",
       "      <td>1015986</td>\n",
       "      <td>A_32_P207169</td>\n",
       "      <td>165215</td>\n",
       "      <td>C1orf133</td>\n",
       "      <td>chromosome 1 open reading frame 133</td>\n",
       "      <td>574036.0</td>\n",
       "      <td>1</td>\n",
       "    </tr>\n",
       "    <tr>\n",
       "      <th>27030</th>\n",
       "      <td>1029814</td>\n",
       "      <td>A_24_P377499</td>\n",
       "      <td>25780</td>\n",
       "      <td>OSBPL3</td>\n",
       "      <td>oxysterol binding protein-like 3</td>\n",
       "      <td>26031.0</td>\n",
       "      <td>7</td>\n",
       "    </tr>\n",
       "    <tr>\n",
       "      <th>46463</th>\n",
       "      <td>1050668</td>\n",
       "      <td>A_23_P59261</td>\n",
       "      <td>7119</td>\n",
       "      <td>TPBG</td>\n",
       "      <td>trophoblast glycoprotein</td>\n",
       "      <td>7162.0</td>\n",
       "      <td>6</td>\n",
       "    </tr>\n",
       "    <tr>\n",
       "      <th>344</th>\n",
       "      <td>1058080</td>\n",
       "      <td>A_23_P10391</td>\n",
       "      <td>1281</td>\n",
       "      <td>COL5A2</td>\n",
       "      <td>collagen, type V, alpha 2</td>\n",
       "      <td>1290.0</td>\n",
       "      <td>2</td>\n",
       "    </tr>\n",
       "    <tr>\n",
       "      <th>26238</th>\n",
       "      <td>1030360</td>\n",
       "      <td>A_24_P24263</td>\n",
       "      <td>10464</td>\n",
       "      <td>PDLIM5</td>\n",
       "      <td>PDZ and LIM domain 5</td>\n",
       "      <td>10611.0</td>\n",
       "      <td>4</td>\n",
       "    </tr>\n",
       "    <tr>\n",
       "      <th>53030</th>\n",
       "      <td>1065513</td>\n",
       "      <td>A_23_P373100</td>\n",
       "      <td>81370</td>\n",
       "      <td>MGC24103</td>\n",
       "      <td>uncharacterized MGC24103</td>\n",
       "      <td>158295.0</td>\n",
       "      <td>9</td>\n",
       "    </tr>\n",
       "    <tr>\n",
       "      <th>8129</th>\n",
       "      <td>1048913</td>\n",
       "      <td>CUST_9944_PI416261804</td>\n",
       "      <td>9038</td>\n",
       "      <td>DGKI</td>\n",
       "      <td>diacylglycerol kinase, iota</td>\n",
       "      <td>9162.0</td>\n",
       "      <td>7</td>\n",
       "    </tr>\n",
       "    <tr>\n",
       "      <th>24515</th>\n",
       "      <td>1031929</td>\n",
       "      <td>A_23_P13866</td>\n",
       "      <td>109937</td>\n",
       "      <td>SYT10</td>\n",
       "      <td>synaptotagmin X</td>\n",
       "      <td>341359.0</td>\n",
       "      <td>12</td>\n",
       "    </tr>\n",
       "    <tr>\n",
       "      <th>...</th>\n",
       "      <td>...</td>\n",
       "      <td>...</td>\n",
       "      <td>...</td>\n",
       "      <td>...</td>\n",
       "      <td>...</td>\n",
       "      <td>...</td>\n",
       "      <td>...</td>\n",
       "    </tr>\n",
       "    <tr>\n",
       "      <th>1320</th>\n",
       "      <td>1057063</td>\n",
       "      <td>CUST_14444_PI416261804</td>\n",
       "      <td>2180</td>\n",
       "      <td>FAT1</td>\n",
       "      <td>FAT tumor suppressor homolog 1 (Drosophila)</td>\n",
       "      <td>2195.0</td>\n",
       "      <td>4</td>\n",
       "    </tr>\n",
       "    <tr>\n",
       "      <th>14129</th>\n",
       "      <td>1042739</td>\n",
       "      <td>A_23_P5460</td>\n",
       "      <td>34027</td>\n",
       "      <td>FEV</td>\n",
       "      <td>FEV (ETS oncogene family)</td>\n",
       "      <td>54738.0</td>\n",
       "      <td>2</td>\n",
       "    </tr>\n",
       "    <tr>\n",
       "      <th>42992</th>\n",
       "      <td>1011907</td>\n",
       "      <td>A_32_P305020</td>\n",
       "      <td>2769</td>\n",
       "      <td>GNG4</td>\n",
       "      <td>guanine nucleotide binding protein (G protein)...</td>\n",
       "      <td>2786.0</td>\n",
       "      <td>1</td>\n",
       "    </tr>\n",
       "    <tr>\n",
       "      <th>18974</th>\n",
       "      <td>1037360</td>\n",
       "      <td>A_24_P188071</td>\n",
       "      <td>58982</td>\n",
       "      <td>TUBA1C</td>\n",
       "      <td>tubulin, alpha 1c</td>\n",
       "      <td>84790.0</td>\n",
       "      <td>12</td>\n",
       "    </tr>\n",
       "    <tr>\n",
       "      <th>24702</th>\n",
       "      <td>1032675</td>\n",
       "      <td>A_32_P478023</td>\n",
       "      <td>92372</td>\n",
       "      <td>NPAS4</td>\n",
       "      <td>neuronal PAS domain protein 4</td>\n",
       "      <td>266743.0</td>\n",
       "      <td>11</td>\n",
       "    </tr>\n",
       "    <tr>\n",
       "      <th>50161</th>\n",
       "      <td>1062643</td>\n",
       "      <td>A_24_P535784</td>\n",
       "      <td>1006098</td>\n",
       "      <td>A_24_P535784</td>\n",
       "      <td>AGILENT probe A_24_P535784 (non-RefSeq)</td>\n",
       "      <td>NaN</td>\n",
       "      <td>NaN</td>\n",
       "    </tr>\n",
       "    <tr>\n",
       "      <th>29959</th>\n",
       "      <td>1025903</td>\n",
       "      <td>CUST_10502_PI416261804</td>\n",
       "      <td>9132</td>\n",
       "      <td>PDLIM7</td>\n",
       "      <td>PDZ and LIM domain 7 (enigma)</td>\n",
       "      <td>9260.0</td>\n",
       "      <td>5</td>\n",
       "    </tr>\n",
       "    <tr>\n",
       "      <th>47338</th>\n",
       "      <td>1059820</td>\n",
       "      <td>A_32_P129265</td>\n",
       "      <td>1004178</td>\n",
       "      <td>A_32_P129265</td>\n",
       "      <td>AGILENT probe A_32_P129265 (non-RefSeq)</td>\n",
       "      <td>NaN</td>\n",
       "      <td>NaN</td>\n",
       "    </tr>\n",
       "    <tr>\n",
       "      <th>22547</th>\n",
       "      <td>1033886</td>\n",
       "      <td>A_32_P125338</td>\n",
       "      <td>81617</td>\n",
       "      <td>FAM43B</td>\n",
       "      <td>family with sequence similarity 43, member B</td>\n",
       "      <td>163933.0</td>\n",
       "      <td>1</td>\n",
       "    </tr>\n",
       "    <tr>\n",
       "      <th>17388</th>\n",
       "      <td>1040635</td>\n",
       "      <td>A_23_P358709</td>\n",
       "      <td>36764</td>\n",
       "      <td>PDCD6</td>\n",
       "      <td>aryl-hydrocarbon receptor repressor</td>\n",
       "      <td>57491.0</td>\n",
       "      <td>5</td>\n",
       "    </tr>\n",
       "    <tr>\n",
       "      <th>31581</th>\n",
       "      <td>1023997</td>\n",
       "      <td>A_23_P67271</td>\n",
       "      <td>5553</td>\n",
       "      <td>PKN1</td>\n",
       "      <td>protein kinase N1</td>\n",
       "      <td>5585.0</td>\n",
       "      <td>19</td>\n",
       "    </tr>\n",
       "    <tr>\n",
       "      <th>2455</th>\n",
       "      <td>1055278</td>\n",
       "      <td>CUST_1853_PI417557136</td>\n",
       "      <td>3338</td>\n",
       "      <td>HTR2C</td>\n",
       "      <td>5-hydroxytryptamine (serotonin) receptor 2C, G...</td>\n",
       "      <td>3358.0</td>\n",
       "      <td>X</td>\n",
       "    </tr>\n",
       "    <tr>\n",
       "      <th>23898</th>\n",
       "      <td>1032808</td>\n",
       "      <td>A_23_P127793</td>\n",
       "      <td>90347</td>\n",
       "      <td>EML3</td>\n",
       "      <td>echinoderm microtubule associated protein like 3</td>\n",
       "      <td>256364.0</td>\n",
       "      <td>11</td>\n",
       "    </tr>\n",
       "    <tr>\n",
       "      <th>12941</th>\n",
       "      <td>1043787</td>\n",
       "      <td>A_23_P374844</td>\n",
       "      <td>30565</td>\n",
       "      <td>GAL</td>\n",
       "      <td>galanin prepropeptide</td>\n",
       "      <td>51083.0</td>\n",
       "      <td>11</td>\n",
       "    </tr>\n",
       "    <tr>\n",
       "      <th>17115</th>\n",
       "      <td>1039294</td>\n",
       "      <td>A_23_P23443</td>\n",
       "      <td>55019</td>\n",
       "      <td>EFHD2</td>\n",
       "      <td>EF-hand domain family, member D2</td>\n",
       "      <td>79180.0</td>\n",
       "      <td>1</td>\n",
       "    </tr>\n",
       "    <tr>\n",
       "      <th>15902</th>\n",
       "      <td>1041354</td>\n",
       "      <td>CUST_1383_PI416261804</td>\n",
       "      <td>35399</td>\n",
       "      <td>PCDHGA1</td>\n",
       "      <td>protocadherin gamma subfamily A, 1</td>\n",
       "      <td>56114.0</td>\n",
       "      <td>5</td>\n",
       "    </tr>\n",
       "    <tr>\n",
       "      <th>29412</th>\n",
       "      <td>1026574</td>\n",
       "      <td>A_24_P413126</td>\n",
       "      <td>36216</td>\n",
       "      <td>PMEPA1</td>\n",
       "      <td>prostate transmembrane protein, androgen induc...</td>\n",
       "      <td>56937.0</td>\n",
       "      <td>20</td>\n",
       "    </tr>\n",
       "    <tr>\n",
       "      <th>44201</th>\n",
       "      <td>1058843</td>\n",
       "      <td>A_24_P919850</td>\n",
       "      <td>620</td>\n",
       "      <td>BDKRB1</td>\n",
       "      <td>bradykinin receptor B1</td>\n",
       "      <td>623.0</td>\n",
       "      <td>14</td>\n",
       "    </tr>\n",
       "    <tr>\n",
       "      <th>16380</th>\n",
       "      <td>1039882</td>\n",
       "      <td>A_24_P40626</td>\n",
       "      <td>40989</td>\n",
       "      <td>GREM2</td>\n",
       "      <td>gremlin 2</td>\n",
       "      <td>64388.0</td>\n",
       "      <td>1</td>\n",
       "    </tr>\n",
       "    <tr>\n",
       "      <th>17772</th>\n",
       "      <td>1038515</td>\n",
       "      <td>A_23_P102117</td>\n",
       "      <td>56127</td>\n",
       "      <td>WNT10A</td>\n",
       "      <td>wingless-type MMTV integration site family, me...</td>\n",
       "      <td>80326.0</td>\n",
       "      <td>2</td>\n",
       "    </tr>\n",
       "    <tr>\n",
       "      <th>2504</th>\n",
       "      <td>1055725</td>\n",
       "      <td>A_23_P117662</td>\n",
       "      <td>3050</td>\n",
       "      <td>HDC</td>\n",
       "      <td>histidine decarboxylase</td>\n",
       "      <td>3067.0</td>\n",
       "      <td>15</td>\n",
       "    </tr>\n",
       "    <tr>\n",
       "      <th>17114</th>\n",
       "      <td>1039295</td>\n",
       "      <td>A_24_P251053</td>\n",
       "      <td>55019</td>\n",
       "      <td>EFHD2</td>\n",
       "      <td>EF-hand domain family, member D2</td>\n",
       "      <td>79180.0</td>\n",
       "      <td>1</td>\n",
       "    </tr>\n",
       "    <tr>\n",
       "      <th>23780</th>\n",
       "      <td>1033264</td>\n",
       "      <td>A_23_P430718</td>\n",
       "      <td>85590</td>\n",
       "      <td>SPATA19</td>\n",
       "      <td>spermatogenesis associated 19</td>\n",
       "      <td>219938.0</td>\n",
       "      <td>11</td>\n",
       "    </tr>\n",
       "    <tr>\n",
       "      <th>53308</th>\n",
       "      <td>1065791</td>\n",
       "      <td>A_24_P932479</td>\n",
       "      <td>1008202</td>\n",
       "      <td>A_24_P932479</td>\n",
       "      <td>AGILENT probe A_24_P932479 (non-RefSeq)</td>\n",
       "      <td>NaN</td>\n",
       "      <td>NaN</td>\n",
       "    </tr>\n",
       "    <tr>\n",
       "      <th>8964</th>\n",
       "      <td>1048536</td>\n",
       "      <td>A_23_P66988</td>\n",
       "      <td>9340</td>\n",
       "      <td>ONECUT2</td>\n",
       "      <td>one cut homeobox 2</td>\n",
       "      <td>9480.0</td>\n",
       "      <td>18</td>\n",
       "    </tr>\n",
       "    <tr>\n",
       "      <th>33951</th>\n",
       "      <td>1021286</td>\n",
       "      <td>A_23_P215883</td>\n",
       "      <td>58204</td>\n",
       "      <td>NCALD</td>\n",
       "      <td>neurocalcin delta</td>\n",
       "      <td>83988.0</td>\n",
       "      <td>8</td>\n",
       "    </tr>\n",
       "    <tr>\n",
       "      <th>47638</th>\n",
       "      <td>1060120</td>\n",
       "      <td>A_32_P218143</td>\n",
       "      <td>1004406</td>\n",
       "      <td>A_32_P170997</td>\n",
       "      <td>AGILENT probe A_32_P170997 (non-RefSeq)</td>\n",
       "      <td>NaN</td>\n",
       "      <td>NaN</td>\n",
       "    </tr>\n",
       "    <tr>\n",
       "      <th>30442</th>\n",
       "      <td>1025256</td>\n",
       "      <td>A_23_P134295</td>\n",
       "      <td>4495</td>\n",
       "      <td>NUDT1</td>\n",
       "      <td>nudix (nucleoside diphosphate linked moiety X)...</td>\n",
       "      <td>4521.0</td>\n",
       "      <td>7</td>\n",
       "    </tr>\n",
       "    <tr>\n",
       "      <th>27029</th>\n",
       "      <td>1029815</td>\n",
       "      <td>A_23_P215525</td>\n",
       "      <td>25780</td>\n",
       "      <td>OSBPL3</td>\n",
       "      <td>oxysterol binding protein-like 3</td>\n",
       "      <td>26031.0</td>\n",
       "      <td>7</td>\n",
       "    </tr>\n",
       "    <tr>\n",
       "      <th>2461</th>\n",
       "      <td>1055272</td>\n",
       "      <td>CUST_1858_PI417557136</td>\n",
       "      <td>3338</td>\n",
       "      <td>HTR2C</td>\n",
       "      <td>5-hydroxytryptamine (serotonin) receptor 2C, G...</td>\n",
       "      <td>3358.0</td>\n",
       "      <td>X</td>\n",
       "    </tr>\n",
       "  </tbody>\n",
       "</table>\n",
       "<p>100 rows × 7 columns</p>\n",
       "</div>"
      ],
      "text/plain": [
       "       probe_id              probe_name  gene_id    gene_symbol  \\\n",
       "6582    1050553            A_23_P130333     7233            TTR   \n",
       "51664   1064147             A_32_P11262  1007103    A_32_P11262   \n",
       "32888   1023031            A_32_P174978    90297           NPNT   \n",
       "32889   1023030            A_23_P253896    90297           NPNT   \n",
       "16389   1039873  CUST_14024_PI416261804    41000           HHIP   \n",
       "16390   1039872            A_23_P167129    41000           HHIP   \n",
       "8892    1048608             A_32_P53524     9287           NTN1   \n",
       "43820   1010982   CUST_2919_PI416261804   165295  RP11-291L15.2   \n",
       "8893    1048607             A_23_P15478     9287           NTN1   \n",
       "15982   1041274            A_23_P318904    35536        SERTAD4   \n",
       "57136   1069644            A_24_P401842  1010906   A_24_P401842   \n",
       "44164   1010582            A_23_P145644     1632            DDC   \n",
       "6581    1050554  CUST_14953_PI416261804     7233            TTR   \n",
       "14183   1042684             A_32_P12232    34085           BNC2   \n",
       "2864    1054747             A_23_P16252     3791           KLK1   \n",
       "43592   1010774   CUST_1011_PI417557136     1632            DDC   \n",
       "30221   1025477             A_23_P34700     7096          TNNT2   \n",
       "43260   1011160   CUST_1009_PI417557136     1632            DDC   \n",
       "47036   1058209             A_23_P90888     1126         CHRNA1   \n",
       "45127   1012029  CUST_16986_PI416261804     1632            DDC   \n",
       "17633   1038748            A_32_P224345    55779          GRHL2   \n",
       "43717   1010523   CUST_1012_PI417557136     1632            DDC   \n",
       "39409   1015986            A_32_P207169   165215       C1orf133   \n",
       "27030   1029814            A_24_P377499    25780         OSBPL3   \n",
       "46463   1050668             A_23_P59261     7119           TPBG   \n",
       "344     1058080             A_23_P10391     1281         COL5A2   \n",
       "26238   1030360             A_24_P24263    10464         PDLIM5   \n",
       "53030   1065513            A_23_P373100    81370       MGC24103   \n",
       "8129    1048913   CUST_9944_PI416261804     9038           DGKI   \n",
       "24515   1031929             A_23_P13866   109937          SYT10   \n",
       "...         ...                     ...      ...            ...   \n",
       "1320    1057063  CUST_14444_PI416261804     2180           FAT1   \n",
       "14129   1042739              A_23_P5460    34027            FEV   \n",
       "42992   1011907            A_32_P305020     2769           GNG4   \n",
       "18974   1037360            A_24_P188071    58982         TUBA1C   \n",
       "24702   1032675            A_32_P478023    92372          NPAS4   \n",
       "50161   1062643            A_24_P535784  1006098   A_24_P535784   \n",
       "29959   1025903  CUST_10502_PI416261804     9132         PDLIM7   \n",
       "47338   1059820            A_32_P129265  1004178   A_32_P129265   \n",
       "22547   1033886            A_32_P125338    81617         FAM43B   \n",
       "17388   1040635            A_23_P358709    36764          PDCD6   \n",
       "31581   1023997             A_23_P67271     5553           PKN1   \n",
       "2455    1055278   CUST_1853_PI417557136     3338          HTR2C   \n",
       "23898   1032808            A_23_P127793    90347           EML3   \n",
       "12941   1043787            A_23_P374844    30565            GAL   \n",
       "17115   1039294             A_23_P23443    55019          EFHD2   \n",
       "15902   1041354   CUST_1383_PI416261804    35399        PCDHGA1   \n",
       "29412   1026574            A_24_P413126    36216         PMEPA1   \n",
       "44201   1058843            A_24_P919850      620         BDKRB1   \n",
       "16380   1039882             A_24_P40626    40989          GREM2   \n",
       "17772   1038515            A_23_P102117    56127         WNT10A   \n",
       "2504    1055725            A_23_P117662     3050            HDC   \n",
       "17114   1039295            A_24_P251053    55019          EFHD2   \n",
       "23780   1033264            A_23_P430718    85590        SPATA19   \n",
       "53308   1065791            A_24_P932479  1008202   A_24_P932479   \n",
       "8964    1048536             A_23_P66988     9340        ONECUT2   \n",
       "33951   1021286            A_23_P215883    58204          NCALD   \n",
       "47638   1060120            A_32_P218143  1004406   A_32_P170997   \n",
       "30442   1025256            A_23_P134295     4495          NUDT1   \n",
       "27029   1029815            A_23_P215525    25780         OSBPL3   \n",
       "2461    1055272   CUST_1858_PI417557136     3338          HTR2C   \n",
       "\n",
       "                                               gene_name  entrez_id chromosome  \n",
       "6582                                       transthyretin     7276.0         18  \n",
       "51664             AGILENT probe A_32_P11262 (non-RefSeq)        NaN        NaN  \n",
       "32888                                       nephronectin   255743.0          4  \n",
       "32889                                       nephronectin   255743.0          4  \n",
       "16389                       hedgehog interacting protein    64399.0          4  \n",
       "16390                       hedgehog interacting protein    64399.0          4  \n",
       "8892                                            netrin 1     9423.0         17  \n",
       "43820          HHIP antisense RNA 1 (non-protein coding)   646576.0          4  \n",
       "8893                                            netrin 1     9423.0         17  \n",
       "15982                          SERTA domain containing 4    56256.0          1  \n",
       "57136            AGILENT probe A_24_P401842 (non-RefSeq)        NaN        NaN  \n",
       "44164  dopa decarboxylase (aromatic L-amino acid deca...     1644.0          7  \n",
       "6581                                       transthyretin     7276.0         18  \n",
       "14183                                       basonuclin 2    54796.0          9  \n",
       "2864                                        kallikrein 1     3816.0         19  \n",
       "43592  dopa decarboxylase (aromatic L-amino acid deca...     1644.0          7  \n",
       "30221                        troponin T type 2 (cardiac)     7139.0          1  \n",
       "43260  dopa decarboxylase (aromatic L-amino acid deca...     1644.0          7  \n",
       "47036  cholinergic receptor, nicotinic, alpha 1 (muscle)     1134.0          2  \n",
       "45127  dopa decarboxylase (aromatic L-amino acid deca...     1644.0          7  \n",
       "17633                     grainyhead-like 2 (Drosophila)    79977.0          8  \n",
       "43717  dopa decarboxylase (aromatic L-amino acid deca...     1644.0          7  \n",
       "39409                chromosome 1 open reading frame 133   574036.0          1  \n",
       "27030                   oxysterol binding protein-like 3    26031.0          7  \n",
       "46463                           trophoblast glycoprotein     7162.0          6  \n",
       "344                            collagen, type V, alpha 2     1290.0          2  \n",
       "26238                               PDZ and LIM domain 5    10611.0          4  \n",
       "53030                           uncharacterized MGC24103   158295.0          9  \n",
       "8129                         diacylglycerol kinase, iota     9162.0          7  \n",
       "24515                                    synaptotagmin X   341359.0         12  \n",
       "...                                                  ...        ...        ...  \n",
       "1320         FAT tumor suppressor homolog 1 (Drosophila)     2195.0          4  \n",
       "14129                          FEV (ETS oncogene family)    54738.0          2  \n",
       "42992  guanine nucleotide binding protein (G protein)...     2786.0          1  \n",
       "18974                                  tubulin, alpha 1c    84790.0         12  \n",
       "24702                      neuronal PAS domain protein 4   266743.0         11  \n",
       "50161            AGILENT probe A_24_P535784 (non-RefSeq)        NaN        NaN  \n",
       "29959                      PDZ and LIM domain 7 (enigma)     9260.0          5  \n",
       "47338            AGILENT probe A_32_P129265 (non-RefSeq)        NaN        NaN  \n",
       "22547       family with sequence similarity 43, member B   163933.0          1  \n",
       "17388                aryl-hydrocarbon receptor repressor    57491.0          5  \n",
       "31581                                  protein kinase N1     5585.0         19  \n",
       "2455   5-hydroxytryptamine (serotonin) receptor 2C, G...     3358.0          X  \n",
       "23898   echinoderm microtubule associated protein like 3   256364.0         11  \n",
       "12941                              galanin prepropeptide    51083.0         11  \n",
       "17115                   EF-hand domain family, member D2    79180.0          1  \n",
       "15902                 protocadherin gamma subfamily A, 1    56114.0          5  \n",
       "29412  prostate transmembrane protein, androgen induc...    56937.0         20  \n",
       "44201                             bradykinin receptor B1      623.0         14  \n",
       "16380                                          gremlin 2    64388.0          1  \n",
       "17772  wingless-type MMTV integration site family, me...    80326.0          2  \n",
       "2504                             histidine decarboxylase     3067.0         15  \n",
       "17114                   EF-hand domain family, member D2    79180.0          1  \n",
       "23780                      spermatogenesis associated 19   219938.0         11  \n",
       "53308            AGILENT probe A_24_P932479 (non-RefSeq)        NaN        NaN  \n",
       "8964                                  one cut homeobox 2     9480.0         18  \n",
       "33951                                  neurocalcin delta    83988.0          8  \n",
       "47638            AGILENT probe A_32_P170997 (non-RefSeq)        NaN        NaN  \n",
       "30442  nudix (nucleoside diphosphate linked moiety X)...     4521.0          7  \n",
       "27029                   oxysterol binding protein-like 3    26031.0          7  \n",
       "2461   5-hydroxytryptamine (serotonin) receptor 2C, G...     3358.0          X  \n",
       "\n",
       "[100 rows x 7 columns]"
      ]
     },
     "execution_count": 246,
     "metadata": {},
     "output_type": "execute_result"
    }
   ],
   "source": [
    "gene_info.loc[p_chk]"
   ]
  },
  {
   "cell_type": "code",
   "execution_count": 245,
   "metadata": {
    "collapsed": false
   },
   "outputs": [
    {
     "data": {
      "text/plain": [
       "Int64Index([ 6582, 51664, 32888, 32889, 16389, 16390,  8892, 43820,  8893,\n",
       "            15982, 57136, 44164,  6581, 14183,  2864, 43592, 30221, 43260,\n",
       "            47036, 45127, 17633, 43717, 39409, 27030, 46463,   344, 26238,\n",
       "            53030,  8129, 24515, 42532, 16379, 14810, 48072, 16378, 57805,\n",
       "            22347, 14181, 56821, 38407, 26237, 26236, 36532, 24514, 29726,\n",
       "            57744, 30220, 47792,  4422, 43501, 43831,  5008, 22348,  2451,\n",
       "            53093,   203, 44200,  5824,  2438, 49118,  2436, 15383,  2439,\n",
       "             5009, 37558, 12942, 30441,  8056, 15981,   426,  1320, 14129,\n",
       "            42992, 18974, 24702, 50161, 29959, 47338, 22547, 17388, 31581,\n",
       "             2455, 23898, 12941, 17115, 15902, 29412, 44201, 16380, 17772,\n",
       "             2504, 17114, 23780, 53308,  8964, 33951, 47638, 30442, 27029,\n",
       "             2461],\n",
       "           dtype='int64')"
      ]
     },
     "execution_count": 245,
     "metadata": {},
     "output_type": "execute_result"
    }
   ],
   "source": [
    "p_chk"
   ]
  },
  {
   "cell_type": "code",
   "execution_count": null,
   "metadata": {
    "collapsed": true
   },
   "outputs": [],
   "source": []
  },
  {
   "cell_type": "code",
   "execution_count": null,
   "metadata": {
    "collapsed": true
   },
   "outputs": [],
   "source": []
  },
  {
   "cell_type": "code",
   "execution_count": null,
   "metadata": {
    "collapsed": true
   },
   "outputs": [],
   "source": []
  },
  {
   "cell_type": "code",
   "execution_count": 102,
   "metadata": {
    "collapsed": true
   },
   "outputs": [],
   "source": [
    "from sklearn.model_selection import train_test_split"
   ]
  },
  {
   "cell_type": "code",
   "execution_count": 77,
   "metadata": {
    "collapsed": true
   },
   "outputs": [],
   "source": [
    "train_test_split?"
   ]
  },
  {
   "cell_type": "code",
   "execution_count": 103,
   "metadata": {
    "collapsed": true
   },
   "outputs": [],
   "source": [
    "tr, te = train_test_split(pandas.DataFrame(xp_pca_all2),test_size=0.3,stratify=df['sub'])"
   ]
  },
  {
   "cell_type": "code",
   "execution_count": 104,
   "metadata": {
    "collapsed": false
   },
   "outputs": [
    {
     "data": {
      "text/plain": [
       "0.50890686740275992"
      ]
     },
     "execution_count": 104,
     "metadata": {},
     "output_type": "execute_result"
    }
   ],
   "source": [
    "jnk = linear_model.LassoCV().fit(tr, pltdf.loc[tr.index,'axis_location'])\n",
    "jnk.score(te,pltdf.loc[te.index,'axis_location'])"
   ]
  },
  {
   "cell_type": "code",
   "execution_count": 106,
   "metadata": {
    "collapsed": false
   },
   "outputs": [
    {
     "data": {
      "image/png": "[encoded data removed]",
      "text/plain": [
       "<matplotlib.figure.Figure at 0x7f3998e2eb70>"
      ]
     },
     "metadata": {},
     "output_type": "display_data"
    }
   ],
   "source": [
    "plt.close()\n",
    "sns.regplot(pltdf.loc[te.index,'axis_location'],jnk.predict(te))\n",
    "plt.show()"
   ]
  },
  {
   "cell_type": "code",
   "execution_count": 21,
   "metadata": {
    "collapsed": true
   },
   "outputs": [],
   "source": [
    "mn_cntr_xp = (xp.values - xp.values.mean())"
   ]
  },
  {
   "cell_type": "code",
   "execution_count": 22,
   "metadata": {
    "collapsed": false
   },
   "outputs": [
    {
     "ename": "MemoryError",
     "evalue": "",
     "output_type": "error",
     "traceback": [
      "\u001b[0;31m---------------------------------------------------------------------------\u001b[0m",
      "\u001b[0;31mMemoryError\u001b[0m                               Traceback (most recent call last)",
      "\u001b[0;32m<ipython-input-22-6fb0ce6f790b>\u001b[0m in \u001b[0;36m<module>\u001b[0;34m()\u001b[0m\n\u001b[0;32m----> 1\u001b[0;31m \u001b[0mU\u001b[0m\u001b[0;34m,\u001b[0m \u001b[0mS\u001b[0m\u001b[0;34m,\u001b[0m \u001b[0mV\u001b[0m \u001b[0;34m=\u001b[0m \u001b[0mnp\u001b[0m\u001b[0;34m.\u001b[0m\u001b[0mlinalg\u001b[0m\u001b[0;34m.\u001b[0m\u001b[0msvd\u001b[0m\u001b[0;34m(\u001b[0m\u001b[0mmn_cntr_xp\u001b[0m\u001b[0;34m)\u001b[0m\u001b[0;34m\u001b[0m\u001b[0m\n\u001b[0m",
      "\u001b[0;32m~/anaconda2/envs/py3/lib/python3.6/site-packages/numpy/linalg/linalg.py\u001b[0m in \u001b[0;36msvd\u001b[0;34m(a, full_matrices, compute_uv)\u001b[0m\n\u001b[1;32m   1387\u001b[0m \u001b[0;34m\u001b[0m\u001b[0m\n\u001b[1;32m   1388\u001b[0m         \u001b[0msignature\u001b[0m \u001b[0;34m=\u001b[0m \u001b[0;34m'D->DdD'\u001b[0m \u001b[0;32mif\u001b[0m \u001b[0misComplexType\u001b[0m\u001b[0;34m(\u001b[0m\u001b[0mt\u001b[0m\u001b[0;34m)\u001b[0m \u001b[0;32melse\u001b[0m \u001b[0;34m'd->ddd'\u001b[0m\u001b[0;34m\u001b[0m\u001b[0m\n\u001b[0;32m-> 1389\u001b[0;31m         \u001b[0mu\u001b[0m\u001b[0;34m,\u001b[0m \u001b[0ms\u001b[0m\u001b[0;34m,\u001b[0m \u001b[0mvt\u001b[0m \u001b[0;34m=\u001b[0m \u001b[0mgufunc\u001b[0m\u001b[0;34m(\u001b[0m\u001b[0ma\u001b[0m\u001b[0;34m,\u001b[0m \u001b[0msignature\u001b[0m\u001b[0;34m=\u001b[0m\u001b[0msignature\u001b[0m\u001b[0;34m,\u001b[0m \u001b[0mextobj\u001b[0m\u001b[0;34m=\u001b[0m\u001b[0mextobj\u001b[0m\u001b[0;34m)\u001b[0m\u001b[0;34m\u001b[0m\u001b[0m\n\u001b[0m\u001b[1;32m   1390\u001b[0m         \u001b[0mu\u001b[0m \u001b[0;34m=\u001b[0m \u001b[0mu\u001b[0m\u001b[0;34m.\u001b[0m\u001b[0mastype\u001b[0m\u001b[0;34m(\u001b[0m\u001b[0mresult_t\u001b[0m\u001b[0;34m,\u001b[0m \u001b[0mcopy\u001b[0m\u001b[0;34m=\u001b[0m\u001b[0;32mFalse\u001b[0m\u001b[0;34m)\u001b[0m\u001b[0;34m\u001b[0m\u001b[0m\n\u001b[1;32m   1391\u001b[0m         \u001b[0ms\u001b[0m \u001b[0;34m=\u001b[0m \u001b[0ms\u001b[0m\u001b[0;34m.\u001b[0m\u001b[0mastype\u001b[0m\u001b[0;34m(\u001b[0m\u001b[0m_realType\u001b[0m\u001b[0;34m(\u001b[0m\u001b[0mresult_t\u001b[0m\u001b[0;34m)\u001b[0m\u001b[0;34m,\u001b[0m \u001b[0mcopy\u001b[0m\u001b[0;34m=\u001b[0m\u001b[0;32mFalse\u001b[0m\u001b[0;34m)\u001b[0m\u001b[0;34m\u001b[0m\u001b[0m\n",
      "\u001b[0;31mMemoryError\u001b[0m: "
     ]
    }
   ],
   "source": [
    "U, S, V = np.linalg.svd(mn_cntr_xp)"
   ]
  },
  {
   "cell_type": "code",
   "execution_count": 103,
   "metadata": {
    "collapsed": false
   },
   "outputs": [
    {
     "data": {
      "text/plain": [
       "(124,)"
      ]
     },
     "execution_count": 103,
     "metadata": {},
     "output_type": "execute_result"
    }
   ],
   "source": [
    "xp_lasso.coef_.shape"
   ]
  },
  {
   "cell_type": "code",
   "execution_count": 105,
   "metadata": {
    "collapsed": true
   },
   "outputs": [],
   "source": [
    "G = U*xp_lasso.coef_"
   ]
  },
  {
   "cell_type": "code",
   "execution_count": 107,
   "metadata": {
    "collapsed": false
   },
   "outputs": [
    {
     "data": {
      "text/plain": [
       "(124, 124)"
      ]
     },
     "execution_count": 107,
     "metadata": {},
     "output_type": "execute_result"
    }
   ],
   "source": [
    "G.shape"
   ]
  },
  {
   "cell_type": "code",
   "execution_count": 108,
   "metadata": {
    "collapsed": false
   },
   "outputs": [
    {
     "data": {
      "text/plain": [
       "(124, 124)"
      ]
     },
     "execution_count": 108,
     "metadata": {},
     "output_type": "execute_result"
    }
   ],
   "source": [
    "xp_pca_all2.shape"
   ]
  },
  {
   "cell_type": "code",
   "execution_count": 110,
   "metadata": {
    "collapsed": false
   },
   "outputs": [
    {
     "data": {
      "text/plain": [
       "(124, 124)"
      ]
     },
     "execution_count": 110,
     "metadata": {},
     "output_type": "execute_result"
    }
   ],
   "source": [
    "V.shape"
   ]
  },
  {
   "cell_type": "code",
   "execution_count": null,
   "metadata": {
    "collapsed": true
   },
   "outputs": [],
   "source": []
  },
  {
   "cell_type": "code",
   "execution_count": null,
   "metadata": {
    "collapsed": true
   },
   "outputs": [],
   "source": []
  },
  {
   "cell_type": "code",
   "execution_count": 248,
   "metadata": {
    "collapsed": true
   },
   "outputs": [],
   "source": [
    "pltdf.loc[:,'comp0'] = xp_pca_all2[:,0] \n",
    "pltdf.loc[:,'comp1'] = xp_pca_all2[:,1]\n",
    "pltdf.loc[:,'comp2'] = xp_pca_all2[:,2]"
   ]
  },
  {
   "cell_type": "code",
   "execution_count": 252,
   "metadata": {
    "collapsed": false
   },
   "outputs": [
    {
     "data": {
      "image/png": "[encoded data removed]",
      "text/plain": [
       "<matplotlib.figure.Figure at 0x7f6b7ae26ef0>"
      ]
     },
     "metadata": {},
     "output_type": "display_data"
    }
   ],
   "source": [
    "plt.close()\n",
    "sns.lmplot('comp0','comp1',hue='axis_location',data=pltdf, fit_reg=False)\n",
    "plt.show()"
   ]
  },
  {
   "cell_type": "code",
   "execution_count": 251,
   "metadata": {
    "collapsed": false
   },
   "outputs": [
    {
     "data": {
      "image/png": "[encoded data removed]",
      "text/plain": [
       "<matplotlib.figure.Figure at 0x7f6b79c654a8>"
      ]
     },
     "metadata": {},
     "output_type": "display_data"
    }
   ],
   "source": [
    "plt.close()\n",
    "sns.lmplot('comp0','comp2',hue='axis_location',data=pltdf, fit_reg=False)\n",
    "plt.show()"
   ]
  },
  {
   "cell_type": "code",
   "execution_count": 253,
   "metadata": {
    "collapsed": false
   },
   "outputs": [
    {
     "data": {
      "image/png": "[encoded data removed]",
      "text/plain": [
       "<matplotlib.figure.Figure at 0x7f6b7a92c7f0>"
      ]
     },
     "metadata": {},
     "output_type": "display_data"
    }
   ],
   "source": [
    "plt.close()\n",
    "sns.lmplot('comp1','comp2',hue='axis_location',data=pltdf, fit_reg=False)\n",
    "plt.show()"
   ]
  },
  {
   "cell_type": "code",
   "execution_count": null,
   "metadata": {
    "collapsed": true
   },
   "outputs": [],
   "source": []
  },
  {
   "cell_type": "code",
   "execution_count": 41,
   "metadata": {
    "collapsed": true
   },
   "outputs": [],
   "source": [
    "scl_xp_pca_all2 = pca_all.fit_transform(StandardScaler().fit_transform(xp.values.T))"
   ]
  },
  {
   "cell_type": "code",
   "execution_count": 42,
   "metadata": {
    "collapsed": true
   },
   "outputs": [],
   "source": [
    "scl_xp_lasso = linear_model.LassoCV().fit(scl_xp_pca_all2, pltdf.axis_location)"
   ]
  },
  {
   "cell_type": "code",
   "execution_count": 44,
   "metadata": {
    "collapsed": false
   },
   "outputs": [
    {
     "data": {
      "text/plain": [
       "-0.0040433306318741202"
      ]
     },
     "execution_count": 44,
     "metadata": {},
     "output_type": "execute_result"
    }
   ],
   "source": [
    "scl_xp_lasso.score(xp_pca_all2, pltdf.axis_location)"
   ]
  },
  {
   "cell_type": "code",
   "execution_count": null,
   "metadata": {
    "collapsed": true
   },
   "outputs": [],
   "source": [
    "fit_transform(xp.values.T)"
   ]
  },
  {
   "cell_type": "code",
   "execution_count": null,
   "metadata": {
    "collapsed": true
   },
   "outputs": [],
   "source": []
  },
  {
   "cell_type": "code",
   "execution_count": null,
   "metadata": {
    "collapsed": true
   },
   "outputs": [],
   "source": []
  },
  {
   "cell_type": "markdown",
   "metadata": {},
   "source": [
    "### Not adjusted for subject"
   ]
  },
  {
   "cell_type": "code",
   "execution_count": 49,
   "metadata": {
    "collapsed": true
   },
   "outputs": [],
   "source": [
    "oxp = pandas.read_csv('/data1/users/jvogel/Allen_Human_Brain_Atlas/whole_hippocampus_xp_allsubs.csv')"
   ]
  },
  {
   "cell_type": "code",
   "execution_count": 50,
   "metadata": {
    "collapsed": false
   },
   "outputs": [
    {
     "data": {
      "text/plain": [
       "(58692, 148)"
      ]
     },
     "execution_count": 50,
     "metadata": {},
     "output_type": "execute_result"
    }
   ],
   "source": [
    "oxp.shape"
   ]
  },
  {
   "cell_type": "code",
   "execution_count": 51,
   "metadata": {
    "collapsed": false
   },
   "outputs": [
    {
     "data": {
      "image/png": "[encoded data removed]",
      "text/plain": [
       "<matplotlib.figure.Figure at 0x7f6f5c0936a0>"
      ]
     },
     "metadata": {},
     "output_type": "display_data"
    }
   ],
   "source": [
    "plt.close()\n",
    "sns.distplot(oxp.values.T[:,6])\n",
    "plt.show()"
   ]
  },
  {
   "cell_type": "code",
   "execution_count": 48,
   "metadata": {
    "collapsed": false
   },
   "outputs": [
    {
     "data": {
      "image/png": "[encoded data removed]",
      "text/plain": [
       "<matplotlib.figure.Figure at 0x7f6f60624048>"
      ]
     },
     "metadata": {},
     "output_type": "display_data"
    }
   ],
   "source": [
    "plt.close()\n",
    "sns.distplot(xp.values.T[:,6])\n",
    "plt.show()"
   ]
  },
  {
   "cell_type": "code",
   "execution_count": 54,
   "metadata": {
    "collapsed": true
   },
   "outputs": [],
   "source": [
    "lxp = pandas.read_csv('/data1/users/jvogel/Allen_Human_Brain_Atlas/whole_hippocampus_xp_allsubs_cleaned_labeled.csv')"
   ]
  },
  {
   "cell_type": "code",
   "execution_count": 65,
   "metadata": {
    "collapsed": false
   },
   "outputs": [
    {
     "data": {
      "text/plain": [
       "9861     54\n",
       "10021    30\n",
       "15697    15\n",
       "14380    12\n",
       "15496     7\n",
       "12876     6\n",
       "Name: sub, dtype: int64"
      ]
     },
     "execution_count": 65,
     "metadata": {},
     "output_type": "execute_result"
    }
   ],
   "source": [
    "df['sub'].value_counts()"
   ]
  },
  {
   "cell_type": "code",
   "execution_count": null,
   "metadata": {
    "collapsed": true
   },
   "outputs": [],
   "source": [
    "def PCA_LR_pipeline(in_mtx, y, pca = PCA(random_state=123), \n",
    "                    clf = linear_model.LassoCV(random_state = 123), \n",
    "                    cv_strategy = None, cv = 10, test_gene_num = 100, illustrative = True,\n",
    "                   ):\n",
    "    \n",
    "    if type(in_mtx) == pandas.core.frame.DataFrame:\n",
    "        in_mtx = in_mtx.values\n",
    "    print('running PCA')\n",
    "    dat_pca = pca.fit(in_mtx)\n",
    "    print('transforming data')\n",
    "    pca_tfm = dat_pca.transform(in_mtx)\n",
    "    final_outputs = {'pca_object': dat_pca}\n",
    "    \n",
    "    if len(y) != pca_tfm.shape[-1]:\n",
    "        raise ValueError('length of y-axis of transformed item must match the length of y')\n",
    "    \n",
    "    print('performing model cross-validation')\n",
    "    if hasattr(cv_strategy, 'get_n_splits'):\n",
    "        folds = cv_strategy.get_n_splits(pca_tfm)\n",
    "        #scores = model_selection.cross_val_score(clf, pca_tfm, y=y, groups=folds, cv=cv)\n",
    "        predicted = model_selection.cross_val_predict(clf, pca_tfm, y=y, groups=folds, cv=cv)\n",
    "        score = stats.pearsonr(predicted, y)[0]**2\n",
    "    elif type(cv_strategy) != type(None):\n",
    "        #scores = model_selection.cross_val_score(clf, pca_tfm, y=y, cv=cv)\n",
    "        predicted = model_selection.cross_val_predict(clf, pca_tfm, y=y, cv=cv)\n",
    "        score = stats.pearsonr(predicted, y)[0]**2\n",
    "    else:\n",
    "        score = None\n",
    "    if type(score) != type(None):\n",
    "        if illustrative:\n",
    "            plt.close()\n",
    "            sns.regplot(predicted, y, fit_reg=False)\n",
    "            plt.xlabel('CV model predicted position along axis')\n",
    "            plt.ylabel('Actual position along axis')\n",
    "            plt.show()\n",
    "        print('model cv score: r2 = ',score)\n",
    "        final_outputs.update({'CV_scores': score})\n",
    "    else:\n",
    "        print('no valid cross-validation method specified')\n",
    "    \n",
    "    print('running final model')\n",
    "    mod = clf.fit(pca_tfm, y)\n",
    "    if not hasattr(mod,'coef_'):\n",
    "        raise IOError('right now, this pipeline can only accept clf objects with a coef_ attribute')\n",
    "    final_outputs.update({'final_model': mod})\n",
    "    scr = mod.score(pca_tfm, y)\n",
    "    if illustrative:\n",
    "        print('final model fit r2 = ',scr)\n",
    "    \n",
    "    f_betas = back_transform(dat_pca, mod)\n",
    "    final_outputs.update({'betas': f_betas})\n",
    "    \n",
    "    gene_selections = sanity_check(in_mtx, y, f_betas, test_gene_num, illustrative)\n",
    "    final_outputs.update({'gene_selections': gene_selections})\n",
    "    \n",
    "    return final_outputs\n",
    "    \n",
    "def back_transform(pca_obj, clf_obj):\n",
    "    return np.dot(pca_obj.components_.T,clf_obj.coef_)\n",
    "\n",
    "def sanity_check(in_mtx, y, betas, test_gene_num, illustrative):\n",
    "    \n",
    "    print('running sanity_check')\n",
    "    betas = pandas.Series(betas)   \n",
    "    p_chk = betas.sort_values(ascending=False)[:test_gene_num].index\n",
    "    a_chk = betas.sort_values(ascending=False)[-test_gene_num:].index\n",
    "    \n",
    "    pchk_vals = []\n",
    "    for sample in range(in_mtx.shape[0]):\n",
    "        to_avg = []\n",
    "        for gene in p_chk:\n",
    "            to_avg.append(in_mtx[sample,gene])\n",
    "        pchk_vals.append(np.mean(to_avg))\n",
    "\n",
    "    achk_vals = []\n",
    "    for sample in range(in_mtx.shape[0]):\n",
    "        to_avg = []\n",
    "        for gene in a_chk:\n",
    "            to_avg.append(in_mtx[sample,gene])\n",
    "        achk_vals.append(np.mean(to_avg))\n",
    "    \n",
    "    pr,pp = stats.pearsonr(pchk_vals, y)\n",
    "    if illustrative:\n",
    "        plt.close()\n",
    "        sns.regplot(x=np.array(pchk_vals), y=y, fit_reg=None)\n",
    "        plt.xlabel('expression of posterior direction genes')\n",
    "        plt.ylabel('location along hippocampus (posterior = higher)')\n",
    "        plt.show()\n",
    "    print('posterior %s genes vs. y:  r2 = %s, p = %s \\n\\n'%(test_gene_num, pr**2, pp))\n",
    "    \n",
    "    ar,ap = stats.pearsonr(achk_vals, y)\n",
    "    if illustrative:\n",
    "        plt.close()\n",
    "        sns.regplot(x=np.array(achk_vals), y=y, fit_reg=None)\n",
    "        plt.xlabel('expression of anterior direction genes')\n",
    "        plt.ylabel('location along hippocampus (posterior = higher)')\n",
    "        plt.show()\n",
    "    print('anterior %s genes vs. y:  r2 = %s, p = %s \\n\\n'%(test_gene_num, ar**2, ap))\n",
    "    \n",
    "    outputs = {'posterior_genes': p_chk, 'anterior_genes': a_chk}\n",
    "    \n",
    "    return outputs\n",
    "\n"
   ]
  },
  {
   "cell_type": "code",
   "execution_count": null,
   "metadata": {
    "collapsed": true
   },
   "outputs": [],
   "source": [
    "pcalr_out = PCA_LR_pipeline(xp.loc[xp.index[:-6]].values.T, \n",
    "                            df.hip_axis_loc_posterior_high, \n",
    "                            cv_strategy='score', illustrative=True)"
   ]
  },
  {
   "cell_type": "code",
   "execution_count": null,
   "metadata": {
    "collapsed": true
   },
   "outputs": [],
   "source": [
    "shtz = sorted(glob('normalized_microarray_donor*/MExp_all_genes_ctr_for_donor*'))\n",
    "holder = []\n",
    "for sht in shtz:\n",
    "    holder.append(pandas.read_csv(sht, index_col=0))\n",
    "bigdf = pandas.concat(holder,axis=1)\n",
    "for sht in shtz:\n",
    "    did = sht.split('donor')[1].split('/')[0]\n",
    "    jnk = pandas.read_csv(sht,index_col=0)\n",
    "    gcx_results.loc[gcx_results.index[cnt]:gcx_results.index[(cnt+(jnk.shape[-1]-1))],'donor'] = [did]*jnk.shape[-1]\n",
    "    gcx_results.loc[gcx_results.index[cnt]:gcx_results.index[(cnt+(jnk.shape[-1]-1))],'sample'] = jnk.columns\n",
    "    cnt += jnk.shape[-1]\n",
    "    print('finished',sht)"
   ]
  },
  {
   "cell_type": "code",
   "execution_count": null,
   "metadata": {
    "collapsed": true
   },
   "outputs": [],
   "source": [
    "refvec = refvec = pcalr_out['betas'] \n",
    "for samp in range(bigdf.shape[-1]):\n",
    "    svec = bigdf.values[:,samp]\n",
    "    r,p = stats.pearsonr(svec,refvec)\n",
    "    #print('sample %s, r = %s, dist = %s'%(samp, r, y.iloc[samp]))\n",
    "    gcx_vec.append(r)\n"
   ]
  }
 ],
 "metadata": {
  "anaconda-cloud": {},
  "kernelspec": {
   "display_name": "Python [default]",
   "language": "python",
   "name": "python3"
  },
  "language_info": {
   "codemirror_mode": {
    "name": "ipython",
    "version": 3
   },
   "file_extension": ".py",
   "mimetype": "text/x-python",
   "name": "python",
   "nbconvert_exporter": "python",
   "pygments_lexer": "ipython3",
   "version": "3.5.2"
  }
 },
 "nbformat": 4,
 "nbformat_minor": 2
}
