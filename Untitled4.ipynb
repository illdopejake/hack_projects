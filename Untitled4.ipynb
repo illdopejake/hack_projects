{
 "cells": [
  {
   "cell_type": "code",
   "execution_count": 40,
   "metadata": {
    "collapsed": true
   },
   "outputs": [],
   "source": [
    "import pandas\n",
    "import numpy as np\n",
    "import seaborn as sns\n",
    "import matplotlib.pyplot as plt"
   ]
  },
  {
   "cell_type": "code",
   "execution_count": 2,
   "metadata": {},
   "outputs": [
    {
     "name": "stderr",
     "output_type": "stream",
     "text": [
      "/home/users/jvogel/anaconda2/envs/py3/lib/python3.6/site-packages/IPython/core/interactiveshell.py:2698: DtypeWarning: Columns (1,3,4,5,7,1419,1420,1421,1422,1423,1424,1425,1426,1427,1428,1429,1430,1724,1727,1729,1780,1781,1800,1804,1855,2152,2211) have mixed types. Specify dtype option on import or set low_memory=False.\n",
      "  interactivity=interactivity, compiler=compiler, result=result)\n"
     ]
    }
   ],
   "source": [
    "jnk = pandas.read_csv('/home/users/jvogel/ace_mount/ace_home/PING_demographics.csv')"
   ]
  },
  {
   "cell_type": "code",
   "execution_count": 23,
   "metadata": {},
   "outputs": [],
   "source": [
    "ethnic = jnk[[x for x in jnk.columns if 'GAF' in x] + [x for x in jnk.columns if 'Prcnt' in x]+ ['SubjID']]"
   ]
  },
  {
   "cell_type": "code",
   "execution_count": 24,
   "metadata": {},
   "outputs": [
    {
     "data": {
      "text/plain": [
       "Index(['GAF_europe', 'GAF_africa', 'GAF_amerind', 'GAF_eastAsia',\n",
       "       'GAF_oceania', 'GAF_centralAsia', 'FDH_Pacific_Islander_Prcnt_Deri',\n",
       "       'FDH_Asian_Prcnt_Derived', 'FDH_African_American_Prcnt_Deri',\n",
       "       'FDH_American_Indian_Prcnt_Deriv', 'FDH_White_Prcnt_Derived', 'SubjID'],\n",
       "      dtype='object')"
      ]
     },
     "execution_count": 24,
     "metadata": {},
     "output_type": "execute_result"
    }
   ],
   "source": [
    "ethnic.columns"
   ]
  },
  {
   "cell_type": "code",
   "execution_count": 18,
   "metadata": {},
   "outputs": [
    {
     "data": {
      "image/png": "[encoded data removed]",
      "text/plain": [
       "<matplotlib.figure.Figure at 0x7f2121ab6278>"
      ]
     },
     "metadata": {},
     "output_type": "display_data"
    }
   ],
   "source": [
    "plt.close()\n",
    "sns.regplot(x='FDH_White_Prcnt_Derived', y='GAF_europe', data=ethnic)\n",
    "plt.show()"
   ]
  },
  {
   "cell_type": "code",
   "execution_count": 58,
   "metadata": {},
   "outputs": [
    {
     "data": {
      "text/plain": [
       "(1391, 6)"
      ]
     },
     "execution_count": 58,
     "metadata": {},
     "output_type": "execute_result"
    }
   ],
   "source": [
    "genez = pandas.read_csv('/home/users/jvogel/Science/genetix/PING/PING_660_final.fam', header=None,\n",
    "                        delim_whitespace=True)\n",
    "genez.shape"
   ]
  },
  {
   "cell_type": "code",
   "execution_count": 25,
   "metadata": {
    "collapsed": true
   },
   "outputs": [
    {
     "data": {
      "text/plain": [
       "0       P0007\n",
       "1       P0008\n",
       "2       P0009\n",
       "3       P0010\n",
       "4       P0011\n",
       "5       P0013\n",
       "6       P0014\n",
       "7       P0015\n",
       "8       P0016\n",
       "10      P0018\n",
       "11      P0019\n",
       "12      P0022\n",
       "13      P0028\n",
       "14      P0031\n",
       "15      P0032\n",
       "16      P0033\n",
       "17      P0034\n",
       "18      P0035\n",
       "19      P0036\n",
       "22      P0041\n",
       "23      P0048\n",
       "24      P0049\n",
       "27      P0053\n",
       "29      P0058\n",
       "30      P0061\n",
       "31      P0063\n",
       "38      P0071\n",
       "40      P0073\n",
       "41      P0074\n",
       "42      P0075\n",
       "        ...  \n",
       "1382    P1121\n",
       "1383    P1122\n",
       "1384    P1140\n",
       "1390    P1164\n",
       "1405    P1289\n",
       "1417    P1332\n",
       "1422    P1343\n",
       "1425    P1359\n",
       "1434    P1425\n",
       "1437    P1445\n",
       "1438    P1446\n",
       "1440    P1448\n",
       "1443    P1457\n",
       "1445    P1467\n",
       "1446    P1476\n",
       "1450    P1511\n",
       "1453    P1523\n",
       "1456    P1533\n",
       "1457    P1534\n",
       "1458    P1535\n",
       "1463    P1555\n",
       "1466    P1567\n",
       "1468    P1572\n",
       "1469    P1584\n",
       "1476    P1618\n",
       "1482    P1671\n",
       "1485    P1685\n",
       "1486    P1691\n",
       "1490    P1721\n",
       "1491    P1737\n",
       "Name: SubjID, Length: 571, dtype: object"
      ]
     },
     "execution_count": 25,
     "metadata": {},
     "output_type": "execute_result"
    }
   ],
   "source": [
    "ethnic[ethnic.GAF_europe>0.9]['SubjID']"
   ]
  },
  {
   "cell_type": "code",
   "execution_count": 88,
   "metadata": {},
   "outputs": [
    {
     "data": {
      "text/html": [
       "<div>\n",
       "<style>\n",
       "    .dataframe thead tr:only-child th {\n",
       "        text-align: right;\n",
       "    }\n",
       "\n",
       "    .dataframe thead th {\n",
       "        text-align: left;\n",
       "    }\n",
       "\n",
       "    .dataframe tbody tr th {\n",
       "        vertical-align: top;\n",
       "    }\n",
       "</style>\n",
       "<table border=\"1\" class=\"dataframe\">\n",
       "  <thead>\n",
       "    <tr style=\"text-align: right;\">\n",
       "      <th></th>\n",
       "      <th>subjid</th>\n",
       "      <th>t1</th>\n",
       "      <th>t2</th>\n",
       "      <th>dwi</th>\n",
       "      <th>fmri</th>\n",
       "    </tr>\n",
       "  </thead>\n",
       "  <tbody>\n",
       "    <tr>\n",
       "      <th>0</th>\n",
       "      <td>P0007</td>\n",
       "      <td>1</td>\n",
       "      <td>1</td>\n",
       "      <td>1</td>\n",
       "      <td>1</td>\n",
       "    </tr>\n",
       "    <tr>\n",
       "      <th>1</th>\n",
       "      <td>P0008</td>\n",
       "      <td>1</td>\n",
       "      <td>1</td>\n",
       "      <td>1</td>\n",
       "      <td>1</td>\n",
       "    </tr>\n",
       "    <tr>\n",
       "      <th>2</th>\n",
       "      <td>P0009</td>\n",
       "      <td>1</td>\n",
       "      <td>1</td>\n",
       "      <td>1</td>\n",
       "      <td>1</td>\n",
       "    </tr>\n",
       "    <tr>\n",
       "      <th>3</th>\n",
       "      <td>P0010</td>\n",
       "      <td>1</td>\n",
       "      <td>1</td>\n",
       "      <td>1</td>\n",
       "      <td>1</td>\n",
       "    </tr>\n",
       "    <tr>\n",
       "      <th>4</th>\n",
       "      <td>P0011</td>\n",
       "      <td>1</td>\n",
       "      <td>1</td>\n",
       "      <td>1</td>\n",
       "      <td>1</td>\n",
       "    </tr>\n",
       "  </tbody>\n",
       "</table>\n",
       "</div>"
      ],
      "text/plain": [
       "  subjid  t1  t2  dwi  fmri\n",
       "0  P0007   1   1    1     1\n",
       "1  P0008   1   1    1     1\n",
       "2  P0009   1   1    1     1\n",
       "3  P0010   1   1    1     1\n",
       "4  P0011   1   1    1     1"
      ]
     },
     "execution_count": 88,
     "metadata": {},
     "output_type": "execute_result"
    }
   ],
   "source": [
    "mod_data = pandas.read_csv('/home/users/jvogel/git/PGRS/Tutorials_and_junk/modality_qc.csv')\n",
    "mod_data.head()"
   ]
  },
  {
   "cell_type": "code",
   "execution_count": 89,
   "metadata": {},
   "outputs": [],
   "source": [
    "mod_data.loc[:,'Genes'] = np.ones(len(mod_data),dtype=int)\n",
    "nogenes = [x for x in mod_data.subjid if x not in jnk.SubjID.tolist()]\n",
    "mod_data.loc[mod_data.subjid.isin(nogenes),'Genes'] = 0"
   ]
  },
  {
   "cell_type": "code",
   "execution_count": 97,
   "metadata": {},
   "outputs": [],
   "source": [
    "white = [x for x in mod_data.subjid if x not in nogenes and x in ethnic[ethnic.GAF_europe>0.9]['SubjID'].values]\n",
    "mod_data.loc[:,'European'] = np.zeros(len(mod_data),dtype=int)\n",
    "mod_data.loc[mod_data.subjid.isin(white), 'European'] = 1 "
   ]
  },
  {
   "cell_type": "code",
   "execution_count": 100,
   "metadata": {},
   "outputs": [
    {
     "data": {
      "text/html": [
       "<div>\n",
       "<style>\n",
       "    .dataframe thead tr:only-child th {\n",
       "        text-align: right;\n",
       "    }\n",
       "\n",
       "    .dataframe thead th {\n",
       "        text-align: left;\n",
       "    }\n",
       "\n",
       "    .dataframe tbody tr th {\n",
       "        vertical-align: top;\n",
       "    }\n",
       "</style>\n",
       "<table border=\"1\" class=\"dataframe\">\n",
       "  <thead>\n",
       "    <tr style=\"text-align: right;\">\n",
       "      <th></th>\n",
       "      <th>subjid</th>\n",
       "      <th>t1</th>\n",
       "      <th>t2</th>\n",
       "      <th>dwi</th>\n",
       "      <th>fmri</th>\n",
       "      <th>Genes</th>\n",
       "      <th>European</th>\n",
       "    </tr>\n",
       "  </thead>\n",
       "  <tbody>\n",
       "    <tr>\n",
       "      <th>0</th>\n",
       "      <td>P0007</td>\n",
       "      <td>1</td>\n",
       "      <td>1</td>\n",
       "      <td>1</td>\n",
       "      <td>1</td>\n",
       "      <td>1</td>\n",
       "      <td>1</td>\n",
       "    </tr>\n",
       "    <tr>\n",
       "      <th>1</th>\n",
       "      <td>P0008</td>\n",
       "      <td>1</td>\n",
       "      <td>1</td>\n",
       "      <td>1</td>\n",
       "      <td>1</td>\n",
       "      <td>1</td>\n",
       "      <td>1</td>\n",
       "    </tr>\n",
       "    <tr>\n",
       "      <th>2</th>\n",
       "      <td>P0009</td>\n",
       "      <td>1</td>\n",
       "      <td>1</td>\n",
       "      <td>1</td>\n",
       "      <td>1</td>\n",
       "      <td>1</td>\n",
       "      <td>1</td>\n",
       "    </tr>\n",
       "    <tr>\n",
       "      <th>3</th>\n",
       "      <td>P0010</td>\n",
       "      <td>1</td>\n",
       "      <td>1</td>\n",
       "      <td>1</td>\n",
       "      <td>1</td>\n",
       "      <td>1</td>\n",
       "      <td>1</td>\n",
       "    </tr>\n",
       "    <tr>\n",
       "      <th>4</th>\n",
       "      <td>P0011</td>\n",
       "      <td>1</td>\n",
       "      <td>1</td>\n",
       "      <td>1</td>\n",
       "      <td>1</td>\n",
       "      <td>1</td>\n",
       "      <td>1</td>\n",
       "    </tr>\n",
       "  </tbody>\n",
       "</table>\n",
       "</div>"
      ],
      "text/plain": [
       "  subjid  t1  t2  dwi  fmri  Genes  European\n",
       "0  P0007   1   1    1     1      1         1\n",
       "1  P0008   1   1    1     1      1         1\n",
       "2  P0009   1   1    1     1      1         1\n",
       "3  P0010   1   1    1     1      1         1\n",
       "4  P0011   1   1    1     1      1         1"
      ]
     },
     "execution_count": 100,
     "metadata": {},
     "output_type": "execute_result"
    }
   ],
   "source": [
    "mod_data.head()"
   ]
  },
  {
   "cell_type": "code",
   "execution_count": 103,
   "metadata": {},
   "outputs": [
    {
     "name": "stdout",
     "output_type": "stream",
     "text": [
      "t1 446 932\n",
      "t2 425 888\n",
      "dwi 446 932\n",
      "fmri 308 661\n"
     ]
    }
   ],
   "source": [
    "for col in ['t1','t2','dwi','fmri']:\n",
    "    num = len(mod_data[(mod_data[col]==1) & (mod_data.European==1)])\n",
    "    full = len(mod_data[mod_data[col]==1])\n",
    "    print(col, num, full)"
   ]
  },
  {
   "cell_type": "code",
   "execution_count": 104,
   "metadata": {},
   "outputs": [
    {
     "data": {
      "text/html": [
       "<div>\n",
       "<style>\n",
       "    .dataframe thead tr:only-child th {\n",
       "        text-align: right;\n",
       "    }\n",
       "\n",
       "    .dataframe thead th {\n",
       "        text-align: left;\n",
       "    }\n",
       "\n",
       "    .dataframe tbody tr th {\n",
       "        vertical-align: top;\n",
       "    }\n",
       "</style>\n",
       "<table border=\"1\" class=\"dataframe\">\n",
       "  <thead>\n",
       "    <tr style=\"text-align: right;\">\n",
       "      <th></th>\n",
       "      <th>FID</th>\n",
       "      <th>IID</th>\n",
       "      <th>PRS</th>\n",
       "      <th>Has_Phenotype</th>\n",
       "    </tr>\n",
       "  </thead>\n",
       "  <tbody>\n",
       "    <tr>\n",
       "      <th>0</th>\n",
       "      <td>1</td>\n",
       "      <td>P0007</td>\n",
       "      <td>0.011739</td>\n",
       "      <td>Yes</td>\n",
       "    </tr>\n",
       "    <tr>\n",
       "      <th>1</th>\n",
       "      <td>2</td>\n",
       "      <td>P0008</td>\n",
       "      <td>0.011654</td>\n",
       "      <td>Yes</td>\n",
       "    </tr>\n",
       "    <tr>\n",
       "      <th>2</th>\n",
       "      <td>3</td>\n",
       "      <td>P0153</td>\n",
       "      <td>0.013134</td>\n",
       "      <td>Yes</td>\n",
       "    </tr>\n",
       "    <tr>\n",
       "      <th>3</th>\n",
       "      <td>4</td>\n",
       "      <td>P0014</td>\n",
       "      <td>0.011773</td>\n",
       "      <td>Yes</td>\n",
       "    </tr>\n",
       "    <tr>\n",
       "      <th>4</th>\n",
       "      <td>5</td>\n",
       "      <td>P0016</td>\n",
       "      <td>0.011539</td>\n",
       "      <td>Yes</td>\n",
       "    </tr>\n",
       "  </tbody>\n",
       "</table>\n",
       "</div>"
      ],
      "text/plain": [
       "   FID    IID       PRS Has_Phenotype\n",
       "0    1  P0007  0.011739           Yes\n",
       "1    2  P0008  0.011654           Yes\n",
       "2    3  P0153  0.013134           Yes\n",
       "3    4  P0014  0.011773           Yes\n",
       "4    5  P0016  0.011539           Yes"
      ]
     },
     "execution_count": 104,
     "metadata": {},
     "output_type": "execute_result"
    }
   ],
   "source": [
    "scores = pandas.read_table('/home/users/jvogel/Science/genetix/PING/PGRS_no_imputation/IGAPst1_pgrs_PING.best')\n",
    "scores.head()"
   ]
  },
  {
   "cell_type": "code",
   "execution_count": 105,
   "metadata": {},
   "outputs": [
    {
     "data": {
      "image/png": "[encoded data removed]",
      "text/plain": [
       "<matplotlib.figure.Figure at 0x7f2123c3cb70>"
      ]
     },
     "metadata": {},
     "output_type": "display_data"
    }
   ],
   "source": [
    "plt.close()\n",
    "sns.distplot(scores.PRS)\n",
    "plt.show()"
   ]
  },
  {
   "cell_type": "code",
   "execution_count": 111,
   "metadata": {},
   "outputs": [
    {
     "data": {
      "text/plain": [
       "True"
      ]
     },
     "execution_count": 111,
     "metadata": {},
     "output_type": "execute_result"
    }
   ],
   "source": [
    "len(jnk.SubjID.unique()) == len(jnk.SubjID.values)"
   ]
  },
  {
   "cell_type": "code",
   "execution_count": 112,
   "metadata": {
    "collapsed": true
   },
   "outputs": [],
   "source": [
    "jnk.index = jnk.SubjID.values"
   ]
  },
  {
   "cell_type": "code",
   "execution_count": 113,
   "metadata": {},
   "outputs": [],
   "source": [
    "jnk.loc[[x for x in scores.IID if x in jnk.SubjID.values],'PRS'] = scores.PRS.values"
   ]
  },
  {
   "cell_type": "code",
   "execution_count": 122,
   "metadata": {},
   "outputs": [
    {
     "data": {
      "text/plain": [
       "1391"
      ]
     },
     "execution_count": 122,
     "metadata": {},
     "output_type": "execute_result"
    }
   ],
   "source": [
    "len(scores.PRS.values)"
   ]
  },
  {
   "cell_type": "code",
   "execution_count": 126,
   "metadata": {},
   "outputs": [],
   "source": [
    "scores.index = scores.IID"
   ]
  },
  {
   "cell_type": "code",
   "execution_count": 130,
   "metadata": {},
   "outputs": [
    {
     "ename": "AttributeError",
     "evalue": "'Index' object has no attribute 'head'",
     "output_type": "error",
     "traceback": [
      "\u001b[0;31m---------------------------------------------------------------------------\u001b[0m",
      "\u001b[0;31mAttributeError\u001b[0m                            Traceback (most recent call last)",
      "\u001b[0;32m<ipython-input-130-80156b5f4760>\u001b[0m in \u001b[0;36m<module>\u001b[0;34m()\u001b[0m\n\u001b[0;32m----> 1\u001b[0;31m \u001b[0mmod_data\u001b[0m\u001b[0;34m.\u001b[0m\u001b[0mindex\u001b[0m\u001b[0;34m.\u001b[0m\u001b[0mhead\u001b[0m\u001b[0;34m(\u001b[0m\u001b[0;34m)\u001b[0m\u001b[0;34m\u001b[0m\u001b[0m\n\u001b[0m",
      "\u001b[0;31mAttributeError\u001b[0m: 'Index' object has no attribute 'head'"
     ]
    }
   ],
   "source": [
    "mod_data.i()"
   ]
  },
  {
   "cell_type": "code",
   "execution_count": 132,
   "metadata": {},
   "outputs": [],
   "source": [
    "g_subs = list(set(mod_data.subjid) & set(scores.IID.values))\n",
    "mod_data.loc[g_subs,'PRS'] = scores.loc[g_subs,'PRS'].values"
   ]
  },
  {
   "cell_type": "code",
   "execution_count": 137,
   "metadata": {},
   "outputs": [
    {
     "data": {
      "image/png": "[encoded data removed]",
      "text/plain": [
       "<matplotlib.figure.Figure at 0x7f211321df98>"
      ]
     },
     "metadata": {},
     "output_type": "display_data"
    }
   ],
   "source": [
    "plt.close()\n",
    "sns.distplot(mod_data[mod_data.European==1]['PRS'].dropna(), label='European')\n",
    "sns.distplot(mod_data[mod_data.European==0]['PRS'].dropna(), label='Other')\n",
    "plt.legend()\n",
    "plt.show()"
   ]
  },
  {
   "cell_type": "code",
   "execution_count": null,
   "metadata": {
    "collapsed": true
   },
   "outputs": [],
   "source": []
  }
 ],
 "metadata": {
  "kernelspec": {
   "display_name": "Python 3",
   "language": "python",
   "name": "python3"
  },
  "language_info": {
   "codemirror_mode": {
    "name": "ipython",
    "version": 3
   },
   "file_extension": ".py",
   "mimetype": "text/x-python",
   "name": "python",
   "nbconvert_exporter": "python",
   "pygments_lexer": "ipython3",
   "version": "3.6.2"
  }
 },
 "nbformat": 4,
 "nbformat_minor": 2
}
