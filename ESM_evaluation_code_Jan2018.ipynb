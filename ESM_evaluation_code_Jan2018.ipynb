{
 "cells": [
  {
   "cell_type": "code",
   "execution_count": 1,
   "metadata": {
    "collapsed": true
   },
   "outputs": [],
   "source": [
    "import os\n",
    "import pandas\n",
    "import numpy as np\n",
    "import nibabel as ni\n",
    "import scipy.stats as stats\n",
    "import matplotlib.pyplot as plt\n",
    "import seaborn as sns\n",
    "from scipy.io import loadmat\n",
    "from glob import glob\n",
    "\n"
   ]
  },
  {
   "cell_type": "code",
   "execution_count": 62,
   "metadata": {
    "collapsed": false
   },
   "outputs": [],
   "source": [
    "# matfile\n",
    "matfile = '/Users/jakevogel/Science/tau/ESM_tau/results/March2018/ESM_lit_RW_MMC2_p.mat'\n",
    "mat = loadmat(matfile)"
   ]
  },
  {
   "cell_type": "code",
   "execution_count": 44,
   "metadata": {
    "collapsed": false
   },
   "outputs": [],
   "source": [
    "# reference dataframe\n",
    "refsht = '/Users/jakevogel/Science/tau/ADNI_MASTER.csv'\n",
    "refdf = pandas.read_csv(refsht)\n"
   ]
  },
  {
   "cell_type": "code",
   "execution_count": 27,
   "metadata": {
    "collapsed": false
   },
   "outputs": [],
   "source": [
    "#scans = sorted(glob('/Users/jakevogel/Science/tau/nan_snorm_*'))\n",
    "#sids = [x.split('/')[-1].split('_')[2] for x in scans]\n",
    "#sids[0]\n",
    "sidf = pandas.read_csv('/Users/jakevogel/Science/tau/braak_stage_rois.csv')\n",
    "gind = sidf.AGE.dropna().index\n",
    "sids = sidf.loc[gind,'subject'].values"
   ]
  },
  {
   "cell_type": "code",
   "execution_count": 23,
   "metadata": {
    "collapsed": false
   },
   "outputs": [
    {
     "data": {
      "text/plain": [
       "236"
      ]
     },
     "execution_count": 23,
     "metadata": {},
     "output_type": "execute_result"
    }
   ],
   "source": [
    "len(sids)"
   ]
  },
  {
   "cell_type": "code",
   "execution_count": 255,
   "metadata": {
    "collapsed": false
   },
   "outputs": [
    {
     "name": "stdout",
     "output_type": "stream",
     "text": [
      "total 5013120\r\n",
      "-rw-rw-r--@  1 jakevogel  staff    14M Aug 20  2016 MNI152_T1_1mm_brain.nii\r\n",
      "-rw-rw-r--@  1 jakevogel  staff   2.1M Sep 23  2016 test_4815.nii.gz\r\n",
      "-rw-r--r--@  1 jakevogel  staff   120K Dec 14  2016 nii_dkt_atlas_1p5mm.nii.gz\r\n",
      "-rw-rw-r--@  1 jakevogel  staff    25M Feb  2  2017 nan_snorm_002-S-4262_18F-AV1451_2016-02-25_P4_I651320.nii.gz\r\n",
      "-rw-rw-r--@  1 jakevogel  staff    25M Feb  2  2017 nan_snorm_002-S-4521_18F-AV1451_2016-04-05_P4_I730844.nii.gz\r\n",
      "-rw-rw-r--@  1 jakevogel  staff    25M Feb  2  2017 nan_snorm_002-S-4654_18F-AV1451_2016-04-21_P4_I699996.nii.gz\r\n",
      "-rw-rw-r--@  1 jakevogel  staff    25M Feb  2  2017 nan_snorm_002-S-4799_18F-AV1451_2016-07-27_P4_I767572.nii.gz\r\n",
      "-rw-rw-r--@  1 jakevogel  staff    25M Feb  2  2017 nan_snorm_007-S-2394_18F-AV1451_2016-07-19_P4_I762869.nii.gz\r\n",
      "-rw-rw-r--@  1 jakevogel  staff    25M Feb  2  2017 nan_snorm_007-S-4620_18F-AV1451_2016-07-15_P4_I761155.nii.gz\r\n",
      "-rw-rw-r--@  1 jakevogel  staff    25M Feb  2  2017 nan_snorm_007-S-4637_18F-AV1451_2016-07-26_P4_I764202.nii.gz\r",
      "\r\n",
      "-rw-rw-r--@  1 jakevogel  staff    25M Feb  2  2017 nan_snorm_012-S-4643_18F-AV1451_2016-06-08_P4_I738249.nii.gz\r\n",
      "-rw-rw-r--@  1 jakevogel  staff    24M Feb  2  2017 nan_snorm_018-S-0142_18F-AV1451_2016-04-14_P4_I698114.nii.gz\r\n",
      "-rw-rw-r--@  1 jakevogel  staff    24M Feb  2  2017 nan_snorm_018-S-2180_18F-AV1451_2016-04-06_P4_I698118.nii.gz\r\n",
      "-rw-rw-r--@  1 jakevogel  staff    24M Feb  2  2017 nan_snorm_018-S-4313_18F-AV1451_2016-04-05_P4_I681871.nii.gz\r\n",
      "-rw-rw-r--@  1 jakevogel  staff    25M Feb  2  2017 nan_snorm_018-S-4399_18F-AV1451_2016-03-30_P4_I681875.nii.gz\r\n",
      "-rw-rw-r--@  1 jakevogel  staff    25M Feb  2  2017 nan_snorm_019-S-4367_18F-AV1451_2016-03-01_P4_I648363.nii.gz\r\n",
      "-rw-rw-r--@  1 jakevogel  staff    24M Feb  2  2017 nan_snorm_019-S-4835_18F-AV1451_2016-07-19_P4_I761163.nii.gz\r\n",
      "-rw-rw-r--@  1 jakevogel  staff    25M Feb  2  2017 nan_snorm_019-S-5242_18F-AV1451_2015-08-26_P4_I513655.nii.gz\r\n",
      "-rw-rw-r--@  1 jakevogel  staff    24M Feb  2  2017 nan_snorm_022-S-2263_18F-AV1451_2016-04-07_P4_I733737.nii.gz\r\n",
      "-rw-rw-r--@  1 jakevogel  staff    25M Feb  2  2017 nan_snorm_023-S-1190_18F-AV1451_2016-05-17_P4_I764206.nii.gz\r\n",
      "-rw-rw-r--@  1 jakevogel  staff    24M Feb  2  2017 nan_snorm_023-S-4448_18F-AV1451_2016-06-01_P4_I725060.nii.gz\r\n",
      "-rw-rw-r--@  1 jakevogel  staff    25M Feb  2  2017 nan_snorm_027-S-2183_18F-AV1451_2016-01-28_P4_I656626.nii.gz\r\n",
      "-rw-rw-r--@  1 jakevogel  staff    24M Feb  2  2017 nan_snorm_027-S-2245_18F-AV1451_2016-02-18_P4_I656630.nii.gz\r\n",
      "-rw-rw-r--@  1 jakevogel  staff    24M Feb  2  2017 nan_snorm_027-S-2336_18F-AV1451_2016-06-30_P4_I765398.nii.gz\r\n",
      "-rw-rw-r--@  1 jakevogel  staff    24M Feb  2  2017 nan_snorm_027-S-4869_18F-AV1451_2016-01-21_P4_I629761.nii.gz\r\n",
      "-rw-rw-r--@  1 jakevogel  staff    24M Feb  2  2017 nan_snorm_027-S-4919_18F-AV1451_2015-12-17_P4_I590221.nii.gz\r\n",
      "-rw-rw-r--@  1 jakevogel  staff    24M Feb  2  2017 nan_snorm_027-S-4926_18F-AV1451_2015-11-19_P4_I573479.nii.gz\r\n",
      "-rw-rw-r--@  1 jakevogel  staff    24M Feb  2  2017 nan_snorm_027-S-5083_18F-AV1451_2016-07-20_P4_I765402.nii.gz\r\n",
      "-rw-rw-r--@  1 jakevogel  staff    24M Feb  2  2017 nan_snorm_027-S-5127_18F-AV1451_2016-04-20_P4_I755482.nii.gz\r\n",
      "-rw-rw-r--@  1 jakevogel  staff    24M Feb  2  2017 nan_snorm_027-S-5277_18F-AV1451_2015-10-06_P4_I573483.nii.gz\r\n",
      "-rw-rw-r--@  1 jakevogel  staff    24M Feb  2  2017 nan_snorm_032-S-2247_18F-AV1451_2016-05-11_P4_I709504.nii.gz\r\n",
      "-rw-rw-r--@  1 jakevogel  staff    23M Feb  2  2017 nan_snorm_032-S-4429_18F-AV1451_2016-05-26_P4_I723823.nii.gz\r\n",
      "-rw-rw-r--@  1 jakevogel  staff    25M Feb  2  2017 nan_snorm_037-S-0303_18F-AV1451_2016-05-10_P4_I718403.nii.gz\r\n",
      "-rw-rw-r--@  1 jakevogel  staff    25M Feb  2  2017 nan_snorm_037-S-0377_18F-AV1451_2016-07-12_P4_I761167.nii.gz\r\n",
      "-rw-rw-r--@  1 jakevogel  staff    25M Feb  2  2017 nan_snorm_037-S-0467_18F-AV1451_2016-06-28_P4_I759950.nii.gz\r\n",
      "-rw-rw-r--@  1 jakevogel  staff    25M Feb  2  2017 nan_snorm_037-S-4028_18F-AV1451_2016-01-12_P4_I620358.nii.gz\r\n",
      "-rw-rw-r--@  1 jakevogel  staff    25M Feb  2  2017 nan_snorm_037-S-4071_18F-AV1451_2016-02-23_P4_I648371.nii.gz\r\n",
      "-rw-rw-r--@  1 jakevogel  staff    25M Feb  2  2017 nan_snorm_037-S-4214_18F-AV1451_2015-10-27_P4_I546616.nii.gz\r\n",
      "-rw-rw-r--@  1 jakevogel  staff    25M Feb  2  2017 nan_snorm_037-S-4302_18F-AV1451_2016-02-02_P4_I641241.nii.gz\r\n",
      "-rw-rw-r--@  1 jakevogel  staff    25M Feb  2  2017 nan_snorm_037-S-4410_18F-AV1451_2016-01-21_P4_I620370.nii.gz\r\n",
      "-rw-rw-r--@  1 jakevogel  staff    25M Feb  2  2017 nan_snorm_037-S-4706_18F-AV1451_2016-03-15_P4_I674971.nii.gz\r\n",
      "-rw-rw-r--@  1 jakevogel  staff    25M Feb  2  2017 nan_snorm_037-S-5126_18F-AV1451_2016-03-30_P4_I698126.nii.gz\r\n",
      "-rw-rw-r--@  1 jakevogel  staff    25M Feb  2  2017 nan_snorm_037-S-5222_18F-AV1451_2015-11-24_P4_I589632.nii.gz\r\n",
      "-rw-rw-r--@  1 jakevogel  staff    25M Feb  2  2017 nan_snorm_041-S-4427_18F-AV1451_2016-03-22_P4_I663514.nii.gz\r\n",
      "-rw-rw-r--@  1 jakevogel  staff    25M Feb  2  2017 nan_snorm_041-S-4510_18F-AV1451_2016-04-19_P4_I689533.nii.gz\r\n",
      "-rw-rw-r--@  1 jakevogel  staff    25M Feb  2  2017 nan_snorm_041-S-4513_18F-AV1451_2016-05-24_P4_I721025.nii.gz\r\n",
      "-rw-rw-r--@  1 jakevogel  staff    24M Feb  2  2017 nan_snorm_053-S-4813_18F-AV1451_2016-07-21_P4_I761911.nii.gz\r\n",
      "-rw-rw-r--@  1 jakevogel  staff    25M Feb  2  2017 nan_snorm_053-S-5202_18F-AV1451_2016-07-19_P4_I761915.nii.gz\r\n",
      "-rw-rw-r--@  1 jakevogel  staff    23M Feb  2  2017 nan_snorm_067-S-2301_18F-AV1451_2016-05-24_P4_I738261.nii.gz\r\n",
      "-rw-rw-r--@  1 jakevogel  staff    24M Feb  2  2017 nan_snorm_067-S-2304_18F-AV1451_2016-04-05_P4_I678755.nii.gz\r\n",
      "-rw-rw-r--@  1 jakevogel  staff    25M Feb  2  2017 nan_snorm_067-S-4767_18F-AV1451_2016-07-13_P4_I761175.nii.gz\r\n",
      "-rw-rw-r--@  1 jakevogel  staff    24M Feb  2  2017 nan_snorm_094-S-2367_18F-AV1451_2016-06-21_P4_I756221.nii.gz\r\n",
      "-rw-rw-r--@  1 jakevogel  staff    24M Feb  2  2017 nan_snorm_094-S-4234_18F-AV1451_2016-06-22_P4_I756225.nii.gz\r\n",
      "-rw-rw-r--@  1 jakevogel  staff    25M Feb  2  2017 nan_snorm_098-S-4003_18F-AV1451_2016-07-12_P4_I761183.nii.gz\r\n",
      "-rw-rw-r--@  1 jakevogel  staff    25M Feb  2  2017 nan_snorm_109-S-2200_18F-AV1451_2016-03-15_P4_I766233.nii.gz\r\n",
      "-rw-rw-r--@  1 jakevogel  staff    25M Feb  2  2017 nan_snorm_109-S-4380_18F-AV1451_2016-02-24_P4_I643358.nii.gz\r\n",
      "-rw-rw-r--@  1 jakevogel  staff    25M Feb  2  2017 nan_snorm_127-S-0112_18F-AV1451_2016-05-03_P4_I704939.nii.gz\r\n",
      "-rw-rw-r--@  1 jakevogel  staff    24M Feb  2  2017 nan_snorm_127-S-0925_18F-AV1451_2016-03-30_P4_I668869.nii.gz\r\n",
      "-rw-rw-r--@  1 jakevogel  staff    25M Feb  2  2017 nan_snorm_127-S-1427_18F-AV1451_2016-09-21_P4_I779542.nii.gz\r\n",
      "-rw-rw-r--@  1 jakevogel  staff    25M Feb  2  2017 nan_snorm_127-S-2234_18F-AV1451_2016-06-15_P4_I738265.nii.gz\r\n",
      "-rw-rw-r--@  1 jakevogel  staff    24M Feb  2  2017 nan_snorm_127-S-4197_18F-AV1451_2015-11-17_P4_I557624.nii.gz\r\n",
      "-rw-rw-r--@  1 jakevogel  staff    25M Feb  2  2017 nan_snorm_127-S-4198_18F-AV1451_2015-12-01_P4_I573487.nii.gz\r\n",
      "-rw-rw-r--@  1 jakevogel  staff    25M Feb  2  2017 nan_snorm_127-S-4604_18F-AV1451_2016-04-07_P4_I718415.nii.gz\r\n",
      "-rw-rw-r--@  1 jakevogel  staff    25M Feb  2  2017 nan_snorm_127-S-4765_18F-AV1451_2016-07-28_P4_I763534.nii.gz\r\n",
      "-rw-rw-r--@  1 jakevogel  staff    25M Feb  2  2017 nan_snorm_127-S-5200_18F-AV1451_2015-11-24_P4_I599491.nii.gz\r\n",
      "-rw-rw-r--@  1 jakevogel  staff    25M Feb  2  2017 nan_snorm_127-S-5266_18F-AV1451_2015-12-10_P4_I600583.nii.gz\r\n",
      "-rw-rw-r--@  1 jakevogel  staff    24M Feb  2  2017 nan_snorm_128-S-2002_18F-AV1451_2016-07-14_P4_I761187.nii.gz\r\n",
      "-rw-rw-r--@  1 jakevogel  staff    24M Feb  2  2017 nan_snorm_128-S-4586_18F-AV1451_2016-07-14_P4_I761191.nii.gz\r\n",
      "-rw-rw-r--@  1 jakevogel  staff    24M Feb  2  2017 nan_snorm_128-S-4742_18F-AV1451_2016-07-21_P4_I763538.nii.gz\r\n",
      "-rw-rw-r--@  1 jakevogel  staff    24M Feb  2  2017 nan_snorm_128-S-4842_18F-AV1451_2016-07-28_P4_I763542.nii.gz\r\n",
      "-rw-rw-r--@  1 jakevogel  staff    25M Feb  2  2017 nan_snorm_135-S-4281_18F-AV1451_2015-10-21_P4_I535771.nii.gz\r\n",
      "-rw-rw-r--@  1 jakevogel  staff    25M Feb  2  2017 nan_snorm_135-S-4309_18F-AV1451_2015-11-17_P4_I560363.nii.gz\r\n",
      "-rw-rw-r--@  1 jakevogel  staff    25M Feb  2  2017 nan_snorm_135-S-4356_18F-AV1451_2015-12-09_P4_I581742.nii.gz\r\n",
      "-rw-rw-r--@  1 jakevogel  staff    25M Feb  2  2017 nan_snorm_135-S-4446_18F-AV1451_2016-02-18_P4_I641249.nii.gz\r\n",
      "-rw-rw-r--@  1 jakevogel  staff    25M Feb  2  2017 nan_snorm_135-S-4489_18F-AV1451_2016-02-24_P4_I648379.nii.gz\r\n",
      "-rw-rw-r--@  1 jakevogel  staff    25M Feb  2  2017 nan_snorm_135-S-4598_18F-AV1451_2016-03-30_P4_I678763.nii.gz\r\n",
      "-rw-rw-r--@  1 jakevogel  staff    25M Feb  2  2017 nan_snorm_135-S-4722_18F-AV1451_2016-05-11_P4_I715566.nii.gz\r\n",
      "-rw-rw-r--@  1 jakevogel  staff    25M Feb  2  2017 nan_snorm_135-S-4723_18F-AV1451_2016-05-12_P4_I709508.nii.gz\r\n",
      "-rw-rw-r--@  1 jakevogel  staff    25M Feb  2  2017 nan_snorm_135-S-5113_18F-AV1451_2016-04-07_P4_I680889.nii.gz\r\n",
      "-rw-rw-r--@  1 jakevogel  staff    25M Feb  2  2017 nan_snorm_135-S-5269_18F-AV1451_2015-09-02_P4_I513671.nii.gz\r\n",
      "-rw-rw-r--@  1 jakevogel  staff    25M Feb  2  2017 nan_snorm_135-S-5273_18F-AV1451_2015-09-03_P4_I513675.nii.gz\r\n",
      "-rw-rw-r--@  1 jakevogel  staff    24M Feb  2  2017 nan_snorm_137-S-0668_18F-AV1451_2015-10-28_P4_I546624.nii.gz\r\n",
      "-rw-rw-r--@  1 jakevogel  staff    25M Feb  2  2017 nan_snorm_137-S-0722_18F-AV1451_2015-10-20_P4_I535775.nii.gz\r\n",
      "-rw-rw-r--@  1 jakevogel  staff    25M Feb  2  2017 nan_snorm_137-S-0800_18F-AV1451_2015-10-01_P4_I524221.nii.gz\r\n",
      "-rw-rw-r--@  1 jakevogel  staff    24M Feb  2  2017 nan_snorm_137-S-1414_18F-AV1451_2015-10-20_P4_I535779.nii.gz\r\n",
      "-rw-rw-r--@  1 jakevogel  staff    25M Feb  2  2017 nan_snorm_137-S-4482_18F-AV1451_2016-05-31_P4_I728319.nii.gz\r\n",
      "-rw-rw-r--@  1 jakevogel  staff    25M Feb  2  2017 nan_snorm_137-S-4520_18F-AV1451_2016-07-06_P4_I759954.nii.gz\r\n",
      "-rw-rw-r--@  1 jakevogel  staff    25M Feb  2  2017 nan_snorm_137-S-4587_18F-AV1451_2016-06-21_P4_I750053.nii.gz\r\n",
      "-rw-rw-r--@  1 jakevogel  staff    25M Feb  2  2017 nan_snorm_137-S-4631_18F-AV1451_2016-09-01_P4_I774302.nii.gz\r\n",
      "-rw-rw-r--@  1 jakevogel  staff    25M Feb  2  2017 nan_snorm_137-S-4815_18F-AV1451_2015-09-30_P4_I524045.nii.gz\r\n",
      "-rw-rw-r--@  1 jakevogel  staff    25M Feb  2  2017 nan_snorm_137-S-4862_18F-AV1451_2015-10-07_P4_I535783.nii.gz\r\n",
      "-rw-rw-r--@  1 jakevogel  staff    25M Feb  2  2017 nan_snorm_941-S-4292_18F-AV1451_2016-07-27_P4_I779799.nii.gz\r\n",
      "-rw-rw-r--@  1 jakevogel  staff    25M Feb  2  2017 nan_snorm_002-S-4229_18F-AV1451_2016-02-10_P4_I635352.nii.gz\r\n",
      "-rw-r--r--@  1 jakevogel  staff   405K Feb  3  2017 MNI152_T1_2mm_brain.nii.gz\r\n",
      "-rw-r--r--@  1 jakevogel  staff   241K Feb  5  2017 brainmask_1mm.nii.gz\r\n",
      "-rw-r--r--@  1 jakevogel  staff   228K Feb  6  2017 dkt_atlas_1mm.nii.gz\r\n",
      "-rw-r--r--@  1 jakevogel  staff   213K Feb  6  2017 dkt_nocereb_1mm.nii.gz\r\n",
      "-rw-r--r--@  1 jakevogel  staff   177K Feb  6  2017 lib_brainmask_1mm.nii.gz\r\n",
      "drwxr-xr-x@  4 jakevogel  staff   136B Feb  6  2017 \u001b[34mmsteps_output\u001b[m\u001b[m\r\n",
      "-rw-r--r--@  1 jakevogel  staff   9.5K Feb  6  2017 av45_status.xls\r\n",
      "-rw-r--r--@  1 jakevogel  staff   663K Feb 10  2017 jnk.nii.gz\r\n",
      "-rw-r--r--@  1 jakevogel  staff   114K Feb 10  2017 tau_demographics.xls\r\n",
      "-rw-r--r--@  1 jakevogel  staff    88K Feb 10  2017 msk.nii.gz\r\n",
      "-rw-r--r--@  1 jakevogel  staff   139K Feb 10  2017 tau_demographics_consclusters.xls\r\n",
      "-rw-r--r--@  1 jakevogel  staff    39K Feb 23  2017 roi_stats.xlsx\r\n",
      "-rw-r--r--@  1 jakevogel  staff    52K Feb 23  2017 Libmask_41_roi_labels.xlsx\r\n",
      "-rw-r--r--@  1 jakevogel  staff    10K Mar  3  2017 put_regr_regr_rois.xls\r\n",
      "-rw-r--r--@  1 jakevogel  staff   9.0K Mar  3  2017 put_regr_noregr_rois.xls\r\n",
      "-rw-r--r--@  1 jakevogel  staff   304K Mar  3  2017 tau_adni_demo_many_c_solutions.xls\r\n",
      "-rw-r--r--@  1 jakevogel  staff   245K Mar  3  2017 tau_adni_demo_many_c_solutions.csv\r\n",
      "-rw-r--r--@  1 jakevogel  staff    38K Mar  7  2017 EM_gp_mm.xls\r\n",
      "-rw-r--r--@  1 jakevogel  staff   7.9M Mar  8  2017 ADNI_MASTER.csv\r\n",
      "-rw-r--r--@  1 jakevogel  staff    51K Mar  8  2017 ADNI_slope_MMSE.csv\r\n",
      "-rw-r--r--@  1 jakevogel  staff    51K Mar  8  2017 ADNI_slope_MEM.csv\r\n",
      "-rw-r--r--@  1 jakevogel  staff    51K Mar  8  2017 ADNI_slope_EF.csv\r\n",
      "-rw-r--r--@  1 jakevogel  staff   316K Mar  9  2017 tau_adni_demo_many_c_solutions_cogchange.xls\r\n",
      "-rw-r--r--@  1 jakevogel  staff    31M Mar 12  2017 tau_atlases\r\n",
      "-rw-r--r--@  1 jakevogel  staff   8.1M Mar 13  2017 template_6.nii\r\n",
      "-rw-r--r--@  1 jakevogel  staff   794K Mar 13  2017 thr_ADNI_GM_mask.nii.gz\r\n",
      "-rw-r--r--@  1 jakevogel  staff   208K Mar 13  2017 thr_ADNI_GM_mask_1mm.nii.gz\r\n",
      "drwxr-xr-x@ 94 jakevogel  staff   3.1K Mar 13  2017 \u001b[34mzscores\u001b[m\u001b[m\r\n",
      "-rw-r--r--@  1 jakevogel  staff   213K Mar 14  2017 -bin.nii.gz\r\n",
      "-rw-r--r--@  1 jakevogel  staff    49K Mar 14  2017 thr_ADNI_GM_mask_2mm.nii.gz\r\n",
      "-rw-r--r--@  1 jakevogel  staff   303K Mar 17  2017 tau_adni_demo_cogchange_litROIs.csv\r\n",
      "-rw-r--r--@  1 jakevogel  staff   1.6M Mar 17  2017 tau_lit_for_mm.xls\r\n",
      "-rw-r--r--@  1 jakevogel  staff    32K Mar 19  2017 tmp_brainstem.nii.gz\r\n",
      "-rw-r--r--@  1 jakevogel  staff   201K Mar 19  2017 tmp_subcort.nii.gz\r\n",
      "-rw-r--r--@  1 jakevogel  staff   199K Mar 19  2017 ADNI_GM_mask_1mm_nocereb.nii.gz\r\n",
      "-rw-r--r--@  1 jakevogel  staff   1.7M Mar 19  2017 tau_lit_for_mm_jakerois1.xls\r\n",
      "-rw-r--r--@  1 jakevogel  staff   1.3M Mar 24  2017 tau_lit_for_mm_jakerois1.csv\r\n",
      "drwxr-xr-x@  3 jakevogel  staff   102B Apr 19  2017 \u001b[34mother_clustering_attempts\u001b[m\u001b[m\r\n",
      "-rw-r--r--   1 jakevogel  staff   176B May  5  2017 tfm_1to2mm\r\n",
      "-rw-r--r--   1 jakevogel  staff   202B May  5  2017 tfm_2to1mm\r\n",
      "-rw-r--r--   1 jakevogel  staff    42K May  5  2017 lib_brainmask_2mm.nii.gz\r\n",
      "-rw-r--r--   1 jakevogel  staff    54B May  5  2017 msteps_ind_lund_table.csv\r\n",
      "drwxr-xr-x   3 jakevogel  staff   102B May  5  2017 \u001b[34mmskd\u001b[m\u001b[m\r\n",
      "drwxr-xr-x@ 24 jakevogel  staff   816B May  5  2017 \u001b[34mtau_masks\u001b[m\u001b[m\r\n",
      "drwxr-xr-x  16 jakevogel  staff   544B May 16  2017 \u001b[34mmeans\u001b[m\u001b[m\r\n",
      "drwxr-xr-x   4 jakevogel  staff   136B May 17  2017 \u001b[34mresults\u001b[m\u001b[m\r\n",
      "-rw-r--r--@  1 jakevogel  staff   360K May 19  2017 tau_adni_demo_cogchange_litROIs_updated.csv\r\n",
      "drwxr-xr-x@ 18 jakevogel  staff   612B Jun 14  2017 \u001b[34mchecking_solutions\u001b[m\u001b[m\r\n",
      "drwxr-xr-x  10 jakevogel  staff   340B Jun 15  2017 \u001b[34mYasser_matlab_scripts\u001b[m\u001b[m\r\n",
      "drwxr-xr-x  92 jakevogel  staff   3.1K Jul 10  2017 \u001b[34mfor_extraction\u001b[m\u001b[m\r\n",
      "drwxr-xr-x  22 jakevogel  staff   748B Jul 10  2017 \u001b[34mLund_2save\u001b[m\u001b[m\r\n",
      "-rw-r--r--   1 jakevogel  staff    26K Jul 11 06:56 early_tau_values_adni.xls\r\n",
      "-rw-r--r--   1 jakevogel  staff   373K Jul 11 07:10 tau_adni_demo_cogchange_litROIs_earlytau.csv\r\n",
      "-rw-r--r--   1 jakevogel  staff    55M Jul 23 13:05 tmp_fl.nii\r\n",
      "drwxr-xr-x   4 jakevogel  staff   136B Aug 10 05:12 \u001b[34mprogression\u001b[m\u001b[m\r\n",
      "drwxr-xr-x   3 jakevogel  staff   102B Sep  4 16:53 \u001b[34mtmp\u001b[m\u001b[m\r\n",
      "-rw-r--r--   1 jakevogel  staff   194B Sep 21 10:40 tfm_to_3mm\r\n",
      "-rw-r--r--   1 jakevogel  staff   110M Oct 20 18:58 ecdf_test.nii\r\n",
      "drwxrwxrwx   7 jakevogel  staff   238B Jan  4 09:23 \u001b[30m\u001b[43mESM_tau\u001b[m\u001b[m\r\n"
     ]
    }
   ],
   "source": [
    "! ls -lrth /Users/jakevogel/Science/tau/"
   ]
  },
  {
   "cell_type": "code",
   "execution_count": 5,
   "metadata": {
    "collapsed": false
   },
   "outputs": [
    {
     "data": {
      "text/html": [
       "<div>\n",
       "<table border=\"1\" class=\"dataframe\">\n",
       "  <thead>\n",
       "    <tr style=\"text-align: right;\">\n",
       "      <th></th>\n",
       "      <th>Unnamed: 0</th>\n",
       "      <th>subs</th>\n",
       "      <th>subs.1</th>\n",
       "      <th>Unnamed: 0.1</th>\n",
       "      <th>Unnamed: 0.1.1</th>\n",
       "      <th>Unnamed: 0.2</th>\n",
       "      <th>RID</th>\n",
       "      <th>SITE</th>\n",
       "      <th>COLPROT</th>\n",
       "      <th>ORIGPROT</th>\n",
       "      <th>...</th>\n",
       "      <th>brain_partition_consensus_ind_lund_sci5_scf5_5</th>\n",
       "      <th>lund_ET_3_1</th>\n",
       "      <th>lund_ET_3_2</th>\n",
       "      <th>lund_ET_3_3</th>\n",
       "      <th>lund_ET_6_1</th>\n",
       "      <th>lund_ET_6_2</th>\n",
       "      <th>lund_ET_6_3</th>\n",
       "      <th>lund_ET_6_4</th>\n",
       "      <th>lund_ET_6_5</th>\n",
       "      <th>lund_ET_6_6</th>\n",
       "    </tr>\n",
       "  </thead>\n",
       "  <tbody>\n",
       "    <tr>\n",
       "      <th>0</th>\n",
       "      <td>0</td>\n",
       "      <td>002-S-4229</td>\n",
       "      <td>002-S-4229</td>\n",
       "      <td>002-S-4229</td>\n",
       "      <td>002-S-4229</td>\n",
       "      <td>002-S-4229</td>\n",
       "      <td>4229.0</td>\n",
       "      <td>2.0</td>\n",
       "      <td>ADNI2</td>\n",
       "      <td>ADNI2</td>\n",
       "      <td>...</td>\n",
       "      <td>1.001502</td>\n",
       "      <td>1.348725</td>\n",
       "      <td>1.067139</td>\n",
       "      <td>1.103361</td>\n",
       "      <td>1.348725</td>\n",
       "      <td>1.115261</td>\n",
       "      <td>1.081559</td>\n",
       "      <td>1.238158</td>\n",
       "      <td>1.103050</td>\n",
       "      <td>1.051729</td>\n",
       "    </tr>\n",
       "    <tr>\n",
       "      <th>1</th>\n",
       "      <td>1</td>\n",
       "      <td>002-S-4262</td>\n",
       "      <td>002-S-4262</td>\n",
       "      <td>002-S-4262</td>\n",
       "      <td>002-S-4262</td>\n",
       "      <td>002-S-4262</td>\n",
       "      <td>4262.0</td>\n",
       "      <td>2.0</td>\n",
       "      <td>ADNI2</td>\n",
       "      <td>ADNI2</td>\n",
       "      <td>...</td>\n",
       "      <td>1.145301</td>\n",
       "      <td>1.507033</td>\n",
       "      <td>1.165363</td>\n",
       "      <td>1.106672</td>\n",
       "      <td>1.507033</td>\n",
       "      <td>1.120392</td>\n",
       "      <td>1.141073</td>\n",
       "      <td>1.190362</td>\n",
       "      <td>1.182348</td>\n",
       "      <td>1.090506</td>\n",
       "    </tr>\n",
       "    <tr>\n",
       "      <th>2</th>\n",
       "      <td>2</td>\n",
       "      <td>002-S-4521</td>\n",
       "      <td>002-S-4521</td>\n",
       "      <td>002-S-4521</td>\n",
       "      <td>002-S-4521</td>\n",
       "      <td>002-S-4521</td>\n",
       "      <td>4521.0</td>\n",
       "      <td>2.0</td>\n",
       "      <td>ADNI2</td>\n",
       "      <td>ADNI2</td>\n",
       "      <td>...</td>\n",
       "      <td>1.250661</td>\n",
       "      <td>1.542644</td>\n",
       "      <td>1.144523</td>\n",
       "      <td>1.285093</td>\n",
       "      <td>1.542644</td>\n",
       "      <td>1.314419</td>\n",
       "      <td>1.292172</td>\n",
       "      <td>1.414967</td>\n",
       "      <td>1.184433</td>\n",
       "      <td>1.141633</td>\n",
       "    </tr>\n",
       "    <tr>\n",
       "      <th>3</th>\n",
       "      <td>3</td>\n",
       "      <td>002-S-4654</td>\n",
       "      <td>002-S-4654</td>\n",
       "      <td>002-S-4654</td>\n",
       "      <td>002-S-4654</td>\n",
       "      <td>002-S-4654</td>\n",
       "      <td>4654.0</td>\n",
       "      <td>2.0</td>\n",
       "      <td>ADNI2</td>\n",
       "      <td>ADNI2</td>\n",
       "      <td>...</td>\n",
       "      <td>1.186976</td>\n",
       "      <td>1.198241</td>\n",
       "      <td>1.018570</td>\n",
       "      <td>0.983168</td>\n",
       "      <td>1.198241</td>\n",
       "      <td>0.974095</td>\n",
       "      <td>1.043101</td>\n",
       "      <td>1.081553</td>\n",
       "      <td>1.044473</td>\n",
       "      <td>0.990339</td>\n",
       "    </tr>\n",
       "    <tr>\n",
       "      <th>4</th>\n",
       "      <td>4</td>\n",
       "      <td>002-S-4799</td>\n",
       "      <td>002-S-4799</td>\n",
       "      <td>002-S-4799</td>\n",
       "      <td>002-S-4799</td>\n",
       "      <td>002-S-4799</td>\n",
       "      <td>4799.0</td>\n",
       "      <td>2.0</td>\n",
       "      <td>ADNI2</td>\n",
       "      <td>ADNI2</td>\n",
       "      <td>...</td>\n",
       "      <td>1.095576</td>\n",
       "      <td>1.542920</td>\n",
       "      <td>1.317958</td>\n",
       "      <td>1.241442</td>\n",
       "      <td>1.542920</td>\n",
       "      <td>1.250776</td>\n",
       "      <td>1.319128</td>\n",
       "      <td>1.337707</td>\n",
       "      <td>1.332920</td>\n",
       "      <td>1.262309</td>\n",
       "    </tr>\n",
       "  </tbody>\n",
       "</table>\n",
       "<p>5 rows × 306 columns</p>\n",
       "</div>"
      ],
      "text/plain": [
       "   Unnamed: 0        subs      subs.1 Unnamed: 0.1 Unnamed: 0.1.1  \\\n",
       "0           0  002-S-4229  002-S-4229   002-S-4229     002-S-4229   \n",
       "1           1  002-S-4262  002-S-4262   002-S-4262     002-S-4262   \n",
       "2           2  002-S-4521  002-S-4521   002-S-4521     002-S-4521   \n",
       "3           3  002-S-4654  002-S-4654   002-S-4654     002-S-4654   \n",
       "4           4  002-S-4799  002-S-4799   002-S-4799     002-S-4799   \n",
       "\n",
       "  Unnamed: 0.2     RID  SITE COLPROT ORIGPROT     ...       \\\n",
       "0   002-S-4229  4229.0   2.0   ADNI2    ADNI2     ...        \n",
       "1   002-S-4262  4262.0   2.0   ADNI2    ADNI2     ...        \n",
       "2   002-S-4521  4521.0   2.0   ADNI2    ADNI2     ...        \n",
       "3   002-S-4654  4654.0   2.0   ADNI2    ADNI2     ...        \n",
       "4   002-S-4799  4799.0   2.0   ADNI2    ADNI2     ...        \n",
       "\n",
       "  brain_partition_consensus_ind_lund_sci5_scf5_5 lund_ET_3_1  lund_ET_3_2  \\\n",
       "0                                       1.001502    1.348725     1.067139   \n",
       "1                                       1.145301    1.507033     1.165363   \n",
       "2                                       1.250661    1.542644     1.144523   \n",
       "3                                       1.186976    1.198241     1.018570   \n",
       "4                                       1.095576    1.542920     1.317958   \n",
       "\n",
       "  lund_ET_3_3  lund_ET_6_1 lund_ET_6_2 lund_ET_6_3 lund_ET_6_4  lund_ET_6_5  \\\n",
       "0    1.103361     1.348725    1.115261    1.081559    1.238158     1.103050   \n",
       "1    1.106672     1.507033    1.120392    1.141073    1.190362     1.182348   \n",
       "2    1.285093     1.542644    1.314419    1.292172    1.414967     1.184433   \n",
       "3    0.983168     1.198241    0.974095    1.043101    1.081553     1.044473   \n",
       "4    1.241442     1.542920    1.250776    1.319128    1.337707     1.332920   \n",
       "\n",
       "   lund_ET_6_6  \n",
       "0     1.051729  \n",
       "1     1.090506  \n",
       "2     1.141633  \n",
       "3     0.990339  \n",
       "4     1.262309  \n",
       "\n",
       "[5 rows x 306 columns]"
      ]
     },
     "execution_count": 5,
     "metadata": {},
     "output_type": "execute_result"
    }
   ],
   "source": [
    "# reference dataframe\n",
    "sht = '/Users/jakevogel/Science/tau/tau_adni_demo_cogchange_litROIs_earlytau.csv'\n",
    "df = pandas.read_csv(sht)\n",
    "df.head()"
   ]
  },
  {
   "cell_type": "code",
   "execution_count": 6,
   "metadata": {
    "collapsed": false
   },
   "outputs": [
    {
     "data": {
      "text/plain": [
       "True"
      ]
     },
     "execution_count": 6,
     "metadata": {},
     "output_type": "execute_result"
    }
   ],
   "source": [
    "all([x in df.subs.tolist() for x in sids])"
   ]
  },
  {
   "cell_type": "code",
   "execution_count": 7,
   "metadata": {
    "collapsed": false
   },
   "outputs": [
    {
     "data": {
      "text/plain": [
       "dict_keys(['Final_times', 'Final_RMSEs', 'Final_solutions', 'Final_CORRs', 'Nparameters', '__header__', 'Nnodes', 'num_repetitions', 'MUS0', 'h_integration', 'time_range', 'Long_Matrix', 'ONSETS_est', '__globals__', 'AGEs', 'DELTAS0', 'DELTAS_est', 'Nmodels', 'BETAS0', 'Final_parameters', 'models', 'Conn_Matrix', '__version__', 'SIGMAS0', 'BETAS_est', 'Nsubjects', 'ref_pattern'])"
      ]
     },
     "execution_count": 7,
     "metadata": {},
     "output_type": "execute_result"
    }
   ],
   "source": [
    "mat.keys()"
   ]
  },
  {
   "cell_type": "code",
   "execution_count": 8,
   "metadata": {
    "collapsed": false
   },
   "outputs": [
    {
     "data": {
      "text/plain": [
       "array([19, 58,  1], dtype=uint8)"
      ]
     },
     "execution_count": 8,
     "metadata": {},
     "output_type": "execute_result"
    }
   ],
   "source": [
    "mat['models'][0,0][0][0]"
   ]
  },
  {
   "cell_type": "code",
   "execution_count": 6,
   "metadata": {
    "collapsed": false
   },
   "outputs": [
    {
     "data": {
      "text/html": [
       "<div>\n",
       "<table border=\"1\" class=\"dataframe\">\n",
       "  <thead>\n",
       "    <tr style=\"text-align: right;\">\n",
       "      <th></th>\n",
       "      <th>integer_label</th>\n",
       "      <th>label</th>\n",
       "    </tr>\n",
       "  </thead>\n",
       "  <tbody>\n",
       "    <tr>\n",
       "      <th>0</th>\n",
       "      <td>1</td>\n",
       "      <td>Caudal anterior cingulate</td>\n",
       "    </tr>\n",
       "    <tr>\n",
       "      <th>1</th>\n",
       "      <td>2</td>\n",
       "      <td>Caudal middle frontal</td>\n",
       "    </tr>\n",
       "    <tr>\n",
       "      <th>2</th>\n",
       "      <td>3</td>\n",
       "      <td>Cuneus</td>\n",
       "    </tr>\n",
       "    <tr>\n",
       "      <th>3</th>\n",
       "      <td>4</td>\n",
       "      <td>entorinal</td>\n",
       "    </tr>\n",
       "    <tr>\n",
       "      <th>4</th>\n",
       "      <td>5</td>\n",
       "      <td>fusiform</td>\n",
       "    </tr>\n",
       "  </tbody>\n",
       "</table>\n",
       "</div>"
      ],
      "text/plain": [
       "   integer_label                       label\n",
       "0              1   Caudal anterior cingulate\n",
       "1              2       Caudal middle frontal\n",
       "2              3                      Cuneus\n",
       "3              4                   entorinal\n",
       "4              5                    fusiform"
      ]
     },
     "execution_count": 6,
     "metadata": {},
     "output_type": "execute_result"
    }
   ],
   "source": [
    "labs = pandas.read_csv('/Users/jakevogel/git/pycourse_vuMC/stuff/dst_labels.csv', header=None)\n",
    "labs.columns = ['integer_label', 'label']\n",
    "labs.head()"
   ]
  },
  {
   "cell_type": "code",
   "execution_count": 9,
   "metadata": {
    "collapsed": false
   },
   "outputs": [
    {
     "data": {
      "text/plain": [
       "dict_keys(['Conn_Matrix', 'model_solutions0', 'model_RMSEs0', 'time_range', 'DELTAS0', 'AGEs', '__globals__', 'model_times0', 'MUS0', 'SIGMAS0', 'h_integration', 'Nsubjects', 'num_repetitions', 'Nparameters', 'BETAS0', '__version__', 'model_parameters0', '__header__', 'Long_Matrix', 'model_CORRs0', 'ref_pattern'])"
      ]
     },
     "execution_count": 9,
     "metadata": {},
     "output_type": "execute_result"
    }
   ],
   "source": [
    "mat.keys()"
   ]
  },
  {
   "cell_type": "code",
   "execution_count": 18,
   "metadata": {
    "collapsed": false
   },
   "outputs": [
    {
     "data": {
      "text/plain": [
       "(236,)"
      ]
     },
     "execution_count": 18,
     "metadata": {},
     "output_type": "execute_result"
    }
   ],
   "source": [
    "mat['model_RMSEs0'].flatten().shape"
   ]
  },
  {
   "cell_type": "code",
   "execution_count": 25,
   "metadata": {
    "collapsed": false
   },
   "outputs": [],
   "source": [
    "def get_results(mat, sids, save=True, labels = None, lit = False):\n",
    "\n",
    "    if not lit:\n",
    "        res = pandas.DataFrame(index = sids)\n",
    "        for i in range(len(mat['ref_pattern'][0])):\n",
    "            # Model fits\n",
    "            sid = sids[i]\n",
    "            r,p = stats.pearsonr(mat['ref_pattern'][:,i], mat['Final_solutions'][:,i])\n",
    "            res.loc[sid,'model_r'] = r\n",
    "            res.loc[sid,'model_r2'] = r**2\n",
    "        res.loc[:, 'model_RMSE'] = mat['Final_RMSEs'].flatten()\n",
    "        res.loc[:, 'model_eval'] = mat['Final_CORRs'].flatten()\n",
    "\n",
    "        if save:\n",
    "            # params\n",
    "            res.loc[:, 'beta'] = mat['Final_parameters'][0,:].flatten()\n",
    "            res.loc[:, 'delta'] = mat['Final_parameters'][1,:].flatten()\n",
    "            res.loc[:, 'sigma'] = mat['Final_parameters'][2,:].flatten()\n",
    "\n",
    "            # other\n",
    "            res.loc[:, 'ref_age'] = mat['AGEs'].flatten()\n",
    "            res.loc[:, 'times'] = mat['Final_times'].flatten()\n",
    "            res.loc[:, 'Onset_age'] = mat['ONSETS_est'].flatten()\n",
    "\n",
    "        print('average r2 = ', res.model_r2.mean())\n",
    "        print('average RMSE =', res.model_RMSE.mean())\n",
    "        print('average eval =', res.model_eval.mean())\n",
    "\n",
    "        if type(labels) != type(None):\n",
    "            print('model identfied the following epicenters')\n",
    "            for l in mat['models'][0,0][0][0]:\n",
    "                print(labels.iloc[l-1]['label'])\n",
    "\n",
    "        if save:\n",
    "            return res\n",
    "        \n",
    "    else:\n",
    "        res = pandas.DataFrame(index = sids)\n",
    "        for i in range(len(mat['ref_pattern'][0])):\n",
    "            # Model fits\n",
    "            sid = sids[i]\n",
    "            r,p = stats.pearsonr(mat['ref_pattern'][:,i], mat['model_solutions0'][:,i])\n",
    "            res.loc[sid,'model_r'] = r\n",
    "            res.loc[sid,'model_r2'] = r**2\n",
    "        res.loc[:, 'model_RMSE'] = mat['model_RMSEs0'].flatten()\n",
    "        res.loc[:, 'model_eval'] = mat['model_CORRs0'].flatten()\n",
    "\n",
    "        if save:\n",
    "            # params\n",
    "            res.loc[:, 'beta'] = mat['model_parameters0'][0,:].flatten()\n",
    "            res.loc[:, 'delta'] = mat['model_parameters0'][1,:].flatten()\n",
    "            res.loc[:, 'sigma'] = mat['model_parameters0'][2,:].flatten()\n",
    "\n",
    "            # other\n",
    "            res.loc[:, 'ref_age'] = mat['AGEs'].flatten()\n",
    "            res.loc[:, 'times'] = mat['model_times0'].flatten()\n",
    "            #res.loc[:, 'Onset_age'] = mat['ONSETS_est'].flatten()\n",
    "\n",
    "        print('average r2 = ', res.model_r2.mean())\n",
    "        print('average RMSE =', res.model_RMSE.mean())\n",
    "        print('average eval =', res.model_eval.mean())\n",
    "\n",
    "        #if type(labels) != type(None):\n",
    "        #    print('model identfied the following epicenters')\n",
    "        #    for l in mat['models'][0,0][0][0]:\n",
    "        #        print(labels.iloc[l-1]['label'])\n",
    "\n",
    "        if save:\n",
    "            return res"
   ]
  },
  {
   "cell_type": "code",
   "execution_count": 63,
   "metadata": {
    "collapsed": false
   },
   "outputs": [
    {
     "name": "stdout",
     "output_type": "stream",
     "text": [
      "average r2 =  0.2100235457356556\n",
      "average RMSE = 0.23565004317164645\n",
      "average eval = 0.5163690166852205\n"
     ]
    }
   ],
   "source": [
    "#res = get_results(mat, sids, labels=labs)\n",
    "res = get_results(mat, sids, labels=labs, lit=True) #RW MMC2"
   ]
  },
  {
   "cell_type": "code",
   "execution_count": 53,
   "metadata": {
    "collapsed": false
   },
   "outputs": [
    {
     "name": "stdout",
     "output_type": "stream",
     "text": [
      "average r2 =  0.026180425993113734\n",
      "average RMSE = 0.02540973353471446\n",
      "average eval = 4.644414665034114\n"
     ]
    }
   ],
   "source": [
    "#res = get_results(mat, sids, labels=labs)\n",
    "res = get_results(mat, sids, labels=labs, lit=True) #VW MMC2"
   ]
  },
  {
   "cell_type": "code",
   "execution_count": 45,
   "metadata": {
    "collapsed": false
   },
   "outputs": [
    {
     "name": "stdout",
     "output_type": "stream",
     "text": [
      "average r2 =  0.09237954348242015\n",
      "average RMSE = 0.14806691792068957\n",
      "average eval = 0.7869650098587192\n"
     ]
    }
   ],
   "source": [
    "#res = get_results(mat, sids, labels=labs)\n",
    "res = get_results(mat, sids, labels=labs, lit=True) #Ref_normed"
   ]
  },
  {
   "cell_type": "code",
   "execution_count": 12,
   "metadata": {
    "collapsed": false
   },
   "outputs": [
    {
     "data": {
      "text/plain": [
       "Index(['APOE4', 'FDG', 'PIB', 'AV45', 'CDRSB', 'ADAS11', 'ADAS13', 'MMSE',\n",
       "       'RAVLT_immediate', 'RAVLT_learning', 'RAVLT_forgetting',\n",
       "       'RAVLT_perc_forgetting'],\n",
       "      dtype='object')"
      ]
     },
     "execution_count": 12,
     "metadata": {},
     "output_type": "execute_result"
    }
   ],
   "source": [
    "df.columns[18:30]"
   ]
  },
  {
   "cell_type": "code",
   "execution_count": null,
   "metadata": {
    "collapsed": true
   },
   "outputs": [],
   "source": [
    "sidf.A"
   ]
  },
  {
   "cell_type": "code",
   "execution_count": 64,
   "metadata": {
    "collapsed": false
   },
   "outputs": [],
   "source": [
    "# add demos\n",
    "#res.loc[:,'amyloid'] = df.av45_status_wcb.values\n",
    "#res.loc[:,'DX'] = df.DX_final.values\n",
    "#res.loc[:,'Age'] = df.AGE.values\n",
    "#res.loc[:,'Gender'] = df.PTGENDER.values\n",
    "#res.loc[:,'Education'] = df.PTEDUCAT.values\n",
    "#res.loc[:,'ApoE4'] = df.APOE4.values\n",
    "\n",
    "res.loc[:,'amyloid'] = sidf.loc[gind].av45_status.values\n",
    "res.loc[:,'DX'] = sidf.loc[gind].DX_fill.values\n",
    "res.loc[:,'Age'] = sidf.loc[gind].AGE.values\n",
    "res.loc[:,'Gender'] = sidf.loc[gind].PTGENDER.values\n",
    "res.loc[:,'Education'] = sidf.loc[gind].PTEDUCAT.values\n",
    "res.loc[:,'ApoE4'] = sidf.loc[gind].APOE4.values"
   ]
  },
  {
   "cell_type": "code",
   "execution_count": 65,
   "metadata": {
    "collapsed": false
   },
   "outputs": [
    {
     "data": {
      "text/plain": [
       "71.34576271186438"
      ]
     },
     "execution_count": 65,
     "metadata": {},
     "output_type": "execute_result"
    }
   ],
   "source": [
    "res.Age.mean()"
   ]
  },
  {
   "cell_type": "code",
   "execution_count": 66,
   "metadata": {
    "collapsed": false
   },
   "outputs": [
    {
     "data": {
      "text/plain": [
       "71.34576271186438"
      ]
     },
     "execution_count": 66,
     "metadata": {},
     "output_type": "execute_result"
    }
   ],
   "source": [
    "res.ref_age.mean()"
   ]
  },
  {
   "cell_type": "code",
   "execution_count": 67,
   "metadata": {
    "collapsed": false
   },
   "outputs": [
    {
     "ename": "AttributeError",
     "evalue": "'float' object has no attribute 'replace'",
     "output_type": "error",
     "traceback": [
      "\u001b[0;31m---------------------------------------------------------------------------\u001b[0m",
      "\u001b[0;31mAttributeError\u001b[0m                            Traceback (most recent call last)",
      "\u001b[0;32m<ipython-input-67-2f2626965988>\u001b[0m in \u001b[0;36m<module>\u001b[0;34m()\u001b[0m\n\u001b[0;32m----> 1\u001b[0;31m \u001b[0mrefdf\u001b[0m\u001b[0;34m.\u001b[0m\u001b[0mindex\u001b[0m \u001b[0;34m=\u001b[0m \u001b[0;34m[\u001b[0m\u001b[0mx\u001b[0m\u001b[0;34m.\u001b[0m\u001b[0mreplace\u001b[0m\u001b[0;34m(\u001b[0m\u001b[0;34m'_'\u001b[0m\u001b[0;34m,\u001b[0m\u001b[0;34m'-'\u001b[0m\u001b[0;34m)\u001b[0m \u001b[0;32mfor\u001b[0m \u001b[0mx\u001b[0m \u001b[0;32min\u001b[0m \u001b[0mrefdf\u001b[0m\u001b[0;34m.\u001b[0m\u001b[0mPTID\u001b[0m\u001b[0;34m]\u001b[0m\u001b[0;34m\u001b[0m\u001b[0m\n\u001b[0m",
      "\u001b[0;32m<ipython-input-67-2f2626965988>\u001b[0m in \u001b[0;36m<listcomp>\u001b[0;34m(.0)\u001b[0m\n\u001b[0;32m----> 1\u001b[0;31m \u001b[0mrefdf\u001b[0m\u001b[0;34m.\u001b[0m\u001b[0mindex\u001b[0m \u001b[0;34m=\u001b[0m \u001b[0;34m[\u001b[0m\u001b[0mx\u001b[0m\u001b[0;34m.\u001b[0m\u001b[0mreplace\u001b[0m\u001b[0;34m(\u001b[0m\u001b[0;34m'_'\u001b[0m\u001b[0;34m,\u001b[0m\u001b[0;34m'-'\u001b[0m\u001b[0;34m)\u001b[0m \u001b[0;32mfor\u001b[0m \u001b[0mx\u001b[0m \u001b[0;32min\u001b[0m \u001b[0mrefdf\u001b[0m\u001b[0;34m.\u001b[0m\u001b[0mPTID\u001b[0m\u001b[0;34m]\u001b[0m\u001b[0;34m\u001b[0m\u001b[0m\n\u001b[0m",
      "\u001b[0;31mAttributeError\u001b[0m: 'float' object has no attribute 'replace'"
     ]
    }
   ],
   "source": [
    "refdf.index = [x.replace('_','-') for x in refdf.PTID]"
   ]
  },
  {
   "cell_type": "code",
   "execution_count": 68,
   "metadata": {
    "collapsed": false
   },
   "outputs": [
    {
     "data": {
      "image/png": "[encoded data removed]",
      "text/plain": [
       "<matplotlib.figure.Figure at 0x110fd24a8>"
      ]
     },
     "metadata": {},
     "output_type": "display_data"
    }
   ],
   "source": [
    "plt.close()\n",
    "sns.lmplot('Age','ref_age',data=res)\n",
    "plt.show()"
   ]
  },
  {
   "cell_type": "code",
   "execution_count": 69,
   "metadata": {
    "collapsed": false
   },
   "outputs": [
    {
     "data": {
      "image/png": "[encoded data removed]",
      "text/plain": [
       "<matplotlib.figure.Figure at 0x110a86908>"
      ]
     },
     "metadata": {},
     "output_type": "display_data"
    }
   ],
   "source": [
    "plt.close()\n",
    "sns.barplot('amyloid','model_r',data=res)\n",
    "plt.show()"
   ]
  },
  {
   "cell_type": "code",
   "execution_count": 70,
   "metadata": {
    "collapsed": false
   },
   "outputs": [
    {
     "data": {
      "image/png": "[encoded data removed]",
      "text/plain": [
       "<matplotlib.figure.Figure at 0x1111353c8>"
      ]
     },
     "metadata": {},
     "output_type": "display_data"
    }
   ],
   "source": [
    "plt.close()\n",
    "sns.barplot('DX','model_r',data=res)\n",
    "plt.show()"
   ]
  },
  {
   "cell_type": "code",
   "execution_count": 50,
   "metadata": {
    "collapsed": false
   },
   "outputs": [
    {
     "data": {
      "image/png": "[encoded data removed]",
      "text/plain": [
       "<matplotlib.figure.Figure at 0x110b02748>"
      ]
     },
     "metadata": {},
     "output_type": "display_data"
    }
   ],
   "source": [
    "plt.close()\n",
    "sns.barplot('DX','model_r',data=res)\n",
    "plt.show()"
   ]
  },
  {
   "cell_type": "code",
   "execution_count": 71,
   "metadata": {
    "collapsed": false
   },
   "outputs": [
    {
     "name": "stdout",
     "output_type": "stream",
     "text": [
      "model_r 2.1258192561 0.0345660273281\n",
      "model_r2 2.74629171416 0.00649590239212\n",
      "delta -2.75735377912 0.00628692329553\n",
      "ref_age -2.70665569496 0.00729732240497\n",
      "amyloid -inf 0.0\n"
     ]
    }
   ],
   "source": [
    "for col in res.columns[:10]:\n",
    "    t,p = stats.ttest_ind(res[res.amyloid==0][col],\n",
    "                         res[res.amyloid==1][col])\n",
    "    if p<0.05:\n",
    "        print(col,t,p)"
   ]
  },
  {
   "cell_type": "code",
   "execution_count": 72,
   "metadata": {
    "collapsed": false
   },
   "outputs": [
    {
     "data": {
      "image/png": "[encoded data removed]",
      "text/plain": [
       "<matplotlib.figure.Figure at 0x111150cf8>"
      ]
     },
     "metadata": {},
     "output_type": "display_data"
    }
   ],
   "source": [
    "plt.close()\n",
    "sns.barplot('amyloid','delta',data=res)\n",
    "plt.show()"
   ]
  },
  {
   "cell_type": "code",
   "execution_count": 73,
   "metadata": {
    "collapsed": false
   },
   "outputs": [
    {
     "name": "stdout",
     "output_type": "stream",
     "text": [
      "model_r2 3.23653869089 0.041073320039\n",
      "amyloid 18.1980116011 4.5330684855e-08\n"
     ]
    }
   ],
   "source": [
    "for col in res.columns[:10]:\n",
    "    f,p = stats.f_oneway(res[res.DX=='NL'][col],\n",
    "                         res[res.DX=='MCI'][col],\n",
    "                        res[res.DX=='Dementia'][col])\n",
    "    if p<0.05:\n",
    "        print(col,f,p)"
   ]
  },
  {
   "cell_type": "code",
   "execution_count": 24,
   "metadata": {
    "collapsed": false
   },
   "outputs": [
    {
     "data": {
      "image/png": "[encoded data removed]",
      "text/plain": [
       "<matplotlib.figure.Figure at 0x110f49cf8>"
      ]
     },
     "metadata": {},
     "output_type": "display_data"
    }
   ],
   "source": [
    "plt.close()\n",
    "sns.barplot('DX','model_eval',data=res)\n",
    "plt.show()"
   ]
  },
  {
   "cell_type": "code",
   "execution_count": 74,
   "metadata": {
    "collapsed": true
   },
   "outputs": [],
   "source": [
    "res2 = pandas.DataFrame(res,copy=True)\n",
    "res2.loc[:,'subid'] = res2.index\n",
    "res2.index = range(res2.shape[0])"
   ]
  },
  {
   "cell_type": "code",
   "execution_count": 75,
   "metadata": {
    "collapsed": false
   },
   "outputs": [],
   "source": [
    "res2.loc[:,'DX_AB'] = [res2.loc[x,'DX']+'+' if res2.loc[x,'amyloid']==1 else res2.loc[x,'DX']+'-' for x in res2.index]"
   ]
  },
  {
   "cell_type": "code",
   "execution_count": 76,
   "metadata": {
    "collapsed": true
   },
   "outputs": [],
   "source": [
    "nres = pandas.DataFrame(res2,copy=True)"
   ]
  },
  {
   "cell_type": "code",
   "execution_count": 77,
   "metadata": {
    "collapsed": false
   },
   "outputs": [],
   "source": [
    "nres.loc[:,'DX_AB'] = [nres.loc[x,'DX']+'+' if nres.loc[x,'amyloid']==1 else nres.loc[x,'DX']+'-' for x in nres.index]"
   ]
  },
  {
   "cell_type": "code",
   "execution_count": 78,
   "metadata": {
    "collapsed": false
   },
   "outputs": [
    {
     "name": "stdout",
     "output_type": "stream",
     "text": [
      "model_r 2.03167713144 0.0908127335746\n",
      "model_r2 2.98241560395 0.0198895056797\n",
      "delta 1.98864364375 0.0970774177315\n",
      "ref_age 2.03342438307 0.0905666517751\n",
      "times 2.03040427604 0.090992400927\n"
     ]
    }
   ],
   "source": [
    "for col in res.columns[:10]:\n",
    "    f,p = stats.f_oneway(nres[nres.DX_AB=='NL-'][col],\n",
    "                         nres[nres.DX_AB=='NL+'][col],\n",
    "                         nres[nres.DX_AB=='MCI-'][col],\n",
    "                         nres[nres.DX_AB=='MCI+'][col],\n",
    "                        nres[nres.DX_AB=='Dementia+'][col])\n",
    "    if p<0.1:\n",
    "        print(col,f,p)"
   ]
  },
  {
   "cell_type": "code",
   "execution_count": 80,
   "metadata": {
    "collapsed": false
   },
   "outputs": [
    {
     "data": {
      "image/png": "[encoded data removed]",
      "text/plain": [
       "<matplotlib.figure.Figure at 0x112874da0>"
      ]
     },
     "metadata": {},
     "output_type": "display_data"
    }
   ],
   "source": [
    "plt.close()\n",
    "sns.barplot('DX_AB','model_r2',data=res2)\n",
    "plt.show()"
   ]
  },
  {
   "cell_type": "code",
   "execution_count": 83,
   "metadata": {
    "collapsed": false
   },
   "outputs": [
    {
     "data": {
      "image/png": "[encoded data removed]",
      "text/plain": [
       "<matplotlib.figure.Figure at 0x104398d30>"
      ]
     },
     "metadata": {},
     "output_type": "display_data"
    }
   ],
   "source": [
    "plt.close()\n",
    "sns.barplot('DX_AB','times',data=res2)\n",
    "plt.show()"
   ]
  },
  {
   "cell_type": "code",
   "execution_count": 81,
   "metadata": {
    "collapsed": false
   },
   "outputs": [
    {
     "name": "stdout",
     "output_type": "stream",
     "text": [
      "ref_age 3.27152376404 0.00124516675904\n",
      "times 2.82675860841 0.00514365738869\n",
      "amyloid -3.97320124571 9.664771435e-05\n"
     ]
    }
   ],
   "source": [
    "for col in res.columns[:10]:\n",
    "    t,p = stats.ttest_ind(res[res.ApoE4==0][col],\n",
    "                         res[res.ApoE4==1][col])\n",
    "    if p<0.05:\n",
    "        print(col,t,p)"
   ]
  },
  {
   "cell_type": "code",
   "execution_count": 84,
   "metadata": {
    "collapsed": false
   },
   "outputs": [
    {
     "data": {
      "image/png": "[encoded data removed]",
      "text/plain": [
       "<matplotlib.figure.Figure at 0x11282a198>"
      ]
     },
     "metadata": {},
     "output_type": "display_data"
    }
   ],
   "source": [
    "plt.close()\n",
    "sns.barplot('ApoE4','times',data=res2)\n",
    "plt.show()"
   ]
  },
  {
   "cell_type": "code",
   "execution_count": 85,
   "metadata": {
    "collapsed": true
   },
   "outputs": [],
   "source": [
    "for col in res.columns[:10]:\n",
    "    t,p = stats.ttest_ind(res[res.Gender==0][col],\n",
    "                         res[res.Gender==1][col])\n",
    "    if p<0.05:\n",
    "        print(col,t,p)"
   ]
  },
  {
   "cell_type": "code",
   "execution_count": 86,
   "metadata": {
    "collapsed": false
   },
   "outputs": [
    {
     "name": "stdout",
     "output_type": "stream",
     "text": [
      "amyloid -0.168715076835 0.00941159127747\n"
     ]
    }
   ],
   "source": [
    "for col in res.columns[:10]:\n",
    "    r,p = stats.pearsonr(res[col], res['Education'])\n",
    "    if p<0.05:\n",
    "        print(col,r,p)"
   ]
  },
  {
   "cell_type": "code",
   "execution_count": 33,
   "metadata": {
    "collapsed": true
   },
   "outputs": [],
   "source": [
    "# look at regional accuracy across subjects\n",
    "# look at subject accuracy across regions\n",
    "# look at relationship between total tau(P) and model fit params\n",
    "# make average images for disease-ab groups for true and predicted probabilities\n",
    "# examine probability metrics\n",
    "\n"
   ]
  },
  {
   "cell_type": "code",
   "execution_count": 34,
   "metadata": {
    "collapsed": false
   },
   "outputs": [
    {
     "data": {
      "text/plain": [
       "dict_keys(['Final_times', 'Final_RMSEs', 'Final_solutions', 'Final_CORRs', 'Nparameters', '__header__', 'Nnodes', 'num_repetitions', 'MUS0', 'h_integration', 'time_range', 'Long_Matrix', 'ONSETS_est', '__globals__', 'AGEs', 'DELTAS0', 'DELTAS_est', 'Nmodels', 'BETAS0', 'Final_parameters', 'models', 'Conn_Matrix', '__version__', 'SIGMAS0', 'BETAS_est', 'Nsubjects', 'ref_pattern'])"
      ]
     },
     "execution_count": 34,
     "metadata": {},
     "output_type": "execute_result"
    }
   ],
   "source": [
    "mat.keys()"
   ]
  },
  {
   "cell_type": "code",
   "execution_count": 90,
   "metadata": {
    "collapsed": false
   },
   "outputs": [
    {
     "data": {
      "image/png": "[encoded data removed]",
      "text/plain": [
       "<matplotlib.figure.Figure at 0x110ae76a0>"
      ]
     },
     "metadata": {},
     "output_type": "display_data"
    },
    {
     "name": "stdout",
     "output_type": "stream",
     "text": [
      "r2 =  0.415933682503\n"
     ]
    }
   ],
   "source": [
    "# look at regional accuracy across subjects\n",
    "plt.close()\n",
    "#sns.regplot(mat['ref_pattern'].mean(1), mat['Final_solutions'].mean(1))\n",
    "sns.regplot(mat['ref_pattern'].mean(1), mat['model_solutions0'].mean(1))\n",
    "plt.xlabel('Avg ROI tau Probability Across Subjects')\n",
    "plt.ylabel('Avg Predicted ROI tau Probability Across Subjects')\n",
    "plt.show()\n",
    "r,p = stats.pearsonr(mat['ref_pattern'].mean(1), mat['model_solutions0'].mean(1))\n",
    "print('r2 = ',r**2)"
   ]
  },
  {
   "cell_type": "code",
   "execution_count": 36,
   "metadata": {
    "collapsed": false
   },
   "outputs": [
    {
     "data": {
      "text/plain": [
       "[34, 38, 73, 77]"
      ]
     },
     "execution_count": 36,
     "metadata": {},
     "output_type": "execute_result"
    }
   ],
   "source": [
    "jnk = mat['ref_pattern'].mean(1)\n",
    "[i for i in range(len(jnk)) if jnk[i] <0.49]"
   ]
  },
  {
   "cell_type": "code",
   "execution_count": 60,
   "metadata": {
    "collapsed": false
   },
   "outputs": [
    {
     "data": {
      "text/plain": [
       "integer_label           78\n",
       "label             Thalamus\n",
       "Name: 77, dtype: object"
      ]
     },
     "execution_count": 60,
     "metadata": {},
     "output_type": "execute_result"
    }
   ],
   "source": [
    "labs.loc[77]"
   ]
  },
  {
   "cell_type": "code",
   "execution_count": 49,
   "metadata": {
    "collapsed": false
   },
   "outputs": [],
   "source": [
    "lablist = list(range(len(mat['ref_pattern'].mean(1))))\n",
    "todel = [i for i in range(len(jnk)) if jnk[i] <0.49]\n",
    "for i,lab in enumerate(todel):\n",
    "    lablist.remove(lab)\n",
    "jref = mat['ref_pattern'].mean(1)[lablist]\n",
    "jpred = mat['Final_solutions'].mean(1)[lablist]"
   ]
  },
  {
   "cell_type": "code",
   "execution_count": 52,
   "metadata": {
    "collapsed": false
   },
   "outputs": [
    {
     "data": {
      "image/png": "[encoded data removed]",
      "text/plain": [
       "<matplotlib.figure.Figure at 0x112e8d780>"
      ]
     },
     "metadata": {},
     "output_type": "display_data"
    }
   ],
   "source": [
    "# look at regional accuracy across subjects\n",
    "plt.close()\n",
    "sns.regplot(jref, jpred)\n",
    "plt.xlabel('Avg ROI tau Probability Across Subjects')\n",
    "plt.ylabel('Avg Predicted ROI tau Probability Across Subjects')\n",
    "plt.show()"
   ]
  },
  {
   "cell_type": "code",
   "execution_count": 91,
   "metadata": {
    "collapsed": false
   },
   "outputs": [
    {
     "data": {
      "image/png": "[encoded data removed]",
      "text/plain": [
       "<matplotlib.figure.Figure at 0x1111373c8>"
      ]
     },
     "metadata": {},
     "output_type": "display_data"
    }
   ],
   "source": [
    "# look at subject accuracy across regions\n",
    "plt.close()\n",
    "#sns.regplot(mat['ref_pattern'].mean(0), mat['Final_solutions'].mean(0))\n",
    "sns.regplot(mat['ref_pattern'].mean(0), mat['model_solutions0'].mean(0))\n",
    "plt.xlabel('Within-subject avg Tau Probability')\n",
    "plt.ylabel('Predicted Within-subject avg Tau Probability')\n",
    "plt.show()"
   ]
  },
  {
   "cell_type": "code",
   "execution_count": 94,
   "metadata": {
    "collapsed": false
   },
   "outputs": [],
   "source": [
    "#res.loc[:,'pred_avg_tau_prob'] = mat['Final_solutions'].mean(0)\n",
    "res.loc[:,'pred_avg_tau_prob'] = mat['model_solutions0'].mean(0)\n",
    "res.loc[:,'avg_tau_prob'] = mat['ref_pattern'].mean(0)"
   ]
  },
  {
   "cell_type": "code",
   "execution_count": 47,
   "metadata": {
    "collapsed": false
   },
   "outputs": [
    {
     "data": {
      "image/png": "[encoded data removed]",
      "text/plain": [
       "<matplotlib.figure.Figure at 0x1127e79b0>"
      ]
     },
     "metadata": {},
     "output_type": "display_data"
    }
   ],
   "source": [
    "# look at subject accuracy across regions\n",
    "plt.close()\n",
    "sns.lmplot('avg_tau_prob', 'pred_avg_tau_prob',data=res,hue='DX')\n",
    "plt.show()"
   ]
  },
  {
   "cell_type": "code",
   "execution_count": 245,
   "metadata": {
    "collapsed": true
   },
   "outputs": [],
   "source": [
    "plt.subplots?"
   ]
  },
  {
   "cell_type": "code",
   "execution_count": 95,
   "metadata": {
    "collapsed": false
   },
   "outputs": [
    {
     "data": {
      "image/png": "[encoded data removed]",
      "text/plain": [
       "<matplotlib.figure.Figure at 0x112847e80>"
      ]
     },
     "metadata": {},
     "output_type": "display_data"
    },
    {
     "name": "stdout",
     "output_type": "stream",
     "text": [
      "model_r 0.213672984912 0.000955505472297\n",
      "model_r2 0.193524751309 0.00283140206137\n",
      "model_RMSE 0.574470477949 4.01286291881e-22\n"
     ]
    }
   ],
   "source": [
    "# look at relationship between total tau(P) and model fit params\n",
    "plt.close()\n",
    "fig, axes = plt.subplots(ncols=3,sharex=True,figsize = (14,6))\n",
    "for i,col in enumerate(res.columns[:3]):\n",
    "    sns.regplot('avg_tau_prob', col, data=res, ax = axes[i])\n",
    "\n",
    "plt.show()\n",
    "for col in res.columns[:3]:\n",
    "    r,p = stats.pearsonr(res[col], res['avg_tau_prob'])\n",
    "    print(col,r,p)"
   ]
  },
  {
   "cell_type": "code",
   "execution_count": 96,
   "metadata": {
    "collapsed": false
   },
   "outputs": [],
   "source": [
    "# make average images for disease-ab groups for true and predicted probabilities\n",
    "labs = pandas.read_csv('/Users/jakevogel/git/pycourse_vuMC/stuff/dst_labels.csv',header=None)\n",
    "labs.columns = ['int_lab','str_lab']\n",
    "labs.str_lab = [x.lstrip() for x in labs.str_lab]\n",
    "njnk = ni.load('/Users/jakevogel/Science/tau/dkt_atlas_1p5mm.nii')\n",
    "atl = njnk.get_data()"
   ]
  },
  {
   "cell_type": "code",
   "execution_count": 106,
   "metadata": {
    "collapsed": false
   },
   "outputs": [
    {
     "data": {
      "text/plain": [
       "(78,)"
      ]
     },
     "execution_count": 106,
     "metadata": {},
     "output_type": "execute_result"
    }
   ],
   "source": [
    "labs['int_lab'][:78].shape\n",
    "refT.columns.shape"
   ]
  },
  {
   "cell_type": "code",
   "execution_count": 117,
   "metadata": {
    "collapsed": false
   },
   "outputs": [],
   "source": [
    "refT = pandas.DataFrame(mat['ref_pattern']).transpose()\n",
    "refT.index = res2.index\n",
    "refT.columns = labs['int_lab'][:78]\n",
    "#predT = pandas.DataFrame(mat['Final_solutions']).transpose()\n",
    "predT = pandas.DataFrame(mat['model_solutions0']).transpose()\n",
    "predT.index = res2.index\n",
    "predT.columns = labs['int_lab'][:78]"
   ]
  },
  {
   "cell_type": "code",
   "execution_count": 116,
   "metadata": {
    "collapsed": false
   },
   "outputs": [
    {
     "data": {
      "text/plain": [
       "Int64Index([  0,   1,   4,   6,   9,  15,  16,  17,  18,  20,  21,  22,  23,\n",
       "             24,  30,  31,  32,  33,  35,  36,  40,  41,  42,  46,  48,  49,\n",
       "             52,  53,  54,  56,  57,  58,  60,  62,  64,  65,  66,  67,  68,\n",
       "             73,  75,  77,  78,  80,  82,  83,  85,  86,  87,  88,  90,  92,\n",
       "             93,  95,  97,  98,  99, 101, 102, 106, 108, 111, 113, 114, 115,\n",
       "            116, 117, 118, 119, 120, 121, 123, 124, 125],\n",
       "           dtype='int64')"
      ]
     },
     "execution_count": 116,
     "metadata": {},
     "output_type": "execute_result"
    }
   ],
   "source": [
    "res2[res2.DX_AB==dx].index"
   ]
  },
  {
   "cell_type": "code",
   "execution_count": 120,
   "metadata": {
    "collapsed": false
   },
   "outputs": [
    {
     "name": "stdout",
     "output_type": "stream",
     "text": [
      "created ESM_reference_values_NL-\n",
      "created ESM_predicted_values_NL-\n",
      "created ESM_reference_values_MCI-\n",
      "created ESM_predicted_values_MCI-\n",
      "created ESM_reference_values_Dementia-\n",
      "created ESM_predicted_values_Dementia-\n",
      "created ESM_reference_values_MCI+\n",
      "created ESM_predicted_values_MCI+\n",
      "created ESM_reference_values_Dementia+\n",
      "created ESM_predicted_values_Dementia+\n",
      "created ESM_reference_values_NL+\n",
      "created ESM_predicted_values_NL+\n"
     ]
    }
   ],
   "source": [
    "dfs = {'reference': refT, 'predicted': predT}\n",
    "for dx in res2.DX_AB.unique():\n",
    "    for nm,d in dfs.items():\n",
    "        imap = np.zeros_like(atl)\n",
    "        sdf = d.loc[res2[res2.DX_AB==dx].index].mean(axis=0) \n",
    "        for roi in np.unique(atl)[1:]:\n",
    "            if roi in labs.int_lab[:78]:\n",
    "                imap[atl==roi] = sdf[roi]\n",
    "            else:\n",
    "                imap[atl==roi] = 0\n",
    "        nimg = ni.Nifti1Image(imap, njnk.affine)\n",
    "        inm = 'ESM_%s_values_%s'%(nm,dx)\n",
    "        nimg.to_filename('/Users/jakevogel/Science/tau/ESM_tau/results/March2018/%s'%inm)\n",
    "        print('created',inm)"
   ]
  },
  {
   "cell_type": "code",
   "execution_count": 324,
   "metadata": {
    "collapsed": false
   },
   "outputs": [
    {
     "data": {
      "text/plain": [
       "0.99828769746338442"
      ]
     },
     "execution_count": 324,
     "metadata": {},
     "output_type": "execute_result"
    }
   ],
   "source": [
    "sdf[1]"
   ]
  },
  {
   "cell_type": "code",
   "execution_count": null,
   "metadata": {
    "collapsed": true
   },
   "outputs": [],
   "source": []
  }
 ],
 "metadata": {
  "anaconda-cloud": {},
  "kernelspec": {
   "display_name": "Python [conda env:py3]",
   "language": "python",
   "name": "conda-env-py3-py"
  },
  "language_info": {
   "codemirror_mode": {
    "name": "ipython",
    "version": 3
   },
   "file_extension": ".py",
   "mimetype": "text/x-python",
   "name": "python",
   "nbconvert_exporter": "python",
   "pygments_lexer": "ipython3",
   "version": "3.5.2"
  }
 },
 "nbformat": 4,
 "nbformat_minor": 1
}
