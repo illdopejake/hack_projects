{
 "cells": [
  {
   "cell_type": "code",
   "execution_count": 1,
   "metadata": {
    "collapsed": true
   },
   "outputs": [],
   "source": [
    "import pandas\n",
    "import os\n",
    "import itertools\n",
    "import numpy as np\n",
    "import nibabel as ni\n",
    "import matplotlib.pyplot as plt\n",
    "import seaborn as sns\n",
    "import statsmodels.formula.api as smf\n",
    "from glob import glob\n",
    "from scipy import stats\n",
    "from sklearn.decomposition import PCA\n",
    "from sklearn.manifold import TSNE\n",
    "from sklearn.preprocessing import StandardScaler, MinMaxScaler\n",
    "from sklearn import model_selection, linear_model\n",
    "from sklearn import mixture\n",
    "from nilearn import image, plotting\n",
    "from mpl_toolkits.mplot3d import Axes3D"
   ]
  },
  {
   "cell_type": "code",
   "execution_count": 4,
   "metadata": {
    "collapsed": true
   },
   "outputs": [],
   "source": [
    "def convert_coords(coord, to_what = 'mni', vs = 1):\n",
    "    origin = [90, 126, 72]\n",
    "    origin = (np.array(origin) / vs).astype(int).tolist()\n",
    "    x,y,z = coord[0],coord[1],coord[2]\n",
    "    \n",
    "    if to_what == 'mni':\n",
    "        x = (origin[0]-x)*vs\n",
    "        y = (y-origin[1])*vs\n",
    "        z = (z-origin[2])*vs\n",
    "        \n",
    "    elif to_what == 'xyz':\n",
    "        x=origin[0]- x/vs\n",
    "        y=y/vs + origin[1]\n",
    "        z=z/vs + origin[2]\n",
    "        \n",
    "    else:\n",
    "        raise IOError('please set to_what to either mni or xyz')\n",
    "    \n",
    "    return x,y,z"
   ]
  },
  {
   "cell_type": "code",
   "execution_count": 5,
   "metadata": {
    "collapsed": false
   },
   "outputs": [
    {
     "data": {
      "text/html": [
       "<div>\n",
       "<table border=\"1\" class=\"dataframe\">\n",
       "  <thead>\n",
       "    <tr style=\"text-align: right;\">\n",
       "      <th></th>\n",
       "      <th>donor</th>\n",
       "      <th>sample</th>\n",
       "      <th>structure_id</th>\n",
       "      <th>slab_num</th>\n",
       "      <th>well_id</th>\n",
       "      <th>slab_type</th>\n",
       "      <th>structure_acronym</th>\n",
       "      <th>structure_name</th>\n",
       "      <th>polygon_id</th>\n",
       "      <th>mri_voxel_x</th>\n",
       "      <th>mri_voxel_y</th>\n",
       "      <th>mri_voxel_z</th>\n",
       "      <th>mni_x</th>\n",
       "      <th>mni_y</th>\n",
       "      <th>mni_z</th>\n",
       "      <th>donor_label</th>\n",
       "      <th>mni_nlin_x</th>\n",
       "      <th>mni_nlin_y</th>\n",
       "      <th>mni_nlin_z</th>\n",
       "    </tr>\n",
       "  </thead>\n",
       "  <tbody>\n",
       "    <tr>\n",
       "      <th>0</th>\n",
       "      <td>10021</td>\n",
       "      <td>1</td>\n",
       "      <td>4322</td>\n",
       "      <td>10</td>\n",
       "      <td>5705</td>\n",
       "      <td>CX</td>\n",
       "      <td>Cl</td>\n",
       "      <td>claustrum, left</td>\n",
       "      <td>978619</td>\n",
       "      <td>120</td>\n",
       "      <td>91</td>\n",
       "      <td>71</td>\n",
       "      <td>-29.2</td>\n",
       "      <td>5.8</td>\n",
       "      <td>-2.6</td>\n",
       "      <td>H0351.2002</td>\n",
       "      <td>-30.556682</td>\n",
       "      <td>4.815207</td>\n",
       "      <td>-3.825961</td>\n",
       "    </tr>\n",
       "    <tr>\n",
       "      <th>1</th>\n",
       "      <td>10021</td>\n",
       "      <td>2</td>\n",
       "      <td>4291</td>\n",
       "      <td>10</td>\n",
       "      <td>5713</td>\n",
       "      <td>CX</td>\n",
       "      <td>Acb</td>\n",
       "      <td>nucleus accumbens, left</td>\n",
       "      <td>998603</td>\n",
       "      <td>103</td>\n",
       "      <td>96</td>\n",
       "      <td>71</td>\n",
       "      <td>-10.1</td>\n",
       "      <td>5.9</td>\n",
       "      <td>-8.4</td>\n",
       "      <td>H0351.2002</td>\n",
       "      <td>-11.959526</td>\n",
       "      <td>4.812381</td>\n",
       "      <td>-9.908026</td>\n",
       "    </tr>\n",
       "    <tr>\n",
       "      <th>2</th>\n",
       "      <td>10021</td>\n",
       "      <td>3</td>\n",
       "      <td>4292</td>\n",
       "      <td>10</td>\n",
       "      <td>5721</td>\n",
       "      <td>CX</td>\n",
       "      <td>Acb</td>\n",
       "      <td>nucleus accumbens, right</td>\n",
       "      <td>998604</td>\n",
       "      <td>86</td>\n",
       "      <td>95</td>\n",
       "      <td>69</td>\n",
       "      <td>8.9</td>\n",
       "      <td>8.5</td>\n",
       "      <td>-7.4</td>\n",
       "      <td>H0351.2002</td>\n",
       "      <td>9.525111</td>\n",
       "      <td>6.206098</td>\n",
       "      <td>-10.330865</td>\n",
       "    </tr>\n",
       "    <tr>\n",
       "      <th>3</th>\n",
       "      <td>10021</td>\n",
       "      <td>4</td>\n",
       "      <td>4292</td>\n",
       "      <td>11</td>\n",
       "      <td>5729</td>\n",
       "      <td>CX</td>\n",
       "      <td>Acb</td>\n",
       "      <td>nucleus accumbens, right</td>\n",
       "      <td>999200</td>\n",
       "      <td>87</td>\n",
       "      <td>95</td>\n",
       "      <td>76</td>\n",
       "      <td>7.9</td>\n",
       "      <td>0.8</td>\n",
       "      <td>-6.7</td>\n",
       "      <td>H0351.2002</td>\n",
       "      <td>8.037896</td>\n",
       "      <td>-0.206559</td>\n",
       "      <td>-9.481507</td>\n",
       "    </tr>\n",
       "    <tr>\n",
       "      <th>4</th>\n",
       "      <td>10021</td>\n",
       "      <td>5</td>\n",
       "      <td>4314</td>\n",
       "      <td>11</td>\n",
       "      <td>5737</td>\n",
       "      <td>CX</td>\n",
       "      <td>SI</td>\n",
       "      <td>substantia innominata, right</td>\n",
       "      <td>992030</td>\n",
       "      <td>79</td>\n",
       "      <td>97</td>\n",
       "      <td>76</td>\n",
       "      <td>16.9</td>\n",
       "      <td>0.9</td>\n",
       "      <td>-9.1</td>\n",
       "      <td>H0351.2002</td>\n",
       "      <td>17.459030</td>\n",
       "      <td>-0.798126</td>\n",
       "      <td>-12.156898</td>\n",
       "    </tr>\n",
       "  </tbody>\n",
       "</table>\n",
       "</div>"
      ],
      "text/plain": [
       "   donor  sample  structure_id  slab_num  well_id slab_type structure_acronym  \\\n",
       "0  10021       1          4322        10     5705        CX                Cl   \n",
       "1  10021       2          4291        10     5713        CX               Acb   \n",
       "2  10021       3          4292        10     5721        CX               Acb   \n",
       "3  10021       4          4292        11     5729        CX               Acb   \n",
       "4  10021       5          4314        11     5737        CX                SI   \n",
       "\n",
       "                 structure_name  polygon_id  mri_voxel_x  mri_voxel_y  \\\n",
       "0               claustrum, left      978619          120           91   \n",
       "1       nucleus accumbens, left      998603          103           96   \n",
       "2      nucleus accumbens, right      998604           86           95   \n",
       "3      nucleus accumbens, right      999200           87           95   \n",
       "4  substantia innominata, right      992030           79           97   \n",
       "\n",
       "   mri_voxel_z  mni_x  mni_y  mni_z donor_label  mni_nlin_x  mni_nlin_y  \\\n",
       "0           71  -29.2    5.8   -2.6  H0351.2002  -30.556682    4.815207   \n",
       "1           71  -10.1    5.9   -8.4  H0351.2002  -11.959526    4.812381   \n",
       "2           69    8.9    8.5   -7.4  H0351.2002    9.525111    6.206098   \n",
       "3           76    7.9    0.8   -6.7  H0351.2002    8.037896   -0.206559   \n",
       "4           76   16.9    0.9   -9.1  H0351.2002   17.459030   -0.798126   \n",
       "\n",
       "   mni_nlin_z  \n",
       "0   -3.825961  \n",
       "1   -9.908026  \n",
       "2  -10.330865  \n",
       "3   -9.481507  \n",
       "4  -12.156898  "
      ]
     },
     "execution_count": 5,
     "metadata": {},
     "output_type": "execute_result"
    }
   ],
   "source": [
    "atl_path = '/Users/jakevogel/Downloads/BNA-maxprob-thr25-1mm.nii'\n",
    "gdf = pandas.read_csv('/Users/jakevogel/Science/AHBA/samples.csv')\n",
    "gdf.head()"
   ]
  },
  {
   "cell_type": "code",
   "execution_count": 78,
   "metadata": {
    "collapsed": false
   },
   "outputs": [
    {
     "name": "stderr",
     "output_type": "stream",
     "text": [
      "//anaconda/envs/py3/lib/python3.5/site-packages/matplotlib/cbook.py:136: MatplotlibDeprecationWarning: The axisbg attribute was deprecated in version 2.0. Use facecolor instead.\n",
      "  warnings.warn(message, mplDeprecation, stacklevel=1)\n"
     ]
    },
    {
     "data": {
      "image/png": "[encoded data removed]",
      "text/plain": [
       "<matplotlib.figure.Figure at 0x1113b1b38>"
      ]
     },
     "metadata": {},
     "output_type": "display_data"
    }
   ],
   "source": [
    "mni = ni.load('/Users/jakevogel/Science/tau/MNI152_T1_1mm_brain.nii')\n",
    "plt.close()\n",
    "plotting.plot_roi(ni.load('/Users/jakevogel/Downloads/BNA-maxprob-thr25-1mm.nii'), \n",
    "                  mni, draw_cross=False)\n",
    "plt.show()\n"
   ]
  },
  {
   "cell_type": "code",
   "execution_count": 13,
   "metadata": {
    "collapsed": false
   },
   "outputs": [
    {
     "data": {
      "text/plain": [
       "numpy.ndarray"
      ]
     },
     "execution_count": 13,
     "metadata": {},
     "output_type": "execute_result"
    }
   ],
   "source": [
    "type(np.arange(5)) "
   ]
  },
  {
   "cell_type": "code",
   "execution_count": 12,
   "metadata": {
    "collapsed": false
   },
   "outputs": [
    {
     "data": {
      "text/plain": [
       "True"
      ]
     },
     "execution_count": 12,
     "metadata": {},
     "output_type": "execute_result"
    }
   ],
   "source": [
    "any(x==19 for x in gdf.shape)"
   ]
  },
  {
   "cell_type": "code",
   "execution_count": 47,
   "metadata": {
    "collapsed": false
   },
   "outputs": [
    {
     "name": "stdout",
     "output_type": "stream",
     "text": [
      "checking and initializing inputs\n"
     ]
    }
   ],
   "source": [
    "atl,coords = init_and_chk_inputs(atl_path,gdf[gdf.columns[-3:]].T)"
   ]
  },
  {
   "cell_type": "code",
   "execution_count": 51,
   "metadata": {
    "collapsed": false
   },
   "outputs": [],
   "source": [
    "xyz = np.array([convert_coords(coords[x],'xyz') for x in range(coords.shape[0])]).astype(int)"
   ]
  },
  {
   "cell_type": "code",
   "execution_count": 71,
   "metadata": {
    "collapsed": false
   },
   "outputs": [],
   "source": [
    "lab_vec = atl[xyz[:,0].tolist(),xyz[:,1].tolist(),xyz[:,2].tolist()]"
   ]
  },
  {
   "cell_type": "code",
   "execution_count": 77,
   "metadata": {
    "collapsed": false
   },
   "outputs": [
    {
     "data": {
      "text/plain": [
       "1430"
      ]
     },
     "execution_count": 77,
     "metadata": {},
     "output_type": "execute_result"
    }
   ],
   "source": [
    "len(lab_vec[lab_vec==0])"
   ]
  },
  {
   "cell_type": "code",
   "execution_count": 61,
   "metadata": {
    "collapsed": false
   },
   "outputs": [
    {
     "data": {
      "text/plain": [
       "156"
      ]
     },
     "execution_count": 61,
     "metadata": {},
     "output_type": "execute_result"
    }
   ],
   "source": [
    "max(xyz[:,2])"
   ]
  },
  {
   "cell_type": "code",
   "execution_count": 59,
   "metadata": {
    "collapsed": false
   },
   "outputs": [
    {
     "data": {
      "text/plain": [
       "(182, 218, 182)"
      ]
     },
     "execution_count": 59,
     "metadata": {},
     "output_type": "execute_result"
    }
   ],
   "source": [
    "atl.shape"
   ]
  },
  {
   "cell_type": "code",
   "execution_count": 96,
   "metadata": {
    "collapsed": false
   },
   "outputs": [
    {
     "name": "stderr",
     "output_type": "stream",
     "text": [
      "//anaconda/envs/py3/lib/python3.5/site-packages/ipykernel/__main__.py:1: VisibleDeprecationWarning: using a non-integer number instead of an integer will result in an error in the future\n",
      "  if __name__ == '__main__':\n"
     ]
    }
   ],
   "source": [
    "miss_idx = [int(x) for x in lab_vec if lab_vec[x] == 0]\n",
    "miss_coords = xyz[miss_idx,0].tolist(),xyz[miss_idx,1].tolist(),xyz[miss_idx,2].tolist()"
   ]
  },
  {
   "cell_type": "code",
   "execution_count": 98,
   "metadata": {
    "collapsed": false
   },
   "outputs": [],
   "source": [
    "misses = np.zeros_like(atl)\n",
    "misses[miss_coords] = 1 \n",
    "miss_nii = ni.Nifti1Image(misses,\n",
    "                          ni.load('/Users/jakevogel/Downloads/BNA-maxprob-thr25-1mm.nii').affine)\n"
   ]
  },
  {
   "cell_type": "code",
   "execution_count": 109,
   "metadata": {
    "collapsed": false
   },
   "outputs": [
    {
     "data": {
      "text/plain": [
       "1348"
      ]
     },
     "execution_count": 109,
     "metadata": {},
     "output_type": "execute_result"
    }
   ],
   "source": [
    "len(misses[miss_coords])"
   ]
  },
  {
   "cell_type": "code",
   "execution_count": 104,
   "metadata": {
    "collapsed": true
   },
   "outputs": [],
   "source": [
    "miss_nii.to_filename('/Users/jakevogel/tmp/miss_nii')"
   ]
  },
  {
   "cell_type": "code",
   "execution_count": 103,
   "metadata": {
    "collapsed": false
   },
   "outputs": [
    {
     "name": "stderr",
     "output_type": "stream",
     "text": [
      "//anaconda/envs/py3/lib/python3.5/site-packages/matplotlib/cbook.py:136: MatplotlibDeprecationWarning: The axisbg attribute was deprecated in version 2.0. Use facecolor instead.\n",
      "  warnings.warn(message, mplDeprecation, stacklevel=1)\n"
     ]
    },
    {
     "data": {
      "image/png": "[encoded data removed]",
      "text/plain": [
       "<matplotlib.figure.Figure at 0x111949b00>"
      ]
     },
     "metadata": {},
     "output_type": "display_data"
    }
   ],
   "source": [
    "mni = ni.load('/Users/jakevogel/Science/tau/MNI152_T1_1mm_brain.nii')\n",
    "plt.close()\n",
    "plotting.plot_roi(miss_nii, mni, draw_cross=False, cmap='RdBu')\n",
    "plt.show()"
   ]
  },
  {
   "cell_type": "code",
   "execution_count": 160,
   "metadata": {
    "collapsed": false
   },
   "outputs": [
    {
     "name": "stdout",
     "output_type": "stream",
     "text": [
      "checking and initializing inputs\n",
      "extracting labels\n",
      "completed\n",
      "1430 coordinates were outside of the provided atlas\n"
     ]
    }
   ],
   "source": [
    "results = label_coordinate_by_atlas(atl_path,gdf[gdf.columns[-3:]])"
   ]
  },
  {
   "cell_type": "code",
   "execution_count": 161,
   "metadata": {
    "collapsed": false
   },
   "outputs": [
    {
     "name": "stdout",
     "output_type": "stream",
     "text": [
      "checking and initializing inputs\n",
      "extracting labels\n",
      "completed\n",
      "990 coordinates were outside of the provided atlas\n"
     ]
    }
   ],
   "source": [
    "results = label_coordinate_by_atlas(atl_path,gdf[gdf.columns[-3:]], 3)"
   ]
  },
  {
   "cell_type": "code",
   "execution_count": 163,
   "metadata": {
    "collapsed": false
   },
   "outputs": [
    {
     "data": {
      "text/html": [
       "<div>\n",
       "<table border=\"1\" class=\"dataframe\">\n",
       "  <thead>\n",
       "    <tr style=\"text-align: right;\">\n",
       "      <th></th>\n",
       "      <th>Label</th>\n",
       "    </tr>\n",
       "  </thead>\n",
       "  <tbody>\n",
       "    <tr>\n",
       "      <th>0</th>\n",
       "      <td>229.0</td>\n",
       "    </tr>\n",
       "    <tr>\n",
       "      <th>1</th>\n",
       "      <td>223.0</td>\n",
       "    </tr>\n",
       "    <tr>\n",
       "      <th>2</th>\n",
       "      <td>224.0</td>\n",
       "    </tr>\n",
       "    <tr>\n",
       "      <th>3</th>\n",
       "      <td>0.0</td>\n",
       "    </tr>\n",
       "    <tr>\n",
       "      <th>4</th>\n",
       "      <td>214.0</td>\n",
       "    </tr>\n",
       "    <tr>\n",
       "      <th>5</th>\n",
       "      <td>172.0</td>\n",
       "    </tr>\n",
       "    <tr>\n",
       "      <th>6</th>\n",
       "      <td>226.0</td>\n",
       "    </tr>\n",
       "    <tr>\n",
       "      <th>7</th>\n",
       "      <td>214.0</td>\n",
       "    </tr>\n",
       "    <tr>\n",
       "      <th>8</th>\n",
       "      <td>212.0</td>\n",
       "    </tr>\n",
       "    <tr>\n",
       "      <th>9</th>\n",
       "      <td>212.0</td>\n",
       "    </tr>\n",
       "    <tr>\n",
       "      <th>10</th>\n",
       "      <td>212.0</td>\n",
       "    </tr>\n",
       "    <tr>\n",
       "      <th>11</th>\n",
       "      <td>49.0</td>\n",
       "    </tr>\n",
       "    <tr>\n",
       "      <th>12</th>\n",
       "      <td>0.0</td>\n",
       "    </tr>\n",
       "    <tr>\n",
       "      <th>13</th>\n",
       "      <td>0.0</td>\n",
       "    </tr>\n",
       "    <tr>\n",
       "      <th>14</th>\n",
       "      <td>225.0</td>\n",
       "    </tr>\n",
       "    <tr>\n",
       "      <th>15</th>\n",
       "      <td>171.0</td>\n",
       "    </tr>\n",
       "    <tr>\n",
       "      <th>16</th>\n",
       "      <td>230.0</td>\n",
       "    </tr>\n",
       "    <tr>\n",
       "      <th>17</th>\n",
       "      <td>163.0</td>\n",
       "    </tr>\n",
       "    <tr>\n",
       "      <th>18</th>\n",
       "      <td>0.0</td>\n",
       "    </tr>\n",
       "    <tr>\n",
       "      <th>19</th>\n",
       "      <td>218.0</td>\n",
       "    </tr>\n",
       "    <tr>\n",
       "      <th>20</th>\n",
       "      <td>218.0</td>\n",
       "    </tr>\n",
       "    <tr>\n",
       "      <th>21</th>\n",
       "      <td>218.0</td>\n",
       "    </tr>\n",
       "    <tr>\n",
       "      <th>22</th>\n",
       "      <td>218.0</td>\n",
       "    </tr>\n",
       "    <tr>\n",
       "      <th>23</th>\n",
       "      <td>218.0</td>\n",
       "    </tr>\n",
       "    <tr>\n",
       "      <th>24</th>\n",
       "      <td>0.0</td>\n",
       "    </tr>\n",
       "    <tr>\n",
       "      <th>25</th>\n",
       "      <td>224.0</td>\n",
       "    </tr>\n",
       "    <tr>\n",
       "      <th>26</th>\n",
       "      <td>226.0</td>\n",
       "    </tr>\n",
       "    <tr>\n",
       "      <th>27</th>\n",
       "      <td>51.0</td>\n",
       "    </tr>\n",
       "    <tr>\n",
       "      <th>28</th>\n",
       "      <td>223.0</td>\n",
       "    </tr>\n",
       "    <tr>\n",
       "      <th>29</th>\n",
       "      <td>230.0</td>\n",
       "    </tr>\n",
       "    <tr>\n",
       "      <th>...</th>\n",
       "      <td>...</td>\n",
       "    </tr>\n",
       "    <tr>\n",
       "      <th>3672</th>\n",
       "      <td>0.0</td>\n",
       "    </tr>\n",
       "    <tr>\n",
       "      <th>3673</th>\n",
       "      <td>0.0</td>\n",
       "    </tr>\n",
       "    <tr>\n",
       "      <th>3674</th>\n",
       "      <td>0.0</td>\n",
       "    </tr>\n",
       "    <tr>\n",
       "      <th>3675</th>\n",
       "      <td>228.0</td>\n",
       "    </tr>\n",
       "    <tr>\n",
       "      <th>3676</th>\n",
       "      <td>227.0</td>\n",
       "    </tr>\n",
       "    <tr>\n",
       "      <th>3677</th>\n",
       "      <td>228.0</td>\n",
       "    </tr>\n",
       "    <tr>\n",
       "      <th>3678</th>\n",
       "      <td>141.0</td>\n",
       "    </tr>\n",
       "    <tr>\n",
       "      <th>3679</th>\n",
       "      <td>156.0</td>\n",
       "    </tr>\n",
       "    <tr>\n",
       "      <th>3680</th>\n",
       "      <td>224.0</td>\n",
       "    </tr>\n",
       "    <tr>\n",
       "      <th>3681</th>\n",
       "      <td>28.0</td>\n",
       "    </tr>\n",
       "    <tr>\n",
       "      <th>3682</th>\n",
       "      <td>79.0</td>\n",
       "    </tr>\n",
       "    <tr>\n",
       "      <th>3683</th>\n",
       "      <td>228.0</td>\n",
       "    </tr>\n",
       "    <tr>\n",
       "      <th>3684</th>\n",
       "      <td>230.0</td>\n",
       "    </tr>\n",
       "    <tr>\n",
       "      <th>3685</th>\n",
       "      <td>222.0</td>\n",
       "    </tr>\n",
       "    <tr>\n",
       "      <th>3686</th>\n",
       "      <td>221.0</td>\n",
       "    </tr>\n",
       "    <tr>\n",
       "      <th>3687</th>\n",
       "      <td>229.0</td>\n",
       "    </tr>\n",
       "    <tr>\n",
       "      <th>3688</th>\n",
       "      <td>237.0</td>\n",
       "    </tr>\n",
       "    <tr>\n",
       "      <th>3689</th>\n",
       "      <td>245.0</td>\n",
       "    </tr>\n",
       "    <tr>\n",
       "      <th>3690</th>\n",
       "      <td>233.0</td>\n",
       "    </tr>\n",
       "    <tr>\n",
       "      <th>3691</th>\n",
       "      <td>234.0</td>\n",
       "    </tr>\n",
       "    <tr>\n",
       "      <th>3692</th>\n",
       "      <td>228.0</td>\n",
       "    </tr>\n",
       "    <tr>\n",
       "      <th>3693</th>\n",
       "      <td>96.0</td>\n",
       "    </tr>\n",
       "    <tr>\n",
       "      <th>3694</th>\n",
       "      <td>131.0</td>\n",
       "    </tr>\n",
       "    <tr>\n",
       "      <th>3695</th>\n",
       "      <td>230.0</td>\n",
       "    </tr>\n",
       "    <tr>\n",
       "      <th>3696</th>\n",
       "      <td>16.0</td>\n",
       "    </tr>\n",
       "    <tr>\n",
       "      <th>3697</th>\n",
       "      <td>0.0</td>\n",
       "    </tr>\n",
       "    <tr>\n",
       "      <th>3698</th>\n",
       "      <td>0.0</td>\n",
       "    </tr>\n",
       "    <tr>\n",
       "      <th>3699</th>\n",
       "      <td>0.0</td>\n",
       "    </tr>\n",
       "    <tr>\n",
       "      <th>3700</th>\n",
       "      <td>0.0</td>\n",
       "    </tr>\n",
       "    <tr>\n",
       "      <th>3701</th>\n",
       "      <td>0.0</td>\n",
       "    </tr>\n",
       "  </tbody>\n",
       "</table>\n",
       "<p>3702 rows × 1 columns</p>\n",
       "</div>"
      ],
      "text/plain": [
       "      Label\n",
       "0     229.0\n",
       "1     223.0\n",
       "2     224.0\n",
       "3       0.0\n",
       "4     214.0\n",
       "5     172.0\n",
       "6     226.0\n",
       "7     214.0\n",
       "8     212.0\n",
       "9     212.0\n",
       "10    212.0\n",
       "11     49.0\n",
       "12      0.0\n",
       "13      0.0\n",
       "14    225.0\n",
       "15    171.0\n",
       "16    230.0\n",
       "17    163.0\n",
       "18      0.0\n",
       "19    218.0\n",
       "20    218.0\n",
       "21    218.0\n",
       "22    218.0\n",
       "23    218.0\n",
       "24      0.0\n",
       "25    224.0\n",
       "26    226.0\n",
       "27     51.0\n",
       "28    223.0\n",
       "29    230.0\n",
       "...     ...\n",
       "3672    0.0\n",
       "3673    0.0\n",
       "3674    0.0\n",
       "3675  228.0\n",
       "3676  227.0\n",
       "3677  228.0\n",
       "3678  141.0\n",
       "3679  156.0\n",
       "3680  224.0\n",
       "3681   28.0\n",
       "3682   79.0\n",
       "3683  228.0\n",
       "3684  230.0\n",
       "3685  222.0\n",
       "3686  221.0\n",
       "3687  229.0\n",
       "3688  237.0\n",
       "3689  245.0\n",
       "3690  233.0\n",
       "3691  234.0\n",
       "3692  228.0\n",
       "3693   96.0\n",
       "3694  131.0\n",
       "3695  230.0\n",
       "3696   16.0\n",
       "3697    0.0\n",
       "3698    0.0\n",
       "3699    0.0\n",
       "3700    0.0\n",
       "3701    0.0\n",
       "\n",
       "[3702 rows x 1 columns]"
      ]
     },
     "execution_count": 163,
     "metadata": {},
     "output_type": "execute_result"
    }
   ],
   "source": [
    "results"
   ]
  },
  {
   "cell_type": "code",
   "execution_count": 162,
   "metadata": {
    "collapsed": false
   },
   "outputs": [],
   "source": [
    "def label_coordinate_by_atlas(atlas, coordinates, cube_size = 1):\n",
    "    ''' This function will take a set of coordinates and an atlas and return the\n",
    "    atlas label for each coordinate. Optionally, a cube can be drawn around the \n",
    "    coordinate. In this case, the most frequent non-zero value inside the cube will \n",
    "    be selected as the label. The function will output a pandas dataframe with a\n",
    "    label for each input coordinate.\n",
    "    \n",
    "    atlas can be a path to a nifti image, or a nifti object, or a 3D np.ndarray\n",
    "    \n",
    "    coordinates can be a pandas Dataframe, a numpy.ndarray or a list of lists, \n",
    "    representing the mni coordinates for each input corrdinate. as such, the \n",
    "    length of one of the dimensions should be 3\n",
    "    \n",
    "    cube_size represents the radius of the cube to be created. leaving it as 1 will\n",
    "    only retrieve the value at the coordinate specified. Increasing the value will \n",
    "    draw a cube of increasing size and collect values from within the cube. The most\n",
    "    frequent non-zero value within the cube will be selected\n",
    "    \n",
    "    '''\n",
    "    \n",
    "    # initiate and check inputs\n",
    "    atl, coords = init_and_chk_inputs(atlas,coordinates)\n",
    "    \n",
    "    # convert coordinates to xyz space\n",
    "    xyz = np.array([convert_coords(coords[x],'xyz') for x in range(coords.shape[0])\n",
    "                   ]).astype(int)\n",
    "    \n",
    "    # create output container\n",
    "    results = pandas.DataFrame(index=range(coords.shape[0]),columns = ['Label'])\n",
    "    \n",
    "    # get labels for each coordinate\n",
    "    print('extracting labels')\n",
    "    if cube_size == 1:\n",
    "        results.loc[:,'Label'] = atl[xyz[:,0].tolist(),xyz[:,1].tolist(),xyz[:,2].tolist()]\n",
    "    else:\n",
    "        labs = []\n",
    "        for i in range(xyz.shape[0]):\n",
    "            labs.append(extract_value_from_cube(xyz[i,:], cube_size, atl))\n",
    "        results.loc[:,'Label'] = labs\n",
    "    \n",
    "    print('completed')\n",
    "    print('%s coordinates were outside of the provided atlas'%(\n",
    "                                            len(results[results.Label==0])))\n",
    "\n",
    "    return results\n",
    "    \n",
    "def init_and_chk_inputs(atlas,coordinates):\n",
    "    print('checking and initializing inputs')\n",
    "    if type(atlas) == str:\n",
    "        atl = ni.load(atlas).get_data()\n",
    "    elif type(atlas) == nibabel.nifti1.Nifti1Image: \n",
    "        atl = atlas.get_data()\n",
    "    elif type(atlas) == numpy.core.memmap.memmap or type(atlas) == np.ndarray:\n",
    "        atl = atlas\n",
    "    else:\n",
    "        raise IOError('atlas must be a nifti object, a numpy array or a path to a nifti file')\n",
    "    \n",
    "    if type(coordinates) == pandas.core.frame.DataFrame:\n",
    "        coords = coordinates.values\n",
    "       \n",
    "    elif type(coordinates) == list or type(coordinates) == tuple:\n",
    "        if len(coordinates)== 3:\n",
    "            coords = np.zeros((len(coordinates[0]),3))\n",
    "            for i in range(3):\n",
    "                coords[:,i] = coords[i]\n",
    "    elif type(coordinates) == np.ndarray:\n",
    "        coords = coordinates\n",
    "    else:\n",
    "        raise IOError('coordiantes must be a pandas dataframe, numpy array or list of lists')\n",
    "    \n",
    "    if not any(x==3 for x in coords.shape):\n",
    "        raise IOError('Coordinates are 3D and thus 3 columns are expected...')\n",
    "    elif coords.shape[-1] != 3:\n",
    "        coords = coords.T\n",
    "    \n",
    "    coords = coords.round()\n",
    "    \n",
    "    return atl,coords\n",
    "    \n",
    "def convert_coords(coord, to_what = 'mni', vs = 1):\n",
    "    origin = [90, 126, 72]\n",
    "    origin = (np.array(origin) / vs).astype(int).tolist()\n",
    "    x,y,z = coord[0],coord[1],coord[2]\n",
    "    \n",
    "    if to_what == 'mni':\n",
    "        x = (origin[0]-x)*vs\n",
    "        y = (y-origin[1])*vs\n",
    "        z = (z-origin[2])*vs\n",
    "        \n",
    "    elif to_what == 'xyz':\n",
    "        x=origin[0]- x/vs\n",
    "        y=y/vs + origin[1]\n",
    "        z=z/vs + origin[2]\n",
    "        \n",
    "    else:\n",
    "        raise IOError('please set to_what to either mni or xyz')\n",
    "    \n",
    "    return x,y,z\n",
    "\n",
    "def extract_value_from_cube(coord, radius, atl):\n",
    "    \n",
    "    xs,ys,zs = make_cube(coord, radius)\n",
    "    cube_vals = atl[xs,ys,zs]\n",
    "    if stats.mode(cube_vals)[0][0] == 0:\n",
    "        if len(cube_vals[cube_vals!=0]) > 0:\n",
    "            lab = stats.mode(cube_vals[cube_vals!=0])[0][0]\n",
    "        else:\n",
    "            lab = 0\n",
    "    else:\n",
    "        lab = stats.mode(cube_vals)[0][0]\n",
    "    \n",
    "    return lab\n",
    "        \n",
    "def make_cube(coord, radius):\n",
    "    summers = []\n",
    "    negrad = (radius*-1)+1\n",
    "    for x in itertools.product(range(negrad,radius),repeat=3):\n",
    "        summers.append(np.array(x))\n",
    "    s_coords = [np.array(coord) + x for x in summers]\n",
    "    xs = [int(x[0]) for x in s_coords]\n",
    "    ys = [int(x[1]) for x in s_coords]\n",
    "    zs = [int(x[2]) for x in s_coords]\n",
    "    \n",
    "    return xs, ys, zs"
   ]
  },
  {
   "cell_type": "code",
   "execution_count": 142,
   "metadata": {
    "collapsed": false
   },
   "outputs": [],
   "source": [
    "xs,ys,zs = make_cube(convert_coords(coords[50],'xyz'),3)"
   ]
  },
  {
   "cell_type": "code",
   "execution_count": 143,
   "metadata": {
    "collapsed": true
   },
   "outputs": [],
   "source": [
    "cube_vals = atl[xs,ys,zs]"
   ]
  },
  {
   "cell_type": "code",
   "execution_count": 150,
   "metadata": {
    "collapsed": false
   },
   "outputs": [
    {
     "data": {
      "text/plain": [
       "25.0"
      ]
     },
     "execution_count": 150,
     "metadata": {},
     "output_type": "execute_result"
    }
   ],
   "source": [
    "stats.mode(cube_vals)[0][0]"
   ]
  },
  {
   "cell_type": "code",
   "execution_count": 152,
   "metadata": {
    "collapsed": false
   },
   "outputs": [
    {
     "data": {
      "text/plain": [
       "82"
      ]
     },
     "execution_count": 152,
     "metadata": {},
     "output_type": "execute_result"
    }
   ],
   "source": [
    "len(cube_vals[cube_vals!=0])"
   ]
  },
  {
   "cell_type": "code",
   "execution_count": null,
   "metadata": {
    "collapsed": true
   },
   "outputs": [],
   "source": []
  }
 ],
 "metadata": {
  "anaconda-cloud": {},
  "kernelspec": {
   "display_name": "Python [conda env:py3]",
   "language": "python",
   "name": "conda-env-py3-py"
  },
  "language_info": {
   "codemirror_mode": {
    "name": "ipython",
    "version": 3
   },
   "file_extension": ".py",
   "mimetype": "text/x-python",
   "name": "python",
   "nbconvert_exporter": "python",
   "pygments_lexer": "ipython3",
   "version": "3.5.2"
  }
 },
 "nbformat": 4,
 "nbformat_minor": 1
}
