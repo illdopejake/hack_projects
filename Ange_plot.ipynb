{
 "cells": [
  {
   "cell_type": "code",
   "execution_count": 1,
   "metadata": {
    "collapsed": true
   },
   "outputs": [],
   "source": [
    "import pandas\n",
    "import seaborn as sns\n",
    "import matplotlib.pyplot as plt"
   ]
  },
  {
   "cell_type": "code",
   "execution_count": 2,
   "metadata": {
    "collapsed": false
   },
   "outputs": [
    {
     "data": {
      "text/html": [
       "<div>\n",
       "<table border=\"1\" class=\"dataframe\">\n",
       "  <thead>\n",
       "    <tr style=\"text-align: right;\">\n",
       "      <th></th>\n",
       "      <th>subject</th>\n",
       "      <th>RID</th>\n",
       "      <th>PTID</th>\n",
       "      <th>SITE</th>\n",
       "      <th>scanner</th>\n",
       "      <th>DX</th>\n",
       "      <th>CN</th>\n",
       "      <th>MCI</th>\n",
       "      <th>AD</th>\n",
       "      <th>age</th>\n",
       "      <th>...</th>\n",
       "      <th>PIB_bl</th>\n",
       "      <th>AV45_bl</th>\n",
       "      <th>Years_bl</th>\n",
       "      <th>Month_bl</th>\n",
       "      <th>Month</th>\n",
       "      <th>M</th>\n",
       "      <th>update_stamp</th>\n",
       "      <th>sub1</th>\n",
       "      <th>sub2</th>\n",
       "      <th>sub3</th>\n",
       "    </tr>\n",
       "  </thead>\n",
       "  <tbody>\n",
       "    <tr>\n",
       "      <th>0</th>\n",
       "      <td>subject0021</td>\n",
       "      <td>21</td>\n",
       "      <td>011_S_0021</td>\n",
       "      <td>11</td>\n",
       "      <td>1.0</td>\n",
       "      <td>1.0</td>\n",
       "      <td>1.0</td>\n",
       "      <td>0.0</td>\n",
       "      <td>0.0</td>\n",
       "      <td>74.0</td>\n",
       "      <td>...</td>\n",
       "      <td>NaN</td>\n",
       "      <td>NaN</td>\n",
       "      <td>0.000000</td>\n",
       "      <td>0.00000</td>\n",
       "      <td>0.0</td>\n",
       "      <td>0.0</td>\n",
       "      <td>45:03.0</td>\n",
       "      <td>0.449</td>\n",
       "      <td>-0.210</td>\n",
       "      <td>-0.216</td>\n",
       "    </tr>\n",
       "    <tr>\n",
       "      <th>1</th>\n",
       "      <td>subject0023</td>\n",
       "      <td>23</td>\n",
       "      <td>011_S_0023</td>\n",
       "      <td>11</td>\n",
       "      <td>1.0</td>\n",
       "      <td>1.0</td>\n",
       "      <td>1.0</td>\n",
       "      <td>0.0</td>\n",
       "      <td>0.0</td>\n",
       "      <td>76.0</td>\n",
       "      <td>...</td>\n",
       "      <td>NaN</td>\n",
       "      <td>NaN</td>\n",
       "      <td>0.000000</td>\n",
       "      <td>0.00000</td>\n",
       "      <td>0.0</td>\n",
       "      <td>0.0</td>\n",
       "      <td>45:03.0</td>\n",
       "      <td>-0.109</td>\n",
       "      <td>0.249</td>\n",
       "      <td>-0.243</td>\n",
       "    </tr>\n",
       "    <tr>\n",
       "      <th>2</th>\n",
       "      <td>subject0056</td>\n",
       "      <td>56</td>\n",
       "      <td>067_S_0056</td>\n",
       "      <td>67</td>\n",
       "      <td>1.0</td>\n",
       "      <td>1.0</td>\n",
       "      <td>1.0</td>\n",
       "      <td>0.0</td>\n",
       "      <td>0.0</td>\n",
       "      <td>75.0</td>\n",
       "      <td>...</td>\n",
       "      <td>NaN</td>\n",
       "      <td>NaN</td>\n",
       "      <td>0.539357</td>\n",
       "      <td>6.45902</td>\n",
       "      <td>6.0</td>\n",
       "      <td>6.0</td>\n",
       "      <td>01:14.0</td>\n",
       "      <td>NaN</td>\n",
       "      <td>NaN</td>\n",
       "      <td>NaN</td>\n",
       "    </tr>\n",
       "    <tr>\n",
       "      <th>3</th>\n",
       "      <td>subject0059</td>\n",
       "      <td>59</td>\n",
       "      <td>067_S_0059</td>\n",
       "      <td>67</td>\n",
       "      <td>1.0</td>\n",
       "      <td>1.0</td>\n",
       "      <td>1.0</td>\n",
       "      <td>0.0</td>\n",
       "      <td>0.0</td>\n",
       "      <td>76.0</td>\n",
       "      <td>...</td>\n",
       "      <td>NaN</td>\n",
       "      <td>NaN</td>\n",
       "      <td>7.975360</td>\n",
       "      <td>95.50820</td>\n",
       "      <td>96.0</td>\n",
       "      <td>96.0</td>\n",
       "      <td>01:15.0</td>\n",
       "      <td>0.094</td>\n",
       "      <td>-0.031</td>\n",
       "      <td>-0.065</td>\n",
       "    </tr>\n",
       "    <tr>\n",
       "      <th>4</th>\n",
       "      <td>subject0069</td>\n",
       "      <td>69</td>\n",
       "      <td>100_S_0069</td>\n",
       "      <td>100</td>\n",
       "      <td>2.0</td>\n",
       "      <td>1.0</td>\n",
       "      <td>1.0</td>\n",
       "      <td>0.0</td>\n",
       "      <td>0.0</td>\n",
       "      <td>81.0</td>\n",
       "      <td>...</td>\n",
       "      <td>NaN</td>\n",
       "      <td>NaN</td>\n",
       "      <td>0.000000</td>\n",
       "      <td>0.00000</td>\n",
       "      <td>0.0</td>\n",
       "      <td>0.0</td>\n",
       "      <td>01:15.0</td>\n",
       "      <td>0.276</td>\n",
       "      <td>-0.207</td>\n",
       "      <td>-0.017</td>\n",
       "    </tr>\n",
       "  </tbody>\n",
       "</table>\n",
       "<p>5 rows × 120 columns</p>\n",
       "</div>"
      ],
      "text/plain": [
       "       subject  RID        PTID  SITE  scanner   DX   CN  MCI   AD   age  \\\n",
       "0  subject0021   21  011_S_0021    11      1.0  1.0  1.0  0.0  0.0  74.0   \n",
       "1  subject0023   23  011_S_0023    11      1.0  1.0  1.0  0.0  0.0  76.0   \n",
       "2  subject0056   56  067_S_0056    67      1.0  1.0  1.0  0.0  0.0  75.0   \n",
       "3  subject0059   59  067_S_0059    67      1.0  1.0  1.0  0.0  0.0  76.0   \n",
       "4  subject0069   69  100_S_0069   100      2.0  1.0  1.0  0.0  0.0  81.0   \n",
       "\n",
       "   ...    PIB_bl  AV45_bl  Years_bl  Month_bl  Month     M  update_stamp  \\\n",
       "0  ...       NaN      NaN  0.000000   0.00000    0.0   0.0       45:03.0   \n",
       "1  ...       NaN      NaN  0.000000   0.00000    0.0   0.0       45:03.0   \n",
       "2  ...       NaN      NaN  0.539357   6.45902    6.0   6.0       01:14.0   \n",
       "3  ...       NaN      NaN  7.975360  95.50820   96.0  96.0       01:15.0   \n",
       "4  ...       NaN      NaN  0.000000   0.00000    0.0   0.0       01:15.0   \n",
       "\n",
       "    sub1   sub2   sub3  \n",
       "0  0.449 -0.210 -0.216  \n",
       "1 -0.109  0.249 -0.243  \n",
       "2    NaN    NaN    NaN  \n",
       "3  0.094 -0.031 -0.065  \n",
       "4  0.276 -0.207 -0.017  \n",
       "\n",
       "[5 rows x 120 columns]"
      ]
     },
     "execution_count": 2,
     "metadata": {},
     "output_type": "execute_result"
    }
   ],
   "source": [
    "# load dataframe\n",
    "df = pandas.read_csv('/Users/jakevogel/Downloads/yas_adni_vbm_3weight_model.csv')\n",
    "df.head()"
   ]
  },
  {
   "cell_type": "code",
   "execution_count": 5,
   "metadata": {
    "collapsed": true
   },
   "outputs": [],
   "source": [
    "# make sure pandas knows dx is categoical\n",
    "df.DX = df.DX.astype('category')"
   ]
  },
  {
   "cell_type": "code",
   "execution_count": 11,
   "metadata": {
    "collapsed": false
   },
   "outputs": [
    {
     "data": {
      "image/png": "[encoded data removed]",
      "text/plain": [
       "<matplotlib.figure.Figure at 0x1047a3208>"
      ]
     },
     "metadata": {},
     "output_type": "display_data"
    }
   ],
   "source": [
    "# plot\n",
    "plt.close()\n",
    "sns.boxplot(x='DX',y='sub3',data=df,   # like R, sn works by entering column names and the data\n",
    "           palette = 'Greens_d', # there are many differen palettes to choose from\n",
    "           )\n",
    "plt.show()"
   ]
  },
  {
   "cell_type": "code",
   "execution_count": 6,
   "metadata": {
    "collapsed": true
   },
   "outputs": [],
   "source": [
    "plt.plot(df.DX,df.sub1, mfc = [\"orange\",\"blue\",\"yellow\"][i], mec='k', ms=7, marker=\"o\", linestyle=\"None\")\n"
   ]
  },
  {
   "cell_type": "code",
   "execution_count": null,
   "metadata": {
    "collapsed": true
   },
   "outputs": [],
   "source": []
  }
 ],
 "metadata": {
  "anaconda-cloud": {},
  "kernelspec": {
   "display_name": "Python [conda env:py3]",
   "language": "python",
   "name": "conda-env-py3-py"
  },
  "language_info": {
   "codemirror_mode": {
    "name": "ipython",
    "version": 3
   },
   "file_extension": ".py",
   "mimetype": "text/x-python",
   "name": "python",
   "nbconvert_exporter": "python",
   "pygments_lexer": "ipython3",
   "version": "3.5.2"
  }
 },
 "nbformat": 4,
 "nbformat_minor": 1
}
