{
 "cells": [
  {
   "cell_type": "code",
   "execution_count": 16,
   "metadata": {
    "collapsed": false
   },
   "outputs": [],
   "source": [
    "import pandas\n",
    "import os\n",
    "import sys\n",
    "import numpy as np\n",
    "import nibabel as ni\n",
    "import matplotlib.pyplot as plt\n",
    "import seaborn as sns\n",
    "from glob import glob\n",
    "from scipy import stats\n",
    "from mpl_toolkits.mplot3d import Axes3D\n",
    "from nilearn import plotting\n",
    "from nilearn.datasets import MNI152_FILE_PATH\n",
    "from sklearn.cross_decomposition import CCA, PLSRegression\n",
    "from sklearn.decomposition import PCA\n",
    "from sklearn.model_selection import train_test_split"
   ]
  },
  {
   "cell_type": "code",
   "execution_count": null,
   "metadata": {
    "collapsed": true
   },
   "outputs": [],
   "source": [
    "wdir = '/data1/users/jvogel/Allen_Human_Brain_Atlas/'\n",
    "gdf = pandas.read_csv(os.path.join(wdir,'gxp_correlation_wholebrain_results_NEW.csv'))\n",
    "shtz = sorted(glob(os.path.join(wdir,'normalized_microarray_donor*/MExp_all_genes_ctr_for_donor')))\n",
    "holder = []\n",
    "for sht in shtz:\n",
    "    holder.append(pandas.read_csv(sht,index_col=0))\n",
    "bigdf = pandas.concat(holder,axis=1)\n",
    "del(holder)\n",
    "bigdf = bigdf.values.T"
   ]
  },
  {
   "cell_type": "code",
   "execution_count": 18,
   "metadata": {
    "collapsed": false
   },
   "outputs": [
    {
     "data": {
      "text/plain": [
       "Index(['Unnamed: 0', 'donor', 'sample', 'structure_id', 'slab_num', 'well_id',\n",
       "       'slab_type', 'structure_acronym', 'structure_name', 'polygon_id',\n",
       "       'mri_voxel_x', 'mri_voxel_y', 'mri_voxel_z', 'mni_x', 'mni_y', 'mni_z',\n",
       "       'gabe_label', 'mni_nlin_x', 'mni_nlin_y', 'mni_nlin_z',\n",
       "       'AP_axis_gxp_signature_similarity_SPCR', 'surface_coordinate_index',\n",
       "       'dkt_label', 'dkt_region'],\n",
       "      dtype='object')"
      ]
     },
     "execution_count": 18,
     "metadata": {},
     "output_type": "execute_result"
    }
   ],
   "source": [
    "gdf = pandas.read_csv('/Users/jakevogel/Science/AHBA/MAIN_gcx_wholebrain_info_W_DKT_label.csv')\n",
    "gdf.columns"
   ]
  },
  {
   "cell_type": "code",
   "execution_count": 19,
   "metadata": {
    "collapsed": true
   },
   "outputs": [],
   "source": [
    "too_few = [x for x in gdf.structure_acronym.value_counts().index if gdf.structure_acronym.value_counts()[x] < 2]\n",
    "gdf.loc[:,'new_structure_acronym'] = ['Other' if x in too_few else x for x in gdf.structure_acronym.values]"
   ]
  },
  {
   "cell_type": "code",
   "execution_count": 2,
   "metadata": {
    "collapsed": true
   },
   "outputs": [],
   "source": [
    "bigdf = pandas.DataFrame(bigdf)\n",
    "tr,te = train_test_split(bigdf, stratify=gdf.new_structure_acronym.values, random_state=123)\n",
    "tr_y = gdf.loc[tr.index,['mni_nlin_y','mni_nlin_z']]\n",
    "te_y = gdf.loc[te.index,['mni_nlin_y','mni_nlin_z']]"
   ]
  },
  {
   "cell_type": "code",
   "execution_count": null,
   "metadata": {
    "collapsed": true
   },
   "outputs": [],
   "source": [
    "cca_mod = CCA()\n",
    "cca_mod.fit(tr,tr_y)"
   ]
  },
  {
   "cell_type": "code",
   "execution_count": 6,
   "metadata": {
    "collapsed": false
   },
   "outputs": [
    {
     "ename": "NameError",
     "evalue": "name 'cca_mod' is not defined",
     "output_type": "error",
     "traceback": [
      "\u001b[0;31m---------------------------------------------------------------------------\u001b[0m",
      "\u001b[0;31mNameError\u001b[0m                                 Traceback (most recent call last)",
      "\u001b[0;32m<ipython-input-6-3c64a351511d>\u001b[0m in \u001b[0;36m<module>\u001b[0;34m()\u001b[0m\n\u001b[0;32m----> 1\u001b[0;31m plotr = pandas.concat([pandas.Series(cca_mod.predict(te)[:,0]), \n\u001b[0m\u001b[1;32m      2\u001b[0m                        \u001b[0mpandas\u001b[0m\u001b[0;34m.\u001b[0m\u001b[0mSeries\u001b[0m\u001b[0;34m(\u001b[0m\u001b[0mcca_mod\u001b[0m\u001b[0;34m.\u001b[0m\u001b[0mpredict\u001b[0m\u001b[0;34m(\u001b[0m\u001b[0mte\u001b[0m\u001b[0;34m)\u001b[0m\u001b[0;34m[\u001b[0m\u001b[0;34m:\u001b[0m\u001b[0;34m,\u001b[0m\u001b[0;36m1\u001b[0m\u001b[0;34m]\u001b[0m\u001b[0;34m)\u001b[0m\u001b[0;34m,\u001b[0m\u001b[0;34m\u001b[0m\u001b[0m\n\u001b[1;32m      3\u001b[0m                        \u001b[0mpandas\u001b[0m\u001b[0;34m.\u001b[0m\u001b[0mSeries\u001b[0m\u001b[0;34m(\u001b[0m\u001b[0mte_y\u001b[0m\u001b[0;34m.\u001b[0m\u001b[0mloc\u001b[0m\u001b[0;34m[\u001b[0m\u001b[0;34m:\u001b[0m\u001b[0;34m,\u001b[0m\u001b[0mte_y\u001b[0m\u001b[0;34m.\u001b[0m\u001b[0mcolumns\u001b[0m\u001b[0;34m[\u001b[0m\u001b[0;36m0\u001b[0m\u001b[0;34m]\u001b[0m\u001b[0;34m]\u001b[0m\u001b[0;34m)\u001b[0m\u001b[0;34m,\u001b[0m\u001b[0;34m\u001b[0m\u001b[0m\n\u001b[1;32m      4\u001b[0m                        \u001b[0mpandas\u001b[0m\u001b[0;34m.\u001b[0m\u001b[0mSeries\u001b[0m\u001b[0;34m(\u001b[0m\u001b[0mte_y\u001b[0m\u001b[0;34m.\u001b[0m\u001b[0mloc\u001b[0m\u001b[0;34m[\u001b[0m\u001b[0;34m:\u001b[0m\u001b[0;34m,\u001b[0m\u001b[0mte_y\u001b[0m\u001b[0;34m.\u001b[0m\u001b[0mcolumns\u001b[0m\u001b[0;34m[\u001b[0m\u001b[0;36m1\u001b[0m\u001b[0;34m]\u001b[0m\u001b[0;34m]\u001b[0m\u001b[0;34m)\u001b[0m\u001b[0;34m,\u001b[0m\u001b[0;34m\u001b[0m\u001b[0m\n\u001b[1;32m      5\u001b[0m                        gdf.loc[te_y.index,'slab_type']], \n",
      "\u001b[0;31mNameError\u001b[0m: name 'cca_mod' is not defined"
     ]
    }
   ],
   "source": [
    "plotr = pandas.concat([pandas.Series(cca_mod.predict(te)[:,0], index = te_y.index), \n",
    "                       pandas.Series(cca_mod.predict(te)[:,1], index = te_y.index), \n",
    "                       pandas.Series(te_y.loc[:,te_y.columns[0]]),\n",
    "                       pandas.Series(te_y.loc[:,te_y.columns[1]]), \n",
    "                       gdf.loc[te_y.index,'slab_type']], \n",
    "                      axis=1)\n",
    "plotr.columns = ['predicted_y', 'predicted_z', 'observed_y', 'observed_z', 'slab_type']"
   ]
  },
  {
   "cell_type": "code",
   "execution_count": null,
   "metadata": {
    "collapsed": true
   },
   "outputs": [],
   "source": [
    "#sns.set_context('paper')"
   ]
  },
  {
   "cell_type": "code",
   "execution_count": null,
   "metadata": {
    "collapsed": true
   },
   "outputs": [],
   "source": [
    "for i in range(2):\n",
    "    plt.close()\n",
    "    sns.lmplot(plotr.columns[i], plotr.columns[i+2], data = plotr)\n",
    "    plt.show()\n",
    "    print(stats.pearsonr(cca_mod.predict(te)[:,i],te_y.loc[:,te_y.columns[i]]))"
   ]
  },
  {
   "cell_type": "code",
   "execution_count": null,
   "metadata": {
    "collapsed": true
   },
   "outputs": [],
   "source": [
    "for i in range(2):\n",
    "    plt.close()\n",
    "    sns.lmplot(plotr.columns[i], plotr.columns[(3-i)], data = plotr)\n",
    "    plt.show()\n",
    "    print(stats.pearsonr(cca_mod.predict(te)[:,i],te_y.loc[:,te_y.columns[1-i]]))"
   ]
  },
  {
   "cell_type": "code",
   "execution_count": null,
   "metadata": {
    "collapsed": true
   },
   "outputs": [],
   "source": [
    "for i in range(2):\n",
    "    plt.close()\n",
    "    sns.lmplot(plotr.columns[i], plotr.columns[i+2], col = 'slab_type', data = plotr)\n",
    "    plt.show()"
   ]
  },
  {
   "cell_type": "code",
   "execution_count": null,
   "metadata": {
    "collapsed": true
   },
   "outputs": [],
   "source": [
    "for i in range(2):\n",
    "    plt.close()\n",
    "    sns.lmplot(plotr.columns[i], plotr.columns[(3-i)], col = 'slab_type', data = plotr)\n",
    "    plt.show()"
   ]
  },
  {
   "cell_type": "code",
   "execution_count": null,
   "metadata": {
    "collapsed": true
   },
   "outputs": [],
   "source": [
    "probes = pandas.read_csv('/home/users/jvogel/Science/Allen_Human_Brain_Atlas/normalized_microarray_donor10021/Probes.csv')\n",
    "dx = pandas.concat([pandas.Series(cca_mod.x_loadings_[:,0]),\n",
    "                   pandas.Series(cca_mod.x_loadings_[:,0])],\n",
    "                   axis=1)\n",
    "dx.loc[:,'symbol'] = probes.loc[:,'gene_symbol'].values\n",
    "dx.loc[:,'name'] = probes.loc[:,'gene_name'].values"
   ]
  },
  {
   "cell_type": "markdown",
   "metadata": {},
   "source": [
    "## PCA FIRST"
   ]
  },
  {
   "cell_type": "code",
   "execution_count": null,
   "metadata": {
    "collapsed": true
   },
   "outputs": [],
   "source": [
    "pcamod = PCA(n_components=100, random_state=123).fit(bigdf)\n",
    "sum(pcamod.explained_variance_ratio_)"
   ]
  },
  {
   "cell_type": "code",
   "execution_count": null,
   "metadata": {
    "collapsed": true
   },
   "outputs": [],
   "source": [
    "pca_tfm = pandas.DataFrame(pcamod.transform(bigdf))"
   ]
  },
  {
   "cell_type": "code",
   "execution_count": 35,
   "metadata": {
    "collapsed": false
   },
   "outputs": [],
   "source": [
    "pca_tfm = pandas.DataFrame(np.load('/Users/jakevogel/Dropbox/McGill/Neur608/Final_Project/stuff/train_PCA.npz'\n",
    "                                  )['arr_0'])"
   ]
  },
  {
   "cell_type": "code",
   "execution_count": 36,
   "metadata": {
    "collapsed": false
   },
   "outputs": [],
   "source": [
    "tr,te = train_test_split(pca_tfm, stratify=gdf.new_structure_acronym.values, random_state=123)\n",
    "tr_y = gdf.loc[tr.index,['mni_nlin_y','mni_nlin_z']]\n",
    "te_y = gdf.loc[te.index,['mni_nlin_y','mni_nlin_z']]"
   ]
  },
  {
   "cell_type": "code",
   "execution_count": 38,
   "metadata": {
    "collapsed": false
   },
   "outputs": [
    {
     "data": {
      "text/plain": [
       "PLSRegression(copy=True, max_iter=500, n_components=20, scale=True, tol=1e-06)"
      ]
     },
     "execution_count": 38,
     "metadata": {},
     "output_type": "execute_result"
    }
   ],
   "source": [
    "cca_mod = PLSRegression(n_components=20)\n",
    "cca_mod.fit(tr,tr_y)"
   ]
  },
  {
   "cell_type": "markdown",
   "metadata": {},
   "source": [
    "## ADDING X"
   ]
  },
  {
   "cell_type": "code",
   "execution_count": 11,
   "metadata": {
    "collapsed": false
   },
   "outputs": [
    {
     "ename": "NameError",
     "evalue": "name 'gdf' is not defined",
     "output_type": "error",
     "traceback": [
      "\u001b[0;31m---------------------------------------------------------------------------\u001b[0m",
      "\u001b[0;31mNameError\u001b[0m                                 Traceback (most recent call last)",
      "\u001b[0;32m<ipython-input-11-c77cb294a2a4>\u001b[0m in \u001b[0;36m<module>\u001b[0;34m()\u001b[0m\n\u001b[0;32m----> 1\u001b[0;31m \u001b[0mgdf\u001b[0m\u001b[0;34m.\u001b[0m\u001b[0mloc\u001b[0m\u001b[0;34m[\u001b[0m\u001b[0;34m:\u001b[0m\u001b[0;34m,\u001b[0m\u001b[0;34m'abs_mni_nlin_x'\u001b[0m\u001b[0;34m]\u001b[0m \u001b[0;34m=\u001b[0m \u001b[0mabs\u001b[0m\u001b[0;34m(\u001b[0m\u001b[0mgdf\u001b[0m\u001b[0;34m.\u001b[0m\u001b[0mmni_nlin_x\u001b[0m\u001b[0;34m.\u001b[0m\u001b[0mvalues\u001b[0m\u001b[0;34m)\u001b[0m\u001b[0;34m\u001b[0m\u001b[0m\n\u001b[0m",
      "\u001b[0;31mNameError\u001b[0m: name 'gdf' is not defined"
     ]
    }
   ],
   "source": [
    "gdf.loc[:,'abs_mni_nlin_x'] = abs(gdf.mni_nlin_x.values)"
   ]
  },
  {
   "cell_type": "code",
   "execution_count": 12,
   "metadata": {
    "collapsed": false
   },
   "outputs": [
    {
     "ename": "NameError",
     "evalue": "name 'pca_tfm' is not defined",
     "output_type": "error",
     "traceback": [
      "\u001b[0;31m---------------------------------------------------------------------------\u001b[0m",
      "\u001b[0;31mNameError\u001b[0m                                 Traceback (most recent call last)",
      "\u001b[0;32m<ipython-input-12-60882fcc75d2>\u001b[0m in \u001b[0;36m<module>\u001b[0;34m()\u001b[0m\n\u001b[0;32m----> 1\u001b[0;31m \u001b[0mtr\u001b[0m\u001b[0;34m,\u001b[0m\u001b[0mte\u001b[0m \u001b[0;34m=\u001b[0m \u001b[0mtrain_test_split\u001b[0m\u001b[0;34m(\u001b[0m\u001b[0mpca_tfm\u001b[0m\u001b[0;34m,\u001b[0m \u001b[0mstratify\u001b[0m\u001b[0;34m=\u001b[0m\u001b[0mgdf\u001b[0m\u001b[0;34m.\u001b[0m\u001b[0mnew_structure_acronym\u001b[0m\u001b[0;34m.\u001b[0m\u001b[0mvalues\u001b[0m\u001b[0;34m,\u001b[0m \u001b[0mrandom_state\u001b[0m\u001b[0;34m=\u001b[0m\u001b[0;36m123\u001b[0m\u001b[0;34m)\u001b[0m\u001b[0;34m\u001b[0m\u001b[0m\n\u001b[0m\u001b[1;32m      2\u001b[0m \u001b[0mtr_y\u001b[0m \u001b[0;34m=\u001b[0m \u001b[0mgdf\u001b[0m\u001b[0;34m.\u001b[0m\u001b[0mloc\u001b[0m\u001b[0;34m[\u001b[0m\u001b[0mtr\u001b[0m\u001b[0;34m.\u001b[0m\u001b[0mindex\u001b[0m\u001b[0;34m,\u001b[0m\u001b[0;34m[\u001b[0m\u001b[0;34m'mni_nlin_y'\u001b[0m\u001b[0;34m,\u001b[0m\u001b[0;34m'mni_nlin_z'\u001b[0m\u001b[0;34m,\u001b[0m\u001b[0;34m'abs_mni_nlin_x'\u001b[0m\u001b[0;34m]\u001b[0m\u001b[0;34m]\u001b[0m\u001b[0;34m\u001b[0m\u001b[0m\n\u001b[1;32m      3\u001b[0m \u001b[0mte_y\u001b[0m \u001b[0;34m=\u001b[0m \u001b[0mgdf\u001b[0m\u001b[0;34m.\u001b[0m\u001b[0mloc\u001b[0m\u001b[0;34m[\u001b[0m\u001b[0mte\u001b[0m\u001b[0;34m.\u001b[0m\u001b[0mindex\u001b[0m\u001b[0;34m,\u001b[0m\u001b[0;34m[\u001b[0m\u001b[0;34m'mni_nlin_y'\u001b[0m\u001b[0;34m,\u001b[0m\u001b[0;34m'mni_nlin_z'\u001b[0m\u001b[0;34m,\u001b[0m\u001b[0;34m'abs_mni_nlin_x'\u001b[0m\u001b[0;34m]\u001b[0m\u001b[0;34m]\u001b[0m\u001b[0;34m\u001b[0m\u001b[0m\n",
      "\u001b[0;31mNameError\u001b[0m: name 'pca_tfm' is not defined"
     ]
    }
   ],
   "source": [
    "tr,te = train_test_split(pca_tfm, stratify=gdf.new_structure_acronym.values, random_state=123)\n",
    "tr_y = gdf.loc[tr.index,['mni_nlin_y','mni_nlin_z','abs_mni_nlin_x']]\n",
    "te_y = gdf.loc[te.index,['mni_nlin_y','mni_nlin_z','abs_mni_nlin_x']]"
   ]
  },
  {
   "cell_type": "code",
   "execution_count": 13,
   "metadata": {
    "collapsed": false
   },
   "outputs": [
    {
     "ename": "SyntaxError",
     "evalue": "invalid syntax (<ipython-input-13-186986e08cb9>, line 4)",
     "output_type": "error",
     "traceback": [
      "\u001b[0;36m  File \u001b[0;32m\"<ipython-input-13-186986e08cb9>\"\u001b[0;36m, line \u001b[0;32m4\u001b[0m\n\u001b[0;31m    pandas.Series(te_y.loc[:,te_y.columns[0]]),\u001b[0m\n\u001b[0m         ^\u001b[0m\n\u001b[0;31mSyntaxError\u001b[0m\u001b[0;31m:\u001b[0m invalid syntax\n"
     ]
    }
   ],
   "source": [
    "plotr = pandas.concat([pandas.Series(cca_mod.predict(te)[:,0], index = te_y.index), \n",
    "                       pandas.Series(cca_mod.predict(te)[:,1], index = te_y.index),\n",
    "                       pandas.Series(cca_mod.predict(te)[:,2], index = te_y.index),\n",
    "                       pandas.Series(te_y.loc[:,te_y.columns[0]]),\n",
    "                       pandas.Series(te_y.loc[:,te_y.columns[1]]),\n",
    "                       pandas.Series(te_y.loc[:,te_y.columns[2]]),\n",
    "                       gdf.loc[te_y.index,'slab_type']], \n",
    "                      axis=1)\n",
    "plotr.columns = ['predicted_y', 'predicted_z', 'predicted x',\n",
    "                 'observed_y', 'observed_z', 'observed_x', 'slab_type']"
   ]
  },
  {
   "cell_type": "code",
   "execution_count": null,
   "metadata": {
    "collapsed": true
   },
   "outputs": [],
   "source": [
    "for i in range(3):\n",
    "    plt.close()\n",
    "    sns.lmplot(plotr.columns[i], plotr.columns[i+3], data = plotr)\n",
    "    plt.show()\n",
    "    print(stats.pearsonr(cca_mod.predict(te)[:,i],te_y.loc[:,te_y.columns[i]]))"
   ]
  },
  {
   "cell_type": "code",
   "execution_count": null,
   "metadata": {
    "collapsed": true
   },
   "outputs": [],
   "source": [
    "for i in range(3):\n",
    "    plt.close()\n",
    "    sns.lmplot(plotr.columns[i], plotr.columns[i+3], col = 'slab_type', data = plotr)\n",
    "    plt.show()"
   ]
  },
  {
   "cell_type": "markdown",
   "metadata": {},
   "source": [
    "## less components"
   ]
  },
  {
   "cell_type": "code",
   "execution_count": null,
   "metadata": {
    "collapsed": true
   },
   "outputs": [],
   "source": [
    "cca_mod = PLSRegression(n_components=1)\n",
    "cca_mod.fit(tr,tr_y)"
   ]
  },
  {
   "cell_type": "code",
   "execution_count": null,
   "metadata": {
    "collapsed": true
   },
   "outputs": [],
   "source": []
  },
  {
   "cell_type": "markdown",
   "metadata": {},
   "source": [
    "Notes\n",
    "================\n",
    "\n",
    "* PCA first then PLS works plenty well and also very fast -- will support 10-fold CV (0.83, 0.89, 0.74)\n",
    "* Keeping the same number of components as Ys leaves Ys orthogonal\n",
    "* Y and Z are predicted well (r < 0.8), x not nearly as well (r ~ 0.5)\n",
    "* Combination X,Y,Z, with 1 component seems to favor Z but cost all three (0.53, 0.80, 0.40)\n",
    "* Combination X,Y,Z with 2 components maintains Y (0.8) and combines Z and X (0.82, 0.60).\n",
    "* Forcing Z and Y together (no X) hurts both (0.63, 0.78)\n",
    "* It seems "
   ]
  },
  {
   "cell_type": "code",
   "execution_count": 14,
   "metadata": {
    "collapsed": true
   },
   "outputs": [],
   "source": [
    "np.random.permutation?"
   ]
  },
  {
   "cell_type": "code",
   "execution_count": null,
   "metadata": {
    "collapsed": true
   },
   "outputs": [],
   "source": [
    "def evaluate_components(clf, x, y, n_iterations=500, check = 100,\n",
    "                       evaluate = True, plot = True, thr = 0.95):\n",
    "    \n",
    "    if type(x) != type(pandas.DataFrame()):\n",
    "        x = pandas.DataFrame(x)\n",
    "    \n",
    "    # fit model\n",
    "    clf.fit(x,y)\n",
    "    n_comps = clf.n_components\n",
    "    \n",
    "    # prepare output\n",
    "    results = pandas.DataFrame(index = range(n_comps * (n_iterations+1)),\n",
    "                              columns = ['score', 'component', 'model'])\n",
    "    results.loc[:,'component'] = list(range(n_comps))*(n_iterations+1)\n",
    "    results.loc[range(n_comps),'model'] = ['True']*n_comps\n",
    "    results.loc[range(n_comps,n_comps*(n_iterations+1)), 'model'\n",
    "               ] = ['Null']*(n_comps*n_iterations)\n",
    "    \n",
    "    true_scores = [stats.pearsonr(clf.x_scores_[:,x], clf.y_scores_[:,x]\n",
    "                                 )[0]**2 for x in range(n_comps)]\n",
    "    results.loc[results[results.model=='True'].index,'score'] = true_scores\n",
    "    \n",
    "    k = clf.n_components\n",
    "    # permute and refit model\n",
    "    for i in range(n_iterations):\n",
    "        new_ind = np.random.permutation(x.index)\n",
    "        new_x = x.loc[new_ind]\n",
    "        newmod = clf.fit(new_x,y)\n",
    "        new_scores = [stats.pearsonr(newmod.x_scores_[:,x], newmod.y_scores_[:,x]\n",
    "                                 )[0]**2 for x in range(n_comps)]\n",
    "        results.loc[range(k, k+n_comps), 'score'] = new_scores\n",
    "        if check:\n",
    "            if i % check == 0:\n",
    "                print('finished iteration',i)\n",
    "        \n",
    "        k += n_comps\n",
    "        \n",
    "    if evaluate:\n",
    "        if plot:\n",
    "            display_results(results, thr)\n",
    "        else:\n",
    "            display_results(results, thr, False)\n",
    "        \n",
    "    return results\n",
    "\n",
    "def display_results(results, thr = 0.95, plot=True):\n",
    "    \n",
    "    if plot:\n",
    "        # plot components\n",
    "        sns.set_context('paper')\n",
    "        plt.close()\n",
    "        sns.factorplot(x='component', y = 'score', hue='model', data=results)\n",
    "        plt.show()\n",
    "    \n",
    "    # get p-values\n",
    "    for i in results.component.unique():\n",
    "        nullz = results[(results.component==i) & (results.model=='Null')\n",
    "                       ]['score'].sort_values().values\n",
    "        real = results[(results.component==i) & (results.model=='True')]['score'].values[0]\n",
    "        p = (len(nullz[nullz>real])+1) / len(nullz)\n",
    "        if p < (1 - thr):\n",
    "            print('component %s: p = %s  ***'%(i,p))\n",
    "        else:\n",
    "            print('component %s: p = %s'%(i,p))"
   ]
  },
  {
   "cell_type": "code",
   "execution_count": 15,
   "metadata": {
    "collapsed": true
   },
   "outputs": [],
   "source": [
    "def rotate_2d(clf, y, component = 0, return_rotations = False, mni_pth=None, vs=1):\n",
    "    \n",
    "    if type(y) == type(pandas.DataFrame()):\n",
    "        y = y.values\n",
    "    d1 = y[:,0]\n",
    "    d2 = y[:,1]\n",
    "    \n",
    "    d1_wt = clf.y_rotations_[0, component]\n",
    "    d2_wt = clf.y_rotations_[1, component]\n",
    "    null = np.zeros(len(d1))\n",
    "    \n",
    "    d1_rot_x = d1 * np.cos(d1_wt) - null * np.sin(d1_wt)\n",
    "    d1_rot_y = d1 * np.sin(d1_wt) + null * np.cos(d1_wt)\n",
    "    d2_rot_x = null * np.cos(d2_wt) - d2 * np.sin(d2_wt)\n",
    "    d2_rot_y = null * np.sin(d2_wt) + d2 * np.cos(d2_wt)\n",
    "    \n",
    "    plt.close()\n",
    "    sns.regplot(x = d1, y = null, fit_reg=False, color = 'k')\n",
    "    sns.regplot(x = null, y = d2, fit_reg=False, color = 'k')\n",
    "    sns.regplot(x = d1_rot_x, y = d1_rot_y, fit_reg=False, label = 'new_d1')\n",
    "    sns.regplot(x = d2_rot_x, y = d2_rot_y, fit_reg=False, label = 'new_d2')\n",
    "    plt.legend()\n",
    "    plt.show()\n",
    "    \n",
    "    if mni_pth:\n",
    "        print('ORIGINAL AXES')\n",
    "        mni_display(mni_pth, d1, null, null, d2, vs)\n",
    "        print('ROTATED AXES')\n",
    "        mni_display(mni_pth, d1_rot_x, d1_rot_y, d2_rot_x, d2_rot_y, vs)\n",
    "    \n",
    "    if return_rotations:\n",
    "        return d1_rot_x, d1_rot_y, d2_rot_x, d2_rot_y\n",
    "        \n",
    "def mni_display(mni_pth, x1, x2, y1, y2, vs=1):\n",
    "    \n",
    "    mni = ni.load(mni_pth)\n",
    "    axes = np.zeros_like(mni.get_data())\n",
    "    \n",
    "    iy = [convert_coords((0, x1[x], x2[x]), to_what='xyz', vs=vs) for x in range(len(x2))]\n",
    "    iz = [convert_coords((0,  y1[x], y2[x]), to_what='xyz', vs=vs) for x in range(len(y2))]\n",
    "    \n",
    "    for coord in iy:\n",
    "        coord = tuple([int(round(x)) for x in coord]) \n",
    "        axes[coord] = 1\n",
    "    for coord in iz:\n",
    "        coord = tuple([int(round(x)) for x in coord]) \n",
    "        axes[coord] = 2\n",
    "    \n",
    "    axes_img_null = ni.Nifti1Image(axes, affine=mni.affine)\n",
    "    plt.close()\n",
    "    plotting.plot_roi(axes_img_null, mni,  draw_cross=False)\n",
    "    plt.show()"
   ]
  },
  {
   "cell_type": "code",
   "execution_count": null,
   "metadata": {
    "collapsed": true
   },
   "outputs": [],
   "source": [
    "def convert_coords(coord, to_what = 'mni', vs = 1):\n",
    "    origin = [90, 126, 72]\n",
    "    origin = (np.array(origin) / vs).astype(int).tolist()\n",
    "    x,y,z = coord[0],coord[1],coord[2]\n",
    "\n",
    "    if to_what == 'mni':\n",
    "        x = (origin[0]-x)*vs\n",
    "        y = (y-origin[1])*vs\n",
    "        z = (z-origin[2])*vs\n",
    "\n",
    "    elif to_what == 'xyz':\n",
    "        x=origin[0]- x/vs\n",
    "        y=y/vs + origin[1]\n",
    "        z=z/vs + origin[2]\n",
    "\n",
    "    else:\n",
    "        raise IOError('please set to_what to either mni or xyz')\n",
    "\n",
    "    return x,y,z"
   ]
  },
  {
   "cell_type": "code",
   "execution_count": null,
   "metadata": {
    "collapsed": true
   },
   "outputs": [],
   "source": [
    "convert_coords([0,0,0], to_what='xyz')"
   ]
  },
  {
   "cell_type": "code",
   "execution_count": null,
   "metadata": {
    "collapsed": true
   },
   "outputs": [],
   "source": []
  },
  {
   "cell_type": "code",
   "execution_count": null,
   "metadata": {
    "collapsed": true
   },
   "outputs": [],
   "source": [
    "mni = ni.load(MNI152_FILE_PATH)\n"
   ]
  },
  {
   "cell_type": "markdown",
   "metadata": {},
   "source": [
    "## Features"
   ]
  },
  {
   "cell_type": "code",
   "execution_count": 39,
   "metadata": {
    "collapsed": false
   },
   "outputs": [
    {
     "data": {
      "text/plain": [
       "(100, 20)"
      ]
     },
     "execution_count": 39,
     "metadata": {},
     "output_type": "execute_result"
    }
   ],
   "source": [
    "cca_mod.x_loadings_.shape"
   ]
  },
  {
   "cell_type": "code",
   "execution_count": 40,
   "metadata": {
    "collapsed": false
   },
   "outputs": [
    {
     "data": {
      "text/plain": [
       "(100, 20)"
      ]
     },
     "execution_count": 40,
     "metadata": {},
     "output_type": "execute_result"
    }
   ],
   "source": [
    "cca_mod.x_weights_.shape"
   ]
  },
  {
   "cell_type": "code",
   "execution_count": 41,
   "metadata": {
    "collapsed": false
   },
   "outputs": [
    {
     "data": {
      "text/plain": [
       "(100, 2)"
      ]
     },
     "execution_count": 41,
     "metadata": {},
     "output_type": "execute_result"
    }
   ],
   "source": [
    "cca_mod.coef_.shape"
   ]
  },
  {
   "cell_type": "code",
   "execution_count": 44,
   "metadata": {
    "collapsed": false
   },
   "outputs": [
    {
     "data": {
      "text/plain": [
       "(2776, 100)"
      ]
     },
     "execution_count": 44,
     "metadata": {},
     "output_type": "execute_result"
    }
   ],
   "source": [
    "tr.shape"
   ]
  },
  {
   "cell_type": "code",
   "execution_count": 45,
   "metadata": {
    "collapsed": true
   },
   "outputs": [],
   "source": [
    "np.random.choice?"
   ]
  },
  {
   "cell_type": "code",
   "execution_count": null,
   "metadata": {
    "collapsed": true
   },
   "outputs": [],
   "source": []
  },
  {
   "cell_type": "code",
   "execution_count": null,
   "metadata": {
    "collapsed": true
   },
   "outputs": [],
   "source": [
    "def bootstrap_features(clf, x, y, n_iterations=500, check = 100, on ='x'):\n",
    "    \n",
    "    if type(x) != type(pandas.DataFrame()):\n",
    "        x = pandas.DataFrame(x)\n",
    "    if type(y) != type(pandas.DataFrame()):\n",
    "        y = pandas.DataFrame(y)\n",
    "    \n",
    "    # fit model\n",
    "    orig = clf.fit(x,y)\n",
    "    \n",
    "    # prepare output\n",
    "    n_feats_x = x.shape[-1]\n",
    "    n_feats_y = y.shape[-1]\n",
    "    all_results_x = {}\n",
    "    all_results_y = {}\n",
    "    \n",
    "    for i in range(orig.n_components):\n",
    "        results = pandas.DataFrame(index = range(n_iterations), columns = range(n_feats_x))\n",
    "        all_results_x.update({i: results})\n",
    "        results = pandas.DataFrame(index = range(n_iterations), columns = range(n_feats_y))\n",
    "        all_results_y.update({i: results})\n",
    "    bs_ratio_x = pandas.DataFrame(index = range(orig.n_components), \n",
    "                                columns = range(n_feats_x))\n",
    "    bs_ratio_y = pandas.DataFrame(index = range(orig.n_components), \n",
    "                                columns = range(n_feats_y))\n",
    "    \n",
    "    # bootstrap\n",
    "    for i in range(n_iterations):\n",
    "        n_ind = np.random.choice(x.index, len(x.index))\n",
    "        n_samp = pandas.DataFrame(x.loc[n_ind],copy=True)\n",
    "        newmod = clf.fit(n_samp,y)\n",
    "        for c in range(orig.n_components):\n",
    "            xcorrs = [stats.pearsonr(orig.x_loadings_[:,c],\n",
    "                                     newmod.x_loadings_[:,x])[0]**2 for x in range(orig.n_components)]\n",
    "            closest = np.argmax(xcorrs)\n",
    "            all_results_x[c].loc[i] = newmod.x_loadings_[:,closest]\n",
    "            all_results_y[c].loc[i] = newmod.y_loadings_[:,closest]\n",
    "        if check:\n",
    "            if i % check == 0:\n",
    "                print('finished iteration',i)\n",
    "    \n",
    "    # calculate bootstrap ratio\n",
    "    bs_ratio_x = bootstrap_ratio(all_results_x, bs_ratio_x)\n",
    "    bs_ratio_y = bootstrap_ratio(all_results_y, bs_ratio_y)\n",
    "    \n",
    "    return bs_ratio_x, bs_ratio_y\n",
    "    \n",
    "def bootstrap_ratio(all_results, bs_ratio):\n",
    "\n",
    "    for i,res in all_results.items():\n",
    "        bs_ratio.loc[i] = res.mean() / res.sem()\n",
    "        \n",
    "    return bs_ratio\n",
    "\n",
    "        "
   ]
  },
  {
   "cell_type": "code",
   "execution_count": null,
   "metadata": {
    "collapsed": true
   },
   "outputs": [],
   "source": [
    "def back_transform_fmri(weights, component_matrix)\n",
    "\n",
    "    weight_tfm = np.dot(component_matrix.T, weights)\n",
    "    mat = np.zeros((272,272))\n",
    "    mat[np.tril_indices_from(mat,k=-1)] = weight_tfm\n",
    "    i_upper = np.triu_indices_from(mat, -1)\n",
    "    mat[i_upper] = mat.T[i_upper]"
   ]
  },
  {
   "cell_type": "code",
   "execution_count": null,
   "metadata": {
    "collapsed": true
   },
   "outputs": [],
   "source": [
    "cca_mod.n_components"
   ]
  },
  {
   "cell_type": "code",
   "execution_count": null,
   "metadata": {
    "collapsed": true
   },
   "outputs": [],
   "source": [
    "def back_transform"
   ]
  }
 ],
 "metadata": {
  "anaconda-cloud": {},
  "kernelspec": {
   "display_name": "Python [conda env:py3]",
   "language": "python",
   "name": "conda-env-py3-py"
  },
  "language_info": {
   "codemirror_mode": {
    "name": "ipython",
    "version": 3
   },
   "file_extension": ".py",
   "mimetype": "text/x-python",
   "name": "python",
   "nbconvert_exporter": "python",
   "pygments_lexer": "ipython3",
   "version": "3.5.2"
  }
 },
 "nbformat": 4,
 "nbformat_minor": 2
}
