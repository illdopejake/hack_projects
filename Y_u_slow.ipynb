{
 "cells": [
  {
   "cell_type": "code",
   "execution_count": null,
   "metadata": {
    "collapsed": true
   },
   "outputs": [],
   "source": [
    "# explanation\n",
    "''' Hey friends.. I'm writing some programs and they work but gosh\n",
    "do they run slowly. I've been flirting with ways to increase the \n",
    "speed of some of the simpler operations. For example, I'm doing a lot\n",
    "of iteration over 3d matrices (neuroimages of course) that I feel like\n",
    "could be sped up.\n",
    "\n",
    "I know this is possible because I drastically sped up one of my\n",
    "my functions by just doing it a bit differently. I will show you\n",
    "what I mean with a very simple example: I'll just add one to\n",
    "every element on the matrix (the actual code was obviously more \n",
    "complicated)'''"
   ]
  },
  {
   "cell_type": "code",
   "execution_count": 2,
   "metadata": {
    "collapsed": true
   },
   "outputs": [],
   "source": [
    "import numpy as np\n",
    "import math\n",
    "# a tiny 3d matrix to practice on\n",
    "mtx = np.arange(18).reshape(3,3,2)"
   ]
  },
  {
   "cell_type": "code",
   "execution_count": 17,
   "metadata": {
    "collapsed": true
   },
   "outputs": [],
   "source": [
    "# the original (slow, basic bitch) way\n",
    "def spd_tst_old(mtx):\n",
    "    x,y,z = mtx.shape                                                      \n",
    "    for i in range(x):\n",
    "        for j in range(y):\n",
    "            for k in range(z):\n",
    "                mtx[i][j][k] = mtx[i][j][k]+1\n",
    "    return mtx"
   ]
  },
  {
   "cell_type": "code",
   "execution_count": 18,
   "metadata": {
    "collapsed": true
   },
   "outputs": [],
   "source": [
    "# working with a flattened matrix\n",
    "def spd_tst_flat(mtx):\n",
    "    for i in mtx.flat:                                                     \n",
    "        i = i+1\n",
    "    return mtx"
   ]
  },
  {
   "cell_type": "code",
   "execution_count": 19,
   "metadata": {
    "collapsed": true
   },
   "outputs": [],
   "source": [
    "# making use of nditer\n",
    "\n",
    "def spd_tst_elp(mtx):\n",
    "    for i in np.nditer(mtx,flags=['external_loop'],op_flags=['readwrite']):\n",
    "        i[...] = i+1\n",
    "    return mtx"
   ]
  },
  {
   "cell_type": "code",
   "execution_count": null,
   "metadata": {
    "collapsed": true
   },
   "outputs": [],
   "source": [
    "# now we test their speeds!"
   ]
  },
  {
   "cell_type": "code",
   "execution_count": 20,
   "metadata": {
    "collapsed": false
   },
   "outputs": [
    {
     "name": "stdout",
     "output_type": "stream",
     "text": [
      "The slowest run took 883.14 times longer than the fastest. This could mean that an intermediate result is being cached.\n",
      "10000 loops, best of 3: 31.5 µs per loop\n"
     ]
    }
   ],
   "source": [
    "%%timeit\n",
    "spd_tst_old(mtx)"
   ]
  },
  {
   "cell_type": "code",
   "execution_count": 21,
   "metadata": {
    "collapsed": false
   },
   "outputs": [
    {
     "name": "stdout",
     "output_type": "stream",
     "text": [
      "The slowest run took 2874.58 times longer than the fastest. This could mean that an intermediate result is being cached.\n",
      "100000 loops, best of 3: 5.69 µs per loop\n"
     ]
    }
   ],
   "source": [
    "%%timeit\n",
    "spd_tst_flat(mtx)"
   ]
  },
  {
   "cell_type": "code",
   "execution_count": 22,
   "metadata": {
    "collapsed": false
   },
   "outputs": [
    {
     "name": "stdout",
     "output_type": "stream",
     "text": [
      "The slowest run took 2802.23 times longer than the fastest. This could mean that an intermediate result is being cached.\n",
      "100000 loops, best of 3: 8.68 µs per loop\n"
     ]
    }
   ],
   "source": [
    "%%timeit\n",
    "spd_tst_elp(mtx)"
   ]
  },
  {
   "cell_type": "code",
   "execution_count": null,
   "metadata": {
    "collapsed": true
   },
   "outputs": [],
   "source": [
    "# You can see that the latter two methods sped things up by 3-5x. Actually,\n",
    "# I ended up using using the principals from the nditer method and it \n",
    "# increased the speed of my function by more like 10-50x. "
   ]
  },
  {
   "cell_type": "code",
   "execution_count": 8,
   "metadata": {
    "collapsed": true
   },
   "outputs": [],
   "source": [
    "# My next issue, however, required not just indexing points in a matrix, but\n",
    "# rather, slices. In other words, in a 3d matrix with shape x,y,z, iterating \n",
    "# over x*y 1d slices and performing a function on them. In order to find a \n",
    "# better method, I again started to experiment with a simple example, where\n",
    "# I do this and take the mean. Here are a few things I have tried:"
   ]
  },
  {
   "cell_type": "code",
   "execution_count": 12,
   "metadata": {
    "collapsed": true
   },
   "outputs": [],
   "source": [
    "# Using basic python iteration\n",
    "\n",
    "def arr_tst_old(mtx):\n",
    "    means = []\n",
    "    x,y,z = mtx.shape\n",
    "    for i in range(x):\n",
    "        for j in range(y):\n",
    "            means.append(np.mean(mtx[i][j][:]))\n",
    "    return means"
   ]
  },
  {
   "cell_type": "code",
   "execution_count": 2,
   "metadata": {
    "collapsed": true
   },
   "outputs": [],
   "source": [
    "# iterating on converted 2d matrix\n",
    "def arr_tst_reshp(mtx):\n",
    "    means = []\n",
    "    x,y,z = mtx.shape\n",
    "    for i in mtx.reshape(x*y,z):\n",
    "        means.append(np.mean(i))\n",
    "    return means"
   ]
  },
  {
   "cell_type": "code",
   "execution_count": 3,
   "metadata": {
    "collapsed": true
   },
   "outputs": [],
   "source": [
    "# Trying to use nditer\n",
    "def arr_tst_nditer(data,axis):\n",
    "    mnz = []\n",
    "    yshape = list(data.shape)\n",
    "    del yshape[axis]\n",
    "    y = np.zeros(yshape, data.dtype)\n",
    "    it = np.nditer(y, flags=['multi_index'])\n",
    "    while not it.finished:\n",
    "        xindex = list(it.multi_index)\n",
    "        xindex.insert(axis, slice(None))\n",
    "        mnz.append(np.mean(data[xindex]))\n",
    "        it.iternext()\n",
    "    return mnz"
   ]
  },
  {
   "cell_type": "code",
   "execution_count": 4,
   "metadata": {
    "collapsed": true
   },
   "outputs": [],
   "source": [
    "# Trying to use ndindex\n",
    "def arr_tst_nindx(mtx):\n",
    "    means = []\n",
    "    for tup in np.ndindex((mtx.shape[:-1])):\n",
    "        mn = np.mean(mtx[(tup[0],tup[1],slice(None))])\n",
    "        means.append(mn)\n",
    "    return means"
   ]
  },
  {
   "cell_type": "code",
   "execution_count": 10,
   "metadata": {
    "collapsed": false
   },
   "outputs": [
    {
     "name": "stdout",
     "output_type": "stream",
     "text": [
      "10000 loops, best of 3: 154 µs per loop\n"
     ]
    }
   ],
   "source": [
    "%%timeit \n",
    "arr_tst_old(mtx)"
   ]
  },
  {
   "cell_type": "code",
   "execution_count": 11,
   "metadata": {
    "collapsed": false
   },
   "outputs": [
    {
     "name": "stdout",
     "output_type": "stream",
     "text": [
      "10000 loops, best of 3: 147 µs per loop\n"
     ]
    }
   ],
   "source": [
    "%%timeit\n",
    "arr_tst_reshp(mtx)"
   ]
  },
  {
   "cell_type": "code",
   "execution_count": 13,
   "metadata": {
    "collapsed": false
   },
   "outputs": [
    {
     "name": "stdout",
     "output_type": "stream",
     "text": [
      "1000 loops, best of 3: 180 µs per loop\n"
     ]
    }
   ],
   "source": [
    "%%timeit\n",
    "arr_tst_nditer(mtx,2)"
   ]
  },
  {
   "cell_type": "code",
   "execution_count": 14,
   "metadata": {
    "collapsed": false
   },
   "outputs": [
    {
     "name": "stdout",
     "output_type": "stream",
     "text": [
      "1000 loops, best of 3: 227 µs per loop\n"
     ]
    }
   ],
   "source": [
    "%%timeit\n",
    "arr_tst_nindx(mtx)"
   ]
  },
  {
   "cell_type": "code",
   "execution_count": null,
   "metadata": {
    "collapsed": true
   },
   "outputs": [],
   "source": [
    "# You can see that none of the methods are giving me good speed up.\n",
    "# This is really disappointing -- i KNOW there's a way to do this. I\n",
    "# guess a good option is cython but I'm really afraid of it. But you\n",
    "# guys work with shit like this all the time so I was wondering if \n",
    "# maybe you had some suggestions??\n",
    "\n",
    "# <3 <3 <3 <3 and edam cheese!\n",
    "# -- Jake (or has the Dutch call me, phonetically, Yakob Foggghhhel)"
   ]
  },
  {
   "cell_type": "code",
   "execution_count": null,
   "metadata": {
    "collapsed": true
   },
   "outputs": [],
   "source": [
    "# Below are some things I tried with the suggestions I got...."
   ]
  },
  {
   "cell_type": "code",
   "execution_count": 6,
   "metadata": {
    "collapsed": false
   },
   "outputs": [],
   "source": [
    "def arr_tst_map(mtx):\n",
    "    means = []\n",
    "    x,y,z = mtx.shape\n",
    "    mtx_rsl = mtx.reshape(x*y,z)\n",
    "    for i in map(np.mean,mtx_rsl):\n",
    "        means.append(i)\n",
    "    return means"
   ]
  },
  {
   "cell_type": "code",
   "execution_count": 8,
   "metadata": {
    "collapsed": true
   },
   "outputs": [],
   "source": [
    "def arr_tst_map2(mtx):\n",
    "    x,y,z = mtx.shape\n",
    "    mtx_rsl = mtx.reshape(x*y,z)\n",
    "    means = [i/float(z) for i in map(np.sum, mtx_rsl )]\n",
    "    return means"
   ]
  },
  {
   "cell_type": "code",
   "execution_count": 7,
   "metadata": {
    "collapsed": false
   },
   "outputs": [
    {
     "name": "stdout",
     "output_type": "stream",
     "text": [
      "10000 loops, best of 3: 135 µs per loop\n"
     ]
    }
   ],
   "source": [
    "%%timeit\n",
    "arr_tst_map(mtx)"
   ]
  },
  {
   "cell_type": "code",
   "execution_count": 10,
   "metadata": {
    "collapsed": false
   },
   "outputs": [
    {
     "name": "stdout",
     "output_type": "stream",
     "text": [
      "The slowest run took 243.73 times longer than the fastest. This could mean that an intermediate result is being cached.\n",
      "10000 loops, best of 3: 58.9 µs per loop\n"
     ]
    }
   ],
   "source": [
    "%%timeit \n",
    "arr_tst_map2(mtx)"
   ]
  },
  {
   "cell_type": "code",
   "execution_count": 13,
   "metadata": {
    "collapsed": false
   },
   "outputs": [
    {
     "data": {
      "text/plain": [
       "True"
      ]
     },
     "execution_count": 13,
     "metadata": {},
     "output_type": "execute_result"
    }
   ],
   "source": [
    "a = arr_tst_old(mtx)\n",
    "b = arr_tst_map(mtx)\n",
    "a == b"
   ]
  },
  {
   "cell_type": "code",
   "execution_count": 16,
   "metadata": {
    "collapsed": true
   },
   "outputs": [],
   "source": [
    "def sd_tst_np(mtx):\n",
    "    sds = []\n",
    "    x,y,z = mtx.shape\n",
    "    mtx_rsl = mtx.reshape(x*y,z)\n",
    "    for i in map(np.std,mtx_rsl):\n",
    "        sds.append(i)\n",
    "    return sds"
   ]
  },
  {
   "cell_type": "code",
   "execution_count": 53,
   "metadata": {
    "collapsed": true
   },
   "outputs": [],
   "source": [
    "def sd_tst_map(mtx):\n",
    "    x,y,z = mtx.shape\n",
    "    mtx_rsl = mtx.reshape(x*y,z)\n",
    "    means = [i/float(z) for i in map(np.sum, mtx_rsl)]\n",
    "    sds = [math.sqrt(i) for i in map(np.mean,np.subtract(mtx_rsl,np.array(means).reshape(9,1))**2)]\n",
    "    return sds\n",
    "        "
   ]
  },
  {
   "cell_type": "code",
   "execution_count": 88,
   "metadata": {
    "collapsed": true
   },
   "outputs": [],
   "source": [
    "def sd_tst_map2(mtx):\n",
    "    x,y,z = mtx.shape\n",
    "    mtx_rsl = mtx.reshape(x*y,z)\n",
    "    means = np.array([i/float(z) for i in map(np.sum, mtx_rsl)]).reshape(x,y)\n",
    "    sds = np.array([math.sqrt(k) for k in [i/float(z) for i in map(np.sum,np.subtract(mtx_rsl,np.array(means).reshape(9,1))**2)]]).reshape(x,y)\n",
    "    return(means,sds)"
   ]
  },
  {
   "cell_type": "code",
   "execution_count": 106,
   "metadata": {
    "collapsed": false
   },
   "outputs": [],
   "source": [
    "def sd_tst_map3(mtx):\n",
    "    x,y,z = mtx.shape\n",
    "    mtx_rsl = mtx.reshape(x*y,z)\n",
    "    means = np.array([i/float(z) for i in map(np.sum, mtx_rsl)]).reshape(x,y,1)\n",
    "    var = [i/float(z) for i in map(np.sum,np.subtract(mtx_rsl,np.array(means).reshape(9,1))**2)]\n",
    "    sds = np.array([math.sqrt(k) for k in var]).reshape(x,y,1)\n",
    "    return(means,sds)"
   ]
  },
  {
   "cell_type": "code",
   "execution_count": 116,
   "metadata": {
    "collapsed": true
   },
   "outputs": [],
   "source": [
    "def sd_tst_map4(mtx):\n",
    "    x,y,z = mtx.shape\n",
    "    mtx_rsl = mtx.reshape(x*y,z)\n",
    "    means = np.array([i/float(z) for i in map(sum, mtx_rsl)]).reshape(x,y,1)\n",
    "    var = [i/float(z) for i in map(sum,np.subtract(mtx_rsl,np.array(means).reshape(9,1))**2)]\n",
    "    sds = np.array([math.sqrt(k) for k in var]).reshape(x,y,1)\n",
    "    return(means,sds)"
   ]
  },
  {
   "cell_type": "code",
   "execution_count": 35,
   "metadata": {
    "collapsed": false
   },
   "outputs": [
    {
     "name": "stdout",
     "output_type": "stream",
     "text": [
      "1000 loops, best of 3: 400 µs per loop\n"
     ]
    }
   ],
   "source": [
    "%%timeit\n",
    "sd_tst_np(mtx)"
   ]
  },
  {
   "cell_type": "code",
   "execution_count": 55,
   "metadata": {
    "collapsed": false
   },
   "outputs": [
    {
     "name": "stdout",
     "output_type": "stream",
     "text": [
      "1000 loops, best of 3: 200 µs per loop\n"
     ]
    }
   ],
   "source": [
    "%%timeit\n",
    "sd_tst_map(mtx)"
   ]
  },
  {
   "cell_type": "code",
   "execution_count": 101,
   "metadata": {
    "collapsed": false
   },
   "outputs": [
    {
     "name": "stdout",
     "output_type": "stream",
     "text": [
      "1000 loops, best of 3: 200 µs per loop\n"
     ]
    }
   ],
   "source": [
    "%%timeit\n",
    "sd_tst_map2(mtx)"
   ]
  },
  {
   "cell_type": "code",
   "execution_count": 107,
   "metadata": {
    "collapsed": false
   },
   "outputs": [
    {
     "name": "stdout",
     "output_type": "stream",
     "text": [
      "1000 loops, best of 3: 203 µs per loop\n"
     ]
    }
   ],
   "source": [
    "%%timeit\n",
    "sd_tst_map3(mtx)"
   ]
  },
  {
   "cell_type": "code",
   "execution_count": 117,
   "metadata": {
    "collapsed": false
   },
   "outputs": [
    {
     "name": "stdout",
     "output_type": "stream",
     "text": [
      "10000 loops, best of 3: 135 µs per loop\n"
     ]
    }
   ],
   "source": [
    "%%timeit\n",
    "sd_tst_map4(mtx)"
   ]
  },
  {
   "cell_type": "code",
   "execution_count": 113,
   "metadata": {
    "collapsed": false
   },
   "outputs": [],
   "source": [
    "def tst_mnsd_old(mtx):\n",
    "    x,y,z = mtx.shape\n",
    "    means = np.full((x,y),np.nan)\n",
    "    sds = np.full((x,y),np.nan)\n",
    "    for i in range(x):\n",
    "        for j in range(y):\n",
    "            means[i][j] = np.mean(mtx[i][j][:])\n",
    "            sds[i][j] = np.std(mtx[i][j][:])\n",
    "    means.reshape(x,y,1)\n",
    "    sds.reshape(x,y,1)\n",
    "    return means,sds"
   ]
  },
  {
   "cell_type": "code",
   "execution_count": 90,
   "metadata": {
    "collapsed": false
   },
   "outputs": [
    {
     "name": "stdout",
     "output_type": "stream",
     "text": [
      "1000 loops, best of 3: 573 µs per loop\n"
     ]
    }
   ],
   "source": [
    "%%timeit\n",
    "tst_mnsd_old(mtx)"
   ]
  },
  {
   "cell_type": "code",
   "execution_count": 92,
   "metadata": {
    "collapsed": false
   },
   "outputs": [
    {
     "name": "stdout",
     "output_type": "stream",
     "text": [
      "1000 loops, best of 3: 197 µs per loop\n"
     ]
    }
   ],
   "source": [
    "%%timeit\n",
    "sd_tst_map2(mtx)"
   ]
  },
  {
   "cell_type": "code",
   "execution_count": 114,
   "metadata": {
    "collapsed": false
   },
   "outputs": [
    {
     "name": "stdout",
     "output_type": "stream",
     "text": [
      "1000 loops, best of 3: 569 µs per loop\n"
     ]
    }
   ],
   "source": [
    "%%timeit\n",
    "tst_mnsd_old(mtx)"
   ]
  },
  {
   "cell_type": "code",
   "execution_count": 115,
   "metadata": {
    "collapsed": false
   },
   "outputs": [
    {
     "name": "stdout",
     "output_type": "stream",
     "text": [
      "1000 loops, best of 3: 204 µs per loop\n"
     ]
    }
   ],
   "source": [
    "%%timeit\n",
    "sd_tst_map3(mtx)"
   ]
  },
  {
   "cell_type": "code",
   "execution_count": null,
   "metadata": {
    "collapsed": true
   },
   "outputs": [],
   "source": [
    "''' Okay, now for something different. I want to speed up a different\n",
    "function now and will test some other ways of speeding things up'''"
   ]
  },
  {
   "cell_type": "code",
   "execution_count": 3,
   "metadata": {
    "collapsed": false
   },
   "outputs": [],
   "source": [
    "bigr_mtx = np.arange(1000).reshape(10,10,10)"
   ]
  },
  {
   "cell_type": "code",
   "execution_count": 10,
   "metadata": {
    "collapsed": true
   },
   "outputs": [],
   "source": [
    "r_msk = np.random.choice([0, 1], size=(10,10,10), p=[1./5, 4./5])\n",
    "m_mtx = np.ma.masked_array(bigr_mtx,np.logical_not(r_msk))"
   ]
  },
  {
   "cell_type": "code",
   "execution_count": 36,
   "metadata": {
    "collapsed": false
   },
   "outputs": [],
   "source": [
    "def iter_tst(mtx):\n",
    "    x,y,z = mtx.shape\n",
    "    mtx_rsl = mtx.reshape(x*y,z)\n",
    "    omtx = np.array([i+10 for i in mtx_rsl]).reshape(x*y,z)\n",
    "    return omtx"
   ]
  },
  {
   "cell_type": "code",
   "execution_count": 50,
   "metadata": {
    "collapsed": false
   },
   "outputs": [
    {
     "name": "stdout",
     "output_type": "stream",
     "text": [
      "The slowest run took 5.21 times longer than the fastest. This could mean that an intermediate result is being cached.\n",
      "1000 loops, best of 3: 262 µs per loop\n"
     ]
    }
   ],
   "source": [
    "%%timeit\n",
    "omtx = iter_tst(m_mtx.data)"
   ]
  },
  {
   "cell_type": "code",
   "execution_count": 52,
   "metadata": {
    "collapsed": false
   },
   "outputs": [
    {
     "name": "stdout",
     "output_type": "stream",
     "text": [
      "[10 11 22 23 24 25 26 27 28 29]\n"
     ]
    }
   ],
   "source": [
    "print(omtx[1][:])"
   ]
  },
  {
   "cell_type": "code",
   "execution_count": 51,
   "metadata": {
    "collapsed": false
   },
   "outputs": [
    {
     "name": "stdout",
     "output_type": "stream",
     "text": [
      "1000 loops, best of 3: 258 µs per loop\n"
     ]
    }
   ],
   "source": [
    "%%timeit\n",
    "omtx = iter_tst(bigr_mtx)"
   ]
  },
  {
   "cell_type": "code",
   "execution_count": null,
   "metadata": {
    "collapsed": true
   },
   "outputs": [],
   "source": []
  }
 ],
 "metadata": {
  "anaconda-cloud": {},
  "kernelspec": {
   "display_name": "Python [conda env:py3]",
   "language": "python",
   "name": "conda-env-py3-py"
  },
  "language_info": {
   "codemirror_mode": {
    "name": "ipython",
    "version": 3
   },
   "file_extension": ".py",
   "mimetype": "text/x-python",
   "name": "python",
   "nbconvert_exporter": "python",
   "pygments_lexer": "ipython3",
   "version": "3.5.2"
  }
 },
 "nbformat": 4,
 "nbformat_minor": 1
}
