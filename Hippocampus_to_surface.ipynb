{
 "cells": [
  {
   "cell_type": "code",
   "execution_count": 1,
   "metadata": {
    "collapsed": true
   },
   "outputs": [],
   "source": [
    "import os\n",
    "import numpy as np\n",
    "import nibabel as ni"
   ]
  },
  {
   "cell_type": "markdown",
   "metadata": {},
   "source": [
    "THIS SCRIPT WILL \n",
    "* SPLIT THE HIPPOCAMPUS INTO HEMISPHERES \n",
    "* REGISTER TO A WEIRD TEMPLATE \n",
    "* MOVE IT TO MNC\n",
    "* MAP THE LABELS TO A HIPPOCAMPAL SURFACE. BOOYA"
   ]
  },
  {
   "cell_type": "code",
   "execution_count": 3,
   "metadata": {
    "collapsed": true
   },
   "outputs": [],
   "source": [
    "wdir = '/data1/users/jvogel/Allen_Human_Brain_Atlas/surfaces/'\n",
    "tst = '/data1/users/jvogel/Allen_Human_Brain_Atlas/hipp_10_c_solution.nii'"
   ]
  },
  {
   "cell_type": "code",
   "execution_count": 46,
   "metadata": {},
   "outputs": [
    {
     "name": "stdout",
     "output_type": "stream",
     "text": [
      "no tfm entered. assuming youre in 1mm MNI space...\n",
      "lateralizing...\n",
      "obtaining some information from the image --  lh\n"
     ]
    },
    {
     "name": "stderr",
     "output_type": "stream",
     "text": [
      "/home/users/jvogel/anaconda2/envs/py3/lib/python3.6/site-packages/ipykernel_launcher.py:63: RuntimeWarning: invalid value encountered in greater\n"
     ]
    },
    {
     "name": "stdout",
     "output_type": "stream",
     "text": [
      "coregistering to 0.3mm space --  lh\n",
      "converting to mnc --  lh\n",
      "creating text file of surface labels --  lh\n",
      "making final surface image --  lh\n",
      "created new surface project file:  /data1/users/jvogel/Allen_Human_Brain_Atlas/surfaces/0p3mm_hipp_10_c_solution_lh_labeled.obj\n",
      "obtaining some information from the image --  rh\n",
      "coregistering to 0.3mm space --  rh\n",
      "converting to mnc --  rh\n",
      "creating text file of surface labels --  rh\n",
      "making final surface image --  rh\n",
      "created new surface project file:  /data1/users/jvogel/Allen_Human_Brain_Atlas/surfaces/0p3mm_hipp_10_c_solution_rh_labeled.obj\n"
     ]
    }
   ],
   "source": [
    "project_hippocampus_labels_to_surface(tst,wdir)"
   ]
  },
  {
   "cell_type": "code",
   "execution_count": 48,
   "metadata": {},
   "outputs": [
    {
     "name": "stdout",
     "output_type": "stream",
     "text": [
      "no tfm entered. assuming youre in 1mm MNI space...\n",
      "lateralizing...\n"
     ]
    },
    {
     "name": "stderr",
     "output_type": "stream",
     "text": [
      "/home/users/jvogel/anaconda2/envs/py3/lib/python3.6/site-packages/ipykernel_launcher.py:63: RuntimeWarning: invalid value encountered in greater\n"
     ]
    },
    {
     "name": "stdout",
     "output_type": "stream",
     "text": [
      "obtaining some information from the image --  lh\n",
      "coregistering to 0.3mm space --  lh\n",
      "converting to mnc --  lh\n",
      "creating text file of surface labels --  lh\n",
      "making final surface image --  lh\n",
      "created new surface project file:  /data1/users/jvogel/Allen_Human_Brain_Atlas/surfaces/0p3mm_hipp_5_c_solution_lh_labeled.obj\n",
      "obtaining some information from the image --  rh\n",
      "coregistering to 0.3mm space --  rh\n",
      "converting to mnc --  rh\n",
      "creating text file of surface labels --  rh\n",
      "making final surface image --  rh\n",
      "created new surface project file:  /data1/users/jvogel/Allen_Human_Brain_Atlas/surfaces/0p3mm_hipp_5_c_solution_rh_labeled.obj\n"
     ]
    }
   ],
   "source": [
    "project_hippocampus_labels_to_surface('/data1/users/jvogel/Allen_Human_Brain_Atlas/hipp_5_c_solution.nii',wdir)"
   ]
  },
  {
   "cell_type": "code",
   "execution_count": 47,
   "metadata": {},
   "outputs": [],
   "source": [
    "# VARIABLES\n",
    "\n",
    "def project_hippocampus_labels_to_surface(hipp, wdir = './', tfm = None, mt_command = '/opt/minc/bin/'):\n",
    "    \n",
    "    template = '/home/users/jvogel/Science/templates/templates/brains/nii_model.nii'\n",
    "    if type(tfm) == type(None):\n",
    "        print('no tfm entered. assuming youre in 1mm MNI space...')\n",
    "        tfm = '/home/users/jvogel/Science/templates/tfms/maget_temp_2_MNI1mm_brain_tfm_inverted'\n",
    "    l_hipp = '/home/users/jvogel/Science/templates/templates/objects/new_lefthc.obj'\n",
    "    r_hipp = '/home/users/jvogel/Science/templates/templates/objects/new_righthc.obj'\n",
    "\n",
    "    print('lateralizing...')\n",
    "    nfls = lateralize(hipp,wdir)\n",
    "    hs = dict(zip(['lh','rh'], nfls))\n",
    "    \n",
    "    for hemi, fl in hs.items():\n",
    "        print('obtaining some information from the image -- ',hemi)\n",
    "        maxlab = sorted(np.unique(ni.load(fl).get_data()))[-1]\n",
    "        \n",
    "        # define outputs [so we can pick up where we left off]\n",
    "        fl03 = os.path.join(wdir,'0p3mm_%s'%os.path.split(fl)[-1])\n",
    "        if '.gz' in fl03:\n",
    "            mnc = '%s.mnc.gz'%fl03.split('.ni')[0]\n",
    "        else:\n",
    "            mnc = '%s.mnc'%fl03.split('.ni')[0]\n",
    "        txt = '%s.txt'%mnc.split('.mn')[0]\n",
    "        final = '%s_labeled.obj'%txt.split('.tx')[0]\n",
    "        \n",
    "                        \n",
    "        if not os.path.isfile(fl03) and not os.path.isfile(fl03+'.gz'):\n",
    "            print('coregistering to 0.3mm space -- ', hemi)\n",
    "            cmd = 'fsl5.0-flirt -interp nearestneighbour -in %s -ref %s -applyxfm -init %s -out %s'%(fl, template, \n",
    "                                                                                                     tfm, fl03)\n",
    "            os.system(cmd)\n",
    "        if not os.path.isfile(mnc):  \n",
    "            print('converting to mnc -- ', hemi)\n",
    "            os.system('%snii2mnc %s %s'%(mt_command,fl03,mnc))\n",
    "        \n",
    "        if not os.path.isfile(txt):\n",
    "            print('creating text file of surface labels -- ',hemi)\n",
    "            if hemi == 'lh':\n",
    "                obj = l_hipp\n",
    "            else:\n",
    "                obj = r_hipp\n",
    "            os.system('%svolume_object_evaluate -linear %s %s %s'%(mt_command, mnc, obj, txt))\n",
    "            \n",
    "        if not os.path.isfile(final):\n",
    "            print('making final surface image -- ',hemi)\n",
    "            os.system('%scolour_object %s %s %s spectral 1 %s'%(mt_command, obj, txt, final, maxlab))\n",
    "    \n",
    "        print('created new surface project file: ',final)\n",
    "    \n",
    "def lateralize(infile, wdir):\n",
    "    jnk = ni.load(infile)\n",
    "    dat = jnk.get_data()\n",
    "    aff = jnk.affine\n",
    "\n",
    "    lh = np.zeros_like(dat)\n",
    "    rh = np.zeros_like(dat)\n",
    "\n",
    "    div = dat.shape[0] / 2\n",
    "    \n",
    "    hcoords = np.where(dat>0)\n",
    "    lcs = [x for x in range(len(hcoords[0])) if hcoords[0][x] > div]\n",
    "    lh[hcoords[0][lcs],hcoords[1][lcs],hcoords[2][lcs]] = dat[hcoords[0][lcs],hcoords[1][lcs],hcoords[2][lcs]]\n",
    "\n",
    "    rcs = [x for x in range(len(hcoords[0])) if hcoords[0][x] < div]\n",
    "    rh[hcoords[0][rcs],hcoords[1][rcs],hcoords[2][rcs]] = dat[hcoords[0][rcs],hcoords[1][rcs],hcoords[2][rcs]]\n",
    "    \n",
    "    flnm = os.path.split(infile)[-1].split('.ni')[0]\n",
    "    nfls = [os.path.join(wdir,'%s_%s.nii'%(flnm,x)) for x in ['lh','rh']] \n",
    "    \n",
    "    ni.Nifti1Image(lh,aff).to_filename(nfls[0])\n",
    "    ni.Nifti1Image(rh,aff).to_filename(nfls[1])\n",
    "    \n",
    "    return nfls"
   ]
  },
  {
   "cell_type": "code",
   "execution_count": null,
   "metadata": {
    "collapsed": true
   },
   "outputs": [],
   "source": []
  }
 ],
 "metadata": {
  "kernelspec": {
   "display_name": "Python 3",
   "language": "python",
   "name": "python3"
  },
  "language_info": {
   "codemirror_mode": {
    "name": "ipython",
    "version": 3
   },
   "file_extension": ".py",
   "mimetype": "text/x-python",
   "name": "python",
   "nbconvert_exporter": "python",
   "pygments_lexer": "ipython3",
   "version": "3.6.2"
  }
 },
 "nbformat": 4,
 "nbformat_minor": 2
}
