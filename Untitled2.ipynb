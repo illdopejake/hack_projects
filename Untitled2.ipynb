{
 "cells": [
  {
   "cell_type": "code",
   "execution_count": 2,
   "metadata": {
    "collapsed": false
   },
   "outputs": [],
   "source": [
    "import pandas\n",
    "from scipy import stats\n",
    "import matplotlib.pyplot as plt\n",
    "import seaborn as sns"
   ]
  },
  {
   "cell_type": "code",
   "execution_count": 18,
   "metadata": {
    "collapsed": false
   },
   "outputs": [
    {
     "data": {
      "text/html": [
       "<div>\n",
       "<style scoped>\n",
       "    .dataframe tbody tr th:only-of-type {\n",
       "        vertical-align: middle;\n",
       "    }\n",
       "\n",
       "    .dataframe tbody tr th {\n",
       "        vertical-align: top;\n",
       "    }\n",
       "\n",
       "    .dataframe thead th {\n",
       "        text-align: right;\n",
       "    }\n",
       "</style>\n",
       "<table border=\"1\" class=\"dataframe\">\n",
       "  <thead>\n",
       "    <tr style=\"text-align: right;\">\n",
       "      <th></th>\n",
       "      <th>VUMC</th>\n",
       "      <th>Unnamed: 1</th>\n",
       "      <th>Unnamed: 2</th>\n",
       "      <th>Unnamed: 3</th>\n",
       "      <th>Unnamed: 4</th>\n",
       "      <th>UCSF</th>\n",
       "      <th>Unnamed: 6</th>\n",
       "      <th>Unnamed: 7</th>\n",
       "      <th>Unnamed: 8</th>\n",
       "      <th>Unnamed: 9</th>\n",
       "      <th>\"actual\" factor expresisons</th>\n",
       "      <th>Unnamed: 11</th>\n",
       "      <th>Unnamed: 12</th>\n",
       "      <th>Unnamed: 13</th>\n",
       "    </tr>\n",
       "  </thead>\n",
       "  <tbody>\n",
       "    <tr>\n",
       "      <th>0</th>\n",
       "      <td>NaN</td>\n",
       "      <td>factor1</td>\n",
       "      <td>factor2</td>\n",
       "      <td>factor3</td>\n",
       "      <td>NaN</td>\n",
       "      <td>NaN</td>\n",
       "      <td>factor1</td>\n",
       "      <td>factor2</td>\n",
       "      <td>factor3</td>\n",
       "      <td>NaN</td>\n",
       "      <td>NaN</td>\n",
       "      <td>factor1</td>\n",
       "      <td>factor2</td>\n",
       "      <td>factor3</td>\n",
       "    </tr>\n",
       "    <tr>\n",
       "      <th>1</th>\n",
       "      <td>smwc100482</td>\n",
       "      <td>0.314411</td>\n",
       "      <td>0.280804</td>\n",
       "      <td>0.285147</td>\n",
       "      <td>NaN</td>\n",
       "      <td>smwc100482</td>\n",
       "      <td>0.271057</td>\n",
       "      <td>0.283113</td>\n",
       "      <td>0.277966</td>\n",
       "      <td>NaN</td>\n",
       "      <td>smwc100482</td>\n",
       "      <td>0.85362</td>\n",
       "      <td>0.00064343</td>\n",
       "      <td>0.14638</td>\n",
       "    </tr>\n",
       "    <tr>\n",
       "      <th>2</th>\n",
       "      <td>smwc101193</td>\n",
       "      <td>0.301732</td>\n",
       "      <td>0.262442</td>\n",
       "      <td>0.265858</td>\n",
       "      <td>NaN</td>\n",
       "      <td>smwc101193</td>\n",
       "      <td>0.262859</td>\n",
       "      <td>0.271185</td>\n",
       "      <td>0.245198</td>\n",
       "      <td>NaN</td>\n",
       "      <td>smwc101193</td>\n",
       "      <td>0.33675</td>\n",
       "      <td>0.66325</td>\n",
       "      <td>4.563e-05</td>\n",
       "    </tr>\n",
       "    <tr>\n",
       "      <th>3</th>\n",
       "      <td>smwc102717</td>\n",
       "      <td>0.387148</td>\n",
       "      <td>0.367568</td>\n",
       "      <td>0.345227</td>\n",
       "      <td>NaN</td>\n",
       "      <td>smwc102717</td>\n",
       "      <td>0.316748</td>\n",
       "      <td>0.370766</td>\n",
       "      <td>0.360687</td>\n",
       "      <td>NaN</td>\n",
       "      <td>smwc102717</td>\n",
       "      <td>0.18883</td>\n",
       "      <td>0.53525</td>\n",
       "      <td>0.27592</td>\n",
       "    </tr>\n",
       "    <tr>\n",
       "      <th>4</th>\n",
       "      <td>smwc103363</td>\n",
       "      <td>0.32358</td>\n",
       "      <td>0.28383</td>\n",
       "      <td>0.305156</td>\n",
       "      <td>NaN</td>\n",
       "      <td>smwc103363</td>\n",
       "      <td>0.28456</td>\n",
       "      <td>0.283924</td>\n",
       "      <td>0.28467</td>\n",
       "      <td>NaN</td>\n",
       "      <td>smwc103363</td>\n",
       "      <td>0.00037499</td>\n",
       "      <td>0.051943</td>\n",
       "      <td>0.94806</td>\n",
       "    </tr>\n",
       "  </tbody>\n",
       "</table>\n",
       "</div>"
      ],
      "text/plain": [
       "         VUMC Unnamed: 1 Unnamed: 2 Unnamed: 3  Unnamed: 4        UCSF  \\\n",
       "0         NaN    factor1    factor2    factor3         NaN         NaN   \n",
       "1  smwc100482   0.314411   0.280804   0.285147         NaN  smwc100482   \n",
       "2  smwc101193   0.301732   0.262442   0.265858         NaN  smwc101193   \n",
       "3  smwc102717   0.387148   0.367568   0.345227         NaN  smwc102717   \n",
       "4  smwc103363    0.32358    0.28383   0.305156         NaN  smwc103363   \n",
       "\n",
       "  Unnamed: 6 Unnamed: 7 Unnamed: 8  Unnamed: 9 \"actual\" factor expresisons  \\\n",
       "0    factor1    factor2    factor3         NaN                         NaN   \n",
       "1   0.271057   0.283113   0.277966         NaN                  smwc100482   \n",
       "2   0.262859   0.271185   0.245198         NaN                  smwc101193   \n",
       "3   0.316748   0.370766   0.360687         NaN                  smwc102717   \n",
       "4    0.28456   0.283924    0.28467         NaN                  smwc103363   \n",
       "\n",
       "  Unnamed: 11 Unnamed: 12 Unnamed: 13  \n",
       "0     factor1     factor2     factor3  \n",
       "1     0.85362  0.00064343     0.14638  \n",
       "2     0.33675     0.66325   4.563e-05  \n",
       "3     0.18883     0.53525     0.27592  \n",
       "4  0.00037499    0.051943     0.94806  "
      ]
     },
     "execution_count": 18,
     "metadata": {},
     "output_type": "execute_result"
    }
   ],
   "source": [
    "df = pandas.ExcelFile('/Users/jakevogel/Downloads/Results.xlsx')\n",
    "df = pandas.ExcelFile(df).parse(df.sheet_names[0])\n",
    "df.head()"
   ]
  },
  {
   "cell_type": "code",
   "execution_count": 19,
   "metadata": {
    "collapsed": false
   },
   "outputs": [
    {
     "data": {
      "text/html": [
       "<div>\n",
       "<style scoped>\n",
       "    .dataframe tbody tr th:only-of-type {\n",
       "        vertical-align: middle;\n",
       "    }\n",
       "\n",
       "    .dataframe tbody tr th {\n",
       "        vertical-align: top;\n",
       "    }\n",
       "\n",
       "    .dataframe thead th {\n",
       "        text-align: right;\n",
       "    }\n",
       "</style>\n",
       "<table border=\"1\" class=\"dataframe\">\n",
       "  <thead>\n",
       "    <tr style=\"text-align: right;\">\n",
       "      <th></th>\n",
       "      <th>0</th>\n",
       "      <th>1</th>\n",
       "      <th>2</th>\n",
       "      <th>3</th>\n",
       "      <th>4</th>\n",
       "      <th>5</th>\n",
       "      <th>6</th>\n",
       "      <th>7</th>\n",
       "      <th>8</th>\n",
       "      <th>9</th>\n",
       "      <th>10</th>\n",
       "      <th>11</th>\n",
       "      <th>12</th>\n",
       "      <th>13</th>\n",
       "    </tr>\n",
       "  </thead>\n",
       "  <tbody>\n",
       "    <tr>\n",
       "      <th>1</th>\n",
       "      <td>smwc100482</td>\n",
       "      <td>0.314411</td>\n",
       "      <td>0.280804</td>\n",
       "      <td>0.285147</td>\n",
       "      <td>NaN</td>\n",
       "      <td>smwc100482</td>\n",
       "      <td>0.271057</td>\n",
       "      <td>0.283113</td>\n",
       "      <td>0.277966</td>\n",
       "      <td>NaN</td>\n",
       "      <td>smwc100482</td>\n",
       "      <td>0.85362</td>\n",
       "      <td>0.00064343</td>\n",
       "      <td>0.14638</td>\n",
       "    </tr>\n",
       "    <tr>\n",
       "      <th>2</th>\n",
       "      <td>smwc101193</td>\n",
       "      <td>0.301732</td>\n",
       "      <td>0.262442</td>\n",
       "      <td>0.265858</td>\n",
       "      <td>NaN</td>\n",
       "      <td>smwc101193</td>\n",
       "      <td>0.262859</td>\n",
       "      <td>0.271185</td>\n",
       "      <td>0.245198</td>\n",
       "      <td>NaN</td>\n",
       "      <td>smwc101193</td>\n",
       "      <td>0.33675</td>\n",
       "      <td>0.66325</td>\n",
       "      <td>4.563e-05</td>\n",
       "    </tr>\n",
       "    <tr>\n",
       "      <th>3</th>\n",
       "      <td>smwc102717</td>\n",
       "      <td>0.387148</td>\n",
       "      <td>0.367568</td>\n",
       "      <td>0.345227</td>\n",
       "      <td>NaN</td>\n",
       "      <td>smwc102717</td>\n",
       "      <td>0.316748</td>\n",
       "      <td>0.370766</td>\n",
       "      <td>0.360687</td>\n",
       "      <td>NaN</td>\n",
       "      <td>smwc102717</td>\n",
       "      <td>0.18883</td>\n",
       "      <td>0.53525</td>\n",
       "      <td>0.27592</td>\n",
       "    </tr>\n",
       "    <tr>\n",
       "      <th>4</th>\n",
       "      <td>smwc103363</td>\n",
       "      <td>0.32358</td>\n",
       "      <td>0.28383</td>\n",
       "      <td>0.305156</td>\n",
       "      <td>NaN</td>\n",
       "      <td>smwc103363</td>\n",
       "      <td>0.28456</td>\n",
       "      <td>0.283924</td>\n",
       "      <td>0.28467</td>\n",
       "      <td>NaN</td>\n",
       "      <td>smwc103363</td>\n",
       "      <td>0.00037499</td>\n",
       "      <td>0.051943</td>\n",
       "      <td>0.94806</td>\n",
       "    </tr>\n",
       "    <tr>\n",
       "      <th>5</th>\n",
       "      <td>smwc103653</td>\n",
       "      <td>0.430942</td>\n",
       "      <td>0.423778</td>\n",
       "      <td>0.400326</td>\n",
       "      <td>NaN</td>\n",
       "      <td>smwc103653</td>\n",
       "      <td>0.367115</td>\n",
       "      <td>0.416014</td>\n",
       "      <td>0.404551</td>\n",
       "      <td>NaN</td>\n",
       "      <td>smwc103653</td>\n",
       "      <td>0.2714</td>\n",
       "      <td>0.14324</td>\n",
       "      <td>0.58536</td>\n",
       "    </tr>\n",
       "  </tbody>\n",
       "</table>\n",
       "</div>"
      ],
      "text/plain": [
       "           0         1         2         3   4           5         6   \\\n",
       "1  smwc100482  0.314411  0.280804  0.285147 NaN  smwc100482  0.271057   \n",
       "2  smwc101193  0.301732  0.262442  0.265858 NaN  smwc101193  0.262859   \n",
       "3  smwc102717  0.387148  0.367568  0.345227 NaN  smwc102717  0.316748   \n",
       "4  smwc103363   0.32358   0.28383  0.305156 NaN  smwc103363   0.28456   \n",
       "5  smwc103653  0.430942  0.423778  0.400326 NaN  smwc103653  0.367115   \n",
       "\n",
       "         7         8   9           10          11          12         13  \n",
       "1  0.283113  0.277966 NaN  smwc100482     0.85362  0.00064343    0.14638  \n",
       "2  0.271185  0.245198 NaN  smwc101193     0.33675     0.66325  4.563e-05  \n",
       "3  0.370766  0.360687 NaN  smwc102717     0.18883     0.53525    0.27592  \n",
       "4  0.283924   0.28467 NaN  smwc103363  0.00037499    0.051943    0.94806  \n",
       "5  0.416014  0.404551 NaN  smwc103653      0.2714     0.14324    0.58536  "
      ]
     },
     "execution_count": 19,
     "metadata": {},
     "output_type": "execute_result"
    }
   ],
   "source": [
    "df.columns = range(len(df.columns))\n",
    "df.drop(df.index[0],inplace=True)\n",
    "df.head()"
   ]
  },
  {
   "cell_type": "code",
   "execution_count": 21,
   "metadata": {
    "collapsed": false
   },
   "outputs": [
    {
     "data": {
      "text/plain": [
       "(0.96741918780025349, 2.7381763247887984e-30)"
      ]
     },
     "execution_count": 21,
     "metadata": {},
     "output_type": "execute_result"
    }
   ],
   "source": [
    "stats.pearsonr(df[df.columns[1]].values, df[df.columns[6]].values)"
   ]
  },
  {
   "cell_type": "code",
   "execution_count": 31,
   "metadata": {
    "collapsed": false
   },
   "outputs": [
    {
     "data": {
      "image/png": "[encoded data removed]",
      "text/plain": [
       "<matplotlib.figure.Figure at 0x111c16a20>"
      ]
     },
     "metadata": {},
     "output_type": "display_data"
    }
   ],
   "source": [
    "plt.scatter(df[df.columns[1]].values, df[df.columns[6]].values)\n",
    "plt.show()"
   ]
  },
  {
   "cell_type": "code",
   "execution_count": 37,
   "metadata": {
    "collapsed": false
   },
   "outputs": [
    {
     "data": {
      "image/png": "[encoded data removed]",
      "text/plain": [
       "<matplotlib.figure.Figure at 0x111e8a588>"
      ]
     },
     "metadata": {},
     "output_type": "display_data"
    }
   ],
   "source": [
    "plt.close()\n",
    "fig, (ax1, ax2, ax3) = plt.subplots(ncols=3, figsize = (10,6))\n",
    "sns.regplot(x=df[df.columns[1]].values.astype(float), \n",
    "            y=df[df.columns[11]].values.astype(float), ax=ax1)\n",
    "sns.regplot(x=df[df.columns[2]].values.astype(float), \n",
    "            y=df[df.columns[12]].values.astype(float), ax=ax2)\n",
    "sns.regplot(x=df[df.columns[3]].values.astype(float), \n",
    "            y=df[df.columns[13]].values.astype(float), ax=ax3)\n",
    "plt.show()"
   ]
  },
  {
   "cell_type": "code",
   "execution_count": 33,
   "metadata": {
    "collapsed": false
   },
   "outputs": [
    {
     "data": {
      "text/plain": [
       "array([ 0.3144111 ,  0.30173159,  0.38714772,  0.32358   ,  0.43094219,\n",
       "        0.34543756,  0.36562013,  0.34448573,  0.3066692 ,  0.35972501,\n",
       "        0.30750089,  0.3930314 ,  0.36170489,  0.34623551,  0.32971019,\n",
       "        0.36833556,  0.35121707,  0.36144756,  0.37981187,  0.3051126 ,\n",
       "        0.32627918,  0.353381  ,  0.35489452,  0.37286743,  0.3474872 ,\n",
       "        0.3919881 ,  0.36026578,  0.40795426,  0.36736182,  0.37952042,\n",
       "        0.37971471,  0.36806438,  0.36806438,  0.33153874,  0.43744405,\n",
       "        0.37150147,  0.26766776,  0.45637809,  0.37287845,  0.28235712,\n",
       "        0.36635675,  0.39634952,  0.32670559,  0.32193603,  0.43341367,\n",
       "        0.37311063,  0.39477539,  0.40720106,  0.34928422,  0.33855691])"
      ]
     },
     "execution_count": 33,
     "metadata": {},
     "output_type": "execute_result"
    }
   ],
   "source": [
    "df[df.columns[1]].values.astype(float)"
   ]
  },
  {
   "cell_type": "code",
   "execution_count": null,
   "metadata": {
    "collapsed": true
   },
   "outputs": [],
   "source": []
  }
 ],
 "metadata": {
  "kernelspec": {
   "display_name": "Python [conda env:py3]",
   "language": "python",
   "name": "conda-env-py3-py"
  },
  "language_info": {
   "codemirror_mode": {
    "name": "ipython",
    "version": 3
   },
   "file_extension": ".py",
   "mimetype": "text/x-python",
   "name": "python",
   "nbconvert_exporter": "python",
   "pygments_lexer": "ipython3",
   "version": "3.5.2"
  }
 },
 "nbformat": 4,
 "nbformat_minor": 2
}
