{
 "cells": [
  {
   "cell_type": "code",
   "execution_count": 103,
   "metadata": {
    "collapsed": true
   },
   "outputs": [],
   "source": [
    "import os\n",
    "import sys\n",
    "import pandas\n",
    "import numpy as np\n",
    "import matplotlib.pyplot as plt\n",
    "import seaborn as sns\n",
    "import statsmodels.formula.api as smf\n",
    "from copy import deepcopy\n",
    "import numpy as np\n",
    "import scipy.stats as stats\n",
    "from sklearn import preprocessing, linear_model\n",
    "from sklearn.model_selection import KFold\n",
    "from sklearn.utils.extmath import safe_sparse_dot\n",
    "from sklearn.utils import check_array\n",
    "from sklearn import model_selection"
   ]
  },
  {
   "cell_type": "code",
   "execution_count": 104,
   "metadata": {
    "collapsed": true
   },
   "outputs": [],
   "source": [
    "def kfold_feature_learning(train, test, y, t_y, clf = linear_model.LassoCV(cv=10), problem = 'regression', \n",
    "                           folds = 10, scale=True, verbose = True, search = False,\n",
    "                           p_cutoff = None, regcols = None, regdf = None, keep_cols = None, \n",
    "                           out_dir = None,  output='light', save_int = True):\n",
    "    '''\n",
    "    This is a function that will use nested cross validation to generate an average model\n",
    "    that will hopefully generalize better to unseen test data. \n",
    "    \n",
    "    You can must your training and testing data, and your y variable for both, the model you \n",
    "    wish to use for  prediction, and whether the problem is classification or regression.\n",
    "    \n",
    "    The function will run K iterations of prediction on your training set, and will average \n",
    "    the weights across folds for a final model. The final model will then be applied to your \n",
    "    testing data. The validation and testing accuracy will be displayed. \n",
    "    \n",
    "    Several other options exists (see below), and are forthcoming.\n",
    "    \n",
    "    ATTENTION: THIS SCRIPT IS STILL IN DEVELOPMENT. IT IS UGLY AND UNFINISHED, SO DONT JUDGE\n",
    "    \n",
    "    \n",
    "    *** USER-DEFINED ARGUMENTS ***\n",
    "    \n",
    "    -- train is a subjects x variables dataframe (this represents your training data)\n",
    "    -- y is a pandas series with the same index as train. y should not be in train\n",
    "    \n",
    "    # NOTE: train and test indices should just be a range\n",
    "    \n",
    "    -- test is a subjects x variables dataframe (this represents your independent test data)\n",
    "    -- t_y is a pandas seris with the same index as test. y should not be in tets\n",
    "\n",
    "    \n",
    "    *** MODEL OPTIONS ***\n",
    "\n",
    "    -- clf: here, you can put in whatever model you want with whatever parameters you want.\n",
    "    \n",
    "    -- if your model (clf) is a regression model (e.g. Lasso, SVR), leave problem as \"regression\". \n",
    "    If it is a classification model (e.g. SVM, SGD, etc.), change problem to \"classification\"\n",
    "    \n",
    "    -- folds: how many fold cross-validation should occur within the outer loop of the t\n",
    "    raining dataset\n",
    "    \n",
    "    -- scale: if True, train will be scaled with a Standard Scaler, and test will be transformed \n",
    "    to this scale\n",
    "    \n",
    "    -- verbose: if you do not want any output (including scores at the end!!), set this to False.\n",
    "    \n",
    "    -- search: if clf is a model_selector (such as GridSearch), MAKE SURE you set this to True,\n",
    "    or the script will fail.\n",
    "    \n",
    "    \n",
    "    *** FEATURE SELECTION OPTIONS ***\n",
    "    \n",
    "    -- p_cutoff: if you wish to only keep features statistically related to y (through t-test \n",
    "    or correlation), you can control the alpha value here. Leave as None to use all features\n",
    "    \n",
    "    -- reg_cols: a list of column labels in regdf. All labels specified in this list will be \n",
    "    regressed out of all other model features during \"feature selection\" (i.e. when features are\n",
    "    removed via the p_cutoff argument). In other words, this argument can be used if you only\n",
    "    want to include features in your model that are singificant when adjusting for the variables\n",
    "    specified in reg_cols. Leave as None if you don't want this argument active.\n",
    "    \n",
    "    -- regdf: a subject x variables pandas Dataframe that contain anything as long as it has all \n",
    "    (matched) indices in train, and all columns in reg_cols\n",
    "    \n",
    "    -- keep_cols: a list of column labels. These are variables in train that you wish to retain \n",
    "    in your model no matter what, even if they do not pass the feature selection. For example, if\n",
    "    age is not selected by your p_cutoff, but you still want age in your model, you can list in\n",
    "    keep_cols\n",
    "    \n",
    "    *** OUTPUT OPTIONS ***\n",
    "    \n",
    "    -- out_dir: will save your weight matrix and predicted values to a directory you specify\n",
    "    \n",
    "    -- output: decide what you want the function to return:\n",
    "        * 'scores' will only return the r2 (regression) or sensitivity, specificity and accuracy\n",
    "            of you validation and test.\n",
    "        * 'light' will return the weights of your final model, the predicted values of your\n",
    "            validation, the predicted values of your test, and the intercept of the final model, \n",
    "            in that order.\n",
    "        * 'heavy' if problem = regression, will return everything from light, plus a matrix \n",
    "            containing weights from all folds of the validations. Will also return the model \n",
    "            from the most recent fold.\n",
    "            if problem = classification, will return a summary dataframe (with weights) for your\n",
    "            validation, a summary dataframe for your test, your predicted values from validation,\n",
    "            predicted values from test, a matrix containing weights from all folds of the \n",
    "            validation, and the model from the most recent fold.\n",
    "        \n",
    "        '''\n",
    "    \n",
    "    \n",
    "    if problem != 'regression' and problem != 'classification':\n",
    "        raise IOError('please set problem to regression or classification')\n",
    "    \n",
    "    #feature_matrix = pandas.DataFrame(np.zeros_like(train))\n",
    "    \n",
    "    # Initiate variables\n",
    "    predicted = []\n",
    "    all_weights = pandas.DataFrame(np.zeros((folds,len(train.columns))))\n",
    "    if save_int:\n",
    "        ints = []\n",
    "    start = 0\n",
    "    fold = 1\n",
    "    \n",
    "    # scale inputs\n",
    "    if scale:\n",
    "        master_scl = preprocessing.StandardScaler().fit(train)\n",
    "        train = pandas.DataFrame(master_scl.transform(train),\n",
    "                                 index=train.index,columns=train.columns)\n",
    "        test = pandas.DataFrame(master_scl.transform(test),\n",
    "                                 index=test.index,columns=test.columns)\n",
    "    \n",
    "    # strip columns names\n",
    "    tr_cols = train.columns \n",
    "    train.columns = range(len(train.columns))\n",
    "    test.colums = range(len(test.columns))\n",
    "    \n",
    "    \n",
    "    for tr_ix, te_ix in KFold(n_splits=folds).split(train):\n",
    "        tmp_mtx = train.loc[train.index[tr_ix]] # working matrix\n",
    "        \n",
    "        # Build regression statements (if regcols)\n",
    "        if regcols != None: \n",
    "            ref = deepcopy(tmp_mtx)\n",
    "            tmp_mtx.columns = ['x_%s'%x for x in tmp_mtx.columns]\n",
    "            tmp_mtx['y'] = y.loc[tmp_mtx.index]\n",
    "            stmnt = 'y ~'\n",
    "            for z,col in enumerate(regcols):\n",
    "                cov = 'cov_%s'%z\n",
    "                tmp_mtx[cov] = regdf.loc[tmp_mtx.index][col]\n",
    "                if z == 0:\n",
    "                    stmnt += ' %s'%cov\n",
    "                else:\n",
    "                    stmnt += ' + %s'%cov\n",
    "        else:\n",
    "            regcols = []\n",
    "        \n",
    "        # feature selection -- only retain significant features\n",
    "        ps = []\n",
    "        if p_cutoff != None:\n",
    "            if len(regcols) > 0:\n",
    "                if verbose:\n",
    "                    print('running regression for fold %s of %s'%(fold,folds))\n",
    "                for x in range(tmp_mtx.shape[1] - (len(regcols) + 1)):\n",
    "                    n_stmnt = '%s + x_%s'%(stmnt,x)\n",
    "                    ps.append(smf.ols(stmnt,data=temp_mtx).fit().pvalues[-1])\n",
    "                sig_mtx = ref.loc[ref.index[:]]\n",
    "            else:\n",
    "                if problem == 'regression':\n",
    "                    if verbose:\n",
    "                        print('running correlation for fold %s of %s'%(fold,folds))\n",
    "                    for x in range(tmp_mtx.shape[1]):\n",
    "                        ps.append(stats.pearsonr(\n",
    "                                y[tmp_mtx.index].values,tmp_mtx.values[:,x])[1]\n",
    "                             )\n",
    "                else: # classification\n",
    "                    if verbose:\n",
    "                        print('running ttests for fold %s of %s'%(fold,folds))\n",
    "                    for x in range(tmp_mtx.shape[1]):\n",
    "                        ps.append(stats.ttest_ind(\n",
    "                                tmp_mtx.loc[y[tmp_mtx.index][y[tmp_mtx.index]==0].index][tmp_mtx.columns[x]],\n",
    "                                tmp_mtx.loc[y[tmp_mtx.index][y[tmp_mtx.index]==1].index][tmp_mtx.columns[x]]\n",
    "                             )[1])\n",
    "            ps_s = pandas.Series(ps)\n",
    "            sig = ps_s[ps_s < p_cutoff]\n",
    "            if len(sig) == 0:\n",
    "                fold += 1\n",
    "                continue\n",
    "            sig_mtx = tmp_mtx[sig.index]\n",
    "        else:\n",
    "            sig_mtx = tmp_mtx[tmp_mtx.columns[:]]\n",
    "        \n",
    "        # run model\n",
    "        if verbose:\n",
    "            print('running model for fold %s of %s'%(fold,folds))\n",
    "        if type(keep_cols) == list:\n",
    "            for col in keep_cols:\n",
    "                sig_mtx[col] = tmp_mtx.ix[:,col]\n",
    "        if search:\n",
    "            mod_sel = clf.fit(sig_mtx,y[sig_mtx.index])\n",
    "            new_clf = mod_sel.best_estimator_\n",
    "            model = new_clf.fit(sig_mtx,y[sig_mtx.index])\n",
    "        else:\n",
    "            model = clf.fit(sig_mtx,y[sig_mtx.index])\n",
    "        try:\n",
    "            all_weights.loc[(fold-1)][sig_mtx.columns] = model.coef_\n",
    "        except:\n",
    "            all_weights.loc[(fold-1)][sig_mtx.columns] = model.coef_[0,:]\n",
    "        # save predicted values for this validation fold\n",
    "        [predicted.append(x) for x in model.predict(train.loc[train.index[te_ix]][\n",
    "                                                    sig_mtx.columns].values)]\n",
    "        if save_int:\n",
    "            ints.append(model.intercept_)\n",
    "        \n",
    "        # reset variables\n",
    "        fold += 1\n",
    "        if len(regcols) == 0:\n",
    "            regcols = None\n",
    "        \n",
    "        # save output\n",
    "        if out_dir != None and type(out_dir) == str:\n",
    "            print('saving matrix for fold %s of %s'%(fold,folds))\n",
    "            if not os.path.isdir(out_dir):\n",
    "                os.mkdir(out_dir)\n",
    "            feature_matrix.to_csv(os.path.join(out_dir,'lasso_weights.csv'))\n",
    "            pandas.DataFrame(pandas.Series(predicted)).to_csv(\n",
    "                                                    os.path.join(out_dir,'lasso_predicted.csv'))\n",
    "        \n",
    "    # assemble final model\n",
    "    final_weights = all_weights.mean(axis=0)\n",
    "    n_feats = len([i for i in final_weights.index if abs(final_weights[i]) > 0 ])\n",
    "    if verbose:\n",
    "        print(n_feats,'features selected')\n",
    "    \n",
    "    if n_feats == 0:\n",
    "        val_res, t_res = np.nan, np.nan\n",
    "        predicted, t_predicted = [], np.array([])\n",
    "        if save_int:\n",
    "            all_ints = np.mean(ints)\n",
    "        else:\n",
    "            all_ints = np.nan\n",
    "        val_sum, t_sum = pandas.DataFrame(), pandas.DataFrame()\n",
    "    else:\n",
    "    \n",
    "        # run validation\n",
    "        if problem == 'regression':\n",
    "            r,p = stats.pearsonr(y[train.index],predicted)\n",
    "            val_res = (r**2)*100\n",
    "            if verbose:\n",
    "                print('validation prediction accuracy is %s percent \\n p = %s \\n r = %s'%(val_res,p,r))\n",
    "        else:\n",
    "            val_sum, val_res = manual_classification(y[train.index],predicted,verbose,'validation')\n",
    "\n",
    "        # apply model to test data\n",
    "        ntest = check_array(test,accept_sparse='csr')\n",
    "        t_predicted = pandas.Series(safe_sparse_dot(ntest,np.array(final_weights).T,dense_output=True),index=test.index)\n",
    "        if save_int:\n",
    "            all_ints = np.mean(ints)\n",
    "            t_predicted += all_ints\n",
    "        else:\n",
    "            all_ints = []\n",
    "\n",
    "        # run test\n",
    "        if problem == 'regression':\n",
    "            r,p = stats.pearsonr(t_y[test.index],t_predicted)\n",
    "            t_res = (r**2)*100\n",
    "            if verbose:\n",
    "                print('testing prediction accuracy is %s percent \\n p = %s \\n r = %s'%(t_res,p,r))\n",
    "        else: # classification\n",
    "            t_decision_func = t_predicted\n",
    "            t_predicted = pandas.Series(index = test.index)\n",
    "            t_predicted[t_decision_func[t_decision_func<0].index] = 0\n",
    "            t_predicted[t_decision_func[t_decision_func>0].index] = 1\n",
    "            t_sum, t_res = manual_classification(t_y[test.index],t_predicted,verbose,'testing',t_decision_func)\n",
    "\n",
    "    # prepare outputs\n",
    "    \n",
    "    final_weights.columns = tr_cols\n",
    "    all_weights.columns = tr_cols\n",
    "    \n",
    "    if output == 'scores':\n",
    "            return val_res, t_res\n",
    "    elif output == 'light':\n",
    "        return final_weights, predicted, t_predicted, all_ints\n",
    "    else:\n",
    "        if problem == 'regression':\n",
    "            return final_weights, predicted, t_predicted, all_ints, all_weights, model\n",
    "        else:\n",
    "            return val_sum, t_sum, predicted, t_predicted, all_ints, all_weights, model \n",
    "\n",
    "def manual_classification(obs, pred, verbose, mode='validation', weights=None):\n",
    "            \n",
    "    if type(obs) == pandas.core.series.Series:\n",
    "        obs = obs.values\n",
    "    \n",
    "    if type(pred) == pandas.core.series.Series:\n",
    "        pred = pred.values\n",
    "    \n",
    "    summary = pandas.DataFrame(index=range(len(obs)),columns = ['Predicted','Actual'])\n",
    "    summary['Predicted'] = pred\n",
    "    summary['Actual'] = obs\n",
    "    if type(weights) != type(None):\n",
    "        summary['Prediction Function'] = weights\n",
    "    for x in summary.index: \n",
    "        if summary.ix[x,'Predicted'] == summary.ix[x,'Actual']:\n",
    "            summary.ix[x,'Hit'] = 1\n",
    "        else:\n",
    "            summary.ix[x,'Hit'] = 0\n",
    "\n",
    "    tp,tn,fp,fn = [],[],[],[]\n",
    "    for i,row in summary.iterrows():\n",
    "        val = row['Predicted'] - row['Actual']\n",
    "        if val == 0:\n",
    "            if row['Actual'] == 1:\n",
    "                tp.append(i)\n",
    "            else:\n",
    "                tn.append(i)\n",
    "        elif val == 1:\n",
    "            fp.append(i)\n",
    "        elif val == -1:\n",
    "            fn.append(i)\n",
    "        else:\n",
    "            print('something went wrong for ',i)\n",
    "\n",
    "    sens = len(tp)/(len(tp)+len(fn))\n",
    "    spec = len(tn)/(len(tn)+len(fp))\n",
    "    acc = (len(tp)+len(tn))/(len(tp)+len(fn)+len(tn)+len(fp))\n",
    "\n",
    "    if verbose:\n",
    "        print(mode,' sensitivity:' , sens)\n",
    "        print(mode,'specificity:' , spec)\n",
    "        print(mode,'accuracy:', acc)\n",
    "\n",
    "    results = [sens,spec,acc]\n",
    "\n",
    "    return summary, results\n"
   ]
  },
  {
   "cell_type": "markdown",
   "metadata": {},
   "source": [
    "# GET VARIABLES "
   ]
  },
  {
   "cell_type": "code",
   "execution_count": 105,
   "metadata": {
    "collapsed": false
   },
   "outputs": [
    {
     "data": {
      "text/html": [
       "<div>\n",
       "<table border=\"1\" class=\"dataframe\">\n",
       "  <thead>\n",
       "    <tr style=\"text-align: right;\">\n",
       "      <th></th>\n",
       "      <th>subject</th>\n",
       "      <th>RID</th>\n",
       "      <th>PTID</th>\n",
       "      <th>age_r</th>\n",
       "      <th>sex</th>\n",
       "      <th>mean_gm</th>\n",
       "      <th>TIV</th>\n",
       "      <th>EXAMDATE</th>\n",
       "      <th>scan_date</th>\n",
       "      <th>vbm_file</th>\n",
       "      <th>...</th>\n",
       "      <th>score_41</th>\n",
       "      <th>score_42</th>\n",
       "      <th>score_43</th>\n",
       "      <th>score_44</th>\n",
       "      <th>score_45</th>\n",
       "      <th>score_46</th>\n",
       "      <th>score_47</th>\n",
       "      <th>score_48</th>\n",
       "      <th>score_49</th>\n",
       "      <th>score_50</th>\n",
       "    </tr>\n",
       "  </thead>\n",
       "  <tbody>\n",
       "    <tr>\n",
       "      <th>0</th>\n",
       "      <td>subject0021</td>\n",
       "      <td>21.0</td>\n",
       "      <td>011_S_0021</td>\n",
       "      <td>72.600000</td>\n",
       "      <td>0.0</td>\n",
       "      <td>0.290485</td>\n",
       "      <td>1440900.75</td>\n",
       "      <td>10/24/2005</td>\n",
       "      <td>10/10/05</td>\n",
       "      <td>smwrc1rl_T1_scandate_732595_birthdate_705585_0...</td>\n",
       "      <td>...</td>\n",
       "      <td>35.530734</td>\n",
       "      <td>35.859132</td>\n",
       "      <td>32.373150</td>\n",
       "      <td>35.582640</td>\n",
       "      <td>3.597200</td>\n",
       "      <td>20.694638</td>\n",
       "      <td>30.465716</td>\n",
       "      <td>30.551352</td>\n",
       "      <td>17.848491</td>\n",
       "      <td>33.041795</td>\n",
       "    </tr>\n",
       "    <tr>\n",
       "      <th>1</th>\n",
       "      <td>subject0023</td>\n",
       "      <td>23.0</td>\n",
       "      <td>011_S_0023</td>\n",
       "      <td>71.700000</td>\n",
       "      <td>1.0</td>\n",
       "      <td>0.332182</td>\n",
       "      <td>1544985.50</td>\n",
       "      <td>11/8/2005</td>\n",
       "      <td>10/31/05</td>\n",
       "      <td>smwrc1rl_T1_scandate_732616_birthdate_704876_0...</td>\n",
       "      <td>...</td>\n",
       "      <td>46.745997</td>\n",
       "      <td>37.528679</td>\n",
       "      <td>35.017123</td>\n",
       "      <td>46.444176</td>\n",
       "      <td>-0.549843</td>\n",
       "      <td>28.184171</td>\n",
       "      <td>32.632151</td>\n",
       "      <td>51.511630</td>\n",
       "      <td>16.697365</td>\n",
       "      <td>32.914088</td>\n",
       "    </tr>\n",
       "    <tr>\n",
       "      <th>2</th>\n",
       "      <td>subject0059</td>\n",
       "      <td>59.0</td>\n",
       "      <td>067_S_0059</td>\n",
       "      <td>78.875359</td>\n",
       "      <td>0.0</td>\n",
       "      <td>0.282895</td>\n",
       "      <td>1279627.00</td>\n",
       "      <td>12/13/2013</td>\n",
       "      <td>12/13/13</td>\n",
       "      <td>smwrc1rl_T1_scandate_735581_birthdate_707841_0...</td>\n",
       "      <td>...</td>\n",
       "      <td>41.090286</td>\n",
       "      <td>39.981865</td>\n",
       "      <td>31.352580</td>\n",
       "      <td>41.385673</td>\n",
       "      <td>8.823693</td>\n",
       "      <td>29.729746</td>\n",
       "      <td>29.393542</td>\n",
       "      <td>31.002191</td>\n",
       "      <td>17.068733</td>\n",
       "      <td>32.878287</td>\n",
       "    </tr>\n",
       "    <tr>\n",
       "      <th>3</th>\n",
       "      <td>subject0069</td>\n",
       "      <td>69.0</td>\n",
       "      <td>100_S_0069</td>\n",
       "      <td>72.900000</td>\n",
       "      <td>1.0</td>\n",
       "      <td>0.355717</td>\n",
       "      <td>1762411.50</td>\n",
       "      <td>1/17/2006</td>\n",
       "      <td>12/13/05</td>\n",
       "      <td>smwrc1rl_T1_scandate_732659_birthdate_703094_1...</td>\n",
       "      <td>...</td>\n",
       "      <td>40.169767</td>\n",
       "      <td>38.129086</td>\n",
       "      <td>39.121106</td>\n",
       "      <td>55.116683</td>\n",
       "      <td>0.539394</td>\n",
       "      <td>30.381675</td>\n",
       "      <td>39.192471</td>\n",
       "      <td>36.662482</td>\n",
       "      <td>20.824451</td>\n",
       "      <td>44.217368</td>\n",
       "    </tr>\n",
       "    <tr>\n",
       "      <th>4</th>\n",
       "      <td>subject0089</td>\n",
       "      <td>89.0</td>\n",
       "      <td>073_S_0089</td>\n",
       "      <td>65.100000</td>\n",
       "      <td>1.0</td>\n",
       "      <td>0.349537</td>\n",
       "      <td>1589139.25</td>\n",
       "      <td>1/31/2006</td>\n",
       "      <td>01/26/06</td>\n",
       "      <td>smwrc1rl_T1_scandate_732703_birthdate_708248_0...</td>\n",
       "      <td>...</td>\n",
       "      <td>37.290587</td>\n",
       "      <td>47.598844</td>\n",
       "      <td>43.118446</td>\n",
       "      <td>47.927207</td>\n",
       "      <td>4.419909</td>\n",
       "      <td>33.710410</td>\n",
       "      <td>37.089623</td>\n",
       "      <td>39.986202</td>\n",
       "      <td>20.966313</td>\n",
       "      <td>45.762426</td>\n",
       "    </tr>\n",
       "  </tbody>\n",
       "</table>\n",
       "<p>5 rows × 64 columns</p>\n",
       "</div>"
      ],
      "text/plain": [
       "       subject   RID        PTID      age_r  sex   mean_gm         TIV  \\\n",
       "0  subject0021  21.0  011_S_0021  72.600000  0.0  0.290485  1440900.75   \n",
       "1  subject0023  23.0  011_S_0023  71.700000  1.0  0.332182  1544985.50   \n",
       "2  subject0059  59.0  067_S_0059  78.875359  0.0  0.282895  1279627.00   \n",
       "3  subject0069  69.0  100_S_0069  72.900000  1.0  0.355717  1762411.50   \n",
       "4  subject0089  89.0  073_S_0089  65.100000  1.0  0.349537  1589139.25   \n",
       "\n",
       "     EXAMDATE scan_date                                           vbm_file  \\\n",
       "0  10/24/2005  10/10/05  smwrc1rl_T1_scandate_732595_birthdate_705585_0...   \n",
       "1   11/8/2005  10/31/05  smwrc1rl_T1_scandate_732616_birthdate_704876_0...   \n",
       "2  12/13/2013  12/13/13  smwrc1rl_T1_scandate_735581_birthdate_707841_0...   \n",
       "3   1/17/2006  12/13/05  smwrc1rl_T1_scandate_732659_birthdate_703094_1...   \n",
       "4   1/31/2006  01/26/06  smwrc1rl_T1_scandate_732703_birthdate_708248_0...   \n",
       "\n",
       "     ...       score_41   score_42   score_43   score_44  score_45   score_46  \\\n",
       "0    ...      35.530734  35.859132  32.373150  35.582640  3.597200  20.694638   \n",
       "1    ...      46.745997  37.528679  35.017123  46.444176 -0.549843  28.184171   \n",
       "2    ...      41.090286  39.981865  31.352580  41.385673  8.823693  29.729746   \n",
       "3    ...      40.169767  38.129086  39.121106  55.116683  0.539394  30.381675   \n",
       "4    ...      37.290587  47.598844  43.118446  47.927207  4.419909  33.710410   \n",
       "\n",
       "    score_47   score_48   score_49   score_50  \n",
       "0  30.465716  30.551352  17.848491  33.041795  \n",
       "1  32.632151  51.511630  16.697365  32.914088  \n",
       "2  29.393542  31.002191  17.068733  32.878287  \n",
       "3  39.192471  36.662482  20.824451  44.217368  \n",
       "4  37.089623  39.986202  20.966313  45.762426  \n",
       "\n",
       "[5 rows x 64 columns]"
      ]
     },
     "execution_count": 105,
     "metadata": {},
     "output_type": "execute_result"
    }
   ],
   "source": [
    "## CHANGE PATH ## \n",
    "\n",
    "df = pandas.read_csv('/Users/jakevogel/Downloads/adni_bl_all_ica50_scores_20170922.csv')\n",
    "df.head()"
   ]
  },
  {
   "cell_type": "code",
   "execution_count": 106,
   "metadata": {
    "collapsed": false
   },
   "outputs": [
    {
     "data": {
      "text/plain": [
       "['subject',\n",
       " 'RID',\n",
       " 'PTID',\n",
       " 'age_r',\n",
       " 'sex',\n",
       " 'mean_gm',\n",
       " 'TIV',\n",
       " 'EXAMDATE',\n",
       " 'scan_date',\n",
       " 'vbm_file',\n",
       " 'CN',\n",
       " 'MCI',\n",
       " 'AD',\n",
       " 'conv_2_AD']"
      ]
     },
     "execution_count": 106,
     "metadata": {},
     "output_type": "execute_result"
    }
   ],
   "source": [
    "df.columns.tolist()[:14]"
   ]
  },
  {
   "cell_type": "code",
   "execution_count": 107,
   "metadata": {
    "collapsed": false
   },
   "outputs": [
    {
     "data": {
      "text/plain": [
       "(477, 64)"
      ]
     },
     "execution_count": 107,
     "metadata": {},
     "output_type": "execute_result"
    }
   ],
   "source": [
    "df.shape"
   ]
  },
  {
   "cell_type": "code",
   "execution_count": 108,
   "metadata": {
    "collapsed": false
   },
   "outputs": [
    {
     "data": {
      "text/plain": [
       "(269, 64)"
      ]
     },
     "execution_count": 108,
     "metadata": {},
     "output_type": "execute_result"
    }
   ],
   "source": [
    "train = df[df.MCI == 0]\n",
    "train.shape"
   ]
  },
  {
   "cell_type": "code",
   "execution_count": 109,
   "metadata": {
    "collapsed": false
   },
   "outputs": [
    {
     "data": {
      "text/plain": [
       "(269, 50)"
      ]
     },
     "execution_count": 109,
     "metadata": {},
     "output_type": "execute_result"
    }
   ],
   "source": [
    "X_train = train[train.columns[14:]]\n",
    "X_train.shape"
   ]
  },
  {
   "cell_type": "code",
   "execution_count": 110,
   "metadata": {
    "collapsed": false
   },
   "outputs": [
    {
     "data": {
      "text/plain": [
       "(208, 50)"
      ]
     },
     "execution_count": 110,
     "metadata": {},
     "output_type": "execute_result"
    }
   ],
   "source": [
    "test = df[df.MCI == 1]\n",
    "X_test = test[test.columns[14:]]\n",
    "X_test.shape"
   ]
  },
  {
   "cell_type": "code",
   "execution_count": 111,
   "metadata": {
    "collapsed": true
   },
   "outputs": [],
   "source": [
    "y_train = train.AD\n",
    "y_test = test.conv_2_AD"
   ]
  },
  {
   "cell_type": "markdown",
   "metadata": {},
   "source": [
    "### RUN IT!"
   ]
  },
  {
   "cell_type": "markdown",
   "metadata": {},
   "source": [
    "This is just a bunch of random settings -- I did not tweak or optimize it. Feel free to use different input data,\n",
    "tweak the parameters (i.e. folds, p-cutoff, clf), or whatever else. However, I am working on an optimizer script\n",
    "right now that I can send when its ready."
   ]
  },
  {
   "cell_type": "code",
   "execution_count": 12,
   "metadata": {
    "collapsed": false
   },
   "outputs": [
    {
     "name": "stdout",
     "output_type": "stream",
     "text": [
      "running ttests for fold 1 of 10\n",
      "running model for fold 1 of 10\n",
      "running ttests for fold 2 of 10\n",
      "running model for fold 2 of 10\n",
      "running ttests for fold 3 of 10\n",
      "running model for fold 3 of 10\n",
      "running ttests for fold 4 of 10\n",
      "running model for fold 4 of 10\n",
      "running ttests for fold 5 of 10\n",
      "running model for fold 5 of 10\n",
      "running ttests for fold 6 of 10\n",
      "running model for fold 6 of 10\n",
      "running ttests for fold 7 of 10\n",
      "running model for fold 7 of 10\n",
      "running ttests for fold 8 of 10\n",
      "running model for fold 8 of 10\n",
      "running ttests for fold 9 of 10\n",
      "running model for fold 9 of 10\n",
      "running ttests for fold 10 of 10\n",
      "running model for fold 10 of 10\n",
      "39 features selected\n",
      "validation  sensitivity: 0.6352941176470588\n",
      "validation specificity: 0.8695652173913043\n",
      "validation accuracy: 0.7955390334572491\n",
      "testing  sensitivity: 0.6078431372549019\n",
      "testing specificity: 0.8789808917197452\n",
      "testing accuracy: 0.8125\n"
     ]
    }
   ],
   "source": [
    "jnk_weights, jnk_pred, jnk_t_pred, jnk_ints = kfold_feature_learning(\n",
    "                        X_train, X_test, y_train, y_test, \n",
    "                        p_cutoff=0.1,problem = 'classification', folds = 10, \n",
    "                        clf = linear_model.SGDClassifier(loss='modified_huber',penalty='l1',random_state=123), \n",
    "                        output='light', scale=True, regcols = None, regdf = None,\n",
    "                        keep_cols = None, save_int = True)"
   ]
  },
  {
   "cell_type": "markdown",
   "metadata": {},
   "source": [
    "## Now using an embedded grid search into the pipeline! "
   ]
  },
  {
   "cell_type": "markdown",
   "metadata": {},
   "source": [
    "Again I did not mess with the parameters of the feature_learning function -- feel free to do so"
   ]
  },
  {
   "cell_type": "code",
   "execution_count": 112,
   "metadata": {
    "collapsed": true
   },
   "outputs": [],
   "source": [
    "params1 = {'loss': ['hinge','log', 'modified_huber', 'squared_hinge', 'perceptron'],\n",
    "          'penalty': ['none', 'l2', 'l1'],\n",
    "          'alpha': [0.000001, 0.00001, 0.0001, 0.001, 0.01, 0.1]} \n",
    "params2 = {'loss': ['hinge','log', 'modified_huber', 'squared_hinge'],\n",
    "          'penalty': ['elasticnet'],\n",
    "          'alpha': [0.000001, 0.00001, 0.0001, 0.001, 0.01, 0.1],\n",
    "          'l1_ratio': [0.05,0.1,0.15,0.2,0.3,0.5]} "
   ]
  },
  {
   "cell_type": "code",
   "execution_count": 121,
   "metadata": {
    "collapsed": true
   },
   "outputs": [],
   "source": [
    "selector = model_selection.GridSearchCV(linear_model.SGDClassifier(random_state=123),[params1,params2],cv=10,\n",
    "                                       scoring = 'f1')"
   ]
  },
  {
   "cell_type": "code",
   "execution_count": 122,
   "metadata": {
    "collapsed": false
   },
   "outputs": [
    {
     "name": "stdout",
     "output_type": "stream",
     "text": [
      "running model for fold 1 of 3\n",
      "running model for fold 2 of 3\n"
     ]
    },
    {
     "name": "stderr",
     "output_type": "stream",
     "text": [
      "//anaconda/envs/py3/lib/python3.5/site-packages/sklearn/metrics/classification.py:1113: UndefinedMetricWarning: F-score is ill-defined and being set to 0.0 due to no predicted samples.\n",
      "  'precision', 'predicted', average, warn_for)\n",
      "//anaconda/envs/py3/lib/python3.5/site-packages/sklearn/metrics/classification.py:1113: UndefinedMetricWarning: F-score is ill-defined and being set to 0.0 due to no predicted samples.\n",
      "  'precision', 'predicted', average, warn_for)\n",
      "//anaconda/envs/py3/lib/python3.5/site-packages/sklearn/metrics/classification.py:1113: UndefinedMetricWarning: F-score is ill-defined and being set to 0.0 due to no predicted samples.\n",
      "  'precision', 'predicted', average, warn_for)\n",
      "//anaconda/envs/py3/lib/python3.5/site-packages/sklearn/metrics/classification.py:1113: UndefinedMetricWarning: F-score is ill-defined and being set to 0.0 due to no predicted samples.\n",
      "  'precision', 'predicted', average, warn_for)\n",
      "//anaconda/envs/py3/lib/python3.5/site-packages/sklearn/metrics/classification.py:1113: UndefinedMetricWarning: F-score is ill-defined and being set to 0.0 due to no predicted samples.\n",
      "  'precision', 'predicted', average, warn_for)\n",
      "//anaconda/envs/py3/lib/python3.5/site-packages/sklearn/metrics/classification.py:1113: UndefinedMetricWarning: F-score is ill-defined and being set to 0.0 due to no predicted samples.\n",
      "  'precision', 'predicted', average, warn_for)\n",
      "//anaconda/envs/py3/lib/python3.5/site-packages/sklearn/metrics/classification.py:1113: UndefinedMetricWarning: F-score is ill-defined and being set to 0.0 due to no predicted samples.\n",
      "  'precision', 'predicted', average, warn_for)\n",
      "//anaconda/envs/py3/lib/python3.5/site-packages/sklearn/metrics/classification.py:1113: UndefinedMetricWarning: F-score is ill-defined and being set to 0.0 due to no predicted samples.\n",
      "  'precision', 'predicted', average, warn_for)\n",
      "//anaconda/envs/py3/lib/python3.5/site-packages/sklearn/metrics/classification.py:1113: UndefinedMetricWarning: F-score is ill-defined and being set to 0.0 due to no predicted samples.\n",
      "  'precision', 'predicted', average, warn_for)\n",
      "//anaconda/envs/py3/lib/python3.5/site-packages/sklearn/metrics/classification.py:1113: UndefinedMetricWarning: F-score is ill-defined and being set to 0.0 due to no predicted samples.\n",
      "  'precision', 'predicted', average, warn_for)\n",
      "//anaconda/envs/py3/lib/python3.5/site-packages/sklearn/metrics/classification.py:1113: UndefinedMetricWarning: F-score is ill-defined and being set to 0.0 due to no predicted samples.\n",
      "  'precision', 'predicted', average, warn_for)\n",
      "//anaconda/envs/py3/lib/python3.5/site-packages/sklearn/metrics/classification.py:1113: UndefinedMetricWarning: F-score is ill-defined and being set to 0.0 due to no predicted samples.\n",
      "  'precision', 'predicted', average, warn_for)\n"
     ]
    },
    {
     "name": "stdout",
     "output_type": "stream",
     "text": [
      "running model for fold 3 of 3\n"
     ]
    },
    {
     "name": "stderr",
     "output_type": "stream",
     "text": [
      "//anaconda/envs/py3/lib/python3.5/site-packages/sklearn/metrics/classification.py:1113: UndefinedMetricWarning: F-score is ill-defined and being set to 0.0 due to no predicted samples.\n",
      "  'precision', 'predicted', average, warn_for)\n",
      "//anaconda/envs/py3/lib/python3.5/site-packages/sklearn/metrics/classification.py:1113: UndefinedMetricWarning: F-score is ill-defined and being set to 0.0 due to no predicted samples.\n",
      "  'precision', 'predicted', average, warn_for)\n",
      "//anaconda/envs/py3/lib/python3.5/site-packages/sklearn/metrics/classification.py:1113: UndefinedMetricWarning: F-score is ill-defined and being set to 0.0 due to no predicted samples.\n",
      "  'precision', 'predicted', average, warn_for)\n",
      "//anaconda/envs/py3/lib/python3.5/site-packages/sklearn/metrics/classification.py:1113: UndefinedMetricWarning: F-score is ill-defined and being set to 0.0 due to no predicted samples.\n",
      "  'precision', 'predicted', average, warn_for)\n",
      "//anaconda/envs/py3/lib/python3.5/site-packages/sklearn/metrics/classification.py:1113: UndefinedMetricWarning: F-score is ill-defined and being set to 0.0 due to no predicted samples.\n",
      "  'precision', 'predicted', average, warn_for)\n",
      "//anaconda/envs/py3/lib/python3.5/site-packages/sklearn/metrics/classification.py:1113: UndefinedMetricWarning: F-score is ill-defined and being set to 0.0 due to no predicted samples.\n",
      "  'precision', 'predicted', average, warn_for)\n",
      "//anaconda/envs/py3/lib/python3.5/site-packages/sklearn/metrics/classification.py:1113: UndefinedMetricWarning: F-score is ill-defined and being set to 0.0 due to no predicted samples.\n",
      "  'precision', 'predicted', average, warn_for)\n",
      "//anaconda/envs/py3/lib/python3.5/site-packages/sklearn/metrics/classification.py:1113: UndefinedMetricWarning: F-score is ill-defined and being set to 0.0 due to no predicted samples.\n",
      "  'precision', 'predicted', average, warn_for)\n",
      "//anaconda/envs/py3/lib/python3.5/site-packages/sklearn/metrics/classification.py:1113: UndefinedMetricWarning: F-score is ill-defined and being set to 0.0 due to no predicted samples.\n",
      "  'precision', 'predicted', average, warn_for)\n",
      "//anaconda/envs/py3/lib/python3.5/site-packages/sklearn/metrics/classification.py:1113: UndefinedMetricWarning: F-score is ill-defined and being set to 0.0 due to no predicted samples.\n",
      "  'precision', 'predicted', average, warn_for)\n",
      "//anaconda/envs/py3/lib/python3.5/site-packages/sklearn/metrics/classification.py:1113: UndefinedMetricWarning: F-score is ill-defined and being set to 0.0 due to no predicted samples.\n",
      "  'precision', 'predicted', average, warn_for)\n",
      "//anaconda/envs/py3/lib/python3.5/site-packages/sklearn/metrics/classification.py:1113: UndefinedMetricWarning: F-score is ill-defined and being set to 0.0 due to no predicted samples.\n",
      "  'precision', 'predicted', average, warn_for)\n",
      "//anaconda/envs/py3/lib/python3.5/site-packages/sklearn/metrics/classification.py:1113: UndefinedMetricWarning: F-score is ill-defined and being set to 0.0 due to no predicted samples.\n",
      "  'precision', 'predicted', average, warn_for)\n",
      "//anaconda/envs/py3/lib/python3.5/site-packages/sklearn/metrics/classification.py:1113: UndefinedMetricWarning: F-score is ill-defined and being set to 0.0 due to no predicted samples.\n",
      "  'precision', 'predicted', average, warn_for)\n",
      "//anaconda/envs/py3/lib/python3.5/site-packages/sklearn/metrics/classification.py:1113: UndefinedMetricWarning: F-score is ill-defined and being set to 0.0 due to no predicted samples.\n",
      "  'precision', 'predicted', average, warn_for)\n",
      "//anaconda/envs/py3/lib/python3.5/site-packages/sklearn/metrics/classification.py:1113: UndefinedMetricWarning: F-score is ill-defined and being set to 0.0 due to no predicted samples.\n",
      "  'precision', 'predicted', average, warn_for)\n",
      "//anaconda/envs/py3/lib/python3.5/site-packages/sklearn/metrics/classification.py:1113: UndefinedMetricWarning: F-score is ill-defined and being set to 0.0 due to no predicted samples.\n",
      "  'precision', 'predicted', average, warn_for)\n",
      "//anaconda/envs/py3/lib/python3.5/site-packages/sklearn/metrics/classification.py:1113: UndefinedMetricWarning: F-score is ill-defined and being set to 0.0 due to no predicted samples.\n",
      "  'precision', 'predicted', average, warn_for)\n",
      "//anaconda/envs/py3/lib/python3.5/site-packages/sklearn/metrics/classification.py:1113: UndefinedMetricWarning: F-score is ill-defined and being set to 0.0 due to no predicted samples.\n",
      "  'precision', 'predicted', average, warn_for)\n",
      "//anaconda/envs/py3/lib/python3.5/site-packages/sklearn/metrics/classification.py:1113: UndefinedMetricWarning: F-score is ill-defined and being set to 0.0 due to no predicted samples.\n",
      "  'precision', 'predicted', average, warn_for)\n",
      "//anaconda/envs/py3/lib/python3.5/site-packages/sklearn/metrics/classification.py:1113: UndefinedMetricWarning: F-score is ill-defined and being set to 0.0 due to no predicted samples.\n",
      "  'precision', 'predicted', average, warn_for)\n",
      "//anaconda/envs/py3/lib/python3.5/site-packages/sklearn/metrics/classification.py:1113: UndefinedMetricWarning: F-score is ill-defined and being set to 0.0 due to no predicted samples.\n",
      "  'precision', 'predicted', average, warn_for)\n",
      "//anaconda/envs/py3/lib/python3.5/site-packages/sklearn/metrics/classification.py:1113: UndefinedMetricWarning: F-score is ill-defined and being set to 0.0 due to no predicted samples.\n",
      "  'precision', 'predicted', average, warn_for)\n",
      "//anaconda/envs/py3/lib/python3.5/site-packages/sklearn/metrics/classification.py:1113: UndefinedMetricWarning: F-score is ill-defined and being set to 0.0 due to no predicted samples.\n",
      "  'precision', 'predicted', average, warn_for)\n",
      "//anaconda/envs/py3/lib/python3.5/site-packages/sklearn/metrics/classification.py:1113: UndefinedMetricWarning: F-score is ill-defined and being set to 0.0 due to no predicted samples.\n",
      "  'precision', 'predicted', average, warn_for)\n",
      "//anaconda/envs/py3/lib/python3.5/site-packages/sklearn/metrics/classification.py:1113: UndefinedMetricWarning: F-score is ill-defined and being set to 0.0 due to no predicted samples.\n",
      "  'precision', 'predicted', average, warn_for)\n",
      "//anaconda/envs/py3/lib/python3.5/site-packages/sklearn/metrics/classification.py:1113: UndefinedMetricWarning: F-score is ill-defined and being set to 0.0 due to no predicted samples.\n",
      "  'precision', 'predicted', average, warn_for)\n",
      "//anaconda/envs/py3/lib/python3.5/site-packages/sklearn/metrics/classification.py:1113: UndefinedMetricWarning: F-score is ill-defined and being set to 0.0 due to no predicted samples.\n",
      "  'precision', 'predicted', average, warn_for)\n",
      "//anaconda/envs/py3/lib/python3.5/site-packages/sklearn/metrics/classification.py:1113: UndefinedMetricWarning: F-score is ill-defined and being set to 0.0 due to no predicted samples.\n",
      "  'precision', 'predicted', average, warn_for)\n"
     ]
    },
    {
     "name": "stdout",
     "output_type": "stream",
     "text": [
      "50 features selected\n",
      "validation  sensitivity: 0.7294117647058823\n",
      "validation specificity: 0.8695652173913043\n",
      "validation accuracy: 0.8252788104089219\n",
      "testing  sensitivity: 0.5294117647058824\n",
      "testing specificity: 0.8280254777070064\n",
      "testing accuracy: 0.7548076923076923\n"
     ]
    }
   ],
   "source": [
    "output = kfold_feature_learning(X_train, X_test, y_train, y_test, clf = selector, search = True,\n",
    "                                p_cutoff=None,problem = 'classification', folds = 3, output='light', \n",
    "                                scale=True, regcols = None, regdf = None, keep_cols = None, save_int = True)"
   ]
  },
  {
   "cell_type": "code",
   "execution_count": 136,
   "metadata": {
    "collapsed": false
   },
   "outputs": [
    {
     "data": {
      "text/html": [
       "<div>\n",
       "<table border=\"1\" class=\"dataframe\">\n",
       "  <thead>\n",
       "    <tr style=\"text-align: right;\">\n",
       "      <th></th>\n",
       "      <th>Weight</th>\n",
       "    </tr>\n",
       "  </thead>\n",
       "  <tbody>\n",
       "    <tr>\n",
       "      <th>0</th>\n",
       "      <td>-1.141697e+11</td>\n",
       "    </tr>\n",
       "    <tr>\n",
       "      <th>1</th>\n",
       "      <td>-5.858519e+10</td>\n",
       "    </tr>\n",
       "    <tr>\n",
       "      <th>2</th>\n",
       "      <td>-2.473730e+11</td>\n",
       "    </tr>\n",
       "    <tr>\n",
       "      <th>3</th>\n",
       "      <td>-1.156278e+11</td>\n",
       "    </tr>\n",
       "    <tr>\n",
       "      <th>4</th>\n",
       "      <td>1.224115e+11</td>\n",
       "    </tr>\n",
       "  </tbody>\n",
       "</table>\n",
       "</div>"
      ],
      "text/plain": [
       "         Weight\n",
       "0 -1.141697e+11\n",
       "1 -5.858519e+10\n",
       "2 -2.473730e+11\n",
       "3 -1.156278e+11\n",
       "4  1.224115e+11"
      ]
     },
     "execution_count": 136,
     "metadata": {},
     "output_type": "execute_result"
    }
   ],
   "source": [
    "wts = pandas.DataFrame(output[0],columns = ['Weight'])\n",
    "#wts = wts.loc[abs(wts).sort_values('Weight',ascending = False).index]\n",
    "wts.head()"
   ]
  },
  {
   "cell_type": "code",
   "execution_count": 137,
   "metadata": {
    "collapsed": false
   },
   "outputs": [
    {
     "data": {
      "image/png": "[encoded data removed]",
      "text/plain": [
       "<matplotlib.figure.Figure at 0x110917978>"
      ]
     },
     "metadata": {},
     "output_type": "display_data"
    }
   ],
   "source": [
    "plt.close()\n",
    "sns.set(font_scale=2)\n",
    "fig,ax = plt.subplots(figsize=(10,5))\n",
    "fig = sns.barplot(x = wts.index,\n",
    "            y='Weight',\n",
    "            data=wts.loc[abs(wts).sort_values('Weight',ascending = False).index],palette='Blues_d')\n",
    "for item in fig.get_xticklabels():\n",
    "    item.set_rotation(90)\n",
    "sns.plt.xlabel('Features')\n",
    "sns.plt.ylabel('Weight')\n",
    "plt.show()"
   ]
  },
  {
   "cell_type": "markdown",
   "metadata": {},
   "source": [
    "## Experimenting with a random forest"
   ]
  },
  {
   "cell_type": "code",
   "execution_count": 138,
   "metadata": {
    "collapsed": true
   },
   "outputs": [],
   "source": [
    "from sklearn.ensemble import RandomForestClassifier"
   ]
  },
  {
   "cell_type": "code",
   "execution_count": 171,
   "metadata": {
    "collapsed": false
   },
   "outputs": [
    {
     "data": {
      "text/plain": [
       "RandomForestClassifier(bootstrap=True, class_weight=None, criterion='gini',\n",
       "            max_depth=None, max_features='auto', max_leaf_nodes=None,\n",
       "            min_impurity_split=1e-07, min_samples_leaf=1,\n",
       "            min_samples_split=2, min_weight_fraction_leaf=0.0,\n",
       "            n_estimators=10, n_jobs=1, oob_score=False, random_state=None,\n",
       "            verbose=0, warm_start=False)"
      ]
     },
     "execution_count": 171,
     "metadata": {},
     "output_type": "execute_result"
    }
   ],
   "source": [
    "clf = RandomForestClassifier()\n",
    "clf.fit(X_train_scl, y_train)"
   ]
  },
  {
   "cell_type": "code",
   "execution_count": 145,
   "metadata": {
    "collapsed": false
   },
   "outputs": [
    {
     "data": {
      "text/plain": [
       "0.78365384615384615"
      ]
     },
     "execution_count": 145,
     "metadata": {},
     "output_type": "execute_result"
    }
   ],
   "source": [
    "clf.score(X_test_scl, y_test)"
   ]
  },
  {
   "cell_type": "code",
   "execution_count": 146,
   "metadata": {
    "collapsed": false
   },
   "outputs": [
    {
     "name": "stdout",
     "output_type": "stream",
     "text": [
      "running model for fold 1 of 3\n"
     ]
    },
    {
     "ename": "AttributeError",
     "evalue": "'RandomForestClassifier' object has no attribute 'coef_'",
     "output_type": "error",
     "traceback": [
      "\u001b[0;31m---------------------------------------------------------------------------\u001b[0m",
      "\u001b[0;31mAttributeError\u001b[0m                            Traceback (most recent call last)",
      "\u001b[0;32m<ipython-input-104-29dbf05fd103>\u001b[0m in \u001b[0;36mkfold_feature_learning\u001b[0;34m(train, test, y, t_y, clf, problem, folds, scale, verbose, search, p_cutoff, regcols, regdf, keep_cols, out_dir, output, save_int)\u001b[0m\n\u001b[1;32m    184\u001b[0m         \u001b[0;32mtry\u001b[0m\u001b[0;34m:\u001b[0m\u001b[0;34m\u001b[0m\u001b[0m\n\u001b[0;32m--> 185\u001b[0;31m             \u001b[0mall_weights\u001b[0m\u001b[0;34m.\u001b[0m\u001b[0mloc\u001b[0m\u001b[0;34m[\u001b[0m\u001b[0;34m(\u001b[0m\u001b[0mfold\u001b[0m\u001b[0;34m-\u001b[0m\u001b[0;36m1\u001b[0m\u001b[0;34m)\u001b[0m\u001b[0;34m]\u001b[0m\u001b[0;34m[\u001b[0m\u001b[0msig_mtx\u001b[0m\u001b[0;34m.\u001b[0m\u001b[0mcolumns\u001b[0m\u001b[0;34m]\u001b[0m \u001b[0;34m=\u001b[0m \u001b[0mmodel\u001b[0m\u001b[0;34m.\u001b[0m\u001b[0mcoef_\u001b[0m\u001b[0;34m\u001b[0m\u001b[0m\n\u001b[0m\u001b[1;32m    186\u001b[0m         \u001b[0;32mexcept\u001b[0m\u001b[0;34m:\u001b[0m\u001b[0;34m\u001b[0m\u001b[0m\n",
      "\u001b[0;31mAttributeError\u001b[0m: 'RandomForestClassifier' object has no attribute 'coef_'",
      "\nDuring handling of the above exception, another exception occurred:\n",
      "\u001b[0;31mAttributeError\u001b[0m                            Traceback (most recent call last)",
      "\u001b[0;32m<ipython-input-146-496a4b2389bd>\u001b[0m in \u001b[0;36m<module>\u001b[0;34m()\u001b[0m\n\u001b[1;32m      1\u001b[0m rfoutput = kfold_feature_learning(X_train, X_test, y_train, y_test, clf = RandomForestClassifier(), search = False,\n\u001b[1;32m      2\u001b[0m                                 \u001b[0mp_cutoff\u001b[0m\u001b[0;34m=\u001b[0m\u001b[0;32mNone\u001b[0m\u001b[0;34m,\u001b[0m \u001b[0mproblem\u001b[0m \u001b[0;34m=\u001b[0m \u001b[0;34m'classification'\u001b[0m\u001b[0;34m,\u001b[0m \u001b[0mfolds\u001b[0m \u001b[0;34m=\u001b[0m \u001b[0;36m3\u001b[0m\u001b[0;34m,\u001b[0m \u001b[0moutput\u001b[0m\u001b[0;34m=\u001b[0m\u001b[0;34m'light'\u001b[0m\u001b[0;34m,\u001b[0m\u001b[0;34m\u001b[0m\u001b[0m\n\u001b[0;32m----> 3\u001b[0;31m                                 scale=True, regcols = None, regdf = None, keep_cols = None, save_int = True)\n\u001b[0m",
      "\u001b[0;32m<ipython-input-104-29dbf05fd103>\u001b[0m in \u001b[0;36mkfold_feature_learning\u001b[0;34m(train, test, y, t_y, clf, problem, folds, scale, verbose, search, p_cutoff, regcols, regdf, keep_cols, out_dir, output, save_int)\u001b[0m\n\u001b[1;32m    185\u001b[0m             \u001b[0mall_weights\u001b[0m\u001b[0;34m.\u001b[0m\u001b[0mloc\u001b[0m\u001b[0;34m[\u001b[0m\u001b[0;34m(\u001b[0m\u001b[0mfold\u001b[0m\u001b[0;34m-\u001b[0m\u001b[0;36m1\u001b[0m\u001b[0;34m)\u001b[0m\u001b[0;34m]\u001b[0m\u001b[0;34m[\u001b[0m\u001b[0msig_mtx\u001b[0m\u001b[0;34m.\u001b[0m\u001b[0mcolumns\u001b[0m\u001b[0;34m]\u001b[0m \u001b[0;34m=\u001b[0m \u001b[0mmodel\u001b[0m\u001b[0;34m.\u001b[0m\u001b[0mcoef_\u001b[0m\u001b[0;34m\u001b[0m\u001b[0m\n\u001b[1;32m    186\u001b[0m         \u001b[0;32mexcept\u001b[0m\u001b[0;34m:\u001b[0m\u001b[0;34m\u001b[0m\u001b[0m\n\u001b[0;32m--> 187\u001b[0;31m             \u001b[0mall_weights\u001b[0m\u001b[0;34m.\u001b[0m\u001b[0mloc\u001b[0m\u001b[0;34m[\u001b[0m\u001b[0;34m(\u001b[0m\u001b[0mfold\u001b[0m\u001b[0;34m-\u001b[0m\u001b[0;36m1\u001b[0m\u001b[0;34m)\u001b[0m\u001b[0;34m]\u001b[0m\u001b[0;34m[\u001b[0m\u001b[0msig_mtx\u001b[0m\u001b[0;34m.\u001b[0m\u001b[0mcolumns\u001b[0m\u001b[0;34m]\u001b[0m \u001b[0;34m=\u001b[0m \u001b[0mmodel\u001b[0m\u001b[0;34m.\u001b[0m\u001b[0mcoef_\u001b[0m\u001b[0;34m[\u001b[0m\u001b[0;36m0\u001b[0m\u001b[0;34m,\u001b[0m\u001b[0;34m:\u001b[0m\u001b[0;34m]\u001b[0m\u001b[0;34m\u001b[0m\u001b[0m\n\u001b[0m\u001b[1;32m    188\u001b[0m         \u001b[0;31m# save predicted values for this validation fold\u001b[0m\u001b[0;34m\u001b[0m\u001b[0;34m\u001b[0m\u001b[0m\n\u001b[1;32m    189\u001b[0m         [predicted.append(x) for x in model.predict(train.loc[train.index[te_ix]][\n",
      "\u001b[0;31mAttributeError\u001b[0m: 'RandomForestClassifier' object has no attribute 'coef_'"
     ]
    }
   ],
   "source": [
    "rfoutput = kfold_feature_learning(X_train, X_test, y_train, y_test, clf = RandomForestClassifier(), search = False,\n",
    "                                p_cutoff=None, problem = 'classification', folds = 3, output='light', \n",
    "                                scale=True, regcols = None, regdf = None, keep_cols = None, save_int = True)"
   ]
  },
  {
   "cell_type": "code",
   "execution_count": 174,
   "metadata": {
    "collapsed": false
   },
   "outputs": [
    {
     "data": {
      "text/plain": [
       "array([ 0.03712264,  0.00710063,  0.01312643,  0.00460981,  0.01729333,\n",
       "        0.0092553 ,  0.02312061,  0.03222434,  0.00331026,  0.01451003,\n",
       "        0.02402957,  0.01224223,  0.01878242,  0.00515767,  0.00771483,\n",
       "        0.00975133,  0.00893427,  0.0525303 ,  0.00453729,  0.00525046,\n",
       "        0.02393181,  0.0053919 ,  0.0175715 ,  0.01269398,  0.01534041,\n",
       "        0.00374715,  0.01486216,  0.01655151,  0.07342547,  0.01145565,\n",
       "        0.00254374,  0.02623145,  0.00674962,  0.01559161,  0.16134851,\n",
       "        0.03068611,  0.00998341,  0.00648514,  0.00611011,  0.01024847,\n",
       "        0.0095914 ,  0.10286029,  0.01048456,  0.01020354,  0.02940663,\n",
       "        0.02546873,  0.00851094,  0.0053377 ,  0.00635158,  0.01023115])"
      ]
     },
     "execution_count": 174,
     "metadata": {},
     "output_type": "execute_result"
    }
   ],
   "source": [
    "clf.feature_importances_"
   ]
  },
  {
   "cell_type": "code",
   "execution_count": 179,
   "metadata": {
    "collapsed": false
   },
   "outputs": [
    {
     "data": {
      "text/plain": [
       "array([ 0. ,  0. ,  0.2,  0. ,  0.1,  0. ,  0.2,  0.2,  0.1,  0. ,  0. ,\n",
       "        0.1,  0. ,  0. ,  0. ,  0.5,  0. ,  0. ,  0. ,  0.1,  0.1,  0. ,\n",
       "        0. ,  0.2,  0.2,  0. ,  0. ,  1. ,  0. ,  0. ,  0.1,  0. ,  0.6,\n",
       "        0.2,  0.3,  0.9,  0. ,  0.2,  0.1,  0. ,  0. ,  0.2,  0.1,  0. ,\n",
       "        0. ,  0.1,  0.1,  0.2,  0.9,  0. ,  0.2,  0. ,  0.8,  0. ,  0. ,\n",
       "        0. ,  0.9,  0.7,  0. ,  0.8,  0.8,  0. ,  0.1,  0.4,  0.9,  0.1,\n",
       "        0.1,  0.8,  0. ,  0.6,  0. ,  0. ,  0. ,  0.3,  0.1,  0. ,  0. ,\n",
       "        0. ,  1. ,  0.1,  0. ,  0.1,  0. ,  0.1,  0. ,  0.4,  0. ,  0. ,\n",
       "        0. ,  0.2,  0.1,  0.1,  0. ,  0. ,  0.1,  0.1,  0. ,  0. ,  0. ,\n",
       "        0. ,  0. ,  0.2,  0. ,  0. ,  0. ,  0. ,  0.1,  0.5,  1. ,  0. ,\n",
       "        0. ,  0.1,  0.1,  0. ,  0.9,  0.2,  0. ,  0.1,  0. ,  0.9,  0. ,\n",
       "        0.5,  0.6,  0.2,  0.1,  0.2,  0. ,  0.2,  0.2,  0. ,  0. ,  0.2,\n",
       "        1. ,  0.2,  0.1,  0. ,  0.1,  0.1,  0.1,  1. ,  0. ,  0. ,  0.9,\n",
       "        0. ,  0. ,  0.7,  0. ,  1. ,  0.6,  0.3,  1. ,  1. ,  1. ,  1. ,\n",
       "        0.8,  0.8,  0. ,  1. ,  0.1,  0.9,  0.9,  0.9,  0.8,  0.1,  1. ,\n",
       "        0.7,  0.1,  0. ,  1. ,  0.8,  0.2,  0.8,  0.9,  0. ,  0.8,  0.8,\n",
       "        0.8,  0.6,  0.8,  0.4,  0.5,  1. ,  1. ,  0.9,  0.9,  1. ,  0.9,\n",
       "        0.7,  0.9,  0.6,  1. ,  0.9,  0.8,  0.2,  0.9,  0.6,  0.7,  0.7,\n",
       "        1. ,  0.8,  0.7,  0. ,  0. ,  0.7,  0.8,  0.4,  0. ,  0. ,  0.9,\n",
       "        0.8,  0.3,  0.8,  0. ,  0.7,  0.2,  0. ,  0. ,  0.1,  0.2,  0.8,\n",
       "        0. ,  0.1,  0. ,  0. ,  0. ,  0.1,  0.9,  0. ,  0.2,  0. ,  0. ,\n",
       "        0.1,  0. ,  0. ,  0.1,  0.1,  0. ,  0. ,  1. ,  0.4,  0.9,  0.1,\n",
       "        0. ,  0.8,  0. ,  1. ,  0.2,  0.7,  0.9,  0.1,  0.1,  0.2,  0.6,\n",
       "        0. ,  0.3,  0. ,  0. ,  0. ,  0. ,  0. ,  0. ,  0.1,  0.6,  0. ,\n",
       "        0.1,  0. ,  0. ,  0.1,  0. ])"
      ]
     },
     "execution_count": 179,
     "metadata": {},
     "output_type": "execute_result"
    }
   ],
   "source": [
    "clf.predict_proba(X_train_scl)[:,1]"
   ]
  },
  {
   "cell_type": "code",
   "execution_count": 178,
   "metadata": {
    "collapsed": false
   },
   "outputs": [
    {
     "data": {
      "text/plain": [
       "0     0.294350\n",
       "1     0.194540\n",
       "2     0.223654\n",
       "3     0.095454\n",
       "4     0.044072\n",
       "5     0.179285\n",
       "6     0.225659\n",
       "7     0.325395\n",
       "8     0.317057\n",
       "9     0.173201\n",
       "10    0.220247\n",
       "11   -0.057982\n",
       "12    0.325205\n",
       "13    0.185030\n",
       "14    0.267216\n",
       "15    0.220668\n",
       "16    0.168340\n",
       "17    0.240047\n",
       "18    0.171923\n",
       "19    0.256769\n",
       "20    0.108450\n",
       "21    0.277150\n",
       "22    0.144265\n",
       "23    0.258184\n",
       "24    0.269643\n",
       "25   -0.073784\n",
       "26    0.141556\n",
       "27    0.109919\n",
       "28    0.231701\n",
       "29    0.268874\n",
       "30    0.295304\n",
       "31    0.207377\n",
       "32    0.146039\n",
       "33    0.075175\n",
       "34    0.202870\n",
       "35    0.229928\n",
       "36    0.181375\n",
       "37   -0.033769\n",
       "38    0.073831\n",
       "39    0.103174\n",
       "40    0.017915\n",
       "41    0.177165\n",
       "42    0.239264\n",
       "43    0.331518\n",
       "44    0.033400\n",
       "45    0.298015\n",
       "46    0.151211\n",
       "47    0.166851\n",
       "48    0.047869\n",
       "49    0.162520\n",
       "dtype: float64"
      ]
     },
     "execution_count": 178,
     "metadata": {},
     "output_type": "execute_result"
    }
   ],
   "source": [
    "pandas.DataFrame(X_test).mean().values"
   ]
  },
  {
   "cell_type": "code",
   "execution_count": 166,
   "metadata": {
    "collapsed": false
   },
   "outputs": [
    {
     "data": {
      "text/plain": [
       "(64232,)"
      ]
     },
     "execution_count": 166,
     "metadata": {},
     "output_type": "execute_result"
    }
   ],
   "source": [
    "xx.ravel().shape"
   ]
  },
  {
   "cell_type": "code",
   "execution_count": 167,
   "metadata": {
    "collapsed": false
   },
   "outputs": [
    {
     "data": {
      "text/plain": [
       "(64232,)"
      ]
     },
     "execution_count": 167,
     "metadata": {},
     "output_type": "execute_result"
    }
   ],
   "source": [
    "yy.ravel().shape"
   ]
  },
  {
   "cell_type": "code",
   "execution_count": 170,
   "metadata": {
    "collapsed": false
   },
   "outputs": [
    {
     "data": {
      "text/plain": [
       "array([[-2.30173745,  0.06802498],\n",
       "       [-2.28173745,  0.06802498],\n",
       "       [-2.26173745,  0.06802498],\n",
       "       ..., \n",
       "       [ 3.55826255,  4.38802498],\n",
       "       [ 3.57826255,  4.38802498],\n",
       "       [ 3.59826255,  4.38802498]])"
      ]
     },
     "execution_count": 170,
     "metadata": {},
     "output_type": "execute_result"
    }
   ],
   "source": [
    "clf.predict"
   ]
  },
  {
   "cell_type": "code",
   "execution_count": 168,
   "metadata": {
    "collapsed": false
   },
   "outputs": [
    {
     "ename": "ValueError",
     "evalue": "query data dimension must match training data dimension",
     "output_type": "error",
     "traceback": [
      "\u001b[0;31m---------------------------------------------------------------------------\u001b[0m",
      "\u001b[0;31mValueError\u001b[0m                                Traceback (most recent call last)",
      "\u001b[0;32m<ipython-input-168-f0d630c27595>\u001b[0m in \u001b[0;36m<module>\u001b[0;34m()\u001b[0m\n\u001b[0;32m----> 1\u001b[0;31m \u001b[0mclf\u001b[0m\u001b[0;34m.\u001b[0m\u001b[0mpredict_proba\u001b[0m\u001b[0;34m(\u001b[0m\u001b[0mnp\u001b[0m\u001b[0;34m.\u001b[0m\u001b[0mc_\u001b[0m\u001b[0;34m[\u001b[0m\u001b[0mxx\u001b[0m\u001b[0;34m.\u001b[0m\u001b[0mravel\u001b[0m\u001b[0;34m(\u001b[0m\u001b[0;34m)\u001b[0m\u001b[0;34m,\u001b[0m \u001b[0myy\u001b[0m\u001b[0;34m.\u001b[0m\u001b[0mravel\u001b[0m\u001b[0;34m(\u001b[0m\u001b[0;34m)\u001b[0m\u001b[0;34m]\u001b[0m\u001b[0;34m)\u001b[0m\u001b[0;34m\u001b[0m\u001b[0m\n\u001b[0m",
      "\u001b[0;32m//anaconda/envs/py3/lib/python3.5/site-packages/sklearn/neighbors/classification.py\u001b[0m in \u001b[0;36mpredict_proba\u001b[0;34m(self, X)\u001b[0m\n\u001b[1;32m    188\u001b[0m         \u001b[0mX\u001b[0m \u001b[0;34m=\u001b[0m \u001b[0mcheck_array\u001b[0m\u001b[0;34m(\u001b[0m\u001b[0mX\u001b[0m\u001b[0;34m,\u001b[0m \u001b[0maccept_sparse\u001b[0m\u001b[0;34m=\u001b[0m\u001b[0;34m'csr'\u001b[0m\u001b[0;34m)\u001b[0m\u001b[0;34m\u001b[0m\u001b[0m\n\u001b[1;32m    189\u001b[0m \u001b[0;34m\u001b[0m\u001b[0m\n\u001b[0;32m--> 190\u001b[0;31m         \u001b[0mneigh_dist\u001b[0m\u001b[0;34m,\u001b[0m \u001b[0mneigh_ind\u001b[0m \u001b[0;34m=\u001b[0m \u001b[0mself\u001b[0m\u001b[0;34m.\u001b[0m\u001b[0mkneighbors\u001b[0m\u001b[0;34m(\u001b[0m\u001b[0mX\u001b[0m\u001b[0;34m)\u001b[0m\u001b[0;34m\u001b[0m\u001b[0m\n\u001b[0m\u001b[1;32m    191\u001b[0m \u001b[0;34m\u001b[0m\u001b[0m\n\u001b[1;32m    192\u001b[0m         \u001b[0mclasses_\u001b[0m \u001b[0;34m=\u001b[0m \u001b[0mself\u001b[0m\u001b[0;34m.\u001b[0m\u001b[0mclasses_\u001b[0m\u001b[0;34m\u001b[0m\u001b[0m\n",
      "\u001b[0;32m//anaconda/envs/py3/lib/python3.5/site-packages/sklearn/neighbors/base.py\u001b[0m in \u001b[0;36mkneighbors\u001b[0;34m(self, X, n_neighbors, return_distance)\u001b[0m\n\u001b[1;32m    379\u001b[0m                 delayed(self._tree.query, check_pickle=False)(\n\u001b[1;32m    380\u001b[0m                     X[s], n_neighbors, return_distance)\n\u001b[0;32m--> 381\u001b[0;31m                 \u001b[0;32mfor\u001b[0m \u001b[0ms\u001b[0m \u001b[0;32min\u001b[0m \u001b[0mgen_even_slices\u001b[0m\u001b[0;34m(\u001b[0m\u001b[0mX\u001b[0m\u001b[0;34m.\u001b[0m\u001b[0mshape\u001b[0m\u001b[0;34m[\u001b[0m\u001b[0;36m0\u001b[0m\u001b[0;34m]\u001b[0m\u001b[0;34m,\u001b[0m \u001b[0mn_jobs\u001b[0m\u001b[0;34m)\u001b[0m\u001b[0;34m\u001b[0m\u001b[0m\n\u001b[0m\u001b[1;32m    382\u001b[0m             )\n\u001b[1;32m    383\u001b[0m             \u001b[0;32mif\u001b[0m \u001b[0mreturn_distance\u001b[0m\u001b[0;34m:\u001b[0m\u001b[0;34m\u001b[0m\u001b[0m\n",
      "\u001b[0;32m//anaconda/envs/py3/lib/python3.5/site-packages/sklearn/externals/joblib/parallel.py\u001b[0m in \u001b[0;36m__call__\u001b[0;34m(self, iterable)\u001b[0m\n\u001b[1;32m    756\u001b[0m             \u001b[0;31m# was dispatched. In particular this covers the edge\u001b[0m\u001b[0;34m\u001b[0m\u001b[0;34m\u001b[0m\u001b[0m\n\u001b[1;32m    757\u001b[0m             \u001b[0;31m# case of Parallel used with an exhausted iterator.\u001b[0m\u001b[0;34m\u001b[0m\u001b[0;34m\u001b[0m\u001b[0m\n\u001b[0;32m--> 758\u001b[0;31m             \u001b[0;32mwhile\u001b[0m \u001b[0mself\u001b[0m\u001b[0;34m.\u001b[0m\u001b[0mdispatch_one_batch\u001b[0m\u001b[0;34m(\u001b[0m\u001b[0miterator\u001b[0m\u001b[0;34m)\u001b[0m\u001b[0;34m:\u001b[0m\u001b[0;34m\u001b[0m\u001b[0m\n\u001b[0m\u001b[1;32m    759\u001b[0m                 \u001b[0mself\u001b[0m\u001b[0;34m.\u001b[0m\u001b[0m_iterating\u001b[0m \u001b[0;34m=\u001b[0m \u001b[0;32mTrue\u001b[0m\u001b[0;34m\u001b[0m\u001b[0m\n\u001b[1;32m    760\u001b[0m             \u001b[0;32melse\u001b[0m\u001b[0;34m:\u001b[0m\u001b[0;34m\u001b[0m\u001b[0m\n",
      "\u001b[0;32m//anaconda/envs/py3/lib/python3.5/site-packages/sklearn/externals/joblib/parallel.py\u001b[0m in \u001b[0;36mdispatch_one_batch\u001b[0;34m(self, iterator)\u001b[0m\n\u001b[1;32m    606\u001b[0m                 \u001b[0;32mreturn\u001b[0m \u001b[0;32mFalse\u001b[0m\u001b[0;34m\u001b[0m\u001b[0m\n\u001b[1;32m    607\u001b[0m             \u001b[0;32melse\u001b[0m\u001b[0;34m:\u001b[0m\u001b[0;34m\u001b[0m\u001b[0m\n\u001b[0;32m--> 608\u001b[0;31m                 \u001b[0mself\u001b[0m\u001b[0;34m.\u001b[0m\u001b[0m_dispatch\u001b[0m\u001b[0;34m(\u001b[0m\u001b[0mtasks\u001b[0m\u001b[0;34m)\u001b[0m\u001b[0;34m\u001b[0m\u001b[0m\n\u001b[0m\u001b[1;32m    609\u001b[0m                 \u001b[0;32mreturn\u001b[0m \u001b[0;32mTrue\u001b[0m\u001b[0;34m\u001b[0m\u001b[0m\n\u001b[1;32m    610\u001b[0m \u001b[0;34m\u001b[0m\u001b[0m\n",
      "\u001b[0;32m//anaconda/envs/py3/lib/python3.5/site-packages/sklearn/externals/joblib/parallel.py\u001b[0m in \u001b[0;36m_dispatch\u001b[0;34m(self, batch)\u001b[0m\n\u001b[1;32m    569\u001b[0m         \u001b[0mdispatch_timestamp\u001b[0m \u001b[0;34m=\u001b[0m \u001b[0mtime\u001b[0m\u001b[0;34m.\u001b[0m\u001b[0mtime\u001b[0m\u001b[0;34m(\u001b[0m\u001b[0;34m)\u001b[0m\u001b[0;34m\u001b[0m\u001b[0m\n\u001b[1;32m    570\u001b[0m         \u001b[0mcb\u001b[0m \u001b[0;34m=\u001b[0m \u001b[0mBatchCompletionCallBack\u001b[0m\u001b[0;34m(\u001b[0m\u001b[0mdispatch_timestamp\u001b[0m\u001b[0;34m,\u001b[0m \u001b[0mlen\u001b[0m\u001b[0;34m(\u001b[0m\u001b[0mbatch\u001b[0m\u001b[0;34m)\u001b[0m\u001b[0;34m,\u001b[0m \u001b[0mself\u001b[0m\u001b[0;34m)\u001b[0m\u001b[0;34m\u001b[0m\u001b[0m\n\u001b[0;32m--> 571\u001b[0;31m         \u001b[0mjob\u001b[0m \u001b[0;34m=\u001b[0m \u001b[0mself\u001b[0m\u001b[0;34m.\u001b[0m\u001b[0m_backend\u001b[0m\u001b[0;34m.\u001b[0m\u001b[0mapply_async\u001b[0m\u001b[0;34m(\u001b[0m\u001b[0mbatch\u001b[0m\u001b[0;34m,\u001b[0m \u001b[0mcallback\u001b[0m\u001b[0;34m=\u001b[0m\u001b[0mcb\u001b[0m\u001b[0;34m)\u001b[0m\u001b[0;34m\u001b[0m\u001b[0m\n\u001b[0m\u001b[1;32m    572\u001b[0m         \u001b[0mself\u001b[0m\u001b[0;34m.\u001b[0m\u001b[0m_jobs\u001b[0m\u001b[0;34m.\u001b[0m\u001b[0mappend\u001b[0m\u001b[0;34m(\u001b[0m\u001b[0mjob\u001b[0m\u001b[0;34m)\u001b[0m\u001b[0;34m\u001b[0m\u001b[0m\n\u001b[1;32m    573\u001b[0m \u001b[0;34m\u001b[0m\u001b[0m\n",
      "\u001b[0;32m//anaconda/envs/py3/lib/python3.5/site-packages/sklearn/externals/joblib/_parallel_backends.py\u001b[0m in \u001b[0;36mapply_async\u001b[0;34m(self, func, callback)\u001b[0m\n\u001b[1;32m    107\u001b[0m     \u001b[0;32mdef\u001b[0m \u001b[0mapply_async\u001b[0m\u001b[0;34m(\u001b[0m\u001b[0mself\u001b[0m\u001b[0;34m,\u001b[0m \u001b[0mfunc\u001b[0m\u001b[0;34m,\u001b[0m \u001b[0mcallback\u001b[0m\u001b[0;34m=\u001b[0m\u001b[0;32mNone\u001b[0m\u001b[0;34m)\u001b[0m\u001b[0;34m:\u001b[0m\u001b[0;34m\u001b[0m\u001b[0m\n\u001b[1;32m    108\u001b[0m         \u001b[0;34m\"\"\"Schedule a func to be run\"\"\"\u001b[0m\u001b[0;34m\u001b[0m\u001b[0m\n\u001b[0;32m--> 109\u001b[0;31m         \u001b[0mresult\u001b[0m \u001b[0;34m=\u001b[0m \u001b[0mImmediateResult\u001b[0m\u001b[0;34m(\u001b[0m\u001b[0mfunc\u001b[0m\u001b[0;34m)\u001b[0m\u001b[0;34m\u001b[0m\u001b[0m\n\u001b[0m\u001b[1;32m    110\u001b[0m         \u001b[0;32mif\u001b[0m \u001b[0mcallback\u001b[0m\u001b[0;34m:\u001b[0m\u001b[0;34m\u001b[0m\u001b[0m\n\u001b[1;32m    111\u001b[0m             \u001b[0mcallback\u001b[0m\u001b[0;34m(\u001b[0m\u001b[0mresult\u001b[0m\u001b[0;34m)\u001b[0m\u001b[0;34m\u001b[0m\u001b[0m\n",
      "\u001b[0;32m//anaconda/envs/py3/lib/python3.5/site-packages/sklearn/externals/joblib/_parallel_backends.py\u001b[0m in \u001b[0;36m__init__\u001b[0;34m(self, batch)\u001b[0m\n\u001b[1;32m    324\u001b[0m         \u001b[0;31m# Don't delay the application, to avoid keeping the input\u001b[0m\u001b[0;34m\u001b[0m\u001b[0;34m\u001b[0m\u001b[0m\n\u001b[1;32m    325\u001b[0m         \u001b[0;31m# arguments in memory\u001b[0m\u001b[0;34m\u001b[0m\u001b[0;34m\u001b[0m\u001b[0m\n\u001b[0;32m--> 326\u001b[0;31m         \u001b[0mself\u001b[0m\u001b[0;34m.\u001b[0m\u001b[0mresults\u001b[0m \u001b[0;34m=\u001b[0m \u001b[0mbatch\u001b[0m\u001b[0;34m(\u001b[0m\u001b[0;34m)\u001b[0m\u001b[0;34m\u001b[0m\u001b[0m\n\u001b[0m\u001b[1;32m    327\u001b[0m \u001b[0;34m\u001b[0m\u001b[0m\n\u001b[1;32m    328\u001b[0m     \u001b[0;32mdef\u001b[0m \u001b[0mget\u001b[0m\u001b[0;34m(\u001b[0m\u001b[0mself\u001b[0m\u001b[0;34m)\u001b[0m\u001b[0;34m:\u001b[0m\u001b[0;34m\u001b[0m\u001b[0m\n",
      "\u001b[0;32m//anaconda/envs/py3/lib/python3.5/site-packages/sklearn/externals/joblib/parallel.py\u001b[0m in \u001b[0;36m__call__\u001b[0;34m(self)\u001b[0m\n\u001b[1;32m    129\u001b[0m \u001b[0;34m\u001b[0m\u001b[0m\n\u001b[1;32m    130\u001b[0m     \u001b[0;32mdef\u001b[0m \u001b[0m__call__\u001b[0m\u001b[0;34m(\u001b[0m\u001b[0mself\u001b[0m\u001b[0;34m)\u001b[0m\u001b[0;34m:\u001b[0m\u001b[0;34m\u001b[0m\u001b[0m\n\u001b[0;32m--> 131\u001b[0;31m         \u001b[0;32mreturn\u001b[0m \u001b[0;34m[\u001b[0m\u001b[0mfunc\u001b[0m\u001b[0;34m(\u001b[0m\u001b[0;34m*\u001b[0m\u001b[0margs\u001b[0m\u001b[0;34m,\u001b[0m \u001b[0;34m**\u001b[0m\u001b[0mkwargs\u001b[0m\u001b[0;34m)\u001b[0m \u001b[0;32mfor\u001b[0m \u001b[0mfunc\u001b[0m\u001b[0;34m,\u001b[0m \u001b[0margs\u001b[0m\u001b[0;34m,\u001b[0m \u001b[0mkwargs\u001b[0m \u001b[0;32min\u001b[0m \u001b[0mself\u001b[0m\u001b[0;34m.\u001b[0m\u001b[0mitems\u001b[0m\u001b[0;34m]\u001b[0m\u001b[0;34m\u001b[0m\u001b[0m\n\u001b[0m\u001b[1;32m    132\u001b[0m \u001b[0;34m\u001b[0m\u001b[0m\n\u001b[1;32m    133\u001b[0m     \u001b[0;32mdef\u001b[0m \u001b[0m__len__\u001b[0m\u001b[0;34m(\u001b[0m\u001b[0mself\u001b[0m\u001b[0;34m)\u001b[0m\u001b[0;34m:\u001b[0m\u001b[0;34m\u001b[0m\u001b[0m\n",
      "\u001b[0;32m//anaconda/envs/py3/lib/python3.5/site-packages/sklearn/externals/joblib/parallel.py\u001b[0m in \u001b[0;36m<listcomp>\u001b[0;34m(.0)\u001b[0m\n\u001b[1;32m    129\u001b[0m \u001b[0;34m\u001b[0m\u001b[0m\n\u001b[1;32m    130\u001b[0m     \u001b[0;32mdef\u001b[0m \u001b[0m__call__\u001b[0m\u001b[0;34m(\u001b[0m\u001b[0mself\u001b[0m\u001b[0;34m)\u001b[0m\u001b[0;34m:\u001b[0m\u001b[0;34m\u001b[0m\u001b[0m\n\u001b[0;32m--> 131\u001b[0;31m         \u001b[0;32mreturn\u001b[0m \u001b[0;34m[\u001b[0m\u001b[0mfunc\u001b[0m\u001b[0;34m(\u001b[0m\u001b[0;34m*\u001b[0m\u001b[0margs\u001b[0m\u001b[0;34m,\u001b[0m \u001b[0;34m**\u001b[0m\u001b[0mkwargs\u001b[0m\u001b[0;34m)\u001b[0m \u001b[0;32mfor\u001b[0m \u001b[0mfunc\u001b[0m\u001b[0;34m,\u001b[0m \u001b[0margs\u001b[0m\u001b[0;34m,\u001b[0m \u001b[0mkwargs\u001b[0m \u001b[0;32min\u001b[0m \u001b[0mself\u001b[0m\u001b[0;34m.\u001b[0m\u001b[0mitems\u001b[0m\u001b[0;34m]\u001b[0m\u001b[0;34m\u001b[0m\u001b[0m\n\u001b[0m\u001b[1;32m    132\u001b[0m \u001b[0;34m\u001b[0m\u001b[0m\n\u001b[1;32m    133\u001b[0m     \u001b[0;32mdef\u001b[0m \u001b[0m__len__\u001b[0m\u001b[0;34m(\u001b[0m\u001b[0mself\u001b[0m\u001b[0;34m)\u001b[0m\u001b[0;34m:\u001b[0m\u001b[0;34m\u001b[0m\u001b[0m\n",
      "\u001b[0;32msklearn/neighbors/binary_tree.pxi\u001b[0m in \u001b[0;36msklearn.neighbors.kd_tree.BinaryTree.query (sklearn/neighbors/kd_tree.c:11337)\u001b[0;34m()\u001b[0m\n",
      "\u001b[0;31mValueError\u001b[0m: query data dimension must match training data dimension"
     ]
    }
   ],
   "source": []
  },
  {
   "cell_type": "code",
   "execution_count": null,
   "metadata": {
    "collapsed": true
   },
   "outputs": [],
   "source": []
  }
 ],
 "metadata": {
  "anaconda-cloud": {},
  "kernelspec": {
   "display_name": "Python [conda env:py3]",
   "language": "python",
   "name": "conda-env-py3-py"
  },
  "language_info": {
   "codemirror_mode": {
    "name": "ipython",
    "version": 3
   },
   "file_extension": ".py",
   "mimetype": "text/x-python",
   "name": "python",
   "nbconvert_exporter": "python",
   "pygments_lexer": "ipython3",
   "version": "3.5.2"
  }
 },
 "nbformat": 4,
 "nbformat_minor": 1
}
