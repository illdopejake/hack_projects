{
 "cells": [
  {
   "cell_type": "code",
   "execution_count": 1,
   "metadata": {
    "collapsed": true
   },
   "outputs": [],
   "source": [
    "import os\n",
    "import pandas\n",
    "import numpy as np\n",
    "import nibabel as ni\n",
    "from glob import glob"
   ]
  },
  {
   "cell_type": "code",
   "execution_count": null,
   "metadata": {
    "collapsed": true
   },
   "outputs": [],
   "source": [
    "def w_score_transformation(image_dir, spreadsheet, beta_dir, outdir, \n",
    "                           intercept='first', res_str = 'Res_', beta_str = 'beta',\n",
    "                          cols_to_use = [], memory_load = 'high', img_mask = None):\n",
    "    \n",
    "    # check inputs\n",
    "    print('initating and checking inputs')\n",
    "    for cdir in [image_dir, beta_dir]:\n",
    "        if type(cdir) != str:\n",
    "            raise TypeError('%s must be a path pointing to a valid directory, you passed a %s object'%(cdir,\n",
    "                                                                                                    type(cdir)))\n",
    "        if not os.path.isdir(image_dir):\n",
    "            raise IOError('could not find the directory specified in argument \"image_dir\"')\n",
    "    if type(outdir) != str:\n",
    "        raise TypeError('%s must be a path pointing to a valid directory, you passed a %s object'%(outdir,\n",
    "                                                                                                type(cdir)))\n",
    "    if not os.path.isdir(outdir):\n",
    "        os.mkdir(outdir)\n",
    "    \n",
    "    if intercept not in ['first','last', 'none']:\n",
    "        raise IOError('intercept must be set to \"first\", \"last\" or \"none\". See docstring for more info')\n",
    "    if memory_load not in ['high','low']:\n",
    "        raise IOError('memory_load must be set to \"high\" or \"low\". See docstring for more info')\n",
    "    \n",
    "    # load inputs\n",
    "    raw_paths = glob(os.path.join(image_dir,'*'))\n",
    "    res_paths = glob(os.path.join(beta_dir,'%s*'%res_str))\n",
    "    if len(raw_paths) != len(res_paths):\n",
    "        raise IOError('Inconsistency between raw (n=%s) and residual (n=%s) images, please revise'%(len(raw_paths),\n",
    "                                                                                                   len(res_paths)))\n",
    "    else:\n",
    "        print('found %s images to transform'%len(raw_paths))\n",
    "    beta_paths = glob(os.path.join(beta_dir,'%s*'%beta_str))\n",
    "    if len(beta_paths) == 0:\n",
    "        raise IOError('No beta images found in specified directory. Please revise beta_dir or beta_str arguments')\n",
    "    if intercept == 'none':\n",
    "        n_betas = len(beta_paths)\n",
    "    else:\n",
    "        n_betas = len(beta_paths) - 1\n",
    "    if len(cols_to_use) > 0:\n",
    "        if len(cols_to_use) != n_betas:\n",
    "            raise IOError('# of columns in cols_to_use (%s) must match number of non-intercept beta maps (%s)'%(\n",
    "                                                                                            len(cols_to_use),\n",
    "                                                                                            n_betas))\n",
    "    print('preparing spreadsheet')\n",
    "    if type(spreadsheet) = str\n",
    "        if '.csv' in spreadsheet:\n",
    "            df = pandas.read_csv(spreadsheet)\n",
    "        elif 'xl' in spreadsheet[-4:]:\n",
    "            try:\n",
    "                jnk = pandas.ExcelFile(spreadsheet)\n",
    "                df = pandas.ExcelFile(jnk).parse(jnk.sheet_names[0])\n",
    "            except:\n",
    "                raise IOError('could not load excel file. Please convert to csv')\n",
    "        else:\n",
    "            try:\n",
    "                df = pandas.read_table(spreadsheet)\n",
    "            except:\n",
    "                raise IOError('could not read spreadsheet. Try loading the df yourself with pandas and inputting that')\n",
    "    else:\n",
    "        df = spreadsheet\n",
    "    \n",
    "    print('loading beta images')\n",
    "    if intercept == 'first':\n",
    "        int_img = ni.load(beta_paths[0]).get_data()\n",
    "        beta_paths.remove(beta_paths[0])\n",
    "    elif intercept == 'last':\n",
    "        int_img = ni.load(beta_paths[-1]).get_data()\n",
    "        beta_paths.remove(beta_paths[-1])\n",
    "    jnk = ni.concat_images(beta_paths)\n",
    "    beta_imgs = jnk.get_data()\n",
    "    aff = jnk.affine\n",
    "    if type(image_mask) != type(None):\n",
    "        try:\n",
    "            mask = ni.load(image_mask).get_data()\n",
    "        except:\n",
    "            raise IOError('could not load mask. Please ensure the path points to an existing nifti image')\n",
    "    \n",
    "    \n",
    "    def transform\n",
    "\n",
    "    for i,scan in enumerate(scans):\n",
    "        if i not in checkdf.index:\n",
    "            continue\n",
    "        sid = idf.loc[i,'subject']\n",
    "        vis = idf.loc[i,'visit']\n",
    "        ginf = idf.index[i]\n",
    "        subvec = tdf[(tdf.ID == sid) & (tdf.visit == vis)]\n",
    "        if len(subvec) > 1:\n",
    "            subvec = subvec.loc[subvec.index[0]]\n",
    "        agem = np.full_like(rage,subvec['AGE'])\n",
    "        sexm = np.full_like(rsex,subvec['PTGENDER'])\n",
    "        edum = np.full_like(redu,subvec['PTEDUCAT'])\n",
    "        pmap = rmean + (agem * rage) + (sexm * rsex) + (edum * redu)\n",
    "        jnk = ni.load(scan)\n",
    "        aff = jnk.affine\n",
    "        dat = jnk.get_data()\n",
    "        wscr_mat = (dat - pmap) / rstd\n",
    "        wscr_mat[msk==0] = 0\n",
    "        wscr_img = ni.Nifti1Image(wscr_mat,aff)\n",
    "        flnm = '%s_v%s_smooth_AV1451_wscored_SUVR'%(sid,vis)\n",
    "        wscr_img.to_filename(os.path.join(wscr_dir,flnm))\n",
    "        print('finished %s of %s'%(i+1,len(scans)))\n",
    "\n"
   ]
  },
  {
   "cell_type": "code",
   "execution_count": 3,
   "metadata": {
    "collapsed": true
   },
   "outputs": [],
   "source": [
    "ni.concat_images?"
   ]
  },
  {
   "cell_type": "code",
   "execution_count": null,
   "metadata": {
    "collapsed": true
   },
   "outputs": [],
   "source": []
  }
 ],
 "metadata": {
  "anaconda-cloud": {},
  "kernelspec": {
   "display_name": "Python [conda env:py3]",
   "language": "python",
   "name": "conda-env-py3-py"
  },
  "language_info": {
   "codemirror_mode": {
    "name": "ipython",
    "version": 3
   },
   "file_extension": ".py",
   "mimetype": "text/x-python",
   "name": "python",
   "nbconvert_exporter": "python",
   "pygments_lexer": "ipython3",
   "version": "3.5.2"
  }
 },
 "nbformat": 4,
 "nbformat_minor": 2
}
